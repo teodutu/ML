{
 "cells": [
  {
   "cell_type": "markdown",
   "metadata": {
    "colab_type": "text",
    "id": "view-in-github"
   },
   "source": [
    "<a href=\"https://colab.research.google.com/github/cs-pub-ro/ML/blob/master/lab/lab9/Laborator_9.ipynb\" target=\"_parent\"><img src=\"https://colab.research.google.com/assets/colab-badge.svg\" alt=\"Open In Colab\"/></a>"
   ]
  },
  {
   "cell_type": "markdown",
   "metadata": {
    "colab_type": "text",
    "id": "tmaHAc_KHG_5"
   },
   "source": [
    "# Rețele neurale pentru clasificare imaginilor\n",
    "\n",
    "_Tudor Berariu, 2018_ (tudor.berariu@gmail.com)\n"
   ]
  },
  {
   "cell_type": "markdown",
   "metadata": {
    "colab_type": "text",
    "id": "xKCKTWvsuJuF"
   },
   "source": [
    "În cadrul acestui laborator veți implementa o rețea neurală cu arhitectură convoluțională pentru clasificarea imaginilor.\n",
    "\n",
    "Rețeaua va fi compusă din straturi convoluționale, straturi de Pooling pentru reducerea dimensionalității și activări de tip ReLU.\n",
    "Rețeaua va avea straturi lineare la final și un strat softmax înainte de ieșiri. \n",
    "\n",
    "Funcția de cost folosită este negative log likelihood. Pentru optimizarea acesteia se va folosi SGD (stochastic gradient descent)."
   ]
  },
  {
   "cell_type": "markdown",
   "metadata": {},
   "source": [
    "## 0. Resurse teoretice\n",
    "\n",
    "* Citiți de aici despre straturile convoluțional și max pooling:\n",
    "http://cs231n.github.io/convolutional-networks/#conv\n",
    "\n",
    "* Citiți de aici despre cum se implementează eficient pașii de convoluție folosind funcția im2col din numpy:\n",
    "https://wiseodd.github.io/techblog/2016/07/16/convnet-conv-layer/\n"
   ]
  },
  {
   "cell_type": "markdown",
   "metadata": {
    "colab_type": "text",
    "id": "zgNIWhzoHOIz"
   },
   "source": [
    "## 1. Setul de date MNIST\n",
    "\n",
    "Setul de date MNIST este compus din imagini de 28x28 pixeli reprezentând una dintre cele zece cifre 0-9.\n",
    "\n",
    "Decomentați mai jos comanda `!pip install mnist` pentru a instala pachetul `mnist`."
   ]
  },
  {
   "cell_type": "code",
   "execution_count": 1,
   "metadata": {
    "colab": {},
    "colab_type": "code",
    "id": "dQiqJyO7E7Ek"
   },
   "outputs": [
    {
     "output_type": "stream",
     "name": "stdout",
     "text": [
      "Requirement already satisfied: mnist in /home/teo/.local/lib/python3.8/site-packages (0.2.2)\nRequirement already satisfied: numpy in /home/teo/.local/lib/python3.8/site-packages (from mnist) (1.20.1)\n"
     ]
    }
   ],
   "source": [
    "!pip install mnist\n",
    "\n",
    "import mnist\n",
    "train_imgs = mnist.train_images()\n",
    "train_labels = mnist.train_labels()\n",
    "test_imgs = mnist.test_images()\n",
    "test_labels  = mnist.test_labels()"
   ]
  },
  {
   "cell_type": "markdown",
   "metadata": {
    "colab_type": "text",
    "id": "ElGfqnPzuJuO"
   },
   "source": [
    "### Exemple din setul de date MNIST"
   ]
  },
  {
   "cell_type": "code",
   "execution_count": 2,
   "metadata": {
    "colab": {},
    "colab_type": "code",
    "id": "qeftJ_CpE7Eu"
   },
   "outputs": [],
   "source": [
    "from typing import List\n",
    "import numpy as np\n",
    "%matplotlib inline\n",
    "import matplotlib.pyplot as plt"
   ]
  },
  {
   "cell_type": "code",
   "execution_count": 3,
   "metadata": {
    "colab": {},
    "colab_type": "code",
    "id": "avJh9wQquJuU"
   },
   "outputs": [
    {
     "output_type": "stream",
     "name": "stdout",
     "text": [
      "Labels: [3 0 4 9 0 4 8 0 8 3 7 4 7 3 8]\n"
     ]
    },
    {
     "output_type": "display_data",
     "data": {
      "text/plain": "<Figure size 432x288 with 1 Axes>",
      "image/svg+xml": "<?xml version=\"1.0\" encoding=\"utf-8\" standalone=\"no\"?>\n<!DOCTYPE svg PUBLIC \"-//W3C//DTD SVG 1.1//EN\"\n  \"http://www.w3.org/Graphics/SVG/1.1/DTD/svg11.dtd\">\n<svg height=\"56.798772pt\" version=\"1.1\" viewBox=\"0 0 368.925 56.798772\" width=\"368.925pt\" xmlns=\"http://www.w3.org/2000/svg\" xmlns:xlink=\"http://www.w3.org/1999/xlink\">\n <metadata>\n  <rdf:RDF xmlns:cc=\"http://creativecommons.org/ns#\" xmlns:dc=\"http://purl.org/dc/elements/1.1/\" xmlns:rdf=\"http://www.w3.org/1999/02/22-rdf-syntax-ns#\">\n   <cc:Work>\n    <dc:type rdf:resource=\"http://purl.org/dc/dcmitype/StillImage\"/>\n    <dc:date>2021-05-11T12:36:15.446635</dc:date>\n    <dc:format>image/svg+xml</dc:format>\n    <dc:creator>\n     <cc:Agent>\n      <dc:title>Matplotlib v3.4.1, https://matplotlib.org/</dc:title>\n     </cc:Agent>\n    </dc:creator>\n   </cc:Work>\n  </rdf:RDF>\n </metadata>\n <defs>\n  <style type=\"text/css\">*{stroke-linecap:butt;stroke-linejoin:round;}</style>\n </defs>\n <g id=\"figure_1\">\n  <g id=\"patch_1\">\n   <path d=\"M -0 56.798772 \nL 368.925 56.798772 \nL 368.925 0 \nL -0 0 \nz\n\" style=\"fill:none;\"/>\n  </g>\n  <g id=\"axes_1\">\n   <g id=\"patch_2\">\n    <path d=\"M 26.925 32.920647 \nL 361.725 32.920647 \nL 361.725 10.600647 \nL 26.925 10.600647 \nz\n\" style=\"fill:#ffffff;\"/>\n   </g>\n   <g clip-path=\"url(#pc153c3f2aa)\">\n    <image height=\"23\" id=\"imagedb731a5734\" transform=\"scale(1 -1)translate(0 -23)\" width=\"335\" x=\"26.925\" xlink:href=\"data:image/png;base64,\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\" y=\"-9.920647\"/>\n   </g>\n   <g id=\"matplotlib.axis_1\">\n    <g id=\"xtick_1\">\n     <g id=\"line2d_1\">\n      <defs>\n       <path d=\"M 0 0 \nL 0 3.5 \n\" id=\"m48448dc886\" style=\"stroke:#000000;stroke-width:0.8;\"/>\n      </defs>\n      <g>\n       <use style=\"stroke:#000000;stroke-width:0.8;\" x=\"27.323571\" xlink:href=\"#m48448dc886\" y=\"32.920647\"/>\n      </g>\n     </g>\n     <g id=\"text_1\">\n      <!-- 0 -->\n      <g transform=\"translate(24.142321 47.519085)scale(0.1 -0.1)\">\n       <defs>\n        <path d=\"M 2034 4250 \nQ 1547 4250 1301 3770 \nQ 1056 3291 1056 2328 \nQ 1056 1369 1301 889 \nQ 1547 409 2034 409 \nQ 2525 409 2770 889 \nQ 3016 1369 3016 2328 \nQ 3016 3291 2770 3770 \nQ 2525 4250 2034 4250 \nz\nM 2034 4750 \nQ 2819 4750 3233 4129 \nQ 3647 3509 3647 2328 \nQ 3647 1150 3233 529 \nQ 2819 -91 2034 -91 \nQ 1250 -91 836 529 \nQ 422 1150 422 2328 \nQ 422 3509 836 4129 \nQ 1250 4750 2034 4750 \nz\n\" id=\"DejaVuSans-30\" transform=\"scale(0.015625)\"/>\n       </defs>\n       <use xlink:href=\"#DejaVuSans-30\"/>\n      </g>\n     </g>\n    </g>\n    <g id=\"xtick_2\">\n     <g id=\"line2d_2\">\n      <g>\n       <use style=\"stroke:#000000;stroke-width:0.8;\" x=\"67.180714\" xlink:href=\"#m48448dc886\" y=\"32.920647\"/>\n      </g>\n     </g>\n     <g id=\"text_2\">\n      <!-- 50 -->\n      <g transform=\"translate(60.818214 47.519085)scale(0.1 -0.1)\">\n       <defs>\n        <path d=\"M 691 4666 \nL 3169 4666 \nL 3169 4134 \nL 1269 4134 \nL 1269 2991 \nQ 1406 3038 1543 3061 \nQ 1681 3084 1819 3084 \nQ 2600 3084 3056 2656 \nQ 3513 2228 3513 1497 \nQ 3513 744 3044 326 \nQ 2575 -91 1722 -91 \nQ 1428 -91 1123 -41 \nQ 819 9 494 109 \nL 494 744 \nQ 775 591 1075 516 \nQ 1375 441 1709 441 \nQ 2250 441 2565 725 \nQ 2881 1009 2881 1497 \nQ 2881 1984 2565 2268 \nQ 2250 2553 1709 2553 \nQ 1456 2553 1204 2497 \nQ 953 2441 691 2322 \nL 691 4666 \nz\n\" id=\"DejaVuSans-35\" transform=\"scale(0.015625)\"/>\n       </defs>\n       <use xlink:href=\"#DejaVuSans-35\"/>\n       <use x=\"63.623047\" xlink:href=\"#DejaVuSans-30\"/>\n      </g>\n     </g>\n    </g>\n    <g id=\"xtick_3\">\n     <g id=\"line2d_3\">\n      <g>\n       <use style=\"stroke:#000000;stroke-width:0.8;\" x=\"107.037857\" xlink:href=\"#m48448dc886\" y=\"32.920647\"/>\n      </g>\n     </g>\n     <g id=\"text_3\">\n      <!-- 100 -->\n      <g transform=\"translate(97.494107 47.519085)scale(0.1 -0.1)\">\n       <defs>\n        <path d=\"M 794 531 \nL 1825 531 \nL 1825 4091 \nL 703 3866 \nL 703 4441 \nL 1819 4666 \nL 2450 4666 \nL 2450 531 \nL 3481 531 \nL 3481 0 \nL 794 0 \nL 794 531 \nz\n\" id=\"DejaVuSans-31\" transform=\"scale(0.015625)\"/>\n       </defs>\n       <use xlink:href=\"#DejaVuSans-31\"/>\n       <use x=\"63.623047\" xlink:href=\"#DejaVuSans-30\"/>\n       <use x=\"127.246094\" xlink:href=\"#DejaVuSans-30\"/>\n      </g>\n     </g>\n    </g>\n    <g id=\"xtick_4\">\n     <g id=\"line2d_4\">\n      <g>\n       <use style=\"stroke:#000000;stroke-width:0.8;\" x=\"146.895\" xlink:href=\"#m48448dc886\" y=\"32.920647\"/>\n      </g>\n     </g>\n     <g id=\"text_4\">\n      <!-- 150 -->\n      <g transform=\"translate(137.35125 47.519085)scale(0.1 -0.1)\">\n       <use xlink:href=\"#DejaVuSans-31\"/>\n       <use x=\"63.623047\" xlink:href=\"#DejaVuSans-35\"/>\n       <use x=\"127.246094\" xlink:href=\"#DejaVuSans-30\"/>\n      </g>\n     </g>\n    </g>\n    <g id=\"xtick_5\">\n     <g id=\"line2d_5\">\n      <g>\n       <use style=\"stroke:#000000;stroke-width:0.8;\" x=\"186.752143\" xlink:href=\"#m48448dc886\" y=\"32.920647\"/>\n      </g>\n     </g>\n     <g id=\"text_5\">\n      <!-- 200 -->\n      <g transform=\"translate(177.208393 47.519085)scale(0.1 -0.1)\">\n       <defs>\n        <path d=\"M 1228 531 \nL 3431 531 \nL 3431 0 \nL 469 0 \nL 469 531 \nQ 828 903 1448 1529 \nQ 2069 2156 2228 2338 \nQ 2531 2678 2651 2914 \nQ 2772 3150 2772 3378 \nQ 2772 3750 2511 3984 \nQ 2250 4219 1831 4219 \nQ 1534 4219 1204 4116 \nQ 875 4013 500 3803 \nL 500 4441 \nQ 881 4594 1212 4672 \nQ 1544 4750 1819 4750 \nQ 2544 4750 2975 4387 \nQ 3406 4025 3406 3419 \nQ 3406 3131 3298 2873 \nQ 3191 2616 2906 2266 \nQ 2828 2175 2409 1742 \nQ 1991 1309 1228 531 \nz\n\" id=\"DejaVuSans-32\" transform=\"scale(0.015625)\"/>\n       </defs>\n       <use xlink:href=\"#DejaVuSans-32\"/>\n       <use x=\"63.623047\" xlink:href=\"#DejaVuSans-30\"/>\n       <use x=\"127.246094\" xlink:href=\"#DejaVuSans-30\"/>\n      </g>\n     </g>\n    </g>\n    <g id=\"xtick_6\">\n     <g id=\"line2d_6\">\n      <g>\n       <use style=\"stroke:#000000;stroke-width:0.8;\" x=\"226.609286\" xlink:href=\"#m48448dc886\" y=\"32.920647\"/>\n      </g>\n     </g>\n     <g id=\"text_6\">\n      <!-- 250 -->\n      <g transform=\"translate(217.065536 47.519085)scale(0.1 -0.1)\">\n       <use xlink:href=\"#DejaVuSans-32\"/>\n       <use x=\"63.623047\" xlink:href=\"#DejaVuSans-35\"/>\n       <use x=\"127.246094\" xlink:href=\"#DejaVuSans-30\"/>\n      </g>\n     </g>\n    </g>\n    <g id=\"xtick_7\">\n     <g id=\"line2d_7\">\n      <g>\n       <use style=\"stroke:#000000;stroke-width:0.8;\" x=\"266.466429\" xlink:href=\"#m48448dc886\" y=\"32.920647\"/>\n      </g>\n     </g>\n     <g id=\"text_7\">\n      <!-- 300 -->\n      <g transform=\"translate(256.922679 47.519085)scale(0.1 -0.1)\">\n       <defs>\n        <path d=\"M 2597 2516 \nQ 3050 2419 3304 2112 \nQ 3559 1806 3559 1356 \nQ 3559 666 3084 287 \nQ 2609 -91 1734 -91 \nQ 1441 -91 1130 -33 \nQ 819 25 488 141 \nL 488 750 \nQ 750 597 1062 519 \nQ 1375 441 1716 441 \nQ 2309 441 2620 675 \nQ 2931 909 2931 1356 \nQ 2931 1769 2642 2001 \nQ 2353 2234 1838 2234 \nL 1294 2234 \nL 1294 2753 \nL 1863 2753 \nQ 2328 2753 2575 2939 \nQ 2822 3125 2822 3475 \nQ 2822 3834 2567 4026 \nQ 2313 4219 1838 4219 \nQ 1578 4219 1281 4162 \nQ 984 4106 628 3988 \nL 628 4550 \nQ 988 4650 1302 4700 \nQ 1616 4750 1894 4750 \nQ 2613 4750 3031 4423 \nQ 3450 4097 3450 3541 \nQ 3450 3153 3228 2886 \nQ 3006 2619 2597 2516 \nz\n\" id=\"DejaVuSans-33\" transform=\"scale(0.015625)\"/>\n       </defs>\n       <use xlink:href=\"#DejaVuSans-33\"/>\n       <use x=\"63.623047\" xlink:href=\"#DejaVuSans-30\"/>\n       <use x=\"127.246094\" xlink:href=\"#DejaVuSans-30\"/>\n      </g>\n     </g>\n    </g>\n    <g id=\"xtick_8\">\n     <g id=\"line2d_8\">\n      <g>\n       <use style=\"stroke:#000000;stroke-width:0.8;\" x=\"306.323571\" xlink:href=\"#m48448dc886\" y=\"32.920647\"/>\n      </g>\n     </g>\n     <g id=\"text_8\">\n      <!-- 350 -->\n      <g transform=\"translate(296.779821 47.519085)scale(0.1 -0.1)\">\n       <use xlink:href=\"#DejaVuSans-33\"/>\n       <use x=\"63.623047\" xlink:href=\"#DejaVuSans-35\"/>\n       <use x=\"127.246094\" xlink:href=\"#DejaVuSans-30\"/>\n      </g>\n     </g>\n    </g>\n    <g id=\"xtick_9\">\n     <g id=\"line2d_9\">\n      <g>\n       <use style=\"stroke:#000000;stroke-width:0.8;\" x=\"346.180714\" xlink:href=\"#m48448dc886\" y=\"32.920647\"/>\n      </g>\n     </g>\n     <g id=\"text_9\">\n      <!-- 400 -->\n      <g transform=\"translate(336.636964 47.519085)scale(0.1 -0.1)\">\n       <defs>\n        <path d=\"M 2419 4116 \nL 825 1625 \nL 2419 1625 \nL 2419 4116 \nz\nM 2253 4666 \nL 3047 4666 \nL 3047 1625 \nL 3713 1625 \nL 3713 1100 \nL 3047 1100 \nL 3047 0 \nL 2419 0 \nL 2419 1100 \nL 313 1100 \nL 313 1709 \nL 2253 4666 \nz\n\" id=\"DejaVuSans-34\" transform=\"scale(0.015625)\"/>\n       </defs>\n       <use xlink:href=\"#DejaVuSans-34\"/>\n       <use x=\"63.623047\" xlink:href=\"#DejaVuSans-30\"/>\n       <use x=\"127.246094\" xlink:href=\"#DejaVuSans-30\"/>\n      </g>\n     </g>\n    </g>\n   </g>\n   <g id=\"matplotlib.axis_2\">\n    <g id=\"ytick_1\">\n     <g id=\"line2d_10\">\n      <defs>\n       <path d=\"M 0 0 \nL -3.5 0 \n\" id=\"m2e80380e21\" style=\"stroke:#000000;stroke-width:0.8;\"/>\n      </defs>\n      <g>\n       <use style=\"stroke:#000000;stroke-width:0.8;\" x=\"26.925\" xlink:href=\"#m2e80380e21\" y=\"10.999219\"/>\n      </g>\n     </g>\n     <g id=\"text_10\">\n      <!-- 0 -->\n      <g transform=\"translate(13.5625 14.798438)scale(0.1 -0.1)\">\n       <use xlink:href=\"#DejaVuSans-30\"/>\n      </g>\n     </g>\n    </g>\n    <g id=\"ytick_2\">\n     <g id=\"line2d_11\">\n      <g>\n       <use style=\"stroke:#000000;stroke-width:0.8;\" x=\"26.925\" xlink:href=\"#m2e80380e21\" y=\"30.92779\"/>\n      </g>\n     </g>\n     <g id=\"text_11\">\n      <!-- 25 -->\n      <g transform=\"translate(7.2 34.727009)scale(0.1 -0.1)\">\n       <use xlink:href=\"#DejaVuSans-32\"/>\n       <use x=\"63.623047\" xlink:href=\"#DejaVuSans-35\"/>\n      </g>\n     </g>\n    </g>\n   </g>\n   <g id=\"patch_3\">\n    <path d=\"M 26.925 32.920647 \nL 26.925 10.600647 \n\" style=\"fill:none;stroke:#000000;stroke-linecap:square;stroke-linejoin:miter;stroke-width:0.8;\"/>\n   </g>\n   <g id=\"patch_4\">\n    <path d=\"M 361.725 32.920647 \nL 361.725 10.600647 \n\" style=\"fill:none;stroke:#000000;stroke-linecap:square;stroke-linejoin:miter;stroke-width:0.8;\"/>\n   </g>\n   <g id=\"patch_5\">\n    <path d=\"M 26.925 32.920647 \nL 361.725 32.920647 \n\" style=\"fill:none;stroke:#000000;stroke-linecap:square;stroke-linejoin:miter;stroke-width:0.8;\"/>\n   </g>\n   <g id=\"patch_6\">\n    <path d=\"M 26.925 10.600647 \nL 361.725 10.600647 \n\" style=\"fill:none;stroke:#000000;stroke-linecap:square;stroke-linejoin:miter;stroke-width:0.8;\"/>\n   </g>\n  </g>\n </g>\n <defs>\n  <clipPath id=\"pc153c3f2aa\">\n   <rect height=\"22.32\" width=\"334.8\" x=\"26.925\" y=\"10.600647\"/>\n  </clipPath>\n </defs>\n</svg>\n",
      "image/png": "[encoded data removed]"
     },
     "metadata": {
      "needs_background": "light"
     }
    }
   ],
   "source": [
    "idxs = np.random.randint(0, len(train_imgs), 15)\n",
    "imgs = np.concatenate(tuple(train_imgs[idx,:,:] for idx in idxs), axis=1)\n",
    "plt.imshow(imgs)\n",
    "print(\"Labels:\", train_labels[idxs])"
   ]
  },
  {
   "cell_type": "markdown",
   "metadata": {
    "colab_type": "text",
    "id": "KFP9QnUJuJuY"
   },
   "source": [
    "### Standardizarea datelor\n",
    "\n",
    "Datele de intrare (imaginile) vor fi rescalate pentru a avea media zero și deviația standard 1."
   ]
  },
  {
   "cell_type": "code",
   "execution_count": 4,
   "metadata": {
    "colab": {},
    "colab_type": "code",
    "id": "wWmt4XVxuJuZ"
   },
   "outputs": [],
   "source": [
    "mean, std  = train_imgs.mean(), train_imgs.std()\n",
    "train_imgs = (train_imgs - mean) / std\n",
    "test_imgs = (test_imgs - mean) / std"
   ]
  },
  {
   "cell_type": "markdown",
   "metadata": {
    "colab_type": "text",
    "id": "ZgERUA07IuSr"
   },
   "source": [
    "## 2. Construirea unei rețele de tip feed-forward"
   ]
  },
  {
   "cell_type": "markdown",
   "metadata": {
    "colab_type": "text",
    "id": "BE-V6sONuJud"
   },
   "source": [
    "### Notații\n",
    "  - dimensiunea datelor de intrare este $D = 28 * 28 = 784$, iar dimensiunea ieșirilor rețelei este $K=10$ (numărul de clase)\n",
    "  - rețeaua neurală va avea $L$ straturi\n",
    "  - $B$ va reprezenta dimensiunea batch-ului (numărul de exemple trecute în același timp prin rețea)\n",
    "  - Vom nota cu ${\\bf X} \\in {\\mathbb R}^{B \\times D}$ un batch de intrări $\\left\\lbrace {\\bf x}_0, {\\bf x}_1, \\dots {\\bf x}_B \\right\\rbrace$ și similar ${\\bf Y} \\in {\\mathbb R}^{B \\times K}$\n",
    "  - ${\\bf x}^{(l)}$ reprezintă intrările stratului $l$ (${\\bf x}^{(0)}$ va fi o imagine precum cele din setul MNIST de dimensiune $D$)\n",
    "  - ${\\bf y}^{(l)}$ reprezintă ieșirile stratului $l$ (${\\bf y}^{(L-1)}$ reprezintă ieșirile rețelei)\n",
    "  - ${\\bf \\theta}^{(l)}$ reprezintă parametrii stratului $l$\n",
    "  - ${\\cal L}$ reprezintă funcția de cost ( _negative log likelihood_ )\n",
    "  "
   ]
  },
  {
   "cell_type": "markdown",
   "metadata": {
    "colab_type": "text",
    "id": "6YTu4tS8uJue"
   },
   "source": [
    "### Straturile rețelei\n",
    "\n",
    "Unele straturi au parametri ce trebuie optimizați în timpul antrenării. Vom nota parametrii stratului $l$ cu $\\bf{\\theta}^{(l)}$.\n",
    "Fiecare strat pe care îl veți implementa va avea trei metode:\n",
    " - `forward` calculează și întoarce ${\\bf y}^{(l)} = f_l\\left({\\bf x}^{(l)}, {\\bf \\theta}^{(l)}\\right)$\n",
    " - `backward` primește $\\frac{\\partial {\\cal L}}{\\partial {\\bf y}^{(l)}}$, reține intern $\\frac{\\partial {\\cal L}}{\\partial {\\bf \\theta}^{(l)}}$ și întoarce $\\frac{\\partial {\\cal L}}{\\partial {\\bf x}^{(l)}}$\n",
    " - `update` modifică parametrii locali ${\\bf \\theta}^{(l)}$ folosing gradientul stocat $\\frac{\\partial{\\cal L}}{\\partial{\\bf \\theta}^{(l)}}$"
   ]
  },
  {
   "cell_type": "code",
   "execution_count": 5,
   "metadata": {
    "colab": {},
    "colab_type": "code",
    "id": "SW206j3euJuf"
   },
   "outputs": [],
   "source": [
    "class Layer:\n",
    "\n",
    "    def forward(self, x: np.ndarray) -> np.ndarray:\n",
    "        raise NotImplementedError\n",
    "        \n",
    "    def backward(self, x: np.ndarray, dy: np.ndarray) -> np.ndarray:\n",
    "        raise NotImplementedError\n",
    "        \n",
    "    def update(self, *args, **kwargs):\n",
    "        pass  # If a layer has no parameters, then this function does nothing"
   ]
  },
  {
   "cell_type": "markdown",
   "metadata": {
    "colab_type": "text",
    "id": "NIT6K4IduJuk"
   },
   "source": [
    "### Rețeaua neurală\n",
    "\n",
    "  * în faza `forward` ieșirile stratului $l$ devin intrările stratului $l+1$: ${\\bf x}^{(l+1)} = {\\bf y}^{(l)}$\n",
    "  * în faza `backward` gradientul în raport cu intrările stratului $l+1$ devine gradientul în raport cu ieșirile stratului $l$: $\\frac{\\partial {\\cal L}}{\\partial {\\bf y}^{(l)}}=\\frac{\\partial {\\cal L}}{\\partial {\\bf x}^{(l+1)}}$\n",
    "  \n",
    "Completați metoda `backward` din clasa `FeedForwardNetwork`."
   ]
  },
  {
   "cell_type": "code",
   "execution_count": 6,
   "metadata": {
    "colab": {},
    "colab_type": "code",
    "id": "wTn-g3KAuJul"
   },
   "outputs": [],
   "source": [
    "class FeedForwardNetwork:\n",
    "    \n",
    "    def __init__(self, layers: List[Layer]):\n",
    "        self.layers = layers\n",
    "        \n",
    "    def forward(self, x: np.ndarray, train: bool = True) -> np.ndarray:\n",
    "        self._inputs = []\n",
    "        for layer in self.layers:\n",
    "            if train:\n",
    "                self._inputs.append(x)\n",
    "            x = layer.forward(x)\n",
    "        return x\n",
    "    \n",
    "    def backward(self, dy:np.ndarray) -> np.ndarray:\n",
    "        # TODO <0> : Compute the backward phase\n",
    "        dx = dy\n",
    "        for i in reversed(range(len(self.layers))):\n",
    "            dx = self.layers[i].backward(self._inputs[i], dx)\n",
    "\n",
    "        del self._inputs\n",
    "        return dx\n",
    "    \n",
    "    def update(self, *args, **kwargs):\n",
    "        for layer in self.layers:\n",
    "            layer.update(*args, **kwargs)"
   ]
  },
  {
   "cell_type": "markdown",
   "metadata": {
    "colab_type": "text",
    "id": "VyQLVM4quJup"
   },
   "source": [
    "### Stratul linear\n",
    "\n",
    "Un strat linear cu $M$ intrări și $N$ ieșiri are parametrii $\\theta = \\left( {\\bf W}, {\\bf b} \\right)$ unde ${\\bf W} \\in \\mathbb{R}^{M \\times N}$ și ${\\bf b} \\in \\mathbb{R}^{N}$.\n",
    "\n",
    "Pentru un singur exemlu ${\\bf x} \\in {\\mathbb R}^{M}$:\n",
    "$$ {\\bf y} = {\\bf x}^{\\intercal}{\\bf W} + {\\bf b} $$\n",
    "\n",
    "Implementați metoda `forward` care primește un batch de exemple $X \\in {\\mathbb R}^{B\\times M}$ și întoarce ieșirile corespunzătoare: $Y \\in {\\mathbb R}^{B\\times N}$.\n",
    "\n",
    "Implementați metoda `backward` care primește un batch de exemple $X \\in {\\mathbb R}^{B\\times M}$ și gradientul în raport cu ieșirile $\\frac{\\partial {\\cal L}}{\\partial {\\bf Y}}$ și realizează două lucruri:\n",
    "  - calculează și salvează intern gradientul $\\frac{\\partial {\\cal L}}{\\partial {\\bf \\theta}}$\n",
    "  - calculează și întoarce gradientul $\\frac{\\partial {\\cal L}}{\\partial {\\bf X}}$\n",
    "  \n",
    "Implementați strategia de optimizare SGD cu _momentum_ (în metoda `update`)."
   ]
  },
  {
   "cell_type": "code",
   "execution_count": 7,
   "metadata": {
    "colab": {},
    "colab_type": "code",
    "id": "S47ZsyKdE7FF"
   },
   "outputs": [],
   "source": [
    "class Linear(Layer):\n",
    "    \n",
    "    def __init__(self, insize: int, outsize: int) -> None:\n",
    "        bound = np.sqrt(6. / insize)\n",
    "        self.weight = np.random.uniform(-bound, bound, (insize, outsize))\n",
    "        self.bias = np.zeros((outsize,))\n",
    "        \n",
    "        self.dweight = np.zeros_like(self.weight)\n",
    "        self.dbias = np.zeros_like(self.bias)\n",
    "\n",
    "        \n",
    "    def forward(self, x: np.ndarray) -> np.ndarray:\n",
    "        # compute the output of a linear layer\n",
    "        return x @ self.weight + self.bias\n",
    "    \n",
    "    def backward(self, x: np.ndarray, dy: np.ndarray) -> np.ndarray:\n",
    "        # compute dweight, dbias and  return dx\n",
    "        self.dweight = x.T @ dy\n",
    "        self.dbias = np.sum(dy, axis=0)\n",
    "\n",
    "        return dy @ self.weight.T\n",
    "    \n",
    "    def update(self, mode='SGD', lr=0.001, mu=0.9):\n",
    "        if mode == 'SGD':\n",
    "            self.weight -= lr * self.dweight\n",
    "            self.bias -= lr * self.dbias\n",
    "        elif mode == 'momentum':\n",
    "            # implement momentum update\n",
    "            self.wv = mu * self.wv + lr * self.dweight\n",
    "            self.weight -= self.wv\n",
    "\n",
    "            self.bv = mu * self.bv + lr * self.dbias\n",
    "            self.bias -= self.bv\n",
    "        else:\n",
    "            raise ValueError('mode should be SGD or momentum, not ' + str(mode))"
   ]
  },
  {
   "cell_type": "markdown",
   "metadata": {
    "colab_type": "text",
    "id": "QgfHlVgDuJut"
   },
   "source": [
    "### The Rectified Linear Unit\n",
    "\n",
    "Stratul ReLU aplică următoare următoare transformare neliniară element cu element:\n",
    "$$y = \\max\\left(x, 0\\right)$$\n",
    "\n",
    "Implementați metodele `forward` și `backward` pentru un strat de activare ReLU."
   ]
  },
  {
   "cell_type": "code",
   "execution_count": 8,
   "metadata": {
    "colab": {},
    "colab_type": "code",
    "id": "QOR1DJiwE7FJ"
   },
   "outputs": [],
   "source": [
    "class ReLU(Layer):\n",
    "    \n",
    "    def __init__(self) -> None:\n",
    "        pass\n",
    "    \n",
    "    def forward(self, x: np.ndarray) -> np.ndarray:\n",
    "        # TODO <3> : Compute the output of a rectified linear unit\n",
    "        return np.maximum(x, 0)\n",
    "    \n",
    "    def backward(self, x: np.ndarray, dy: np.ndarray) -> np.ndarray:\n",
    "        # TODO <4> : Compute the gradient w.r.t. x\n",
    "        return dy * (x > 0)"
   ]
  },
  {
   "cell_type": "markdown",
   "metadata": {},
   "source": [
    "### The Convolutional Layer\n",
    "\n",
    "**[Cerințele 9.1 - 9.2] (4p)** Implementați metodele `forward` și `backward` pentru un strat convolutional."
   ]
  },
  {
   "cell_type": "markdown",
   "metadata": {},
   "source": [
    "#### Im2Col auxiliries from [CS231n assignment](https://github.com/huyouare/CS231n/blob/master/assignment2/cs231n/im2col.py)"
   ]
  },
  {
   "cell_type": "code",
   "execution_count": 9,
   "metadata": {},
   "outputs": [],
   "source": [
    "def get_im2col_indices(x_shape, field_height, field_width, padding=1, stride=1):\n",
    "  # First figure out what the size of the output should be\n",
    "  N, C, H, W = x_shape\n",
    "  assert (H + 2 * padding - field_height) % stride == 0\n",
    "  assert (W + 2 * padding - field_height) % stride == 0\n",
    "  out_height = (H + 2 * padding - field_height) // stride + 1\n",
    "  out_width = (W + 2 * padding - field_width) // stride + 1\n",
    "\n",
    "  i0 = np.repeat(np.arange(field_height), field_width)\n",
    "  i0 = np.tile(i0, C)\n",
    "  i1 = stride * np.repeat(np.arange(out_height), out_width)\n",
    "  j0 = np.tile(np.arange(field_width), field_height * C)\n",
    "  j1 = stride * np.tile(np.arange(out_width), out_height)\n",
    "  i = i0.reshape(-1, 1) + i1.reshape(1, -1)\n",
    "  j = j0.reshape(-1, 1) + j1.reshape(1, -1)\n",
    "\n",
    "  k = np.repeat(np.arange(C), field_height * field_width).reshape(-1, 1)\n",
    "\n",
    "  return (k, i, j)\n",
    "\n",
    "\n",
    "def im2col_indices(x, field_height, field_width, padding=1, stride=1):\n",
    "  \"\"\" An implementation of im2col based on some fancy indexing \"\"\"\n",
    "  # Zero-pad the input\n",
    "  p = padding\n",
    "  x_padded = np.pad(x, ((0, 0), (0, 0), (p, p), (p, p)), mode='constant')\n",
    "\n",
    "  k, i, j = get_im2col_indices(x.shape, field_height, field_width, padding,\n",
    "                               stride)\n",
    "\n",
    "  cols = x_padded[:, k, i, j]\n",
    "  C = x.shape[1]\n",
    "  cols = cols.transpose(1, 2, 0).reshape(field_height * field_width * C, -1)\n",
    "  return cols\n",
    "\n",
    "\n",
    "def col2im_indices(cols, x_shape, field_height=3, field_width=3, padding=1,\n",
    "                   stride=1):\n",
    "  \"\"\" An implementation of col2im based on fancy indexing and np.add.at \"\"\"\n",
    "  N, C, H, W = x_shape\n",
    "  H_padded, W_padded = H + 2 * padding, W + 2 * padding\n",
    "  x_padded = np.zeros((N, C, H_padded, W_padded), dtype=cols.dtype)\n",
    "  k, i, j = get_im2col_indices(x_shape, field_height, field_width, padding,\n",
    "                               stride)\n",
    "  cols_reshaped = cols.reshape(C * field_height * field_width, -1, N)\n",
    "  cols_reshaped = cols_reshaped.transpose(2, 0, 1)\n",
    "  np.add.at(x_padded, (slice(None), k, i, j), cols_reshaped)\n",
    "  if padding == 0:\n",
    "    return x_padded\n",
    "  return x_padded[:, :, padding:-padding, padding:-padding]"
   ]
  },
  {
   "cell_type": "markdown",
   "metadata": {},
   "source": [
    "#### Convolutional Layer implementation"
   ]
  },
  {
   "cell_type": "code",
   "execution_count": 10,
   "metadata": {},
   "outputs": [
    {
     "output_type": "stream",
     "name": "stderr",
     "text": [
      "<>:34: SyntaxWarning: assertion is always true, perhaps remove parentheses?\n<>:56: SyntaxWarning: assertion is always true, perhaps remove parentheses?\n<>:34: SyntaxWarning: assertion is always true, perhaps remove parentheses?\n<>:56: SyntaxWarning: assertion is always true, perhaps remove parentheses?\n<ipython-input-10-7b0533107608>:34: SyntaxWarning: assertion is always true, perhaps remove parentheses?\n  assert (dd, hh, ww == self.inputs_depth, self.inputs_height, self.inputs_width)\n<ipython-input-10-7b0533107608>:56: SyntaxWarning: assertion is always true, perhaps remove parentheses?\n  assert (output_errors.shape == batch_size, self.outputs_depth, self.outputs_height, self.outputs_width)\n"
     ]
    }
   ],
   "source": [
    "class ConvolutionalLayer(Layer):\n",
    "    def __init__(self, inputs_depth: int, inputs_height: int, inputs_width: int, outputs_depth: int, k: int, stride: int):\n",
    "        # Number of inputs, number of outputs, filter size, stride\n",
    "\n",
    "        self.inputs_depth = inputs_depth\n",
    "        self.inputs_height = inputs_height\n",
    "        self.inputs_width = inputs_width\n",
    "\n",
    "        self.k = k\n",
    "        self.stride = stride\n",
    "\n",
    "        self.outputs_depth = outputs_depth\n",
    "        self.outputs_height = int((self.inputs_height - self.k) / self.stride + 1)\n",
    "        self.outputs_width = int((self.inputs_width - self.k) / self.stride + 1)\n",
    "\n",
    "        # Layer's parameters\n",
    "        self.weights = np.random.normal(\n",
    "            0,\n",
    "            np.sqrt(2.0 / float(self.outputs_depth + self.inputs_depth + self.k + self.k)),\n",
    "            (self.outputs_depth, self.inputs_depth, self.k, self.k)\n",
    "        )\n",
    "        self.biases = np.random.normal(\n",
    "            0,\n",
    "            np.sqrt(2.0 / float(self.outputs_depth + 1)),\n",
    "            (self.outputs_depth, 1)\n",
    "        )\n",
    "\n",
    "        # Gradients\n",
    "        self.g_weights = np.zeros(self.weights.shape)\n",
    "        self.g_biases = np.zeros(self.biases.shape)\n",
    "\n",
    "    def forward(self, inputs: np.ndarray) -> np.ndarray:\n",
    "        batch_size, dd, hh, ww = inputs.shape\n",
    "        assert (dd, hh, ww == self.inputs_depth, self.inputs_height, self.inputs_width)\n",
    "\n",
    "        # Computed values\n",
    "        out = np.zeros((batch_size, self.outputs_depth, self.outputs_height, self.outputs_width))\n",
    "\n",
    "        # TODO (9.1)\n",
    "        # -> compute outputs\n",
    "        w = self.weights\n",
    "        b = self.biases\n",
    "        x = inputs\n",
    "\n",
    "        x_cols = im2col_indices(x, w.shape[2], w.shape[3], padding=0, stride=self.stride)\n",
    "        res = w.reshape((w.shape[0], -1)).dot(x_cols) + b.reshape(-1, 1)\n",
    "\n",
    "        out = res.reshape(w.shape[0], out.shape[2], out.shape[3], x.shape[0])\n",
    "        out = out.transpose(3, 0, 1, 2)\n",
    "\n",
    "        return out\n",
    "\n",
    "\n",
    "    def backward(self, inputs: np.ndarray, output_errors: np.ndarray) -> np.ndarray:\n",
    "        batch_size, dd, hh, ww = inputs.shape\n",
    "        assert (output_errors.shape == batch_size, self.outputs_depth, self.outputs_height, self.outputs_width)\n",
    "\n",
    "        # TODO (9.2.i)\n",
    "        # Compute the gradients w.r.t. the bias terms (self.g_biases)\n",
    "        self.g_biases = np.sum(output_errors, (0, 2, 3)).reshape(hh, -1)\n",
    "        \n",
    "        # TODO (9.2.ii)\n",
    "        # Compute the gradients w.r.t. the weights (self.g_weights)\n",
    "        w = self.weights\n",
    "        x_cols = im2col_indices(inputs, w.shape[2], w.shape[3], 0, self.stride)\n",
    "\n",
    "        num_filters, _, filter_height, filter_width = w.shape\n",
    "        dout_reshaped = output_errors.transpose(1, 2, 3, 0).reshape(num_filters, -1)\n",
    "        self.g_weights = dout_reshaped.dot(x_cols.T).reshape(w.shape)\n",
    "\n",
    "        # TODO (9.2.iii)\n",
    "        # Compute and return the gradients w.r.t the inputs of this layer\n",
    "        # return these gradients\n",
    "        dx_cols = w.reshape(num_filters, -1).T.dot(dout_reshaped)\n",
    "        return col2im_indices(dx_cols, inputs.shape, filter_height, filter_width, 0, self.stride)\n",
    "\n",
    "\n",
    "    def update_parameters(self, mode='SGD', lr=0.001, mu=0.9):\n",
    "        if mode == 'SGD':\n",
    "            self.weights -= lr * self.g_weights\n",
    "            self.biases -= lr * self.g_biases\n",
    "        elif mode == 'momentum':\n",
    "            # implement/reuse momentum update from Lab 8\n",
    "            raise NotImplementedError\n",
    "        else:\n",
    "            raise ValueError('mode should be SGD or momentum, not ' + str(mode))\n",
    "\n",
    "    def to_string(self):\n",
    "        return \"[C ((%s, %s, %s) -> (%s, %s ) -> (%s, %s, %s)]\" % (\n",
    "            self.inputs_depth, self.inputs_height, self.inputs_width, self.k, self.stride, self.outputs_depth,\n",
    "            self.outputs_height, self.outputs_width)\n"
   ]
  },
  {
   "cell_type": "markdown",
   "metadata": {},
   "source": [
    "### The Max Pooling Layer\n",
    "\n",
    "**[Cerința 9.3] (2p)** Implementați metodele `forward` și `backward` pentru un strat de tip Max Pooling."
   ]
  },
  {
   "cell_type": "code",
   "execution_count": 19,
   "metadata": {},
   "outputs": [],
   "source": [
    "class MaxPoolingLayer(Layer):\n",
    "\n",
    "    def __init__(self, size: int = 2, stride: int = 2):\n",
    "        # Dimensions: stride\n",
    "        self.size = size\n",
    "        self.stride = stride\n",
    "\n",
    "        # indexes of max activations\n",
    "        self.switches = {}\n",
    "\n",
    "\n",
    "    def forward(self, inputs):\n",
    "        batch_size, dd, hh, ww = inputs.shape\n",
    "\n",
    "        h_out = (hh - self.size) // self.stride + 1\n",
    "        w_out = (ww - self.size) // self.stride + 1\n",
    "\n",
    "        in_col = im2col_indices(\n",
    "            inputs.reshape(batch_size * dd, 1, hh, ww),\n",
    "            self.size, self.size, 0, self.stride)\n",
    "\n",
    "        self.switches = np.argmax(in_col, 0)\n",
    "\n",
    "        out = in_col[self.switches, range(self.switches.size)]\\\n",
    "            .reshape(h_out, w_out, batch_size, dd)\\\n",
    "            .transpose(2, 3, 0, 1)\n",
    "\n",
    "        return out\n",
    "\n",
    "\n",
    "    def backward(self, inputs, output_errors):\n",
    "        batch_size, dd, hh, ww = inputs.shape\n",
    "\n",
    "        in_col = im2col_indices(\n",
    "            inputs.reshape(batch_size * dd, 1, hh, ww),\n",
    "            self.size, self.size, 0, self.stride)\n",
    "        din_col = np.zeros_like(in_col)\n",
    "\n",
    "        dout = output_errors.transpose(2, 3, 0, 1).ravel()\n",
    "        din_col[self.switches, range(self.switches.size)] = dout\n",
    "\n",
    "        return col2im_indices(\n",
    "            din_col,\n",
    "            (batch_size * dd, 1, hh, ww),\n",
    "            self.size, self.size, 0, self.stride)\\\n",
    "                .reshape(inputs.shape)\n",
    "\n",
    "    def to_string(self):\n",
    "        return \"[MP (%s x %s)]\" % (self.size, self.stride)"
   ]
  },
  {
   "cell_type": "markdown",
   "metadata": {},
   "source": [
    "### The Linearization Layer\n",
    "\n",
    "**[Cerința 9.4] (2p)** Implementați metodele `forward` și `backward` pentru un strat de tip Linearization.\n",
    "\n",
    "**Nota** Acesta este un strat care rearanjeaza datele dintr-un volum (numar canale x inaltime x latime) intr-un singur vector; (util la trecerea de la volume de imagini la straturi complet conectate)"
   ]
  },
  {
   "cell_type": "code",
   "execution_count": 26,
   "metadata": {},
   "outputs": [],
   "source": [
    "class LinearizeLayer(Layer):\n",
    "\n",
    "    def __init__(self, depth: int, height: int, width: int):\n",
    "        # Dimensions: depth, height, width\n",
    "        self.depth = depth\n",
    "        self.height = height\n",
    "        self.width = width\n",
    "\n",
    "\n",
    "    def forward(self, inputs: np.ndarray) -> np.ndarray:\n",
    "        # inputs are of shape (batch_size, depth, height, width)\n",
    "        # outputs are of shape (batch_size, depth x height x width)\n",
    "        \n",
    "        # TODO 1\n",
    "        # Reshape inputs- transform volume to column\n",
    "        return inputs.reshape(inputs.shape[0], -1)\n",
    "\n",
    "    def backward(self, inputs: np.ndarray, output_errors: np.ndarray) -> np.ndarray:\n",
    "        # unused argument - inputs\n",
    "        # output_errors of shape (batch_size, depth x height x width)\n",
    "\n",
    "        # TODO 1\n",
    "        # Reshape gradients - transform column to volume\n",
    "        return output_errors.reshape(inputs.shape)\n",
    "\n",
    "    def to_string(self):\n",
    "        return \"[Lin ((%s, %s, %s) -> %s)]\" % (self.depth, self.height, self.width, self.depth * self.height * self.width)"
   ]
  },
  {
   "cell_type": "markdown",
   "metadata": {
    "colab_type": "text",
    "id": "4NrWBTmbI9gW"
   },
   "source": [
    "## 3. Funcția de cost\n",
    "\n",
    "Funcția de cost pe care o vom folosi este _cross entropy_ care combină un _softmax_ și un cost _negative log-likelihood_. (Matematica la tablă)\n",
    "\n",
    "Dacă ${\\bf y}$ reprezintă ieșrile rețelei pentru o intrare ${\\bf x}$, atunci ${\\bf y}$ va avea o dimensiune egală cu numărul de clase $K$. Atunci probabilitatea (prezisă de rețea) ca exemplul ${\\bf x}$ să aparțină clasei $k$ va fi $p_k$:\n",
    "\n",
    "$$\n",
    "\\begin{align}\n",
    "p_k &= \\frac{e^{y_k}}{\\sum_j e^{y_j}} & & \\text{softmax} \\\\\n",
    "{\\cal L} &= -\\log p_t & & \\text{negative log-likelihood}\n",
    "\\end{align}\n",
    "$$\n",
    "\n",
    "\n",
    "Pentru un batch de dimensiune $B$ se va face media costurilor corespunzătare fiecărui exemplu ($p_k$ este o funcție de ${\\bf x}$ și ${\\bf \\theta}$):\n",
    "\n",
    "$$ {\\cal L} = \\frac{1}{B} \\sum_{({\\bf x}, {\\bf t}) \\in Batch} -\\log p_t \\left({\\bf x}, \\theta\\right) $$\n",
    "\n",
    "Implementați metodele `forward` și `backward` pentru un funcția de cost _cross-entropy_ (o vom privi ca pe un strat suplimentar)."
   ]
  },
  {
   "cell_type": "code",
   "execution_count": 13,
   "metadata": {
    "colab": {},
    "colab_type": "code",
    "id": "YDXiDEu8E7FW"
   },
   "outputs": [],
   "source": [
    "class CrossEntropy:\n",
    "    def __init__(self):\n",
    "        pass\n",
    "\n",
    "    def _softmax(self, y, t):\n",
    "        e_t = np.exp([y[i][t[i]] for i in range(len(t))])\n",
    "        return e_t / np.exp(y).sum(axis=1)\n",
    "\n",
    "    def forward(self, y: np.ndarray, t: np.ndarray) -> float:\n",
    "        # TODO <5> : Compute the negative log likelihood\n",
    "        return -np.mean(np.log(self._softmax(y, t)))\n",
    "    \n",
    "    def backward(self, y: np.ndarray, t: np.ndarray) -> np.ndarray:\n",
    "        # TODO <6> : Compute dl/dy\n",
    "        diff = [[yj == y[i][t[i]] for yj in y[i]] for i in range(y.shape[0])]\n",
    "\n",
    "        return [[(np.exp(y[i][j]) / np.sum(np.exp(y[i])) - diff[i][j]) / y.shape[0]\\\n",
    "            for j in range(len(y[i]))] for i in range(len(y))]\n",
    "\n",
    "        return y"
   ]
  },
  {
   "cell_type": "markdown",
   "metadata": {
    "colab_type": "text",
    "id": "Uz9qM5eHJLNw"
   },
   "source": [
    "### Acuratețea\n",
    "\n",
    "Calculați acuratețea predicțiilor ${\\bf y}$ în raport cu clasele corecte ${\\bf t}$ (rația exemplelor pentru care clasa corectă a avut probabilitatea prezisă maximă)."
   ]
  },
  {
   "cell_type": "code",
   "execution_count": 14,
   "metadata": {
    "colab": {},
    "colab_type": "code",
    "id": "3nYfVCBSE7Fe"
   },
   "outputs": [],
   "source": [
    "from sklearn.metrics import accuracy_score\n",
    "\n",
    "def accuracy(y: np.ndarray, t: np.ndarray) -> float:\n",
    "    return accuracy_score(t, np.argmax(y, axis=1))"
   ]
  },
  {
   "cell_type": "markdown",
   "metadata": {
    "colab_type": "text",
    "id": "mIhtzd2gJQF2"
   },
   "source": [
    "## 4. Antrenarea rețelei neurale"
   ]
  },
  {
   "cell_type": "markdown",
   "metadata": {},
   "source": [
    "### [Cerinta 9.5] (2p) - Crearea si antrenarea unei arhitecturi de retea convolutionala similara cu LeNet\n",
    "\n",
    "Implementati [arhitectura LeNet](https://www.pyimagesearch.com/2016/08/01/lenet-convolutional-neural-network-in-python/) \n",
    "  - Conv(1, 28, 28, 20, 5, 1), Relu, MaxPool(2, 2), Conv(20, 12, 12, 50, 5, 1), Relu, MaxPool(2,2), Linearize(50, 4, 4), Linear(800, 500), Relu, Linear(500, 10), Softmax\n",
    "  \n",
    "**Adaptati codul de antrenare din laboratorul precedent pentru a antrena reteaua.**\n",
    "\n",
    "**Comparati rezultatele obtinute cu cele ale retelei MLP antrenate data trecuta.**"
   ]
  },
  {
   "cell_type": "code",
   "execution_count": 15,
   "metadata": {},
   "outputs": [],
   "source": [
    "# TODO 9.5: antrenare retea LeNet "
   ]
  },
  {
   "cell_type": "markdown",
   "metadata": {
    "colab_type": "text",
    "id": "J7zGgHlduJvA"
   },
   "source": [
    "## Teste\n",
    "\n",
    "Executați ```test0() and test16() and test7()``` pentru a rula testele."
   ]
  },
  {
   "cell_type": "code",
   "execution_count": 16,
   "metadata": {
    "colab": {},
    "colab_type": "code",
    "id": "-YaLsPBfuJvB"
   },
   "outputs": [],
   "source": [
    "from numpy.linalg import norm \n",
    "\n",
    "def close_enough(arr1, arr2, max_err = 0.0000001):\n",
    "    assert(arr1.shape == arr2.shape)\n",
    "    return norm(arr1.reshape(arr1.size) - arr2.reshape(arr2.size)) < max_err\n",
    "\n",
    "def test0():\n",
    "    fakex = [np.random.randn(128, n) for n in [20, 40, 30, 10]]\n",
    "\n",
    "    class DummyLayer:\n",
    "        def __init__(self, idx):\n",
    "            self.idx = idx\n",
    "\n",
    "        def forward(self, x):\n",
    "            return fakex[self.idx + 1]\n",
    "\n",
    "        def backward(self, x, dldy):\n",
    "            if not np.allclose(x, fakex[self.idx]):\n",
    "                raise Exception(\"Intrări greșite în backward\")\n",
    "            if not np.allclose(dldy, -fakex[self.idx+1]):\n",
    "                raise Exception(\"Intrări greșite în backward\")\n",
    "            return -x\n",
    "\n",
    "    try:\n",
    "        net = FeedForwardNetwork([DummyLayer(i) for i in range(3)])\n",
    "        net.forward(fakex[0])\n",
    "        net.backward(-fakex[-1])\n",
    "        print(\"Cerința 0 rezolvată corect!\")\n",
    "        return True\n",
    "    except NotImplementedError as e:\n",
    "        print(\"Cerința 0 nu a fost implementată!\")\n",
    "    except Exception as e:\n",
    "        print(e)\n",
    "        print(\"Cerința 0 are erori.\")\n",
    "        \n",
    "    return False\n",
    "        \n",
    "def test16():\n",
    "    __x = np.array([[-3.0731, -1.9081, -0.7283, -0.0757, -0.7577],\n",
    "                    [ 2.4041, -1.1506, -0.5924,  1.3016,  1.0882],\n",
    "                    [-0.5254,  0.3519, -0.9633, -2.7393, -0.9745]])\n",
    "    __w = np.array([[ 1.3214, -0.5886, -0.0351,  1.2084,  1.2661, -0.9979, -0.1172],\n",
    "                    [-0.4022,  0.1168,  0.9020, -2.0098, -0.5409, -0.3876, -0.1719],\n",
    "                    [-1.1125, -0.5556,  0.8843,  0.6995,  0.4929,  0.7523,  0.1832],\n",
    "                    [ 0.2267,  0.6757,  1.1286, -0.3218,  1.6934, -0.1782, -0.3467],\n",
    "                    [-0.6062,  0.4426,  0.5090,  0.4772, -0.5721,  0.8658, -0.5999]])\n",
    "    __b = np.array([ 0.3335,  0.5051, -0.1393,  1.2116,  1.7836, -0.6597,  0.3553])\n",
    "    __y = np.array([[-1.70746622, 2.10919555, -2.8676804, 0.48630531, -1.1288499, 1.95609904, 1.39083457],\n",
    "                    [4.26749994, 0.64592254, 0.23749513, 6.11524068, 6.73936681, -2.34822291, -0.94127596],\n",
    "                    [0.5391161, -0.89159687, -4.24288533, -0.38789499, -3.62798139, -1.35206921, 1.71422657]])\n",
    "    \n",
    "    __dy = np.array([[ 1.5555, -0.8978, -0.2917, -0.3868, -0.8257, -0.3491, -0.8658],\n",
    "                     [ 1.1146,  1.4914,  0.9591, -0.2613,  0.5887,  0.4794,  0.8565],\n",
    "                     [-0.1552, -1.6319,  1.7642,  1.0503,  0.1035 , -0.7186, -0.9782]])\n",
    "    __dx = np.array([[ 1.53113221,  0.51455541, -2.588423,   -1.49460989, -0.98384103],\n",
    "                     [ 0.41215308,  0.46469672, -0.59552791,  3.04147235, -0.08763244],\n",
    "                     [ 2.92549149, -0.25707023,  2.70531668,  1.15769427,  0.67643021]])\n",
    "    __dw = np.array(\n",
    "        [[-2.01905511,  7.20190418,  2.2752849,   0.00865613,  3.89837344,  2.60289719, 5.23374791],\n",
    "         [-4.30512319, -0.57717827,  0.07387429,  1.40830543,  0.9345816,  -0.13835527, 0.3223155 ],\n",
    "         [-1.64365553,  1.34237165, -2.05517959, -0.57525343,  0.15290988,  0.66248035, 1.0654716 ],\n",
    "         [ 1.75815137,  6.47943337, -3.56222681, -3.18791411,  0.54523986,  2.61887489, 3.85994472],\n",
    "         [ 0.18554777,  3.89349109, -0.45449919, -1.01478565,  1.16539548,  1.48647185, 2.54131586]]\n",
    "    )\n",
    "    __db = np.array([ 2.5149, -1.0383,  2.4316,  0.4022, -0.1335, -0.5883, -0.9875])\n",
    "    \n",
    "    __y_relu = np.array([[0, 2.10919555, 0, 0.48630531, 0, 1.95609904, 1.39083457],\n",
    "                         [4.26749994, 0.64592254, 0.23749513, 6.11524068, 6.73936681, 0, 0],\n",
    "                         [0.5391161, 0, 0, 0, 0, 0, 1.71422657]])\n",
    "    __drelu = np.array([[0, -0.8978, 0, -0.3868, 0, -0.3491, -0.8658],\n",
    "                        [ 1.1146,  1.4914,  0.9591, -0.2613,  0.5887,  0,  0],\n",
    "                        [-0.1552, 0,  0,  0,  0 , 0, -0.9782]])\n",
    "    \n",
    "    __t = np.array([3, 1, 2])\n",
    "    __dl_dy = np.array(\n",
    "        [[ 2.80870645e-03,  1.27661957e-01,  8.80302096e-04, -3.08142112e-01,\n",
    "           5.00952130e-03,  1.09539948e-01,  6.22416775e-02],\n",
    "         [ 1.73238217e-02, -3.32870086e-01,  3.07917841e-04,  1.09927743e-01,\n",
    "           2.05192672e-01,  2.31991342e-05,  9.47329526e-05],\n",
    "         [ 6.60308812e-02,  1.57905168e-02, -3.32780047e-01,  2.61307149e-02,\n",
    "           1.02329216e-03,  9.96358772e-03,  2.13841054e-01]]\n",
    "    )\n",
    "\n",
    "\n",
    "    try:\n",
    "        lin = Linear(5, 7)\n",
    "        lin.weight = __w.copy()\n",
    "        lin.bias = __b.copy()\n",
    "        y = lin.forward(__x.copy())\n",
    "        if not np.allclose(y, __y):\n",
    "            raise Exception(\"Ieșiri greșite\")\n",
    "        print(\"Cerința 1 rezolvată corect!\")\n",
    "    except NotImplementedError as e:\n",
    "        print(\"Cerința 1 nu a fost implementată!\")\n",
    "        return False\n",
    "    except Exception as e:\n",
    "        print(e)\n",
    "        print(\"Cerința 1 are erori.\")\n",
    "        return False\n",
    "        \n",
    "    try:\n",
    "        dx = lin.backward(__x.copy(), __dy.copy())\n",
    "        if not np.allclose(dx, __dx):\n",
    "            raise ValueError(\"dL/dx greșit\")\n",
    "        if not np.allclose(lin.dweight, __dw):\n",
    "            raise ValueError(\"dL/dw greșit\")\n",
    "        if not np.allclose(lin.dbias, __db):\n",
    "            raise ValueError(\"dL/db greșit\")\n",
    "        print(\"Cerința 2 rezolvată corect!\")\n",
    "    except NotImplementedError as e:\n",
    "        print(\"Cerința 2 nu a fost implementată!\")\n",
    "        return False\n",
    "    except Exception as e:\n",
    "        print(e)\n",
    "        print(\"Cerința 2 are erori.\")\n",
    "        return False\n",
    "\n",
    "    try:\n",
    "        relu = ReLU()\n",
    "        y_relu = relu.forward(__y.copy())\n",
    "        if not np.allclose(y_relu, __y_relu):\n",
    "            raise ValueError(\"ReLU(x) greșit\")\n",
    "        print(\"Cerința 3 rezolvată corect!\")\n",
    "    except NotImplementedError as e:\n",
    "        print(\"Cerința 3 nu a fost implementată!\")\n",
    "        return False\n",
    "    except Exception as e:\n",
    "        print(e)\n",
    "        print(\"Cerința 3 are erori.\")\n",
    "        return False\n",
    "            \n",
    "    try:\n",
    "        relu = ReLU()\n",
    "        drelu = relu.backward(__y.copy(), __dy.copy())\n",
    "        if not np.allclose(drelu, __drelu):\n",
    "            raise ValueError(\"ReLU.backward greșit\")\n",
    "        print(\"Cerința 4 rezolvată corect!\")\n",
    "    except NotImplementedError as e:\n",
    "        print(\"Cerința 4 nu a fost implementată!\")\n",
    "        return False\n",
    "    except Exception as e:\n",
    "        print(e)\n",
    "        print(\"Cerința 4 are erori.\")\n",
    "        return False\n",
    "    \n",
    "    try:\n",
    "        ce = CrossEntropy()\n",
    "        loss = ce.forward(__y.copy(), __t.copy())\n",
    "        if np.abs(loss - 5.1874357237332545) > 1e-6:\n",
    "            raise ValueError(f\"Valoare greșită nll: {loss:f} în loc de 5.1874357237332545\")\n",
    "        print(\"Cerința 5 rezolvată corect!\")\n",
    "    except NotImplementedError as e:\n",
    "        print(\"Cerința 5 nu a fost implementată!\")\n",
    "        return False\n",
    "    except Exception as e:\n",
    "        print(e)\n",
    "        print(\"Cerința 5 are erori.\")\n",
    "        return False\n",
    "    \n",
    "    try:\n",
    "        ce = CrossEntropy()\n",
    "        dl_dy = ce.backward(__y.copy(), __t.copy())\n",
    "        if not np.allclose(dl_dy, __dl_dy) > 1e-6:\n",
    "            raise ValueError(f\"Valoare greșită pentru dNLL/dy\")\n",
    "        print(\"Cerința 6 rezolvată corect!\")\n",
    "    except NotImplementedError as e:\n",
    "        print(\"Cerința 6 nu a fost implementată!\")\n",
    "        return False\n",
    "    except Exception as e:\n",
    "        print(e)\n",
    "        print(\"Cerința 6 are erori.\")\n",
    "        return False\n",
    "    \n",
    "    return True\n",
    "\n",
    "def test7():  # Acuratețea\n",
    "    y = np.array([[ 0.6460014 , -0.05876393, -1.36496105, -0.07057596,  0.54938383],\n",
    "                  [-0.8033942 , -0.51753041,  0.92278036, -1.66303585, -0.36537512],\n",
    "                  [-1.3710599 ,  0.65598193, -0.75527154,  1.21609284,  0.08284123],\n",
    "                  [-1.24696857,  0.32676634,  0.09572539,  1.38316398, -0.14110726],\n",
    "                  [-2.01698315,  2.06123375, -1.68003675,  0.0504592 ,  0.04427597],\n",
    "                  [-0.8893451 ,  1.74695148, -0.29394473,  0.74203068, -0.75185261],\n",
    "                  [ 1.34126333, -0.5272606 ,  1.46458319,  1.59529987,  1.86884676],\n",
    "                  [-0.58987297,  1.10900165, -0.71208103,  0.20478154, -1.26693567],\n",
    "                  [-2.17730677, -1.36147532, -1.49679182,  0.24812177, -0.13368035],\n",
    "                  [-0.48730599,  1.31710647,  0.41765538,  1.19869192, -0.05301611],\n",
    "                  [-0.10655224, -0.21174034,  1.31548647, -0.57990281,  0.85868472],\n",
    "                  [-0.32055613, -2.17817118, -0.28488692,  1.62977524,  0.25150929],\n",
    "                  [ 0.07704727,  1.67710047,  1.83368441, -0.45456845, -0.74474969]])\n",
    "    t = np.array([0, 2, 3, 3, 1, 0, 1, 1, 2, 1, 2, 3, 2])\n",
    "    try:\n",
    "        acc = accuracy(y, t)\n",
    "        if np.abs(acc - 0.7692307692307693) > 1e-7:\n",
    "            raise ValueError(f\"{acc:f} != 10/13\")\n",
    "        print(f\"Cerința 7 rezolvată corect!\")\n",
    "    except NotImplementedError as e:\n",
    "        print(\"Cerința 7 nu a fost implementată!\")\n",
    "    except Exception as e:\n",
    "        print(e)\n",
    "        print(\"Cerința 7 are erori.\")\n",
    "\n",
    "    return True\n",
    "\n",
    "\n",
    "def test_convolutional_layer():\n",
    "\n",
    "    np.random.seed(0)\n",
    "    l = ConvolutionalLayer(2, 3, 4, 3, 2, 1)\n",
    "\n",
    "    l.weights = np.random.rand(3, 2, 2, 2)\n",
    "\n",
    "    l.biases = np.random.rand(3, 1)\n",
    "\n",
    "    x = np.array([[[[1, 2, 3, 4], [5, 6, 7, 8], [9, 10, 11, 12]],\n",
    "                  [[13, 14, 15, 16], [17, 18, 19, 20], [21, 22, 23, 24]]]])\n",
    "\n",
    "    print(\"Testing forward computation...\")\n",
    "    output = l.forward(x)\n",
    "    target = np.array([[[[ 34.55043437, 38.95942899, 43.36842361],\n",
    "                        [ 52.18641284, 56.59540746, 61.00440208]],\n",
    "    [[ 30.72457988, 34.08923073, 37.45388158],\n",
    "     [ 44.18318328, 47.54783413, 50.91248498]],\n",
    "     [[ 28.2244684, 31.30220961, 34.37995083],\n",
    "      [ 40.53543326, 43.61317448, 46.69091569]]]])\n",
    "    assert (output.shape == target.shape), \"Wrong output size\"\n",
    "    assert close_enough(output, target), \"Wrong values in layer ouput\"\n",
    "    print(\"Forward computation implemented ok!\")\n",
    "\n",
    "    output_err = np.random.rand(1, 3, 2, 3)\n",
    "\n",
    "    print(\"Testing backward computation...\")\n",
    "\n",
    "    g = l.backward(x, output_err)\n",
    "    # print(l.g_biases)\n",
    "#    print(l.g_weights)\n",
    "#    print(g)\n",
    "\n",
    "    print(\"    i. testing gradients w.r.t. the bias terms...\")\n",
    "    gbias_target =  np.array([[ 2.4595299 ],\n",
    "                              [ 3.86207926],\n",
    "                              [ 1.17504241]])\n",
    "\n",
    "    print(l.g_biases.shape)\n",
    "    print(gbias_target.shape)\n",
    "\n",
    "    assert (l.g_biases.shape == gbias_target.shape), \"Wrong size\"\n",
    "    assert close_enough(l.g_biases, gbias_target), \"Wrong values\"\n",
    "    print(\"     OK\")\n",
    "\n",
    "    print(\"   ii. testing gradients w.r.t. the weights...\")\n",
    "    gweights_target = np.array(\n",
    "            [[[[ 12.19071134, 14.65024124],\n",
    "               [ 22.02883093, 24.48836083]],\n",
    "    [[ 41.70507011, 44.1646    ],\n",
    "     [ 51.54318969, 54.00271959]]],\n",
    "\n",
    "    [[[ 17.14269456, 21.00477382],\n",
    "      [ 32.59101161, 36.45309087]],\n",
    "\n",
    "  [[ 63.4876457 , 67.34972496],\n",
    "   [ 78.93596275, 82.79804201]]],\n",
    "\n",
    " [[[  5.38434096,  6.55938337],\n",
    "   [ 10.08451061, 11.25955302]],\n",
    "\n",
    "  [[ 19.4848499 , 20.65989231],\n",
    "   [ 24.18501955, 25.36006196]]]]\n",
    "    )\n",
    "\n",
    "    assert (l.g_weights.shape == gweights_target.shape), \"Wrong size\"\n",
    "    assert close_enough(l.g_weights, gweights_target), \"Wrong values\"\n",
    "    print(\"     OK\")\n",
    "\n",
    "    return True\n",
    "\n",
    "\n",
    "def test_max_pooling_layer():\n",
    "\n",
    "    l = MaxPoolingLayer(2)\n",
    "\n",
    "    x = np.array([[[[1, 2, 3, 4], [5, 6, 7, 8]],\n",
    "                  [[9, 10, 11, 12], [13, 14, 15, 16]],\n",
    "                  [[17, 18, 19, 20], [21, 22, 23, 24]]]])\n",
    "\n",
    "    print(\"Testing forward computation...\")\n",
    "    output = l.forward(x)\n",
    "    target = np.array([[[[6, 8]],\n",
    "                       [[14, 16]],\n",
    "                       [[22, 24]]]])\n",
    "    assert (output.shape == target.shape), \"Wrong output size\"\n",
    "    assert close_enough(output, target), \"Wrong values in layer ouput\"\n",
    "    print(\"Forward computation implemented ok!\")\n",
    "\n",
    "\n",
    "    output_err = output\n",
    "\n",
    "    print(\"Testing backward computation...\")\n",
    "\n",
    "    g = l.backward(x, output_err)\n",
    "    print(g)\n",
    "\n",
    "\n",
    "    print(\"Testing gradients\")\n",
    "    in_target = np.array([[[[0, 0, 0, 0], [0, 6, 0, 8]],\n",
    "                          [[0, 0, 0, 0], [0, 14, 0, 16]],\n",
    "                          [[0, 0, 0, 0], [0, 22, 0, 24]]]])\n",
    "\n",
    "    assert (g.shape == in_target.shape), \"Wrong size\"\n",
    "    assert close_enough(g, in_target), \"Wrong values in gradients\"\n",
    "    print(\"     OK\")\n",
    "\n",
    "    print(\"Backward computation implemented ok!\")\n",
    "    return True\n",
    "    \n",
    "\n",
    "def test_linearize_layer():\n",
    "\n",
    "    l = LinearizeLayer(2, 3, 4)\n",
    "\n",
    "    x = np.array([[[[1, 2, 3, 4], [5, 6, 7, 8], [9, 10, 11, 12]],\n",
    "                  [[13, 14, 15, 16], [17, 18, 19, 20], [21, 22, 23, 24]]]])\n",
    "\n",
    "    print(\"Testing forward computation...\")\n",
    "    output = l.forward(x)\n",
    "    target = np.array([[1], [2], [3], [4], [5], [6], [7], [8], [9], [10], [11], [12], [13], [14], [15], [16], [17], [18], [19], [20], [21], [22], [23], [24]])\n",
    "    target = target.reshape(1, len(target))\n",
    "    \n",
    "    assert (output.shape == target.shape), \"Wrong output size\"\n",
    "    assert close_enough(output, target), \"Wrong values in layer ouput\"\n",
    "    print(\"Forward computation implemented ok!\")\n",
    "\n",
    "    output_err = output\n",
    "\n",
    "    print(\"Testing backward computation...\")\n",
    "\n",
    "    g = l.backward(x, output_err)\n",
    "\n",
    "    print(\"Testing gradients\")\n",
    "    in_target = x\n",
    "\n",
    "    assert (g.shape == in_target.shape), \"Wrong size\"\n",
    "    assert close_enough(g, in_target), \"Wrong values in gradients\"\n",
    "    print(\"     OK\")\n",
    "\n",
    "    print(\"Backward computation implemented ok!\")\n",
    "    return True\n"
   ]
  },
  {
   "cell_type": "code",
   "execution_count": 28,
   "metadata": {
    "colab": {},
    "colab_type": "code",
    "id": "nWQ2e7C4uJvD"
   },
   "outputs": [
    {
     "output_type": "stream",
     "name": "stdout",
     "text": [
      "Cerința 0 rezolvată corect!\nCerința 1 rezolvată corect!\nCerința 2 rezolvată corect!\nCerința 3 rezolvată corect!\nCerința 4 rezolvată corect!\nCerința 5 rezolvată corect!\nCerința 6 rezolvată corect!\nCerința 7 rezolvată corect!\n"
     ]
    },
    {
     "output_type": "execute_result",
     "data": {
      "text/plain": [
       "True"
      ]
     },
     "metadata": {},
     "execution_count": 28
    }
   ],
   "source": [
    "test0() and test16() and test7()"
   ]
  },
  {
   "cell_type": "code",
   "execution_count": 27,
   "metadata": {},
   "outputs": [
    {
     "output_type": "stream",
     "name": "stdout",
     "text": [
      "Testing forward computation...\nForward computation implemented ok!\nTesting backward computation...\n    i. testing gradients w.r.t. the bias terms...\n(3, 1)\n(3, 1)\n     OK\n   ii. testing gradients w.r.t. the weights...\n     OK\nTesting forward computation...\nForward computation implemented ok!\nTesting backward computation...\n[[[[ 0  0  0  0]\n   [ 0  6  0  8]]\n\n  [[ 0  0  0  0]\n   [ 0 14  0 16]]\n\n  [[ 0  0  0  0]\n   [ 0 22  0 24]]]]\nTesting gradients\n     OK\nBackward computation implemented ok!\nTesting forward computation...\nForward computation implemented ok!\nTesting backward computation...\nTesting gradients\n     OK\nBackward computation implemented ok!\n"
     ]
    },
    {
     "output_type": "execute_result",
     "data": {
      "text/plain": [
       "True"
      ]
     },
     "metadata": {},
     "execution_count": 27
    }
   ],
   "source": [
    "test_convolutional_layer() and test_max_pooling_layer() and test_linearize_layer()"
   ]
  }
 ],
 "metadata": {
  "colab": {
   "collapsed_sections": [],
   "include_colab_link": true,
   "name": "Laborator 8",
   "provenance": []
  },
  "kernelspec": {
   "display_name": "Python 3",
   "language": "python",
   "name": "python3"
  },
  "language_info": {
   "codemirror_mode": {
    "name": "ipython",
    "version": 3
   },
   "file_extension": ".py",
   "mimetype": "text/x-python",
   "name": "python",
   "nbconvert_exporter": "python",
   "pygments_lexer": "ipython3",
   "version": "3.8.5"
  }
 },
 "nbformat": 4,
 "nbformat_minor": 1
}