{
  "nbformat": 4,
  "nbformat_minor": 0,
  "metadata": {
    "colab": {
      "name": "Laborator 8",
      "provenance": [],
      "collapsed_sections": [],
      "include_colab_link": true
    },
    "kernelspec": {
      "display_name": "Python 3",
      "language": "python",
      "name": "python3"
    },
    "language_info": {
      "codemirror_mode": {
        "name": "ipython",
        "version": 3
      },
      "file_extension": ".py",
      "mimetype": "text/x-python",
      "name": "python",
      "nbconvert_exporter": "python",
      "pygments_lexer": "ipython3",
      "version": "3.8.5"
    }
  },
  "cells": [
    {
      "cell_type": "markdown",
      "metadata": {
        "id": "view-in-github",
        "colab_type": "text"
      },
      "source": [
        "<a href=\"https://colab.research.google.com/github/cs-pub-ro/ML/blob/master/lab/lab8/Laborator_8.ipynb\" target=\"_parent\"><img src=\"https://colab.research.google.com/assets/colab-badge.svg\" alt=\"Open In Colab\"/></a>"
      ]
    },
    {
      "cell_type": "markdown",
      "metadata": {
        "colab_type": "text",
        "id": "tmaHAc_KHG_5"
      },
      "source": [
        "# Rețele neurale pentru clasificare imaginilor\n",
        "\n",
        "_Tudor Berariu, 2018_ (tudor.berariu@gmail.com)\n"
      ]
    },
    {
      "cell_type": "markdown",
      "metadata": {
        "id": "xKCKTWvsuJuF",
        "colab_type": "text"
      },
      "source": [
        "În cadrul acestui laborator veți implementa o rețea neurală pentru clasificarea imaginilor.\n",
        "Rețeaua va fi compusă din straturi lineare și activări de tip ReLU și un strat softmax înainte de ieșiri. Funcția de cost folosită va fi negative log likelihood. Pentru optimizarea acesteia se va folosi SGD (stochastic gradient descent)."
      ]
    },
    {
      "cell_type": "markdown",
      "metadata": {
        "colab_type": "text",
        "id": "zgNIWhzoHOIz"
      },
      "source": [
        "## 1. Setul de date MNIST\n",
        "\n",
        "Setul de date MNIST este compus din imagini de 28x28 pixeli reprezentând una dintre cele zece cifre 0-9.\n",
        "\n",
        "Decomentați mai jos comanda `!pip install mnist` pentru a instala pachetul `mnist`."
      ]
    },
    {
      "cell_type": "code",
      "metadata": {
        "colab_type": "code",
        "id": "dQiqJyO7E7Ek",
        "colab": {}
      },
      "source": [
        "!pip3 install mnist\n",
        "\n",
        "import mnist\n",
        "train_imgs = mnist.train_images()\n",
        "train_labels = mnist.train_labels()\n",
        "test_imgs = mnist.test_images()\n",
        "test_labels  = mnist.test_labels()"
      ],
      "execution_count": 1,
      "outputs": [
        {
          "output_type": "stream",
          "name": "stdout",
          "text": [
            "Requirement already satisfied: mnist in /home/teo/.local/lib/python3.8/site-packages (0.2.2)\nRequirement already satisfied: numpy in /home/teo/.local/lib/python3.8/site-packages (from mnist) (1.20.1)\n"
          ]
        }
      ]
    },
    {
      "cell_type": "markdown",
      "metadata": {
        "id": "ElGfqnPzuJuO",
        "colab_type": "text"
      },
      "source": [
        "### Exemple din setul de date MNIST"
      ]
    },
    {
      "cell_type": "code",
      "metadata": {
        "colab_type": "code",
        "id": "qeftJ_CpE7Eu",
        "colab": {}
      },
      "source": [
        "from copy import deepcopy\n",
        "from typing import List\n",
        "import numpy as np\n",
        "%matplotlib inline\n",
        "import matplotlib.pyplot as plt"
      ],
      "execution_count": 2,
      "outputs": []
    },
    {
      "cell_type": "code",
      "metadata": {
        "colab_type": "code",
        "id": "avJh9wQquJuU",
        "colab": {}
      },
      "source": [
        "idxs = np.random.randint(0, len(train_imgs), 15)\n",
        "imgs = np.concatenate(tuple(train_imgs[idx,:,:] for idx in idxs), axis=1)\n",
        "plt.imshow(imgs)\n",
        "print(\"Labels:\", train_labels[idxs])"
      ],
      "execution_count": 3,
      "outputs": [
        {
          "output_type": "stream",
          "name": "stdout",
          "text": [
            "Labels: [5 9 2 7 8 9 9 2 6 6 1 1 7 1 0]\n"
          ]
        },
        {
          "output_type": "display_data",
          "data": {
            "text/plain": "<Figure size 432x288 with 1 Axes>",
            "image/svg+xml": "<?xml version=\"1.0\" encoding=\"utf-8\" standalone=\"no\"?>\n<!DOCTYPE svg PUBLIC \"-//W3C//DTD SVG 1.1//EN\"\n  \"http://www.w3.org/Graphics/SVG/1.1/DTD/svg11.dtd\">\n<svg height=\"56.798772pt\" version=\"1.1\" viewBox=\"0 0 368.925 56.798772\" width=\"368.925pt\" xmlns=\"http://www.w3.org/2000/svg\" xmlns:xlink=\"http://www.w3.org/1999/xlink\">\n <metadata>\n  <rdf:RDF xmlns:cc=\"http://creativecommons.org/ns#\" xmlns:dc=\"http://purl.org/dc/elements/1.1/\" xmlns:rdf=\"http://www.w3.org/1999/02/22-rdf-syntax-ns#\">\n   <cc:Work>\n    <dc:type rdf:resource=\"http://purl.org/dc/dcmitype/StillImage\"/>\n    <dc:date>2021-04-27T00:53:42.799832</dc:date>\n    <dc:format>image/svg+xml</dc:format>\n    <dc:creator>\n     <cc:Agent>\n      <dc:title>Matplotlib v3.4.1, https://matplotlib.org/</dc:title>\n     </cc:Agent>\n    </dc:creator>\n   </cc:Work>\n  </rdf:RDF>\n </metadata>\n <defs>\n  <style type=\"text/css\">*{stroke-linecap:butt;stroke-linejoin:round;}</style>\n </defs>\n <g id=\"figure_1\">\n  <g id=\"patch_1\">\n   <path d=\"M -0 56.798772 \nL 368.925 56.798772 \nL 368.925 0 \nL -0 0 \nz\n\" style=\"fill:none;\"/>\n  </g>\n  <g id=\"axes_1\">\n   <g id=\"patch_2\">\n    <path d=\"M 26.925 32.920647 \nL 361.725 32.920647 \nL 361.725 10.600647 \nL 26.925 10.600647 \nz\n\" style=\"fill:#ffffff;\"/>\n   </g>\n   <g clip-path=\"url(#p81fefcb59c)\">\n    <image height=\"23\" id=\"imagecd4c6ba606\" transform=\"scale(1 -1)translate(0 -23)\" width=\"335\" x=\"26.925\" xlink:href=\"data:image/png;base64,\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\" y=\"-9.920647\"/>\n   </g>\n   <g id=\"matplotlib.axis_1\">\n    <g id=\"xtick_1\">\n     <g id=\"line2d_1\">\n      <defs>\n       <path d=\"M 0 0 \nL 0 3.5 \n\" id=\"m44447e178c\" style=\"stroke:#000000;stroke-width:0.8;\"/>\n      </defs>\n      <g>\n       <use style=\"stroke:#000000;stroke-width:0.8;\" x=\"27.323571\" xlink:href=\"#m44447e178c\" y=\"32.920647\"/>\n      </g>\n     </g>\n     <g id=\"text_1\">\n      <!-- 0 -->\n      <g transform=\"translate(24.142321 47.519085)scale(0.1 -0.1)\">\n       <defs>\n        <path d=\"M 2034 4250 \nQ 1547 4250 1301 3770 \nQ 1056 3291 1056 2328 \nQ 1056 1369 1301 889 \nQ 1547 409 2034 409 \nQ 2525 409 2770 889 \nQ 3016 1369 3016 2328 \nQ 3016 3291 2770 3770 \nQ 2525 4250 2034 4250 \nz\nM 2034 4750 \nQ 2819 4750 3233 4129 \nQ 3647 3509 3647 2328 \nQ 3647 1150 3233 529 \nQ 2819 -91 2034 -91 \nQ 1250 -91 836 529 \nQ 422 1150 422 2328 \nQ 422 3509 836 4129 \nQ 1250 4750 2034 4750 \nz\n\" id=\"DejaVuSans-30\" transform=\"scale(0.015625)\"/>\n       </defs>\n       <use xlink:href=\"#DejaVuSans-30\"/>\n      </g>\n     </g>\n    </g>\n    <g id=\"xtick_2\">\n     <g id=\"line2d_2\">\n      <g>\n       <use style=\"stroke:#000000;stroke-width:0.8;\" x=\"67.180714\" xlink:href=\"#m44447e178c\" y=\"32.920647\"/>\n      </g>\n     </g>\n     <g id=\"text_2\">\n      <!-- 50 -->\n      <g transform=\"translate(60.818214 47.519085)scale(0.1 -0.1)\">\n       <defs>\n        <path d=\"M 691 4666 \nL 3169 4666 \nL 3169 4134 \nL 1269 4134 \nL 1269 2991 \nQ 1406 3038 1543 3061 \nQ 1681 3084 1819 3084 \nQ 2600 3084 3056 2656 \nQ 3513 2228 3513 1497 \nQ 3513 744 3044 326 \nQ 2575 -91 1722 -91 \nQ 1428 -91 1123 -41 \nQ 819 9 494 109 \nL 494 744 \nQ 775 591 1075 516 \nQ 1375 441 1709 441 \nQ 2250 441 2565 725 \nQ 2881 1009 2881 1497 \nQ 2881 1984 2565 2268 \nQ 2250 2553 1709 2553 \nQ 1456 2553 1204 2497 \nQ 953 2441 691 2322 \nL 691 4666 \nz\n\" id=\"DejaVuSans-35\" transform=\"scale(0.015625)\"/>\n       </defs>\n       <use xlink:href=\"#DejaVuSans-35\"/>\n       <use x=\"63.623047\" xlink:href=\"#DejaVuSans-30\"/>\n      </g>\n     </g>\n    </g>\n    <g id=\"xtick_3\">\n     <g id=\"line2d_3\">\n      <g>\n       <use style=\"stroke:#000000;stroke-width:0.8;\" x=\"107.037857\" xlink:href=\"#m44447e178c\" y=\"32.920647\"/>\n      </g>\n     </g>\n     <g id=\"text_3\">\n      <!-- 100 -->\n      <g transform=\"translate(97.494107 47.519085)scale(0.1 -0.1)\">\n       <defs>\n        <path d=\"M 794 531 \nL 1825 531 \nL 1825 4091 \nL 703 3866 \nL 703 4441 \nL 1819 4666 \nL 2450 4666 \nL 2450 531 \nL 3481 531 \nL 3481 0 \nL 794 0 \nL 794 531 \nz\n\" id=\"DejaVuSans-31\" transform=\"scale(0.015625)\"/>\n       </defs>\n       <use xlink:href=\"#DejaVuSans-31\"/>\n       <use x=\"63.623047\" xlink:href=\"#DejaVuSans-30\"/>\n       <use x=\"127.246094\" xlink:href=\"#DejaVuSans-30\"/>\n      </g>\n     </g>\n    </g>\n    <g id=\"xtick_4\">\n     <g id=\"line2d_4\">\n      <g>\n       <use style=\"stroke:#000000;stroke-width:0.8;\" x=\"146.895\" xlink:href=\"#m44447e178c\" y=\"32.920647\"/>\n      </g>\n     </g>\n     <g id=\"text_4\">\n      <!-- 150 -->\n      <g transform=\"translate(137.35125 47.519085)scale(0.1 -0.1)\">\n       <use xlink:href=\"#DejaVuSans-31\"/>\n       <use x=\"63.623047\" xlink:href=\"#DejaVuSans-35\"/>\n       <use x=\"127.246094\" xlink:href=\"#DejaVuSans-30\"/>\n      </g>\n     </g>\n    </g>\n    <g id=\"xtick_5\">\n     <g id=\"line2d_5\">\n      <g>\n       <use style=\"stroke:#000000;stroke-width:0.8;\" x=\"186.752143\" xlink:href=\"#m44447e178c\" y=\"32.920647\"/>\n      </g>\n     </g>\n     <g id=\"text_5\">\n      <!-- 200 -->\n      <g transform=\"translate(177.208393 47.519085)scale(0.1 -0.1)\">\n       <defs>\n        <path d=\"M 1228 531 \nL 3431 531 \nL 3431 0 \nL 469 0 \nL 469 531 \nQ 828 903 1448 1529 \nQ 2069 2156 2228 2338 \nQ 2531 2678 2651 2914 \nQ 2772 3150 2772 3378 \nQ 2772 3750 2511 3984 \nQ 2250 4219 1831 4219 \nQ 1534 4219 1204 4116 \nQ 875 4013 500 3803 \nL 500 4441 \nQ 881 4594 1212 4672 \nQ 1544 4750 1819 4750 \nQ 2544 4750 2975 4387 \nQ 3406 4025 3406 3419 \nQ 3406 3131 3298 2873 \nQ 3191 2616 2906 2266 \nQ 2828 2175 2409 1742 \nQ 1991 1309 1228 531 \nz\n\" id=\"DejaVuSans-32\" transform=\"scale(0.015625)\"/>\n       </defs>\n       <use xlink:href=\"#DejaVuSans-32\"/>\n       <use x=\"63.623047\" xlink:href=\"#DejaVuSans-30\"/>\n       <use x=\"127.246094\" xlink:href=\"#DejaVuSans-30\"/>\n      </g>\n     </g>\n    </g>\n    <g id=\"xtick_6\">\n     <g id=\"line2d_6\">\n      <g>\n       <use style=\"stroke:#000000;stroke-width:0.8;\" x=\"226.609286\" xlink:href=\"#m44447e178c\" y=\"32.920647\"/>\n      </g>\n     </g>\n     <g id=\"text_6\">\n      <!-- 250 -->\n      <g transform=\"translate(217.065536 47.519085)scale(0.1 -0.1)\">\n       <use xlink:href=\"#DejaVuSans-32\"/>\n       <use x=\"63.623047\" xlink:href=\"#DejaVuSans-35\"/>\n       <use x=\"127.246094\" xlink:href=\"#DejaVuSans-30\"/>\n      </g>\n     </g>\n    </g>\n    <g id=\"xtick_7\">\n     <g id=\"line2d_7\">\n      <g>\n       <use style=\"stroke:#000000;stroke-width:0.8;\" x=\"266.466429\" xlink:href=\"#m44447e178c\" y=\"32.920647\"/>\n      </g>\n     </g>\n     <g id=\"text_7\">\n      <!-- 300 -->\n      <g transform=\"translate(256.922679 47.519085)scale(0.1 -0.1)\">\n       <defs>\n        <path d=\"M 2597 2516 \nQ 3050 2419 3304 2112 \nQ 3559 1806 3559 1356 \nQ 3559 666 3084 287 \nQ 2609 -91 1734 -91 \nQ 1441 -91 1130 -33 \nQ 819 25 488 141 \nL 488 750 \nQ 750 597 1062 519 \nQ 1375 441 1716 441 \nQ 2309 441 2620 675 \nQ 2931 909 2931 1356 \nQ 2931 1769 2642 2001 \nQ 2353 2234 1838 2234 \nL 1294 2234 \nL 1294 2753 \nL 1863 2753 \nQ 2328 2753 2575 2939 \nQ 2822 3125 2822 3475 \nQ 2822 3834 2567 4026 \nQ 2313 4219 1838 4219 \nQ 1578 4219 1281 4162 \nQ 984 4106 628 3988 \nL 628 4550 \nQ 988 4650 1302 4700 \nQ 1616 4750 1894 4750 \nQ 2613 4750 3031 4423 \nQ 3450 4097 3450 3541 \nQ 3450 3153 3228 2886 \nQ 3006 2619 2597 2516 \nz\n\" id=\"DejaVuSans-33\" transform=\"scale(0.015625)\"/>\n       </defs>\n       <use xlink:href=\"#DejaVuSans-33\"/>\n       <use x=\"63.623047\" xlink:href=\"#DejaVuSans-30\"/>\n       <use x=\"127.246094\" xlink:href=\"#DejaVuSans-30\"/>\n      </g>\n     </g>\n    </g>\n    <g id=\"xtick_8\">\n     <g id=\"line2d_8\">\n      <g>\n       <use style=\"stroke:#000000;stroke-width:0.8;\" x=\"306.323571\" xlink:href=\"#m44447e178c\" y=\"32.920647\"/>\n      </g>\n     </g>\n     <g id=\"text_8\">\n      <!-- 350 -->\n      <g transform=\"translate(296.779821 47.519085)scale(0.1 -0.1)\">\n       <use xlink:href=\"#DejaVuSans-33\"/>\n       <use x=\"63.623047\" xlink:href=\"#DejaVuSans-35\"/>\n       <use x=\"127.246094\" xlink:href=\"#DejaVuSans-30\"/>\n      </g>\n     </g>\n    </g>\n    <g id=\"xtick_9\">\n     <g id=\"line2d_9\">\n      <g>\n       <use style=\"stroke:#000000;stroke-width:0.8;\" x=\"346.180714\" xlink:href=\"#m44447e178c\" y=\"32.920647\"/>\n      </g>\n     </g>\n     <g id=\"text_9\">\n      <!-- 400 -->\n      <g transform=\"translate(336.636964 47.519085)scale(0.1 -0.1)\">\n       <defs>\n        <path d=\"M 2419 4116 \nL 825 1625 \nL 2419 1625 \nL 2419 4116 \nz\nM 2253 4666 \nL 3047 4666 \nL 3047 1625 \nL 3713 1625 \nL 3713 1100 \nL 3047 1100 \nL 3047 0 \nL 2419 0 \nL 2419 1100 \nL 313 1100 \nL 313 1709 \nL 2253 4666 \nz\n\" id=\"DejaVuSans-34\" transform=\"scale(0.015625)\"/>\n       </defs>\n       <use xlink:href=\"#DejaVuSans-34\"/>\n       <use x=\"63.623047\" xlink:href=\"#DejaVuSans-30\"/>\n       <use x=\"127.246094\" xlink:href=\"#DejaVuSans-30\"/>\n      </g>\n     </g>\n    </g>\n   </g>\n   <g id=\"matplotlib.axis_2\">\n    <g id=\"ytick_1\">\n     <g id=\"line2d_10\">\n      <defs>\n       <path d=\"M 0 0 \nL -3.5 0 \n\" id=\"mf428bb4977\" style=\"stroke:#000000;stroke-width:0.8;\"/>\n      </defs>\n      <g>\n       <use style=\"stroke:#000000;stroke-width:0.8;\" x=\"26.925\" xlink:href=\"#mf428bb4977\" y=\"10.999219\"/>\n      </g>\n     </g>\n     <g id=\"text_10\">\n      <!-- 0 -->\n      <g transform=\"translate(13.5625 14.798438)scale(0.1 -0.1)\">\n       <use xlink:href=\"#DejaVuSans-30\"/>\n      </g>\n     </g>\n    </g>\n    <g id=\"ytick_2\">\n     <g id=\"line2d_11\">\n      <g>\n       <use style=\"stroke:#000000;stroke-width:0.8;\" x=\"26.925\" xlink:href=\"#mf428bb4977\" y=\"30.92779\"/>\n      </g>\n     </g>\n     <g id=\"text_11\">\n      <!-- 25 -->\n      <g transform=\"translate(7.2 34.727009)scale(0.1 -0.1)\">\n       <use xlink:href=\"#DejaVuSans-32\"/>\n       <use x=\"63.623047\" xlink:href=\"#DejaVuSans-35\"/>\n      </g>\n     </g>\n    </g>\n   </g>\n   <g id=\"patch_3\">\n    <path d=\"M 26.925 32.920647 \nL 26.925 10.600647 \n\" style=\"fill:none;stroke:#000000;stroke-linecap:square;stroke-linejoin:miter;stroke-width:0.8;\"/>\n   </g>\n   <g id=\"patch_4\">\n    <path d=\"M 361.725 32.920647 \nL 361.725 10.600647 \n\" style=\"fill:none;stroke:#000000;stroke-linecap:square;stroke-linejoin:miter;stroke-width:0.8;\"/>\n   </g>\n   <g id=\"patch_5\">\n    <path d=\"M 26.925 32.920647 \nL 361.725 32.920647 \n\" style=\"fill:none;stroke:#000000;stroke-linecap:square;stroke-linejoin:miter;stroke-width:0.8;\"/>\n   </g>\n   <g id=\"patch_6\">\n    <path d=\"M 26.925 10.600647 \nL 361.725 10.600647 \n\" style=\"fill:none;stroke:#000000;stroke-linecap:square;stroke-linejoin:miter;stroke-width:0.8;\"/>\n   </g>\n  </g>\n </g>\n <defs>\n  <clipPath id=\"p81fefcb59c\">\n   <rect height=\"22.32\" width=\"334.8\" x=\"26.925\" y=\"10.600647\"/>\n  </clipPath>\n </defs>\n</svg>\n",
            "image/png": "[encoded data removed]"
          },
          "metadata": {
            "needs_background": "light"
          }
        }
      ]
    },
    {
      "cell_type": "markdown",
      "metadata": {
        "id": "KFP9QnUJuJuY",
        "colab_type": "text"
      },
      "source": [
        "### Standardizarea datelor\n",
        "\n",
        "Datele de intrare (imaginile) vor fi rescalate pentru a avea media zero și deviația standard 1."
      ]
    },
    {
      "cell_type": "code",
      "metadata": {
        "id": "wWmt4XVxuJuZ",
        "colab_type": "code",
        "colab": {}
      },
      "source": [
        "mean, std  = train_imgs.mean(), train_imgs.std()\n",
        "train_imgs = (train_imgs - mean) / std\n",
        "test_imgs = (test_imgs - mean) / std"
      ],
      "execution_count": 4,
      "outputs": []
    },
    {
      "cell_type": "markdown",
      "metadata": {
        "colab_type": "text",
        "id": "ZgERUA07IuSr"
      },
      "source": [
        "## 2. Construirea unei rețele de tip feed-forward"
      ]
    },
    {
      "cell_type": "markdown",
      "metadata": {
        "id": "BE-V6sONuJud",
        "colab_type": "text"
      },
      "source": [
        "### Notații\n",
        "  - dimensiunea datelor de intrare este $D = 28 * 28 = 784$, iar dimensiunea ieșirilor rețelei este $K=10$ (numărul de clase)\n",
        "  - rețeaua neurală va avea $L$ straturi\n",
        "  - $B$ va reprezenta dimensiunea batch-ului (numărul de exemple trecute în același timp prin rețea)\n",
        "  - Vom nota cu ${\\bf X} \\in {\\mathbb R}^{B \\times D}$ un batch de intrări $\\left\\lbrace {\\bf x}_0, {\\bf x}_1, \\dots {\\bf x}_B \\right\\rbrace$ și similar ${\\bf Y} \\in {\\mathbb R}^{B \\times K}$\n",
        "  - ${\\bf x}^{(l)}$ reprezintă intrările stratului $l$ (${\\bf x}^{(0)}$ va fi o imagine precum cele din setul MNIST de dimensiune $D$)\n",
        "  - ${\\bf y}^{(l)}$ reprezintă ieșirile stratului $l$ (${\\bf y}^{(L-1)}$ reprezintă ieșirile rețelei)\n",
        "  - ${\\bf \\theta}^{(l)}$ reprezintă parametrii stratului $l$\n",
        "  - ${\\cal L}$ reprezintă funcția de cost (_negative log likelihood_)\n",
        "  "
      ]
    },
    {
      "cell_type": "markdown",
      "metadata": {
        "id": "6YTu4tS8uJue",
        "colab_type": "text"
      },
      "source": [
        "### Straturile rețelei\n",
        "\n",
        "Unele straturi au parametri ce trebuie optimizați în timpul antrenării. Vom nota parametrii stratului $l$ cu $\\bf{\\theta}^{(l)}$.\n",
        "Fiecare strat pe care îl veți implementa va avea trei metode:\n",
        " - `forward` calculează și întoarce ${\\bf y}^{(l)} = f_l\\left({\\bf x}^{(l)}, {\\bf \\theta}^{(l)}\\right)$\n",
        " - `backward` primește $\\frac{\\partial {\\cal L}}{\\partial {\\bf y}^{(l)}}$, reține intern $\\frac{\\partial {\\cal L}}{\\partial {\\bf \\theta}^{(l)}}$ și întoarce $\\frac{\\partial {\\cal L}}{\\partial {\\bf x}^{(l)}}$\n",
        " - `update` modifică parametrii locali ${\\bf \\theta}^{(l)}$ folosing gradientul stocat $\\frac{\\partial{\\cal L}}{\\partial{\\bf \\theta}^{(l)}}$"
      ]
    },
    {
      "cell_type": "code",
      "metadata": {
        "id": "SW206j3euJuf",
        "colab_type": "code",
        "colab": {}
      },
      "source": [
        "class Layer:\n",
        "\n",
        "    def forward(self, x: np.ndarray) -> np.ndarray:\n",
        "        raise NotImplementedError\n",
        "        \n",
        "    def backward(self, x: np.ndarray, dy: np.ndarray) -> np.ndarray:\n",
        "        raise NotImplementedError\n",
        "        \n",
        "    def update(self, *args, **kwargs):\n",
        "        pass  # If a layer has no parameters, then this function does nothing"
      ],
      "execution_count": 5,
      "outputs": []
    },
    {
      "cell_type": "markdown",
      "metadata": {
        "id": "NIT6K4IduJuk",
        "colab_type": "text"
      },
      "source": [
        "### Rețeaua neurală\n",
        "\n",
        "  * în faza `forward` ieșirile stratului $l$ devin intrările stratului $l+1$: ${\\bf x}^{(l+1)} = {\\bf y}^{(l)}$\n",
        "  * în faza `backward` gradientul în raport cu intrările stratului $l+1$ devine gradientul în raport cu ieșirile stratului $l$: $\\frac{\\partial {\\cal L}}{\\partial {\\bf y}^{(l)}}=\\frac{\\partial {\\cal L}}{\\partial {\\bf x}^{(l+1)}}$\n",
        "  \n",
        "**[Cerința 0]** Completați metoda `backward` din clasa `FeedForwardNetwork`."
      ]
    },
    {
      "cell_type": "code",
      "metadata": {
        "id": "wTn-g3KAuJul",
        "colab_type": "code",
        "colab": {}
      },
      "source": [
        "class FeedForwardNetwork:\n",
        "    \n",
        "    def __init__(self, layers: List[Layer]):\n",
        "        self.layers = layers\n",
        "        \n",
        "    def forward(self, x: np.ndarray, train: bool = True) -> np.ndarray:\n",
        "        self._inputs = []\n",
        "        for layer in self.layers:\n",
        "            if train:\n",
        "                self._inputs.append(x)\n",
        "            x = layer.forward(x)\n",
        "        return x\n",
        "    \n",
        "    def backward(self, dy:np.ndarray) -> np.ndarray:\n",
        "        # TODO <0> : Compute the backward phase\n",
        "        dx = dy\n",
        "        for i in reversed(range(len(self.layers))):\n",
        "            dx = self.layers[i].backward(self._inputs[i], dx)\n",
        "\n",
        "        del self._inputs\n",
        "        return dx\n",
        "    \n",
        "    def update(self, *args, **kwargs):\n",
        "        for layer in self.layers:\n",
        "            layer.update(*args, **kwargs)"
      ],
      "execution_count": 6,
      "outputs": []
    },
    {
      "cell_type": "markdown",
      "metadata": {
        "id": "VyQLVM4quJup",
        "colab_type": "text"
      },
      "source": [
        "### Stratul linear\n",
        "\n",
        "Un strat linear cu $M$ intrări și $N$ ieșiri are parametrii $\\theta = \\left( {\\bf W}, {\\bf b} \\right)$ unde ${\\bf W} \\in \\mathbb{R}^{M \\times N}$ și ${\\bf b} \\in \\mathbb{R}^{N}$.\n",
        "\n",
        "Pentru un singur exemlu ${\\bf x} \\in {\\mathbb R}^{M}$:\n",
        "$$ {\\bf y} = {\\bf x}^{\\intercal}{\\bf W} + {\\bf b} $$\n",
        "\n",
        "**[Cerința 1]** Implementați metoda `forward` care primește un batch de exemple $X \\in {\\mathbb R}^{B\\times M}$ și întoarce ieșirile corespunzătoare: $Y \\in {\\mathbb R}^{B\\times N}$.\n",
        "\n",
        "**[Cerința 2]** Implementați metoda `backward` care primește un batch de exemple $X \\in {\\mathbb R}^{B\\times M}$ și gradientul în raport cu ieșirile $\\frac{\\partial {\\cal L}}{\\partial {\\bf Y}}$ și realizează două lucruri:\n",
        "  - calculează și salvează intern gradientul $\\frac{\\partial {\\cal L}}{\\partial {\\bf \\theta}}$\n",
        "  - calculează și întoarce gradientul $\\frac{\\partial {\\cal L}}{\\partial {\\bf X}}$\n",
        "  \n",
        "**[BONUS][Cerința 9]** Implementați strategia de optimizare SGD cu _momentum_ (în metoda `update`)."
      ]
    },
    {
      "cell_type": "code",
      "metadata": {
        "colab_type": "code",
        "id": "S47ZsyKdE7FF",
        "colab": {}
      },
      "source": [
        "class Linear(Layer):\n",
        "    def __init__(self, insize: int, outsize: int) -> None:\n",
        "        bound = np.sqrt(6. / insize)\n",
        "        self.weight = np.random.uniform(-bound, bound, (insize, outsize))\n",
        "        self.bias = np.zeros((outsize,))\n",
        "        \n",
        "        self.dweight = np.zeros_like(self.weight)\n",
        "        self.dbias = np.zeros_like(self.bias)\n",
        "\n",
        "\n",
        "    def forward(self, x: np.ndarray) -> np.ndarray:\n",
        "        # TODO <1> : compute the output of a linear layer\n",
        "        return x @ self.weight + self.bias\n",
        "    \n",
        "    def backward(self, x: np.ndarray, dy: np.ndarray) -> np.ndarray:\n",
        "        # TODO <2> : compute dweight, dbias and return dx\n",
        "        self.dweight = x.T @ dy\n",
        "        self.dbias = np.sum(dy, axis=0)\n",
        "\n",
        "        return dy @ self.weight.T\n",
        "    \n",
        "    def update(self, mode='SGD', lr=0.001, mu=0.9):\n",
        "        if mode == 'SGD':\n",
        "            self.weight -= lr * self.dweight\n",
        "            self.bias -= lr * self.dbias\n",
        "        elif mode == 'momentum':\n",
        "            # TODO <9>: implement momentum update\n",
        "            raise NotImplementedError\n",
        "        else:\n",
        "            raise ValueError('mode should be SGD or momentum, not ' + str(mode))"
      ],
      "execution_count": 7,
      "outputs": []
    },
    {
      "cell_type": "markdown",
      "metadata": {
        "id": "QgfHlVgDuJut",
        "colab_type": "text"
      },
      "source": [
        "### The Rectified Linear Unit\n",
        "\n",
        "Stratul ReLU aplică următoare următoare transformare neliniară element cu element:\n",
        "$$y = \\max\\left(x, 0\\right)$$\n",
        "\n",
        "**[Cerințele 3-4]** Implementați metodele `forward` și `backward` pentru un strat de activare ReLU."
      ]
    },
    {
      "cell_type": "code",
      "metadata": {
        "colab_type": "code",
        "id": "QOR1DJiwE7FJ",
        "colab": {}
      },
      "source": [
        "class ReLU(Layer):\n",
        "    def __init__(self) -> None:\n",
        "        pass\n",
        "    \n",
        "    def forward(self, x: np.ndarray) -> np.ndarray:\n",
        "        # TODO <3> : Compute the output of a rectified linear unit\n",
        "        return np.maximum(x, np.zeros(x.shape))\n",
        "    \n",
        "    def backward(self, x: np.ndarray, dy: np.ndarray) -> np.ndarray:\n",
        "        # TODO <4> : Compute the gradient w.r.t. x\n",
        "        dx = deepcopy(dy)\n",
        "        dx[x <= 0] = 0\n",
        "\n",
        "        return dx"
      ],
      "execution_count": 8,
      "outputs": []
    },
    {
      "cell_type": "markdown",
      "metadata": {
        "colab_type": "text",
        "id": "4NrWBTmbI9gW"
      },
      "source": [
        "## 3. Funcția de cost\n",
        "\n",
        "Funcția de cost pe care o vom folosi este _cross entropy_ care combină un _softmax_ și un cost _negative log-likelihood_. (Matematica la tablă)\n",
        "\n",
        "Dacă ${\\bf y}$ reprezintă ieșrile rețelei pentru o intrare ${\\bf x}$, atunci ${\\bf y}$ va avea o dimensiune egală cu numărul de clase $K$. Atunci probabilitatea (prezisă de rețea) ca exemplul ${\\bf x}$ să aparțină clasei $k$ va fi $p_k$:\n",
        "$$\n",
        "\\begin{align}\n",
        "p_k &= \\frac{e^{y_k}}{\\sum_j e^{y_j}} & & \\text{softmax} \\\\\n",
        "{\\cal L} &= -\\log p_t & & \\text{negative log-likelihood}\n",
        "\\end{align}\n",
        "$$\n",
        "\n",
        "\n",
        "Pentru un batch de dimensiune $B$ se va face media costurilor corespunzătare fiecărui exemplu ($p_k$ este o funcție de ${\\bf x}$ și ${\\bf \\theta}$):\n",
        "\n",
        "$$ {\\cal L} = \\frac{1}{B} \\sum_{({\\bf x}, {\\bf t}) \\in Batch} -\\log p_t \\left({\\bf x}, \\theta\\right) $$\n",
        "\n",
        "**[Cerințele 5-6]** Implementați metodele `forward` și `backward` pentru un funcția de cost _cross-entropy_ (o vom privi ca pe un strat suplimentar)."
      ]
    },
    {
      "cell_type": "code",
      "metadata": {
        "colab_type": "code",
        "id": "YDXiDEu8E7FW",
        "colab": {}
      },
      "source": [
        "class CrossEntropy:\n",
        "    def __init__(self):\n",
        "        pass\n",
        "\n",
        "    def _softmax(self, y, t):\n",
        "        e_t = np.exp([y[i][t[i]] for i in range(len(t))])\n",
        "        return e_t / np.exp(y).sum(axis=1)\n",
        "\n",
        "    def forward(self, y: np.ndarray, t: np.ndarray) -> float:\n",
        "        # TODO <5> : Compute the negative log likelihood\n",
        "        return -np.mean(np.log(self._softmax(y, t)))\n",
        "    \n",
        "    def backward(self, y: np.ndarray, t: np.ndarray) -> np.ndarray:\n",
        "        # TODO <6> : Compute dl/dy\n",
        "        raise NotImplementedError"
      ],
      "execution_count": 9,
      "outputs": []
    },
    {
      "cell_type": "markdown",
      "metadata": {
        "colab_type": "text",
        "id": "Uz9qM5eHJLNw"
      },
      "source": [
        "### Acuratețea\n",
        "\n",
        "**[Cerința 7]** Calculați acuratețea predicțiilor ${\\bf y}$ în raport cu clasele corecte ${\\bf t}$ (rația exemplelor pentru care clasa corectă a avut probabilitatea prezisă maximă)."
      ]
    },
    {
      "cell_type": "code",
      "metadata": {
        "colab_type": "code",
        "id": "3nYfVCBSE7Fe",
        "colab": {}
      },
      "source": [
        "from sklearn.metrics import accuracy_score\n",
        "\n",
        "def accuracy(y: np.ndarray, t: np.ndarray) -> float:\n",
        "    return accuracy_score(t, np.argmax(y))"
      ],
      "execution_count": 10,
      "outputs": []
    },
    {
      "cell_type": "markdown",
      "metadata": {
        "colab_type": "text",
        "id": "mIhtzd2gJQF2"
      },
      "source": [
        "## 4. Antrenarea rețelei neurale\n",
        "\n",
        "**[Cerința 8]** Completați codul de mai jos pentru a calcula gradientul funcției de cost pentru batchul ales și parametrii curenți ai rețelei. _Indiciu_: trebuie să apelați metodele `forward` și `backward` ale rețelei neurale și ale funcției de cost.\n",
        "\n",
        "**[BONUS]** Implementați optimizare cu _momentum_ (vezi TODO-ul numărul 9 din metoda `update`."
      ]
    },
    {
      "cell_type": "code",
      "metadata": {
        "colab_type": "code",
        "id": "HTbmZv3YE7Fs",
        "colab": {}
      },
      "source": [
        "BATCH_SIZE = 128\n",
        "HIDDEN_UNITS = 300\n",
        "EPOCHS_NO = 20\n",
        "\n",
        "optimize_args = {'mode': 'SGD', 'lr': .005}\n",
        "\n",
        "net = FeedForwardNetwork([Linear(784, HIDDEN_UNITS),\n",
        "                          ReLU(),\n",
        "                          Linear(HIDDEN_UNITS, 10)])\n",
        "cost_function = CrossEntropy()\n",
        "\n",
        "for epoch in range(EPOCHS_NO):\n",
        "    for b_no, idx in enumerate(range(0, len(train_imgs), BATCH_SIZE)):\n",
        "        # 1. Prepare next batch\n",
        "        x = train_imgs[idx:idx + BATCH_SIZE,:,:].reshape(-1, 784)\n",
        "        t = train_labels[idx:idx + BATCH_SIZE]\n",
        "        \n",
        "        # 2. Compute gradient\n",
        "        \n",
        "        # TODO <8> : Compute gradient\n",
        "        raise NotImplementedError\n",
        "        \n",
        "        # 3. Update network parameters\n",
        "        net.update(**optimize_args)\n",
        "        \n",
        "        print(f'\\rEpoch {epoch + 1:02d} '\n",
        "              f'| Batch {b_no:03d} '\n",
        "              f'| Train NLL: {loss:6.3f} '\n",
        "              f'| Train Acc: {accuracy(y, t) * 100:6.2f}% ', end='')\n",
        "\n",
        "    y = net.forward(test_imgs.reshape(-1, 784), train=False)\n",
        "    test_nll = cost_function.forward(y, test_labels)\n",
        "    print(f'| Test NLL: {test_nll:6.3f} '\n",
        "          f'| Test Acc: {accuracy(y, test_labels) * 100:3.2f}%')"
      ],
      "execution_count": 11,
      "outputs": [
        {
          "output_type": "error",
          "ename": "NotImplementedError",
          "evalue": "",
          "traceback": [
            "\u001b[0;31m---------------------------------------------------------------------------\u001b[0m",
            "\u001b[0;31mNotImplementedError\u001b[0m                       Traceback (most recent call last)",
            "\u001b[0;32m<ipython-input-11-682280e01e2f>\u001b[0m in \u001b[0;36m<module>\u001b[0;34m\u001b[0m\n\u001b[1;32m     19\u001b[0m \u001b[0;34m\u001b[0m\u001b[0m\n\u001b[1;32m     20\u001b[0m         \u001b[0;31m# TODO <8> : Compute gradient\u001b[0m\u001b[0;34m\u001b[0m\u001b[0;34m\u001b[0m\u001b[0;34m\u001b[0m\u001b[0m\n\u001b[0;32m---> 21\u001b[0;31m         \u001b[0;32mraise\u001b[0m \u001b[0mNotImplementedError\u001b[0m\u001b[0;34m\u001b[0m\u001b[0;34m\u001b[0m\u001b[0m\n\u001b[0m\u001b[1;32m     22\u001b[0m \u001b[0;34m\u001b[0m\u001b[0m\n\u001b[1;32m     23\u001b[0m         \u001b[0;31m# 3. Update network parameters\u001b[0m\u001b[0;34m\u001b[0m\u001b[0;34m\u001b[0m\u001b[0;34m\u001b[0m\u001b[0m\n",
            "\u001b[0;31mNotImplementedError\u001b[0m: "
          ]
        }
      ]
    },
    {
      "cell_type": "markdown",
      "metadata": {
        "id": "J7zGgHlduJvA",
        "colab_type": "text"
      },
      "source": [
        "## Teste\n",
        "\n",
        "Executați ```test0() and test16() and test7()``` pentru a rula testele."
      ]
    },
    {
      "cell_type": "code",
      "metadata": {
        "id": "-YaLsPBfuJvB",
        "colab_type": "code",
        "colab": {}
      },
      "source": [
        "def test0():\n",
        "    fakex = [np.random.randn(128, n) for n in [20, 40, 30, 10]]\n",
        "\n",
        "    class DummyLayer:\n",
        "        def __init__(self, idx):\n",
        "            self.idx = idx\n",
        "\n",
        "        def forward(self, x):\n",
        "            return fakex[self.idx + 1]\n",
        "\n",
        "        def backward(self, x, dldy):\n",
        "            if not np.allclose(x, fakex[self.idx]):\n",
        "                raise Exception(\"Intrări greșite în backward\")\n",
        "            if not np.allclose(dldy, -fakex[self.idx+1]):\n",
        "                raise Exception(\"Intrări greșite în backward\")\n",
        "            return -x\n",
        "\n",
        "    try:\n",
        "        net = FeedForwardNetwork([DummyLayer(i) for i in range(3)])\n",
        "        net.forward(fakex[0])\n",
        "        net.backward(-fakex[-1])\n",
        "        print(\"Cerința 0 rezolvată corect!\")\n",
        "        return True\n",
        "    except NotImplementedError as e:\n",
        "        print(\"Cerința 0 nu a fost implementată!\")\n",
        "    except Exception as e:\n",
        "        print(e)\n",
        "        print(\"Cerința 0 are erori.\")\n",
        "        \n",
        "    return False\n",
        "        \n",
        "def test16():\n",
        "    __x = np.array([[-3.0731, -1.9081, -0.7283, -0.0757, -0.7577],\n",
        "                    [ 2.4041, -1.1506, -0.5924,  1.3016,  1.0882],\n",
        "                    [-0.5254,  0.3519, -0.9633, -2.7393, -0.9745]])\n",
        "    __w = np.array([[ 1.3214, -0.5886, -0.0351,  1.2084,  1.2661, -0.9979, -0.1172],\n",
        "                    [-0.4022,  0.1168,  0.9020, -2.0098, -0.5409, -0.3876, -0.1719],\n",
        "                    [-1.1125, -0.5556,  0.8843,  0.6995,  0.4929,  0.7523,  0.1832],\n",
        "                    [ 0.2267,  0.6757,  1.1286, -0.3218,  1.6934, -0.1782, -0.3467],\n",
        "                    [-0.6062,  0.4426,  0.5090,  0.4772, -0.5721,  0.8658, -0.5999]])\n",
        "    __b = np.array([ 0.3335,  0.5051, -0.1393,  1.2116,  1.7836, -0.6597,  0.3553])\n",
        "    __y = np.array([[-1.70746622, 2.10919555, -2.8676804, 0.48630531, -1.1288499, 1.95609904, 1.39083457],\n",
        "                    [4.26749994, 0.64592254, 0.23749513, 6.11524068, 6.73936681, -2.34822291, -0.94127596],\n",
        "                    [0.5391161, -0.89159687, -4.24288533, -0.38789499, -3.62798139, -1.35206921, 1.71422657]])\n",
        "    \n",
        "    __dy = np.array([[ 1.5555, -0.8978, -0.2917, -0.3868, -0.8257, -0.3491, -0.8658],\n",
        "                     [ 1.1146,  1.4914,  0.9591, -0.2613,  0.5887,  0.4794,  0.8565],\n",
        "                     [-0.1552, -1.6319,  1.7642,  1.0503,  0.1035 , -0.7186, -0.9782]])\n",
        "    __dx = np.array([[ 1.53113221,  0.51455541, -2.588423,   -1.49460989, -0.98384103],\n",
        "                     [ 0.41215308,  0.46469672, -0.59552791,  3.04147235, -0.08763244],\n",
        "                     [ 2.92549149, -0.25707023,  2.70531668,  1.15769427,  0.67643021]])\n",
        "    __dw = np.array(\n",
        "        [[-2.01905511,  7.20190418,  2.2752849,   0.00865613,  3.89837344,  2.60289719, 5.23374791],\n",
        "         [-4.30512319, -0.57717827,  0.07387429,  1.40830543,  0.9345816,  -0.13835527, 0.3223155 ],\n",
        "         [-1.64365553,  1.34237165, -2.05517959, -0.57525343,  0.15290988,  0.66248035, 1.0654716 ],\n",
        "         [ 1.75815137,  6.47943337, -3.56222681, -3.18791411,  0.54523986,  2.61887489, 3.85994472],\n",
        "         [ 0.18554777,  3.89349109, -0.45449919, -1.01478565,  1.16539548,  1.48647185, 2.54131586]]\n",
        "    )\n",
        "    __db = np.array([ 2.5149, -1.0383,  2.4316,  0.4022, -0.1335, -0.5883, -0.9875])\n",
        "    \n",
        "    __y_relu = np.array([[0, 2.10919555, 0, 0.48630531, 0, 1.95609904, 1.39083457],\n",
        "                         [4.26749994, 0.64592254, 0.23749513, 6.11524068, 6.73936681, 0, 0],\n",
        "                         [0.5391161, 0, 0, 0, 0, 0, 1.71422657]])\n",
        "    __drelu = np.array([[0, -0.8978, 0, -0.3868, 0, -0.3491, -0.8658],\n",
        "                        [ 1.1146,  1.4914,  0.9591, -0.2613,  0.5887,  0,  0],\n",
        "                        [-0.1552, 0,  0,  0,  0 , 0, -0.9782]])\n",
        "    \n",
        "    __t = np.array([3, 1, 2])\n",
        "    __dl_dy = np.array(\n",
        "        [[ 2.80870645e-03,  1.27661957e-01,  8.80302096e-04, -3.08142112e-01,\n",
        "           5.00952130e-03,  1.09539948e-01,  6.22416775e-02],\n",
        "         [ 1.73238217e-02, -3.32870086e-01,  3.07917841e-04,  1.09927743e-01,\n",
        "           2.05192672e-01,  2.31991342e-05,  9.47329526e-05],\n",
        "         [ 6.60308812e-02,  1.57905168e-02, -3.32780047e-01,  2.61307149e-02,\n",
        "           1.02329216e-03,  9.96358772e-03,  2.13841054e-01]]\n",
        "    )\n",
        "\n",
        "\n",
        "    try:\n",
        "        lin = Linear(5, 7)\n",
        "        lin.weight = __w.copy()\n",
        "        lin.bias = __b.copy()\n",
        "        y = lin.forward(__x.copy())\n",
        "        if not np.allclose(y, __y):\n",
        "            raise Exception(\"Ieșiri greșite\")\n",
        "        print(\"Cerința 1 rezolvată corect!\")\n",
        "    except NotImplementedError as e:\n",
        "        print(\"Cerința 1 nu a fost implementată!\")\n",
        "        return False\n",
        "    except Exception as e:\n",
        "        print(e)\n",
        "        print(\"Cerința 1 are erori.\")\n",
        "        return False\n",
        "        \n",
        "    try:\n",
        "        dx = lin.backward(__x.copy(), __dy.copy())\n",
        "        if not np.allclose(dx, __dx):\n",
        "            raise ValueError(\"dL/dx greșit\")\n",
        "        if not np.allclose(lin.dweight, __dw):\n",
        "            raise ValueError(\"dL/dw greșit\")\n",
        "        if not np.allclose(lin.dbias, __db):\n",
        "            raise ValueError(\"dL/db greșit\")\n",
        "        print(\"Cerința 2 rezolvată corect!\")\n",
        "    except NotImplementedError as e:\n",
        "        print(\"Cerința 2 nu a fost implementată!\")\n",
        "        return False\n",
        "    except Exception as e:\n",
        "        print(e)\n",
        "        print(\"Cerința 2 are erori.\")\n",
        "        return False\n",
        "\n",
        "    try:\n",
        "        relu = ReLU()\n",
        "        y_relu = relu.forward(__y.copy())\n",
        "        if not np.allclose(y_relu, __y_relu):\n",
        "            raise ValueError(\"ReLU(x) greșit\")\n",
        "        print(\"Cerința 3 rezolvată corect!\")\n",
        "    except NotImplementedError as e:\n",
        "        print(\"Cerința 3 nu a fost implementată!\")\n",
        "        return False\n",
        "    except Exception as e:\n",
        "        print(e)\n",
        "        print(\"Cerința 3 are erori.\")\n",
        "        return False\n",
        "            \n",
        "    try:\n",
        "        relu = ReLU()\n",
        "        drelu = relu.backward(__y.copy(), __dy.copy())\n",
        "        if not np.allclose(drelu, __drelu):\n",
        "            raise ValueError(\"ReLU.backward greșit\")\n",
        "        print(\"Cerința 4 rezolvată corect!\")\n",
        "    except NotImplementedError as e:\n",
        "        print(\"Cerința 4 nu a fost implementată!\")\n",
        "        return False\n",
        "    except Exception as e:\n",
        "        print(e)\n",
        "        print(\"Cerința 4 are erori.\")\n",
        "        return False\n",
        "    \n",
        "    try:\n",
        "        ce = CrossEntropy()\n",
        "        loss = ce.forward(__y.copy(), __t.copy())\n",
        "        if np.abs(loss - 5.1874357237332545) > 1e-6:\n",
        "            raise ValueError(f\"Valoare greșită nll: {loss:f} în loc de 5.1874357237332545\")\n",
        "        print(\"Cerința 5 rezolvată corect!\")\n",
        "    except NotImplementedError as e:\n",
        "        print(\"Cerința 5 nu a fost implementată!\")\n",
        "        return False\n",
        "    except Exception as e:\n",
        "        print(e)\n",
        "        print(\"Cerința 5 are erori.\")\n",
        "        return False\n",
        "    \n",
        "    try:\n",
        "        ce = CrossEntropy()\n",
        "        dl_dy = ce.backward(__y.copy(), __t.copy())\n",
        "        if not np.allclose(dl_dy, __dl_dy) > 1e-6:\n",
        "            raise ValueError(f\"Valoare greșită pentru dNLL/dy\")\n",
        "        print(\"Cerința 6 rezolvată corect!\")\n",
        "    except NotImplementedError as e:\n",
        "        print(\"Cerința 6 nu a fost implementată!\")\n",
        "        return False\n",
        "    except Exception as e:\n",
        "        print(e)\n",
        "        print(\"Cerința 6 are erori.\")\n",
        "        return False\n",
        "    \n",
        "    return True\n",
        "\n",
        "def test7():  # Acuratețea\n",
        "    y = np.array([[ 0.6460014 , -0.05876393, -1.36496105, -0.07057596,  0.54938383],\n",
        "                  [-0.8033942 , -0.51753041,  0.92278036, -1.66303585, -0.36537512],\n",
        "                  [-1.3710599 ,  0.65598193, -0.75527154,  1.21609284,  0.08284123],\n",
        "                  [-1.24696857,  0.32676634,  0.09572539,  1.38316398, -0.14110726],\n",
        "                  [-2.01698315,  2.06123375, -1.68003675,  0.0504592 ,  0.04427597],\n",
        "                  [-0.8893451 ,  1.74695148, -0.29394473,  0.74203068, -0.75185261],\n",
        "                  [ 1.34126333, -0.5272606 ,  1.46458319,  1.59529987,  1.86884676],\n",
        "                  [-0.58987297,  1.10900165, -0.71208103,  0.20478154, -1.26693567],\n",
        "                  [-2.17730677, -1.36147532, -1.49679182,  0.24812177, -0.13368035],\n",
        "                  [-0.48730599,  1.31710647,  0.41765538,  1.19869192, -0.05301611],\n",
        "                  [-0.10655224, -0.21174034,  1.31548647, -0.57990281,  0.85868472],\n",
        "                  [-0.32055613, -2.17817118, -0.28488692,  1.62977524,  0.25150929],\n",
        "                  [ 0.07704727,  1.67710047,  1.83368441, -0.45456845, -0.74474969]])\n",
        "    t = np.array([0, 2, 3, 3, 1, 0, 1, 1, 2, 1, 2, 3, 2])\n",
        "    try:\n",
        "        acc = accuracy(y, t)\n",
        "        if np.abs(acc - 0.7692307692307693) > 1e-7:\n",
        "            raise ValueError(f\"{acc:f} != 10/13\")\n",
        "        print(f\"Cerința 7 rezolvată corect!\")\n",
        "    except NotImplementedError as e:\n",
        "        print(\"Cerința 7 nu a fost implementată!\")\n",
        "    except Exception as e:\n",
        "        print(e)\n",
        "        print(\"Cerința 7 are erori.\")\n",
        "    "
      ],
      "execution_count": 12,
      "outputs": []
    },
    {
      "cell_type": "code",
      "metadata": {
        "id": "nWQ2e7C4uJvD",
        "colab_type": "code",
        "colab": {}
      },
      "source": [
        "test0() and test16() and test7()"
      ],
      "execution_count": 13,
      "outputs": [
        {
          "output_type": "stream",
          "name": "stdout",
          "text": [
            "Cerința 0 rezolvată corect!\nCerința 1 rezolvată corect!\nCerința 2 rezolvată corect!\nCerința 3 rezolvată corect!\nCerința 4 rezolvată corect!\nCerința 5 rezolvată corect!\nCerința 6 nu a fost implementată!\n"
          ]
        },
        {
          "output_type": "execute_result",
          "data": {
            "text/plain": [
              "False"
            ]
          },
          "metadata": {},
          "execution_count": 13
        }
      ]
    }
  ]
}