{
  "nbformat": 4,
  "nbformat_minor": 0,
  "metadata": {
    "colab": {
      "name": "Laborator 8",
      "provenance": [],
      "collapsed_sections": [],
      "include_colab_link": true
    },
    "kernelspec": {
      "display_name": "Python 3",
      "language": "python",
      "name": "python3"
    },
    "language_info": {
      "codemirror_mode": {
        "name": "ipython",
        "version": 3
      },
      "file_extension": ".py",
      "mimetype": "text/x-python",
      "name": "python",
      "nbconvert_exporter": "python",
      "pygments_lexer": "ipython3",
      "version": "3.8.5"
    }
  },
  "cells": [
    {
      "cell_type": "markdown",
      "metadata": {
        "id": "view-in-github",
        "colab_type": "text"
      },
      "source": [
        "<a href=\"https://colab.research.google.com/github/cs-pub-ro/ML/blob/master/lab/lab8/Laborator_8.ipynb\" target=\"_parent\"><img src=\"https://colab.research.google.com/assets/colab-badge.svg\" alt=\"Open In Colab\"/></a>"
      ]
    },
    {
      "cell_type": "markdown",
      "metadata": {
        "colab_type": "text",
        "id": "tmaHAc_KHG_5"
      },
      "source": [
        "# Rețele neurale pentru clasificare imaginilor\n",
        "\n",
        "_Tudor Berariu, 2018_ (tudor.berariu@gmail.com)\n"
      ]
    },
    {
      "cell_type": "markdown",
      "metadata": {
        "id": "xKCKTWvsuJuF",
        "colab_type": "text"
      },
      "source": [
        "În cadrul acestui laborator veți implementa o rețea neurală pentru clasificarea imaginilor.\n",
        "Rețeaua va fi compusă din straturi lineare și activări de tip ReLU și un strat softmax înainte de ieșiri. Funcția de cost folosită va fi negative log likelihood. Pentru optimizarea acesteia se va folosi SGD (stochastic gradient descent)."
      ]
    },
    {
      "cell_type": "markdown",
      "metadata": {
        "colab_type": "text",
        "id": "zgNIWhzoHOIz"
      },
      "source": [
        "## 1. Setul de date MNIST\n",
        "\n",
        "Setul de date MNIST este compus din imagini de 28x28 pixeli reprezentând una dintre cele zece cifre 0-9.\n",
        "\n",
        "Decomentați mai jos comanda `!pip install mnist` pentru a instala pachetul `mnist`."
      ]
    },
    {
      "cell_type": "code",
      "metadata": {
        "colab_type": "code",
        "id": "dQiqJyO7E7Ek",
        "colab": {}
      },
      "source": [
        "!pip3 install mnist\n",
        "\n",
        "import mnist\n",
        "train_imgs = mnist.train_images()\n",
        "train_labels = mnist.train_labels()\n",
        "test_imgs = mnist.test_images()\n",
        "test_labels  = mnist.test_labels()"
      ],
      "execution_count": 1,
      "outputs": [
        {
          "output_type": "stream",
          "name": "stdout",
          "text": [
            "Requirement already satisfied: mnist in /home/teo/.local/lib/python3.8/site-packages (0.2.2)\nRequirement already satisfied: numpy in /home/teo/.local/lib/python3.8/site-packages (from mnist) (1.20.1)\n"
          ]
        }
      ]
    },
    {
      "cell_type": "markdown",
      "metadata": {
        "id": "ElGfqnPzuJuO",
        "colab_type": "text"
      },
      "source": [
        "### Exemple din setul de date MNIST"
      ]
    },
    {
      "cell_type": "code",
      "metadata": {
        "colab_type": "code",
        "id": "qeftJ_CpE7Eu",
        "colab": {}
      },
      "source": [
        "from copy import deepcopy\n",
        "from typing import List\n",
        "import numpy as np\n",
        "%matplotlib inline\n",
        "import matplotlib.pyplot as plt"
      ],
      "execution_count": 2,
      "outputs": []
    },
    {
      "cell_type": "code",
      "metadata": {
        "colab_type": "code",
        "id": "avJh9wQquJuU",
        "colab": {}
      },
      "source": [
        "idxs = np.random.randint(0, len(train_imgs), 15)\n",
        "imgs = np.concatenate(tuple(train_imgs[idx,:,:] for idx in idxs), axis=1)\n",
        "plt.imshow(imgs)\n",
        "print(\"Labels:\", train_labels[idxs])"
      ],
      "execution_count": 3,
      "outputs": [
        {
          "output_type": "stream",
          "name": "stdout",
          "text": [
            "Labels: [2 3 1 4 0 8 2 9 9 5 1 3 8 6 9]\n"
          ]
        },
        {
          "output_type": "display_data",
          "data": {
            "text/plain": "<Figure size 432x288 with 1 Axes>",
            "image/svg+xml": "<?xml version=\"1.0\" encoding=\"utf-8\" standalone=\"no\"?>\n<!DOCTYPE svg PUBLIC \"-//W3C//DTD SVG 1.1//EN\"\n  \"http://www.w3.org/Graphics/SVG/1.1/DTD/svg11.dtd\">\n<svg height=\"56.798772pt\" version=\"1.1\" viewBox=\"0 0 368.925 56.798772\" width=\"368.925pt\" xmlns=\"http://www.w3.org/2000/svg\" xmlns:xlink=\"http://www.w3.org/1999/xlink\">\n <metadata>\n  <rdf:RDF xmlns:cc=\"http://creativecommons.org/ns#\" xmlns:dc=\"http://purl.org/dc/elements/1.1/\" xmlns:rdf=\"http://www.w3.org/1999/02/22-rdf-syntax-ns#\">\n   <cc:Work>\n    <dc:type rdf:resource=\"http://purl.org/dc/dcmitype/StillImage\"/>\n    <dc:date>2021-05-11T23:37:50.993649</dc:date>\n    <dc:format>image/svg+xml</dc:format>\n    <dc:creator>\n     <cc:Agent>\n      <dc:title>Matplotlib v3.4.1, https://matplotlib.org/</dc:title>\n     </cc:Agent>\n    </dc:creator>\n   </cc:Work>\n  </rdf:RDF>\n </metadata>\n <defs>\n  <style type=\"text/css\">*{stroke-linecap:butt;stroke-linejoin:round;}</style>\n </defs>\n <g id=\"figure_1\">\n  <g id=\"patch_1\">\n   <path d=\"M -0 56.798772 \nL 368.925 56.798772 \nL 368.925 0 \nL -0 0 \nz\n\" style=\"fill:none;\"/>\n  </g>\n  <g id=\"axes_1\">\n   <g id=\"patch_2\">\n    <path d=\"M 26.925 32.920647 \nL 361.725 32.920647 \nL 361.725 10.600647 \nL 26.925 10.600647 \nz\n\" style=\"fill:#ffffff;\"/>\n   </g>\n   <g clip-path=\"url(#p966c850d88)\">\n    <image height=\"23\" id=\"image5c0c5c5211\" transform=\"scale(1 -1)translate(0 -23)\" width=\"335\" x=\"26.925\" xlink:href=\"data:image/png;base64,\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\" y=\"-9.920647\"/>\n   </g>\n   <g id=\"matplotlib.axis_1\">\n    <g id=\"xtick_1\">\n     <g id=\"line2d_1\">\n      <defs>\n       <path d=\"M 0 0 \nL 0 3.5 \n\" id=\"m2354c00b66\" style=\"stroke:#000000;stroke-width:0.8;\"/>\n      </defs>\n      <g>\n       <use style=\"stroke:#000000;stroke-width:0.8;\" x=\"27.323571\" xlink:href=\"#m2354c00b66\" y=\"32.920647\"/>\n      </g>\n     </g>\n     <g id=\"text_1\">\n      <!-- 0 -->\n      <g transform=\"translate(24.142321 47.519085)scale(0.1 -0.1)\">\n       <defs>\n        <path d=\"M 2034 4250 \nQ 1547 4250 1301 3770 \nQ 1056 3291 1056 2328 \nQ 1056 1369 1301 889 \nQ 1547 409 2034 409 \nQ 2525 409 2770 889 \nQ 3016 1369 3016 2328 \nQ 3016 3291 2770 3770 \nQ 2525 4250 2034 4250 \nz\nM 2034 4750 \nQ 2819 4750 3233 4129 \nQ 3647 3509 3647 2328 \nQ 3647 1150 3233 529 \nQ 2819 -91 2034 -91 \nQ 1250 -91 836 529 \nQ 422 1150 422 2328 \nQ 422 3509 836 4129 \nQ 1250 4750 2034 4750 \nz\n\" id=\"DejaVuSans-30\" transform=\"scale(0.015625)\"/>\n       </defs>\n       <use xlink:href=\"#DejaVuSans-30\"/>\n      </g>\n     </g>\n    </g>\n    <g id=\"xtick_2\">\n     <g id=\"line2d_2\">\n      <g>\n       <use style=\"stroke:#000000;stroke-width:0.8;\" x=\"67.180714\" xlink:href=\"#m2354c00b66\" y=\"32.920647\"/>\n      </g>\n     </g>\n     <g id=\"text_2\">\n      <!-- 50 -->\n      <g transform=\"translate(60.818214 47.519085)scale(0.1 -0.1)\">\n       <defs>\n        <path d=\"M 691 4666 \nL 3169 4666 \nL 3169 4134 \nL 1269 4134 \nL 1269 2991 \nQ 1406 3038 1543 3061 \nQ 1681 3084 1819 3084 \nQ 2600 3084 3056 2656 \nQ 3513 2228 3513 1497 \nQ 3513 744 3044 326 \nQ 2575 -91 1722 -91 \nQ 1428 -91 1123 -41 \nQ 819 9 494 109 \nL 494 744 \nQ 775 591 1075 516 \nQ 1375 441 1709 441 \nQ 2250 441 2565 725 \nQ 2881 1009 2881 1497 \nQ 2881 1984 2565 2268 \nQ 2250 2553 1709 2553 \nQ 1456 2553 1204 2497 \nQ 953 2441 691 2322 \nL 691 4666 \nz\n\" id=\"DejaVuSans-35\" transform=\"scale(0.015625)\"/>\n       </defs>\n       <use xlink:href=\"#DejaVuSans-35\"/>\n       <use x=\"63.623047\" xlink:href=\"#DejaVuSans-30\"/>\n      </g>\n     </g>\n    </g>\n    <g id=\"xtick_3\">\n     <g id=\"line2d_3\">\n      <g>\n       <use style=\"stroke:#000000;stroke-width:0.8;\" x=\"107.037857\" xlink:href=\"#m2354c00b66\" y=\"32.920647\"/>\n      </g>\n     </g>\n     <g id=\"text_3\">\n      <!-- 100 -->\n      <g transform=\"translate(97.494107 47.519085)scale(0.1 -0.1)\">\n       <defs>\n        <path d=\"M 794 531 \nL 1825 531 \nL 1825 4091 \nL 703 3866 \nL 703 4441 \nL 1819 4666 \nL 2450 4666 \nL 2450 531 \nL 3481 531 \nL 3481 0 \nL 794 0 \nL 794 531 \nz\n\" id=\"DejaVuSans-31\" transform=\"scale(0.015625)\"/>\n       </defs>\n       <use xlink:href=\"#DejaVuSans-31\"/>\n       <use x=\"63.623047\" xlink:href=\"#DejaVuSans-30\"/>\n       <use x=\"127.246094\" xlink:href=\"#DejaVuSans-30\"/>\n      </g>\n     </g>\n    </g>\n    <g id=\"xtick_4\">\n     <g id=\"line2d_4\">\n      <g>\n       <use style=\"stroke:#000000;stroke-width:0.8;\" x=\"146.895\" xlink:href=\"#m2354c00b66\" y=\"32.920647\"/>\n      </g>\n     </g>\n     <g id=\"text_4\">\n      <!-- 150 -->\n      <g transform=\"translate(137.35125 47.519085)scale(0.1 -0.1)\">\n       <use xlink:href=\"#DejaVuSans-31\"/>\n       <use x=\"63.623047\" xlink:href=\"#DejaVuSans-35\"/>\n       <use x=\"127.246094\" xlink:href=\"#DejaVuSans-30\"/>\n      </g>\n     </g>\n    </g>\n    <g id=\"xtick_5\">\n     <g id=\"line2d_5\">\n      <g>\n       <use style=\"stroke:#000000;stroke-width:0.8;\" x=\"186.752143\" xlink:href=\"#m2354c00b66\" y=\"32.920647\"/>\n      </g>\n     </g>\n     <g id=\"text_5\">\n      <!-- 200 -->\n      <g transform=\"translate(177.208393 47.519085)scale(0.1 -0.1)\">\n       <defs>\n        <path d=\"M 1228 531 \nL 3431 531 \nL 3431 0 \nL 469 0 \nL 469 531 \nQ 828 903 1448 1529 \nQ 2069 2156 2228 2338 \nQ 2531 2678 2651 2914 \nQ 2772 3150 2772 3378 \nQ 2772 3750 2511 3984 \nQ 2250 4219 1831 4219 \nQ 1534 4219 1204 4116 \nQ 875 4013 500 3803 \nL 500 4441 \nQ 881 4594 1212 4672 \nQ 1544 4750 1819 4750 \nQ 2544 4750 2975 4387 \nQ 3406 4025 3406 3419 \nQ 3406 3131 3298 2873 \nQ 3191 2616 2906 2266 \nQ 2828 2175 2409 1742 \nQ 1991 1309 1228 531 \nz\n\" id=\"DejaVuSans-32\" transform=\"scale(0.015625)\"/>\n       </defs>\n       <use xlink:href=\"#DejaVuSans-32\"/>\n       <use x=\"63.623047\" xlink:href=\"#DejaVuSans-30\"/>\n       <use x=\"127.246094\" xlink:href=\"#DejaVuSans-30\"/>\n      </g>\n     </g>\n    </g>\n    <g id=\"xtick_6\">\n     <g id=\"line2d_6\">\n      <g>\n       <use style=\"stroke:#000000;stroke-width:0.8;\" x=\"226.609286\" xlink:href=\"#m2354c00b66\" y=\"32.920647\"/>\n      </g>\n     </g>\n     <g id=\"text_6\">\n      <!-- 250 -->\n      <g transform=\"translate(217.065536 47.519085)scale(0.1 -0.1)\">\n       <use xlink:href=\"#DejaVuSans-32\"/>\n       <use x=\"63.623047\" xlink:href=\"#DejaVuSans-35\"/>\n       <use x=\"127.246094\" xlink:href=\"#DejaVuSans-30\"/>\n      </g>\n     </g>\n    </g>\n    <g id=\"xtick_7\">\n     <g id=\"line2d_7\">\n      <g>\n       <use style=\"stroke:#000000;stroke-width:0.8;\" x=\"266.466429\" xlink:href=\"#m2354c00b66\" y=\"32.920647\"/>\n      </g>\n     </g>\n     <g id=\"text_7\">\n      <!-- 300 -->\n      <g transform=\"translate(256.922679 47.519085)scale(0.1 -0.1)\">\n       <defs>\n        <path d=\"M 2597 2516 \nQ 3050 2419 3304 2112 \nQ 3559 1806 3559 1356 \nQ 3559 666 3084 287 \nQ 2609 -91 1734 -91 \nQ 1441 -91 1130 -33 \nQ 819 25 488 141 \nL 488 750 \nQ 750 597 1062 519 \nQ 1375 441 1716 441 \nQ 2309 441 2620 675 \nQ 2931 909 2931 1356 \nQ 2931 1769 2642 2001 \nQ 2353 2234 1838 2234 \nL 1294 2234 \nL 1294 2753 \nL 1863 2753 \nQ 2328 2753 2575 2939 \nQ 2822 3125 2822 3475 \nQ 2822 3834 2567 4026 \nQ 2313 4219 1838 4219 \nQ 1578 4219 1281 4162 \nQ 984 4106 628 3988 \nL 628 4550 \nQ 988 4650 1302 4700 \nQ 1616 4750 1894 4750 \nQ 2613 4750 3031 4423 \nQ 3450 4097 3450 3541 \nQ 3450 3153 3228 2886 \nQ 3006 2619 2597 2516 \nz\n\" id=\"DejaVuSans-33\" transform=\"scale(0.015625)\"/>\n       </defs>\n       <use xlink:href=\"#DejaVuSans-33\"/>\n       <use x=\"63.623047\" xlink:href=\"#DejaVuSans-30\"/>\n       <use x=\"127.246094\" xlink:href=\"#DejaVuSans-30\"/>\n      </g>\n     </g>\n    </g>\n    <g id=\"xtick_8\">\n     <g id=\"line2d_8\">\n      <g>\n       <use style=\"stroke:#000000;stroke-width:0.8;\" x=\"306.323571\" xlink:href=\"#m2354c00b66\" y=\"32.920647\"/>\n      </g>\n     </g>\n     <g id=\"text_8\">\n      <!-- 350 -->\n      <g transform=\"translate(296.779821 47.519085)scale(0.1 -0.1)\">\n       <use xlink:href=\"#DejaVuSans-33\"/>\n       <use x=\"63.623047\" xlink:href=\"#DejaVuSans-35\"/>\n       <use x=\"127.246094\" xlink:href=\"#DejaVuSans-30\"/>\n      </g>\n     </g>\n    </g>\n    <g id=\"xtick_9\">\n     <g id=\"line2d_9\">\n      <g>\n       <use style=\"stroke:#000000;stroke-width:0.8;\" x=\"346.180714\" xlink:href=\"#m2354c00b66\" y=\"32.920647\"/>\n      </g>\n     </g>\n     <g id=\"text_9\">\n      <!-- 400 -->\n      <g transform=\"translate(336.636964 47.519085)scale(0.1 -0.1)\">\n       <defs>\n        <path d=\"M 2419 4116 \nL 825 1625 \nL 2419 1625 \nL 2419 4116 \nz\nM 2253 4666 \nL 3047 4666 \nL 3047 1625 \nL 3713 1625 \nL 3713 1100 \nL 3047 1100 \nL 3047 0 \nL 2419 0 \nL 2419 1100 \nL 313 1100 \nL 313 1709 \nL 2253 4666 \nz\n\" id=\"DejaVuSans-34\" transform=\"scale(0.015625)\"/>\n       </defs>\n       <use xlink:href=\"#DejaVuSans-34\"/>\n       <use x=\"63.623047\" xlink:href=\"#DejaVuSans-30\"/>\n       <use x=\"127.246094\" xlink:href=\"#DejaVuSans-30\"/>\n      </g>\n     </g>\n    </g>\n   </g>\n   <g id=\"matplotlib.axis_2\">\n    <g id=\"ytick_1\">\n     <g id=\"line2d_10\">\n      <defs>\n       <path d=\"M 0 0 \nL -3.5 0 \n\" id=\"md542e27a52\" style=\"stroke:#000000;stroke-width:0.8;\"/>\n      </defs>\n      <g>\n       <use style=\"stroke:#000000;stroke-width:0.8;\" x=\"26.925\" xlink:href=\"#md542e27a52\" y=\"10.999219\"/>\n      </g>\n     </g>\n     <g id=\"text_10\">\n      <!-- 0 -->\n      <g transform=\"translate(13.5625 14.798438)scale(0.1 -0.1)\">\n       <use xlink:href=\"#DejaVuSans-30\"/>\n      </g>\n     </g>\n    </g>\n    <g id=\"ytick_2\">\n     <g id=\"line2d_11\">\n      <g>\n       <use style=\"stroke:#000000;stroke-width:0.8;\" x=\"26.925\" xlink:href=\"#md542e27a52\" y=\"30.92779\"/>\n      </g>\n     </g>\n     <g id=\"text_11\">\n      <!-- 25 -->\n      <g transform=\"translate(7.2 34.727009)scale(0.1 -0.1)\">\n       <use xlink:href=\"#DejaVuSans-32\"/>\n       <use x=\"63.623047\" xlink:href=\"#DejaVuSans-35\"/>\n      </g>\n     </g>\n    </g>\n   </g>\n   <g id=\"patch_3\">\n    <path d=\"M 26.925 32.920647 \nL 26.925 10.600647 \n\" style=\"fill:none;stroke:#000000;stroke-linecap:square;stroke-linejoin:miter;stroke-width:0.8;\"/>\n   </g>\n   <g id=\"patch_4\">\n    <path d=\"M 361.725 32.920647 \nL 361.725 10.600647 \n\" style=\"fill:none;stroke:#000000;stroke-linecap:square;stroke-linejoin:miter;stroke-width:0.8;\"/>\n   </g>\n   <g id=\"patch_5\">\n    <path d=\"M 26.925 32.920647 \nL 361.725 32.920647 \n\" style=\"fill:none;stroke:#000000;stroke-linecap:square;stroke-linejoin:miter;stroke-width:0.8;\"/>\n   </g>\n   <g id=\"patch_6\">\n    <path d=\"M 26.925 10.600647 \nL 361.725 10.600647 \n\" style=\"fill:none;stroke:#000000;stroke-linecap:square;stroke-linejoin:miter;stroke-width:0.8;\"/>\n   </g>\n  </g>\n </g>\n <defs>\n  <clipPath id=\"p966c850d88\">\n   <rect height=\"22.32\" width=\"334.8\" x=\"26.925\" y=\"10.600647\"/>\n  </clipPath>\n </defs>\n</svg>\n",
            "image/png": "[encoded data removed]"
          },
          "metadata": {
            "needs_background": "light"
          }
        }
      ]
    },
    {
      "cell_type": "markdown",
      "metadata": {
        "id": "KFP9QnUJuJuY",
        "colab_type": "text"
      },
      "source": [
        "### Standardizarea datelor\n",
        "\n",
        "Datele de intrare (imaginile) vor fi rescalate pentru a avea media zero și deviația standard 1."
      ]
    },
    {
      "cell_type": "code",
      "metadata": {
        "id": "wWmt4XVxuJuZ",
        "colab_type": "code",
        "colab": {}
      },
      "source": [
        "mean, std  = train_imgs.mean(), train_imgs.std()\n",
        "train_imgs = (train_imgs - mean) / std\n",
        "test_imgs = (test_imgs - mean) / std"
      ],
      "execution_count": 4,
      "outputs": []
    },
    {
      "cell_type": "markdown",
      "metadata": {
        "colab_type": "text",
        "id": "ZgERUA07IuSr"
      },
      "source": [
        "## 2. Construirea unei rețele de tip feed-forward"
      ]
    },
    {
      "cell_type": "markdown",
      "metadata": {
        "id": "BE-V6sONuJud",
        "colab_type": "text"
      },
      "source": [
        "### Notații\n",
        "  - dimensiunea datelor de intrare este $D = 28 * 28 = 784$, iar dimensiunea ieșirilor rețelei este $K=10$ (numărul de clase)\n",
        "  - rețeaua neurală va avea $L$ straturi\n",
        "  - $B$ va reprezenta dimensiunea batch-ului (numărul de exemple trecute în același timp prin rețea)\n",
        "  - Vom nota cu ${\\bf X} \\in {\\mathbb R}^{B \\times D}$ un batch de intrări $\\left\\lbrace {\\bf x}_0, {\\bf x}_1, \\dots {\\bf x}_B \\right\\rbrace$ și similar ${\\bf Y} \\in {\\mathbb R}^{B \\times K}$\n",
        "  - ${\\bf x}^{(l)}$ reprezintă intrările stratului $l$ (${\\bf x}^{(0)}$ va fi o imagine precum cele din setul MNIST de dimensiune $D$)\n",
        "  - ${\\bf y}^{(l)}$ reprezintă ieșirile stratului $l$ (${\\bf y}^{(L-1)}$ reprezintă ieșirile rețelei)\n",
        "  - ${\\bf \\theta}^{(l)}$ reprezintă parametrii stratului $l$\n",
        "  - ${\\cal L}$ reprezintă funcția de cost (_negative log likelihood_)\n",
        "  "
      ]
    },
    {
      "cell_type": "markdown",
      "metadata": {
        "id": "6YTu4tS8uJue",
        "colab_type": "text"
      },
      "source": [
        "### Straturile rețelei\n",
        "\n",
        "Unele straturi au parametri ce trebuie optimizați în timpul antrenării. Vom nota parametrii stratului $l$ cu $\\bf{\\theta}^{(l)}$.\n",
        "Fiecare strat pe care îl veți implementa va avea trei metode:\n",
        " - `forward` calculează și întoarce ${\\bf y}^{(l)} = f_l\\left({\\bf x}^{(l)}, {\\bf \\theta}^{(l)}\\right)$\n",
        " - `backward` primește $\\frac{\\partial {\\cal L}}{\\partial {\\bf y}^{(l)}}$, reține intern $\\frac{\\partial {\\cal L}}{\\partial {\\bf \\theta}^{(l)}}$ și întoarce $\\frac{\\partial {\\cal L}}{\\partial {\\bf x}^{(l)}}$\n",
        " - `update` modifică parametrii locali ${\\bf \\theta}^{(l)}$ folosing gradientul stocat $\\frac{\\partial{\\cal L}}{\\partial{\\bf \\theta}^{(l)}}$"
      ]
    },
    {
      "cell_type": "code",
      "metadata": {
        "id": "SW206j3euJuf",
        "colab_type": "code",
        "colab": {}
      },
      "source": [
        "class Layer:\n",
        "\n",
        "    def forward(self, x: np.ndarray) -> np.ndarray:\n",
        "        raise NotImplementedError\n",
        "        \n",
        "    def backward(self, x: np.ndarray, dy: np.ndarray) -> np.ndarray:\n",
        "        raise NotImplementedError\n",
        "        \n",
        "    def update(self, *args, **kwargs):\n",
        "        pass  # If a layer has no parameters, then this function does nothing"
      ],
      "execution_count": 5,
      "outputs": []
    },
    {
      "cell_type": "markdown",
      "metadata": {
        "id": "NIT6K4IduJuk",
        "colab_type": "text"
      },
      "source": [
        "### Rețeaua neurală\n",
        "\n",
        "  * în faza `forward` ieșirile stratului $l$ devin intrările stratului $l+1$: ${\\bf x}^{(l+1)} = {\\bf y}^{(l)}$\n",
        "  * în faza `backward` gradientul în raport cu intrările stratului $l+1$ devine gradientul în raport cu ieșirile stratului $l$: $\\frac{\\partial {\\cal L}}{\\partial {\\bf y}^{(l)}}=\\frac{\\partial {\\cal L}}{\\partial {\\bf x}^{(l+1)}}$\n",
        "  \n",
        "**[Cerința 0]** Completați metoda `backward` din clasa `FeedForwardNetwork`."
      ]
    },
    {
      "cell_type": "code",
      "metadata": {
        "id": "wTn-g3KAuJul",
        "colab_type": "code",
        "colab": {}
      },
      "source": [
        "class FeedForwardNetwork:\n",
        "    \n",
        "    def __init__(self, layers: List[Layer]):\n",
        "        self.layers = layers\n",
        "        \n",
        "    def forward(self, x: np.ndarray, train: bool = True) -> np.ndarray:\n",
        "        self._inputs = []\n",
        "        for layer in self.layers:\n",
        "            if train:\n",
        "                self._inputs.append(x)\n",
        "            x = layer.forward(x)\n",
        "        return x\n",
        "    \n",
        "    def backward(self, dy:np.ndarray) -> np.ndarray:\n",
        "        # TODO <0> : Compute the backward phase\n",
        "        dx = dy\n",
        "        for i in reversed(range(len(self.layers))):\n",
        "            dx = self.layers[i].backward(self._inputs[i], dx)\n",
        "\n",
        "        del self._inputs\n",
        "        return dx\n",
        "    \n",
        "    def update(self, *args, **kwargs):\n",
        "        for layer in self.layers:\n",
        "            layer.update(*args, **kwargs)"
      ],
      "execution_count": 6,
      "outputs": []
    },
    {
      "cell_type": "markdown",
      "metadata": {
        "id": "VyQLVM4quJup",
        "colab_type": "text"
      },
      "source": [
        "### Stratul linear\n",
        "\n",
        "Un strat linear cu $M$ intrări și $N$ ieșiri are parametrii $\\theta = \\left( {\\bf W}, {\\bf b} \\right)$ unde ${\\bf W} \\in \\mathbb{R}^{M \\times N}$ și ${\\bf b} \\in \\mathbb{R}^{N}$.\n",
        "\n",
        "Pentru un singur exemlu ${\\bf x} \\in {\\mathbb R}^{M}$:\n",
        "$$ {\\bf y} = {\\bf x}^{\\intercal}{\\bf W} + {\\bf b} $$\n",
        "\n",
        "**[Cerința 1]** Implementați metoda `forward` care primește un batch de exemple $X \\in {\\mathbb R}^{B\\times M}$ și întoarce ieșirile corespunzătoare: $Y \\in {\\mathbb R}^{B\\times N}$.\n",
        "\n",
        "**[Cerința 2]** Implementați metoda `backward` care primește un batch de exemple $X \\in {\\mathbb R}^{B\\times M}$ și gradientul în raport cu ieșirile $\\frac{\\partial {\\cal L}}{\\partial {\\bf Y}}$ și realizează două lucruri:\n",
        "  - calculează și salvează intern gradientul $\\frac{\\partial {\\cal L}}{\\partial {\\bf \\theta}}$\n",
        "  - calculează și întoarce gradientul $\\frac{\\partial {\\cal L}}{\\partial {\\bf X}}$\n",
        "  \n",
        "**[BONUS][Cerința 9]** Implementați strategia de optimizare SGD cu _momentum_ (în metoda `update`)."
      ]
    },
    {
      "cell_type": "code",
      "metadata": {
        "colab_type": "code",
        "id": "S47ZsyKdE7FF",
        "colab": {}
      },
      "source": [
        "class Linear(Layer):\n",
        "    def __init__(self, insize: int, outsize: int) -> None:\n",
        "        bound = np.sqrt(6. / insize)\n",
        "        self.weight = np.random.uniform(-bound, bound, (insize, outsize))\n",
        "        self.bias = np.zeros((outsize,))\n",
        "        \n",
        "        self.dweight = np.zeros_like(self.weight)\n",
        "        self.dbias = np.zeros_like(self.bias)\n",
        "\n",
        "        self.wv = 0\n",
        "        self.bv = 0\n",
        "\n",
        "\n",
        "    def forward(self, x: np.ndarray) -> np.ndarray:\n",
        "        # TODO <1> : compute the output of a linear layer\n",
        "        return x @ self.weight + self.bias\n",
        "    \n",
        "    def backward(self, x: np.ndarray, dy: np.ndarray) -> np.ndarray:\n",
        "        # TODO <2> : compute dweight, dbias and return dx\n",
        "        self.dweight = x.T @ dy\n",
        "        self.dbias = np.sum(dy, axis=0)\n",
        "\n",
        "        return dy @ self.weight.T\n",
        "    \n",
        "    def update(self, mode='SGD', lr=0.001, mu=0.9):\n",
        "        if mode == 'SGD':\n",
        "            self.weight -= lr * self.dweight\n",
        "            self.bias -= lr * self.dbias\n",
        "        elif mode == 'momentum':\n",
        "            # TODO <9>: implement momentum update\n",
        "            self.wv = mu * self.wv + lr * self.dweight\n",
        "            self.weight -= self.wv\n",
        "\n",
        "            self.bv = mu * self.bv + lr * self.dbias\n",
        "            self.bias -= self.bv\n",
        "        else:\n",
        "            raise ValueError('mode should be SGD or momentum, not ' + str(mode))"
      ],
      "execution_count": 7,
      "outputs": []
    },
    {
      "cell_type": "markdown",
      "metadata": {
        "id": "QgfHlVgDuJut",
        "colab_type": "text"
      },
      "source": [
        "### The Rectified Linear Unit\n",
        "\n",
        "Stratul ReLU aplică următoare următoare transformare neliniară element cu element:\n",
        "$$y = \\max\\left(x, 0\\right)$$\n",
        "\n",
        "**[Cerințele 3-4]** Implementați metodele `forward` și `backward` pentru un strat de activare ReLU."
      ]
    },
    {
      "cell_type": "code",
      "metadata": {
        "colab_type": "code",
        "id": "QOR1DJiwE7FJ",
        "colab": {}
      },
      "source": [
        "class ReLU(Layer):\n",
        "    def __init__(self) -> None:\n",
        "        pass\n",
        "    \n",
        "    def forward(self, x: np.ndarray) -> np.ndarray:\n",
        "        # TODO <3> : Compute the output of a rectified linear unit\n",
        "        return np.maximum(x, np.zeros(x.shape))\n",
        "    \n",
        "    def backward(self, x: np.ndarray, dy: np.ndarray) -> np.ndarray:\n",
        "        # TODO <4> : Compute the gradient w.r.t. x\n",
        "        dx = deepcopy(dy)\n",
        "        dx[x <= 0] = 0\n",
        "\n",
        "        return dx"
      ],
      "execution_count": 8,
      "outputs": []
    },
    {
      "cell_type": "markdown",
      "metadata": {
        "colab_type": "text",
        "id": "4NrWBTmbI9gW"
      },
      "source": [
        "## 3. Funcția de cost\n",
        "\n",
        "Funcția de cost pe care o vom folosi este _cross entropy_ care combină un _softmax_ și un cost _negative log-likelihood_. (Matematica la tablă)\n",
        "\n",
        "Dacă ${\\bf y}$ reprezintă ieșrile rețelei pentru o intrare ${\\bf x}$, atunci ${\\bf y}$ va avea o dimensiune egală cu numărul de clase $K$. Atunci probabilitatea (prezisă de rețea) ca exemplul ${\\bf x}$ să aparțină clasei $k$ va fi $p_k$:\n",
        "$$\n",
        "\\begin{align}\n",
        "p_k &= \\frac{e^{y_k}}{\\sum_j e^{y_j}} & & \\text{softmax} \\\\\n",
        "{\\cal L} &= -\\log p_t & & \\text{negative log-likelihood}\n",
        "\\end{align}\n",
        "$$\n",
        "\n",
        "\n",
        "Pentru un batch de dimensiune $B$ se va face media costurilor corespunzătare fiecărui exemplu ($p_k$ este o funcție de ${\\bf x}$ și ${\\bf \\theta}$):\n",
        "\n",
        "$$ {\\cal L} = \\frac{1}{B} \\sum_{({\\bf x}, {\\bf t}) \\in Batch} -\\log p_t \\left({\\bf x}, \\theta\\right) $$\n",
        "\n",
        "**[Cerințele 5-6]** Implementați metodele `forward` și `backward` pentru un funcția de cost _cross-entropy_ (o vom privi ca pe un strat suplimentar)."
      ]
    },
    {
      "cell_type": "code",
      "metadata": {
        "colab_type": "code",
        "id": "YDXiDEu8E7FW",
        "colab": {}
      },
      "source": [
        "class CrossEntropy:\n",
        "    def __init__(self):\n",
        "        pass\n",
        "\n",
        "    def _softmax(self, y, t):\n",
        "        e_t = np.exp([y[i][t[i]] for i in range(len(t))])\n",
        "        return e_t / np.exp(y).sum(axis=1)\n",
        "\n",
        "    def forward(self, y: np.ndarray, t: np.ndarray) -> float:\n",
        "        # TODO <5> : Compute the negative log likelihood\n",
        "        return -np.mean(np.log(self._softmax(y, t)))\n",
        "    \n",
        "    def backward(self, y: np.ndarray, t: np.ndarray) -> np.ndarray:\n",
        "        # TODO <6> : Compute dl/dy\n",
        "        diff = [[yj == y[i][t[i]] for yj in y[i]] for i in range(y.shape[0])]\n",
        "\n",
        "        return [[(np.exp(y[i][j]) / np.sum(np.exp(y[i])) - diff[i][j]) / y.shape[0]\\\n",
        "            for j in range(len(y[i]))] for i in range(len(y))]\n",
        "\n",
        "        return y"
      ],
      "execution_count": 9,
      "outputs": []
    },
    {
      "cell_type": "markdown",
      "metadata": {
        "colab_type": "text",
        "id": "Uz9qM5eHJLNw"
      },
      "source": [
        "### Acuratețea\n",
        "\n",
        "**[Cerința 7]** Calculați acuratețea predicțiilor ${\\bf y}$ în raport cu clasele corecte ${\\bf t}$ (rația exemplelor pentru care clasa corectă a avut probabilitatea prezisă maximă)."
      ]
    },
    {
      "cell_type": "code",
      "metadata": {
        "colab_type": "code",
        "id": "3nYfVCBSE7Fe",
        "colab": {}
      },
      "source": [
        "from sklearn.metrics import accuracy_score\n",
        "\n",
        "def accuracy(y: np.ndarray, t: np.ndarray) -> float:\n",
        "    return accuracy_score(t, np.argmax(y, axis=1))"
      ],
      "execution_count": 10,
      "outputs": []
    },
    {
      "cell_type": "markdown",
      "metadata": {
        "colab_type": "text",
        "id": "mIhtzd2gJQF2"
      },
      "source": [
        "## 4. Antrenarea rețelei neurale\n",
        "\n",
        "**[Cerința 8]** Completați codul de mai jos pentru a calcula gradientul funcției de cost pentru batchul ales și parametrii curenți ai rețelei. _Indiciu_: trebuie să apelați metodele `forward` și `backward` ale rețelei neurale și ale funcției de cost.\n",
        "\n",
        "**[BONUS]** Implementați optimizare cu _momentum_ (vezi TODO-ul numărul 9 din metoda `update`."
      ]
    },
    {
      "cell_type": "code",
      "metadata": {
        "colab_type": "code",
        "id": "HTbmZv3YE7Fs",
        "colab": {}
      },
      "source": [
        "BATCH_SIZE = 128\n",
        "HIDDEN_UNITS = 300\n",
        "EPOCHS_NO = 20\n",
        "\n",
        "optimize_args = {'mode': 'momentum', 'lr': .005}\n",
        "\n",
        "net = FeedForwardNetwork([Linear(784, HIDDEN_UNITS),\n",
        "                          ReLU(),\n",
        "                          Linear(HIDDEN_UNITS, 10)])\n",
        "cost_function = CrossEntropy()\n",
        "\n",
        "for epoch in range(EPOCHS_NO):\n",
        "    for b_no, idx in enumerate(range(0, len(train_imgs), BATCH_SIZE)):\n",
        "        # 1. Prepare next batch\n",
        "        x = train_imgs[idx:idx + BATCH_SIZE,:,:].reshape(-1, 784)\n",
        "        t = train_labels[idx:idx + BATCH_SIZE]\n",
        "        \n",
        "        # 2. Compute gradient\n",
        "        \n",
        "        # TODO <8> : Compute gradient\n",
        "        y = net.forward(x, True)\n",
        "        loss = cost_function.forward(y, t)\n",
        "        dy = cost_function.backward(y, t)\n",
        "        dx = net.backward(dy)\n",
        "        \n",
        "        # 3. Update network parameters\n",
        "        net.update(**optimize_args)\n",
        "        \n",
        "        print(f'\\rEpoch {epoch + 1:02d} '\n",
        "              f'| Batch {b_no:03d} '\n",
        "              f'| Train NLL: {loss:6.3f} '\n",
        "              f'| Train Acc: {accuracy(y, t) * 100:6.2f}% ', end='')\n",
        "\n",
        "    y = net.forward(test_imgs.reshape(-1, 784), train=False)\n",
        "    test_nll = cost_function.forward(y, test_labels)\n",
        "    print(f'| Test NLL: {test_nll:6.3f} '\n",
        "          f'| Test Acc: {accuracy(y, test_labels) * 100:3.2f}%')"
      ],
      "execution_count": 11,
      "outputs": [
        {
          "output_type": "stream",
          "name": "stdout",
          "text": [
            "Epoch 01 | Batch 468 | Train NLL:  0.264 | Train Acc:  96.88% | Test NLL:  0.210 | Test Acc: 93.64%\n",
            "Epoch 02 | Batch 468 | Train NLL:  0.208 | Train Acc:  97.92% | Test NLL:  0.154 | Test Acc: 95.35%\n",
            "Epoch 03 | Batch 468 | Train NLL:  0.185 | Train Acc:  98.96% | Test NLL:  0.129 | Test Acc: 96.04%\n",
            "Epoch 04 | Batch 468 | Train NLL:  0.171 | Train Acc:  98.96% | Test NLL:  0.115 | Test Acc: 96.53%\n",
            "Epoch 05 | Batch 468 | Train NLL:  0.160 | Train Acc:  98.96% | Test NLL:  0.106 | Test Acc: 96.77%\n",
            "Epoch 06 | Batch 468 | Train NLL:  0.152 | Train Acc:  98.96% | Test NLL:  0.099 | Test Acc: 96.88%\n",
            "Epoch 07 | Batch 468 | Train NLL:  0.145 | Train Acc:  98.96% | Test NLL:  0.094 | Test Acc: 97.09%\n",
            "Epoch 08 | Batch 468 | Train NLL:  0.139 | Train Acc:  98.96% | Test NLL:  0.090 | Test Acc: 97.18%\n",
            "Epoch 09 | Batch 468 | Train NLL:  0.133 | Train Acc:  98.96% | Test NLL:  0.087 | Test Acc: 97.26%\n",
            "Epoch 10 | Batch 468 | Train NLL:  0.127 | Train Acc:  98.96% | Test NLL:  0.084 | Test Acc: 97.40%\n",
            "Epoch 11 | Batch 468 | Train NLL:  0.121 | Train Acc:  98.96% | Test NLL:  0.082 | Test Acc: 97.47%\n",
            "Epoch 12 | Batch 468 | Train NLL:  0.116 | Train Acc:  98.96% | Test NLL:  0.080 | Test Acc: 97.55%\n",
            "Epoch 13 | Batch 468 | Train NLL:  0.109 | Train Acc:  98.96% | Test NLL:  0.078 | Test Acc: 97.57%\n",
            "Epoch 14 | Batch 468 | Train NLL:  0.104 | Train Acc:  98.96% | Test NLL:  0.077 | Test Acc: 97.67%\n",
            "Epoch 15 | Batch 468 | Train NLL:  0.098 | Train Acc:  98.96% | Test NLL:  0.076 | Test Acc: 97.70%\n",
            "Epoch 16 | Batch 468 | Train NLL:  0.092 | Train Acc:  98.96% | Test NLL:  0.074 | Test Acc: 97.73%\n",
            "Epoch 17 | Batch 468 | Train NLL:  0.087 | Train Acc:  98.96% | Test NLL:  0.073 | Test Acc: 97.77%\n",
            "Epoch 18 | Batch 468 | Train NLL:  0.082 | Train Acc:  98.96% | Test NLL:  0.072 | Test Acc: 97.81%\n",
            "Epoch 19 | Batch 468 | Train NLL:  0.076 | Train Acc:  98.96% | Test NLL:  0.072 | Test Acc: 97.80%\n",
            "Epoch 20 | Batch 468 | Train NLL:  0.071 | Train Acc:  98.96% | Test NLL:  0.071 | Test Acc: 97.81%\n"
          ]
        }
      ]
    },
    {
      "cell_type": "code",
      "execution_count": 11,
      "metadata": {},
      "outputs": [
        {
          "output_type": "stream",
          "name": "stdout",
          "text": [
            "Epoch 01 | Batch 468 | Train NLL:  0.552 | Train Acc:  85.42% | Test NLL:  0.409 | Test Acc: 87.99%\n",
            "Epoch 02 | Batch 468 | Train NLL:  0.439 | Train Acc:  89.58% | Test NLL:  0.327 | Test Acc: 90.51%\n",
            "Epoch 03 | Batch 468 | Train NLL:  0.389 | Train Acc:  91.67% | Test NLL:  0.290 | Test Acc: 91.57%\n",
            "Epoch 04 | Batch 468 | Train NLL:  0.359 | Train Acc:  91.67% | Test NLL:  0.266 | Test Acc: 92.29%\n",
            "Epoch 05 | Batch 468 | Train NLL:  0.337 | Train Acc:  91.67% | Test NLL:  0.249 | Test Acc: 92.69%\n",
            "Epoch 06 | Batch 468 | Train NLL:  0.320 | Train Acc:  91.67% | Test NLL:  0.235 | Test Acc: 93.09%\n",
            "Epoch 07 | Batch 468 | Train NLL:  0.306 | Train Acc:  91.67% | Test NLL:  0.224 | Test Acc: 93.42%\n",
            "Epoch 08 | Batch 468 | Train NLL:  0.294 | Train Acc:  91.67% | Test NLL:  0.214 | Test Acc: 93.75%\n",
            "Epoch 09 | Batch 468 | Train NLL:  0.283 | Train Acc:  92.71% | Test NLL:  0.206 | Test Acc: 93.93%\n",
            "Epoch 10 | Batch 468 | Train NLL:  0.274 | Train Acc:  93.75% | Test NLL:  0.198 | Test Acc: 94.18%\n",
            "Epoch 11 | Batch 468 | Train NLL:  0.265 | Train Acc:  93.75% | Test NLL:  0.192 | Test Acc: 94.38%\n",
            "Epoch 12 | Batch 468 | Train NLL:  0.258 | Train Acc:  93.75% | Test NLL:  0.185 | Test Acc: 94.60%\n",
            "Epoch 13 | Batch 468 | Train NLL:  0.251 | Train Acc:  93.75% | Test NLL:  0.180 | Test Acc: 94.79%\n",
            "Epoch 14 | Batch 468 | Train NLL:  0.245 | Train Acc:  94.79% | Test NLL:  0.175 | Test Acc: 94.89%\n",
            "Epoch 15 | Batch 468 | Train NLL:  0.239 | Train Acc:  94.79% | Test NLL:  0.170 | Test Acc: 95.05%\n",
            "Epoch 16 | Batch 468 | Train NLL:  0.234 | Train Acc:  95.83% | Test NLL:  0.165 | Test Acc: 95.13%\n",
            "Epoch 17 | Batch 468 | Train NLL:  0.229 | Train Acc:  95.83% | Test NLL:  0.161 | Test Acc: 95.24%\n",
            "Epoch 18 | Batch 468 | Train NLL:  0.224 | Train Acc:  95.83% | Test NLL:  0.157 | Test Acc: 95.30%\n",
            "Epoch 19 | Batch 468 | Train NLL:  0.219 | Train Acc:  95.83% | Test NLL:  0.154 | Test Acc: 95.47%\n",
            "Epoch 20 | Batch 468 | Train NLL:  0.215 | Train Acc:  95.83% | Test NLL:  0.150 | Test Acc: 95.61%\n"
          ]
        }
      ],
      "source": [
        "BATCH_SIZE = 128\n",
        "HIDDEN_UNITS = 300\n",
        "EPOCHS_NO = 20\n",
        "\n",
        "optimize_args = {'mode': 'SGD', 'lr': .005}\n",
        "\n",
        "net = FeedForwardNetwork([Linear(784, HIDDEN_UNITS),\n",
        "                          ReLU(),\n",
        "                          Linear(HIDDEN_UNITS, 10)])\n",
        "cost_function = CrossEntropy()\n",
        "\n",
        "for epoch in range(EPOCHS_NO):\n",
        "    for b_no, idx in enumerate(range(0, len(train_imgs), BATCH_SIZE)):\n",
        "        # 1. Prepare next batch\n",
        "        x = train_imgs[idx:idx + BATCH_SIZE,:,:].reshape(-1, 784)\n",
        "        t = train_labels[idx:idx + BATCH_SIZE]\n",
        "        \n",
        "        # 2. Compute gradient\n",
        "        \n",
        "        # TODO <8> : Compute gradient\n",
        "        y = net.forward(x, True)\n",
        "        loss = cost_function.forward(y, t)\n",
        "        dy = cost_function.backward(y, t)\n",
        "        dx = net.backward(dy)\n",
        "        \n",
        "        # 3. Update network parameters\n",
        "        net.update(**optimize_args)\n",
        "        \n",
        "        print(f'\\rEpoch {epoch + 1:02d} '\n",
        "              f'| Batch {b_no:03d} '\n",
        "              f'| Train NLL: {loss:6.3f} '\n",
        "              f'| Train Acc: {accuracy(y, t) * 100:6.2f}% ', end='')\n",
        "\n",
        "    y = net.forward(test_imgs.reshape(-1, 784), train=False)\n",
        "    test_nll = cost_function.forward(y, test_labels)\n",
        "    print(f'| Test NLL: {test_nll:6.3f} '\n",
        "          f'| Test Acc: {accuracy(y, test_labels) * 100:3.2f}%')"
      ]
    },
    {
      "cell_type": "markdown",
      "metadata": {
        "id": "J7zGgHlduJvA",
        "colab_type": "text"
      },
      "source": [
        "## Teste\n",
        "\n",
        "Executați ```test0() and test16() and test7()``` pentru a rula testele."
      ]
    },
    {
      "cell_type": "code",
      "metadata": {
        "id": "-YaLsPBfuJvB",
        "colab_type": "code",
        "colab": {}
      },
      "source": [
        "def test0():\n",
        "    fakex = [np.random.randn(128, n) for n in [20, 40, 30, 10]]\n",
        "\n",
        "    class DummyLayer:\n",
        "        def __init__(self, idx):\n",
        "            self.idx = idx\n",
        "\n",
        "        def forward(self, x):\n",
        "            return fakex[self.idx + 1]\n",
        "\n",
        "        def backward(self, x, dldy):\n",
        "            if not np.allclose(x, fakex[self.idx]):\n",
        "                raise Exception(\"Intrări greșite în backward\")\n",
        "            if not np.allclose(dldy, -fakex[self.idx+1]):\n",
        "                raise Exception(\"Intrări greșite în backward\")\n",
        "            return -x\n",
        "\n",
        "    try:\n",
        "        net = FeedForwardNetwork([DummyLayer(i) for i in range(3)])\n",
        "        net.forward(fakex[0])\n",
        "        net.backward(-fakex[-1])\n",
        "        print(\"Cerința 0 rezolvată corect!\")\n",
        "        return True\n",
        "    except NotImplementedError as e:\n",
        "        print(\"Cerința 0 nu a fost implementată!\")\n",
        "    except Exception as e:\n",
        "        print(e)\n",
        "        print(\"Cerința 0 are erori.\")\n",
        "        \n",
        "    return False\n",
        "        \n",
        "def test16():\n",
        "    __x = np.array([[-3.0731, -1.9081, -0.7283, -0.0757, -0.7577],\n",
        "                    [ 2.4041, -1.1506, -0.5924,  1.3016,  1.0882],\n",
        "                    [-0.5254,  0.3519, -0.9633, -2.7393, -0.9745]])\n",
        "    __w = np.array([[ 1.3214, -0.5886, -0.0351,  1.2084,  1.2661, -0.9979, -0.1172],\n",
        "                    [-0.4022,  0.1168,  0.9020, -2.0098, -0.5409, -0.3876, -0.1719],\n",
        "                    [-1.1125, -0.5556,  0.8843,  0.6995,  0.4929,  0.7523,  0.1832],\n",
        "                    [ 0.2267,  0.6757,  1.1286, -0.3218,  1.6934, -0.1782, -0.3467],\n",
        "                    [-0.6062,  0.4426,  0.5090,  0.4772, -0.5721,  0.8658, -0.5999]])\n",
        "    __b = np.array([ 0.3335,  0.5051, -0.1393,  1.2116,  1.7836, -0.6597,  0.3553])\n",
        "    __y = np.array([[-1.70746622, 2.10919555, -2.8676804, 0.48630531, -1.1288499, 1.95609904, 1.39083457],\n",
        "                    [4.26749994, 0.64592254, 0.23749513, 6.11524068, 6.73936681, -2.34822291, -0.94127596],\n",
        "                    [0.5391161, -0.89159687, -4.24288533, -0.38789499, -3.62798139, -1.35206921, 1.71422657]])\n",
        "    \n",
        "    __dy = np.array([[ 1.5555, -0.8978, -0.2917, -0.3868, -0.8257, -0.3491, -0.8658],\n",
        "                     [ 1.1146,  1.4914,  0.9591, -0.2613,  0.5887,  0.4794,  0.8565],\n",
        "                     [-0.1552, -1.6319,  1.7642,  1.0503,  0.1035 , -0.7186, -0.9782]])\n",
        "    __dx = np.array([[ 1.53113221,  0.51455541, -2.588423,   -1.49460989, -0.98384103],\n",
        "                     [ 0.41215308,  0.46469672, -0.59552791,  3.04147235, -0.08763244],\n",
        "                     [ 2.92549149, -0.25707023,  2.70531668,  1.15769427,  0.67643021]])\n",
        "    __dw = np.array(\n",
        "        [[-2.01905511,  7.20190418,  2.2752849,   0.00865613,  3.89837344,  2.60289719, 5.23374791],\n",
        "         [-4.30512319, -0.57717827,  0.07387429,  1.40830543,  0.9345816,  -0.13835527, 0.3223155 ],\n",
        "         [-1.64365553,  1.34237165, -2.05517959, -0.57525343,  0.15290988,  0.66248035, 1.0654716 ],\n",
        "         [ 1.75815137,  6.47943337, -3.56222681, -3.18791411,  0.54523986,  2.61887489, 3.85994472],\n",
        "         [ 0.18554777,  3.89349109, -0.45449919, -1.01478565,  1.16539548,  1.48647185, 2.54131586]]\n",
        "    )\n",
        "    __db = np.array([ 2.5149, -1.0383,  2.4316,  0.4022, -0.1335, -0.5883, -0.9875])\n",
        "    \n",
        "    __y_relu = np.array([[0, 2.10919555, 0, 0.48630531, 0, 1.95609904, 1.39083457],\n",
        "                         [4.26749994, 0.64592254, 0.23749513, 6.11524068, 6.73936681, 0, 0],\n",
        "                         [0.5391161, 0, 0, 0, 0, 0, 1.71422657]])\n",
        "    __drelu = np.array([[0, -0.8978, 0, -0.3868, 0, -0.3491, -0.8658],\n",
        "                        [ 1.1146,  1.4914,  0.9591, -0.2613,  0.5887,  0,  0],\n",
        "                        [-0.1552, 0,  0,  0,  0 , 0, -0.9782]])\n",
        "    \n",
        "    __t = np.array([3, 1, 2])\n",
        "    __dl_dy = np.array(\n",
        "        [[ 2.80870645e-03,  1.27661957e-01,  8.80302096e-04, -3.08142112e-01,\n",
        "           5.00952130e-03,  1.09539948e-01,  6.22416775e-02],\n",
        "         [ 1.73238217e-02, -3.32870086e-01,  3.07917841e-04,  1.09927743e-01,\n",
        "           2.05192672e-01,  2.31991342e-05,  9.47329526e-05],\n",
        "         [ 6.60308812e-02,  1.57905168e-02, -3.32780047e-01,  2.61307149e-02,\n",
        "           1.02329216e-03,  9.96358772e-03,  2.13841054e-01]]\n",
        "    )\n",
        "\n",
        "\n",
        "    try:\n",
        "        lin = Linear(5, 7)\n",
        "        lin.weight = __w.copy()\n",
        "        lin.bias = __b.copy()\n",
        "        y = lin.forward(__x.copy())\n",
        "        if not np.allclose(y, __y):\n",
        "            raise Exception(\"Ieșiri greșite\")\n",
        "        print(\"Cerința 1 rezolvată corect!\")\n",
        "    except NotImplementedError as e:\n",
        "        print(\"Cerința 1 nu a fost implementată!\")\n",
        "        return False\n",
        "    except Exception as e:\n",
        "        print(e)\n",
        "        print(\"Cerința 1 are erori.\")\n",
        "        return False\n",
        "        \n",
        "    try:\n",
        "        dx = lin.backward(__x.copy(), __dy.copy())\n",
        "        if not np.allclose(dx, __dx):\n",
        "            raise ValueError(\"dL/dx greșit\")\n",
        "        if not np.allclose(lin.dweight, __dw):\n",
        "            raise ValueError(\"dL/dw greșit\")\n",
        "        if not np.allclose(lin.dbias, __db):\n",
        "            raise ValueError(\"dL/db greșit\")\n",
        "        print(\"Cerința 2 rezolvată corect!\")\n",
        "    except NotImplementedError as e:\n",
        "        print(\"Cerința 2 nu a fost implementată!\")\n",
        "        return False\n",
        "    except Exception as e:\n",
        "        print(e)\n",
        "        print(\"Cerința 2 are erori.\")\n",
        "        return False\n",
        "\n",
        "    try:\n",
        "        relu = ReLU()\n",
        "        y_relu = relu.forward(__y.copy())\n",
        "        if not np.allclose(y_relu, __y_relu):\n",
        "            raise ValueError(\"ReLU(x) greșit\")\n",
        "        print(\"Cerința 3 rezolvată corect!\")\n",
        "    except NotImplementedError as e:\n",
        "        print(\"Cerința 3 nu a fost implementată!\")\n",
        "        return False\n",
        "    except Exception as e:\n",
        "        print(e)\n",
        "        print(\"Cerința 3 are erori.\")\n",
        "        return False\n",
        "            \n",
        "    try:\n",
        "        relu = ReLU()\n",
        "        drelu = relu.backward(__y.copy(), __dy.copy())\n",
        "        if not np.allclose(drelu, __drelu):\n",
        "            raise ValueError(\"ReLU.backward greșit\")\n",
        "        print(\"Cerința 4 rezolvată corect!\")\n",
        "    except NotImplementedError as e:\n",
        "        print(\"Cerința 4 nu a fost implementată!\")\n",
        "        return False\n",
        "    except Exception as e:\n",
        "        print(e)\n",
        "        print(\"Cerința 4 are erori.\")\n",
        "        return False\n",
        "    \n",
        "    try:\n",
        "        ce = CrossEntropy()\n",
        "        loss = ce.forward(__y.copy(), __t.copy())\n",
        "        if np.abs(loss - 5.1874357237332545) > 1e-6:\n",
        "            raise ValueError(f\"Valoare greșită nll: {loss:f} în loc de 5.1874357237332545\")\n",
        "        print(\"Cerința 5 rezolvată corect!\")\n",
        "    except NotImplementedError as e:\n",
        "        print(\"Cerința 5 nu a fost implementată!\")\n",
        "        return False\n",
        "    except Exception as e:\n",
        "        print(e)\n",
        "        print(\"Cerința 5 are erori.\")\n",
        "        return False\n",
        "    \n",
        "    try:\n",
        "        ce = CrossEntropy()\n",
        "        dl_dy = ce.backward(__y.copy(), __t.copy())\n",
        "        if not np.allclose(dl_dy, __dl_dy) > 1e-6:\n",
        "            raise ValueError(f\"Valoare greșită pentru dNLL/dy\")\n",
        "        print(\"Cerința 6 rezolvată corect!\")\n",
        "    except NotImplementedError as e:\n",
        "        print(\"Cerința 6 nu a fost implementată!\")\n",
        "        return False\n",
        "    except Exception as e:\n",
        "        print(e)\n",
        "        print(\"Cerința 6 are erori.\")\n",
        "        return False\n",
        "    \n",
        "    return True\n",
        "\n",
        "def test7():  # Acuratețea\n",
        "    y = np.array([[ 0.6460014 , -0.05876393, -1.36496105, -0.07057596,  0.54938383],\n",
        "                  [-0.8033942 , -0.51753041,  0.92278036, -1.66303585, -0.36537512],\n",
        "                  [-1.3710599 ,  0.65598193, -0.75527154,  1.21609284,  0.08284123],\n",
        "                  [-1.24696857,  0.32676634,  0.09572539,  1.38316398, -0.14110726],\n",
        "                  [-2.01698315,  2.06123375, -1.68003675,  0.0504592 ,  0.04427597],\n",
        "                  [-0.8893451 ,  1.74695148, -0.29394473,  0.74203068, -0.75185261],\n",
        "                  [ 1.34126333, -0.5272606 ,  1.46458319,  1.59529987,  1.86884676],\n",
        "                  [-0.58987297,  1.10900165, -0.71208103,  0.20478154, -1.26693567],\n",
        "                  [-2.17730677, -1.36147532, -1.49679182,  0.24812177, -0.13368035],\n",
        "                  [-0.48730599,  1.31710647,  0.41765538,  1.19869192, -0.05301611],\n",
        "                  [-0.10655224, -0.21174034,  1.31548647, -0.57990281,  0.85868472],\n",
        "                  [-0.32055613, -2.17817118, -0.28488692,  1.62977524,  0.25150929],\n",
        "                  [ 0.07704727,  1.67710047,  1.83368441, -0.45456845, -0.74474969]])\n",
        "    t = np.array([0, 2, 3, 3, 1, 0, 1, 1, 2, 1, 2, 3, 2])\n",
        "    try:\n",
        "        acc = accuracy(y, t)\n",
        "        if np.abs(acc - 0.7692307692307693) > 1e-7:\n",
        "            raise ValueError(f\"{acc:f} != 10/13\")\n",
        "        print(f\"Cerința 7 rezolvată corect!\")\n",
        "    except NotImplementedError as e:\n",
        "        print(\"Cerința 7 nu a fost implementată!\")\n",
        "    except Exception as e:\n",
        "        print(e)\n",
        "        print(\"Cerința 7 are erori.\")\n",
        "    "
      ],
      "execution_count": 12,
      "outputs": []
    },
    {
      "cell_type": "code",
      "metadata": {
        "id": "nWQ2e7C4uJvD",
        "colab_type": "code",
        "colab": {}
      },
      "source": [
        "test0() and test16() and test7()"
      ],
      "execution_count": 13,
      "outputs": [
        {
          "output_type": "stream",
          "name": "stdout",
          "text": [
            "Cerința 0 rezolvată corect!\nCerința 1 rezolvată corect!\nCerința 2 rezolvată corect!\nCerința 3 rezolvată corect!\nCerința 4 rezolvată corect!\nCerința 5 rezolvată corect!\nCerința 6 rezolvată corect!\nCerința 7 rezolvată corect!\n"
          ]
        }
      ]
    }
  ]
}