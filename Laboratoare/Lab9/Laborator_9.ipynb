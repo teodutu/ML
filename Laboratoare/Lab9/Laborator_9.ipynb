{
 "cells": [
  {
   "cell_type": "markdown",
   "metadata": {
    "colab_type": "text",
    "id": "view-in-github"
   },
   "source": [
    "<a href=\"https://colab.research.google.com/github/cs-pub-ro/ML/blob/master/lab/lab9/Laborator_9.ipynb\" target=\"_parent\"><img src=\"https://colab.research.google.com/assets/colab-badge.svg\" alt=\"Open In Colab\"/></a>"
   ]
  },
  {
   "cell_type": "markdown",
   "metadata": {
    "colab_type": "text",
    "id": "tmaHAc_KHG_5"
   },
   "source": [
    "# Rețele neurale pentru clasificare imaginilor\n",
    "\n",
    "_Tudor Berariu, 2018_ (tudor.berariu@gmail.com)\n"
   ]
  },
  {
   "cell_type": "markdown",
   "metadata": {
    "colab_type": "text",
    "id": "xKCKTWvsuJuF"
   },
   "source": [
    "În cadrul acestui laborator veți implementa o rețea neurală cu arhitectură convoluțională pentru clasificarea imaginilor.\n",
    "\n",
    "Rețeaua va fi compusă din straturi convoluționale, straturi de Pooling pentru reducerea dimensionalității și activări de tip ReLU.\n",
    "Rețeaua va avea straturi lineare la final și un strat softmax înainte de ieșiri. \n",
    "\n",
    "Funcția de cost folosită este negative log likelihood. Pentru optimizarea acesteia se va folosi SGD (stochastic gradient descent)."
   ]
  },
  {
   "cell_type": "markdown",
   "metadata": {},
   "source": [
    "## 0. Resurse teoretice\n",
    "\n",
    "* Citiți de aici despre straturile convoluțional și max pooling:\n",
    "http://cs231n.github.io/convolutional-networks/#conv\n",
    "\n",
    "* Citiți de aici despre cum se implementează eficient pașii de convoluție folosind funcția im2col din numpy:\n",
    "https://wiseodd.github.io/techblog/2016/07/16/convnet-conv-layer/\n"
   ]
  },
  {
   "cell_type": "markdown",
   "metadata": {
    "colab_type": "text",
    "id": "zgNIWhzoHOIz"
   },
   "source": [
    "## 1. Setul de date MNIST\n",
    "\n",
    "Setul de date MNIST este compus din imagini de 28x28 pixeli reprezentând una dintre cele zece cifre 0-9.\n",
    "\n",
    "Decomentați mai jos comanda `!pip install mnist` pentru a instala pachetul `mnist`."
   ]
  },
  {
   "cell_type": "code",
   "execution_count": 1,
   "metadata": {
    "colab": {},
    "colab_type": "code",
    "id": "dQiqJyO7E7Ek"
   },
   "outputs": [
    {
     "output_type": "stream",
     "name": "stdout",
     "text": [
      "Requirement already satisfied: mnist in /home/teo/.local/lib/python3.8/site-packages (0.2.2)\nRequirement already satisfied: numpy in /home/teo/.local/lib/python3.8/site-packages (from mnist) (1.20.1)\n"
     ]
    }
   ],
   "source": [
    "!pip install mnist\n",
    "\n",
    "import mnist\n",
    "train_imgs = mnist.train_images()\n",
    "train_labels = mnist.train_labels()\n",
    "test_imgs = mnist.test_images()\n",
    "test_labels  = mnist.test_labels()"
   ]
  },
  {
   "cell_type": "markdown",
   "metadata": {
    "colab_type": "text",
    "id": "ElGfqnPzuJuO"
   },
   "source": [
    "### Exemple din setul de date MNIST"
   ]
  },
  {
   "cell_type": "code",
   "execution_count": 2,
   "metadata": {
    "colab": {},
    "colab_type": "code",
    "id": "qeftJ_CpE7Eu"
   },
   "outputs": [],
   "source": [
    "from typing import List\n",
    "import numpy as np\n",
    "%matplotlib inline\n",
    "import matplotlib.pyplot as plt"
   ]
  },
  {
   "cell_type": "code",
   "execution_count": 3,
   "metadata": {
    "colab": {},
    "colab_type": "code",
    "id": "avJh9wQquJuU"
   },
   "outputs": [
    {
     "output_type": "stream",
     "name": "stdout",
     "text": [
      "Labels: [9 7 4 5 9 2 2 7 9 7 6 5 5 0 0]\n"
     ]
    },
    {
     "output_type": "display_data",
     "data": {
      "text/plain": "<Figure size 432x288 with 1 Axes>",
      "image/svg+xml": "<?xml version=\"1.0\" encoding=\"utf-8\" standalone=\"no\"?>\n<!DOCTYPE svg PUBLIC \"-//W3C//DTD SVG 1.1//EN\"\n  \"http://www.w3.org/Graphics/SVG/1.1/DTD/svg11.dtd\">\n<svg height=\"56.798772pt\" version=\"1.1\" viewBox=\"0 0 368.925 56.798772\" width=\"368.925pt\" xmlns=\"http://www.w3.org/2000/svg\" xmlns:xlink=\"http://www.w3.org/1999/xlink\">\n <metadata>\n  <rdf:RDF xmlns:cc=\"http://creativecommons.org/ns#\" xmlns:dc=\"http://purl.org/dc/elements/1.1/\" xmlns:rdf=\"http://www.w3.org/1999/02/22-rdf-syntax-ns#\">\n   <cc:Work>\n    <dc:type rdf:resource=\"http://purl.org/dc/dcmitype/StillImage\"/>\n    <dc:date>2021-05-11T15:31:58.529435</dc:date>\n    <dc:format>image/svg+xml</dc:format>\n    <dc:creator>\n     <cc:Agent>\n      <dc:title>Matplotlib v3.4.1, https://matplotlib.org/</dc:title>\n     </cc:Agent>\n    </dc:creator>\n   </cc:Work>\n  </rdf:RDF>\n </metadata>\n <defs>\n  <style type=\"text/css\">*{stroke-linecap:butt;stroke-linejoin:round;}</style>\n </defs>\n <g id=\"figure_1\">\n  <g id=\"patch_1\">\n   <path d=\"M -0 56.798772 \nL 368.925 56.798772 \nL 368.925 0 \nL -0 0 \nz\n\" style=\"fill:none;\"/>\n  </g>\n  <g id=\"axes_1\">\n   <g id=\"patch_2\">\n    <path d=\"M 26.925 32.920647 \nL 361.725 32.920647 \nL 361.725 10.600647 \nL 26.925 10.600647 \nz\n\" style=\"fill:#ffffff;\"/>\n   </g>\n   <g clip-path=\"url(#pf41867f773)\">\n    <image height=\"23\" id=\"image308de8e278\" transform=\"scale(1 -1)translate(0 -23)\" width=\"335\" x=\"26.925\" xlink:href=\"data:image/png;base64,\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\" y=\"-9.920647\"/>\n   </g>\n   <g id=\"matplotlib.axis_1\">\n    <g id=\"xtick_1\">\n     <g id=\"line2d_1\">\n      <defs>\n       <path d=\"M 0 0 \nL 0 3.5 \n\" id=\"m667893f119\" style=\"stroke:#000000;stroke-width:0.8;\"/>\n      </defs>\n      <g>\n       <use style=\"stroke:#000000;stroke-width:0.8;\" x=\"27.323571\" xlink:href=\"#m667893f119\" y=\"32.920647\"/>\n      </g>\n     </g>\n     <g id=\"text_1\">\n      <!-- 0 -->\n      <g transform=\"translate(24.142321 47.519085)scale(0.1 -0.1)\">\n       <defs>\n        <path d=\"M 2034 4250 \nQ 1547 4250 1301 3770 \nQ 1056 3291 1056 2328 \nQ 1056 1369 1301 889 \nQ 1547 409 2034 409 \nQ 2525 409 2770 889 \nQ 3016 1369 3016 2328 \nQ 3016 3291 2770 3770 \nQ 2525 4250 2034 4250 \nz\nM 2034 4750 \nQ 2819 4750 3233 4129 \nQ 3647 3509 3647 2328 \nQ 3647 1150 3233 529 \nQ 2819 -91 2034 -91 \nQ 1250 -91 836 529 \nQ 422 1150 422 2328 \nQ 422 3509 836 4129 \nQ 1250 4750 2034 4750 \nz\n\" id=\"DejaVuSans-30\" transform=\"scale(0.015625)\"/>\n       </defs>\n       <use xlink:href=\"#DejaVuSans-30\"/>\n      </g>\n     </g>\n    </g>\n    <g id=\"xtick_2\">\n     <g id=\"line2d_2\">\n      <g>\n       <use style=\"stroke:#000000;stroke-width:0.8;\" x=\"67.180714\" xlink:href=\"#m667893f119\" y=\"32.920647\"/>\n      </g>\n     </g>\n     <g id=\"text_2\">\n      <!-- 50 -->\n      <g transform=\"translate(60.818214 47.519085)scale(0.1 -0.1)\">\n       <defs>\n        <path d=\"M 691 4666 \nL 3169 4666 \nL 3169 4134 \nL 1269 4134 \nL 1269 2991 \nQ 1406 3038 1543 3061 \nQ 1681 3084 1819 3084 \nQ 2600 3084 3056 2656 \nQ 3513 2228 3513 1497 \nQ 3513 744 3044 326 \nQ 2575 -91 1722 -91 \nQ 1428 -91 1123 -41 \nQ 819 9 494 109 \nL 494 744 \nQ 775 591 1075 516 \nQ 1375 441 1709 441 \nQ 2250 441 2565 725 \nQ 2881 1009 2881 1497 \nQ 2881 1984 2565 2268 \nQ 2250 2553 1709 2553 \nQ 1456 2553 1204 2497 \nQ 953 2441 691 2322 \nL 691 4666 \nz\n\" id=\"DejaVuSans-35\" transform=\"scale(0.015625)\"/>\n       </defs>\n       <use xlink:href=\"#DejaVuSans-35\"/>\n       <use x=\"63.623047\" xlink:href=\"#DejaVuSans-30\"/>\n      </g>\n     </g>\n    </g>\n    <g id=\"xtick_3\">\n     <g id=\"line2d_3\">\n      <g>\n       <use style=\"stroke:#000000;stroke-width:0.8;\" x=\"107.037857\" xlink:href=\"#m667893f119\" y=\"32.920647\"/>\n      </g>\n     </g>\n     <g id=\"text_3\">\n      <!-- 100 -->\n      <g transform=\"translate(97.494107 47.519085)scale(0.1 -0.1)\">\n       <defs>\n        <path d=\"M 794 531 \nL 1825 531 \nL 1825 4091 \nL 703 3866 \nL 703 4441 \nL 1819 4666 \nL 2450 4666 \nL 2450 531 \nL 3481 531 \nL 3481 0 \nL 794 0 \nL 794 531 \nz\n\" id=\"DejaVuSans-31\" transform=\"scale(0.015625)\"/>\n       </defs>\n       <use xlink:href=\"#DejaVuSans-31\"/>\n       <use x=\"63.623047\" xlink:href=\"#DejaVuSans-30\"/>\n       <use x=\"127.246094\" xlink:href=\"#DejaVuSans-30\"/>\n      </g>\n     </g>\n    </g>\n    <g id=\"xtick_4\">\n     <g id=\"line2d_4\">\n      <g>\n       <use style=\"stroke:#000000;stroke-width:0.8;\" x=\"146.895\" xlink:href=\"#m667893f119\" y=\"32.920647\"/>\n      </g>\n     </g>\n     <g id=\"text_4\">\n      <!-- 150 -->\n      <g transform=\"translate(137.35125 47.519085)scale(0.1 -0.1)\">\n       <use xlink:href=\"#DejaVuSans-31\"/>\n       <use x=\"63.623047\" xlink:href=\"#DejaVuSans-35\"/>\n       <use x=\"127.246094\" xlink:href=\"#DejaVuSans-30\"/>\n      </g>\n     </g>\n    </g>\n    <g id=\"xtick_5\">\n     <g id=\"line2d_5\">\n      <g>\n       <use style=\"stroke:#000000;stroke-width:0.8;\" x=\"186.752143\" xlink:href=\"#m667893f119\" y=\"32.920647\"/>\n      </g>\n     </g>\n     <g id=\"text_5\">\n      <!-- 200 -->\n      <g transform=\"translate(177.208393 47.519085)scale(0.1 -0.1)\">\n       <defs>\n        <path d=\"M 1228 531 \nL 3431 531 \nL 3431 0 \nL 469 0 \nL 469 531 \nQ 828 903 1448 1529 \nQ 2069 2156 2228 2338 \nQ 2531 2678 2651 2914 \nQ 2772 3150 2772 3378 \nQ 2772 3750 2511 3984 \nQ 2250 4219 1831 4219 \nQ 1534 4219 1204 4116 \nQ 875 4013 500 3803 \nL 500 4441 \nQ 881 4594 1212 4672 \nQ 1544 4750 1819 4750 \nQ 2544 4750 2975 4387 \nQ 3406 4025 3406 3419 \nQ 3406 3131 3298 2873 \nQ 3191 2616 2906 2266 \nQ 2828 2175 2409 1742 \nQ 1991 1309 1228 531 \nz\n\" id=\"DejaVuSans-32\" transform=\"scale(0.015625)\"/>\n       </defs>\n       <use xlink:href=\"#DejaVuSans-32\"/>\n       <use x=\"63.623047\" xlink:href=\"#DejaVuSans-30\"/>\n       <use x=\"127.246094\" xlink:href=\"#DejaVuSans-30\"/>\n      </g>\n     </g>\n    </g>\n    <g id=\"xtick_6\">\n     <g id=\"line2d_6\">\n      <g>\n       <use style=\"stroke:#000000;stroke-width:0.8;\" x=\"226.609286\" xlink:href=\"#m667893f119\" y=\"32.920647\"/>\n      </g>\n     </g>\n     <g id=\"text_6\">\n      <!-- 250 -->\n      <g transform=\"translate(217.065536 47.519085)scale(0.1 -0.1)\">\n       <use xlink:href=\"#DejaVuSans-32\"/>\n       <use x=\"63.623047\" xlink:href=\"#DejaVuSans-35\"/>\n       <use x=\"127.246094\" xlink:href=\"#DejaVuSans-30\"/>\n      </g>\n     </g>\n    </g>\n    <g id=\"xtick_7\">\n     <g id=\"line2d_7\">\n      <g>\n       <use style=\"stroke:#000000;stroke-width:0.8;\" x=\"266.466429\" xlink:href=\"#m667893f119\" y=\"32.920647\"/>\n      </g>\n     </g>\n     <g id=\"text_7\">\n      <!-- 300 -->\n      <g transform=\"translate(256.922679 47.519085)scale(0.1 -0.1)\">\n       <defs>\n        <path d=\"M 2597 2516 \nQ 3050 2419 3304 2112 \nQ 3559 1806 3559 1356 \nQ 3559 666 3084 287 \nQ 2609 -91 1734 -91 \nQ 1441 -91 1130 -33 \nQ 819 25 488 141 \nL 488 750 \nQ 750 597 1062 519 \nQ 1375 441 1716 441 \nQ 2309 441 2620 675 \nQ 2931 909 2931 1356 \nQ 2931 1769 2642 2001 \nQ 2353 2234 1838 2234 \nL 1294 2234 \nL 1294 2753 \nL 1863 2753 \nQ 2328 2753 2575 2939 \nQ 2822 3125 2822 3475 \nQ 2822 3834 2567 4026 \nQ 2313 4219 1838 4219 \nQ 1578 4219 1281 4162 \nQ 984 4106 628 3988 \nL 628 4550 \nQ 988 4650 1302 4700 \nQ 1616 4750 1894 4750 \nQ 2613 4750 3031 4423 \nQ 3450 4097 3450 3541 \nQ 3450 3153 3228 2886 \nQ 3006 2619 2597 2516 \nz\n\" id=\"DejaVuSans-33\" transform=\"scale(0.015625)\"/>\n       </defs>\n       <use xlink:href=\"#DejaVuSans-33\"/>\n       <use x=\"63.623047\" xlink:href=\"#DejaVuSans-30\"/>\n       <use x=\"127.246094\" xlink:href=\"#DejaVuSans-30\"/>\n      </g>\n     </g>\n    </g>\n    <g id=\"xtick_8\">\n     <g id=\"line2d_8\">\n      <g>\n       <use style=\"stroke:#000000;stroke-width:0.8;\" x=\"306.323571\" xlink:href=\"#m667893f119\" y=\"32.920647\"/>\n      </g>\n     </g>\n     <g id=\"text_8\">\n      <!-- 350 -->\n      <g transform=\"translate(296.779821 47.519085)scale(0.1 -0.1)\">\n       <use xlink:href=\"#DejaVuSans-33\"/>\n       <use x=\"63.623047\" xlink:href=\"#DejaVuSans-35\"/>\n       <use x=\"127.246094\" xlink:href=\"#DejaVuSans-30\"/>\n      </g>\n     </g>\n    </g>\n    <g id=\"xtick_9\">\n     <g id=\"line2d_9\">\n      <g>\n       <use style=\"stroke:#000000;stroke-width:0.8;\" x=\"346.180714\" xlink:href=\"#m667893f119\" y=\"32.920647\"/>\n      </g>\n     </g>\n     <g id=\"text_9\">\n      <!-- 400 -->\n      <g transform=\"translate(336.636964 47.519085)scale(0.1 -0.1)\">\n       <defs>\n        <path d=\"M 2419 4116 \nL 825 1625 \nL 2419 1625 \nL 2419 4116 \nz\nM 2253 4666 \nL 3047 4666 \nL 3047 1625 \nL 3713 1625 \nL 3713 1100 \nL 3047 1100 \nL 3047 0 \nL 2419 0 \nL 2419 1100 \nL 313 1100 \nL 313 1709 \nL 2253 4666 \nz\n\" id=\"DejaVuSans-34\" transform=\"scale(0.015625)\"/>\n       </defs>\n       <use xlink:href=\"#DejaVuSans-34\"/>\n       <use x=\"63.623047\" xlink:href=\"#DejaVuSans-30\"/>\n       <use x=\"127.246094\" xlink:href=\"#DejaVuSans-30\"/>\n      </g>\n     </g>\n    </g>\n   </g>\n   <g id=\"matplotlib.axis_2\">\n    <g id=\"ytick_1\">\n     <g id=\"line2d_10\">\n      <defs>\n       <path d=\"M 0 0 \nL -3.5 0 \n\" id=\"m687aa64a12\" style=\"stroke:#000000;stroke-width:0.8;\"/>\n      </defs>\n      <g>\n       <use style=\"stroke:#000000;stroke-width:0.8;\" x=\"26.925\" xlink:href=\"#m687aa64a12\" y=\"10.999219\"/>\n      </g>\n     </g>\n     <g id=\"text_10\">\n      <!-- 0 -->\n      <g transform=\"translate(13.5625 14.798438)scale(0.1 -0.1)\">\n       <use xlink:href=\"#DejaVuSans-30\"/>\n      </g>\n     </g>\n    </g>\n    <g id=\"ytick_2\">\n     <g id=\"line2d_11\">\n      <g>\n       <use style=\"stroke:#000000;stroke-width:0.8;\" x=\"26.925\" xlink:href=\"#m687aa64a12\" y=\"30.92779\"/>\n      </g>\n     </g>\n     <g id=\"text_11\">\n      <!-- 25 -->\n      <g transform=\"translate(7.2 34.727009)scale(0.1 -0.1)\">\n       <use xlink:href=\"#DejaVuSans-32\"/>\n       <use x=\"63.623047\" xlink:href=\"#DejaVuSans-35\"/>\n      </g>\n     </g>\n    </g>\n   </g>\n   <g id=\"patch_3\">\n    <path d=\"M 26.925 32.920647 \nL 26.925 10.600647 \n\" style=\"fill:none;stroke:#000000;stroke-linecap:square;stroke-linejoin:miter;stroke-width:0.8;\"/>\n   </g>\n   <g id=\"patch_4\">\n    <path d=\"M 361.725 32.920647 \nL 361.725 10.600647 \n\" style=\"fill:none;stroke:#000000;stroke-linecap:square;stroke-linejoin:miter;stroke-width:0.8;\"/>\n   </g>\n   <g id=\"patch_5\">\n    <path d=\"M 26.925 32.920647 \nL 361.725 32.920647 \n\" style=\"fill:none;stroke:#000000;stroke-linecap:square;stroke-linejoin:miter;stroke-width:0.8;\"/>\n   </g>\n   <g id=\"patch_6\">\n    <path d=\"M 26.925 10.600647 \nL 361.725 10.600647 \n\" style=\"fill:none;stroke:#000000;stroke-linecap:square;stroke-linejoin:miter;stroke-width:0.8;\"/>\n   </g>\n  </g>\n </g>\n <defs>\n  <clipPath id=\"pf41867f773\">\n   <rect height=\"22.32\" width=\"334.8\" x=\"26.925\" y=\"10.600647\"/>\n  </clipPath>\n </defs>\n</svg>\n",
      "image/png": "[encoded data removed]"
     },
     "metadata": {
      "needs_background": "light"
     }
    }
   ],
   "source": [
    "idxs = np.random.randint(0, len(train_imgs), 15)\n",
    "imgs = np.concatenate(tuple(train_imgs[idx,:,:] for idx in idxs), axis=1)\n",
    "plt.imshow(imgs)\n",
    "print(\"Labels:\", train_labels[idxs])"
   ]
  },
  {
   "cell_type": "markdown",
   "metadata": {
    "colab_type": "text",
    "id": "KFP9QnUJuJuY"
   },
   "source": [
    "### Standardizarea datelor\n",
    "\n",
    "Datele de intrare (imaginile) vor fi rescalate pentru a avea media zero și deviația standard 1."
   ]
  },
  {
   "cell_type": "code",
   "execution_count": 4,
   "metadata": {
    "colab": {},
    "colab_type": "code",
    "id": "wWmt4XVxuJuZ"
   },
   "outputs": [],
   "source": [
    "mean, std  = train_imgs.mean(), train_imgs.std()\n",
    "train_imgs = (train_imgs - mean) / std\n",
    "test_imgs = (test_imgs - mean) / std"
   ]
  },
  {
   "cell_type": "markdown",
   "metadata": {
    "colab_type": "text",
    "id": "ZgERUA07IuSr"
   },
   "source": [
    "## 2. Construirea unei rețele de tip feed-forward"
   ]
  },
  {
   "cell_type": "markdown",
   "metadata": {
    "colab_type": "text",
    "id": "BE-V6sONuJud"
   },
   "source": [
    "### Notații\n",
    "  - dimensiunea datelor de intrare este $D = 28 * 28 = 784$, iar dimensiunea ieșirilor rețelei este $K=10$ (numărul de clase)\n",
    "  - rețeaua neurală va avea $L$ straturi\n",
    "  - $B$ va reprezenta dimensiunea batch-ului (numărul de exemple trecute în același timp prin rețea)\n",
    "  - Vom nota cu ${\\bf X} \\in {\\mathbb R}^{B \\times D}$ un batch de intrări $\\left\\lbrace {\\bf x}_0, {\\bf x}_1, \\dots {\\bf x}_B \\right\\rbrace$ și similar ${\\bf Y} \\in {\\mathbb R}^{B \\times K}$\n",
    "  - ${\\bf x}^{(l)}$ reprezintă intrările stratului $l$ (${\\bf x}^{(0)}$ va fi o imagine precum cele din setul MNIST de dimensiune $D$)\n",
    "  - ${\\bf y}^{(l)}$ reprezintă ieșirile stratului $l$ (${\\bf y}^{(L-1)}$ reprezintă ieșirile rețelei)\n",
    "  - ${\\bf \\theta}^{(l)}$ reprezintă parametrii stratului $l$\n",
    "  - ${\\cal L}$ reprezintă funcția de cost ( _negative log likelihood_ )\n",
    "  "
   ]
  },
  {
   "cell_type": "markdown",
   "metadata": {
    "colab_type": "text",
    "id": "6YTu4tS8uJue"
   },
   "source": [
    "### Straturile rețelei\n",
    "\n",
    "Unele straturi au parametri ce trebuie optimizați în timpul antrenării. Vom nota parametrii stratului $l$ cu $\\bf{\\theta}^{(l)}$.\n",
    "Fiecare strat pe care îl veți implementa va avea trei metode:\n",
    " - `forward` calculează și întoarce ${\\bf y}^{(l)} = f_l\\left({\\bf x}^{(l)}, {\\bf \\theta}^{(l)}\\right)$\n",
    " - `backward` primește $\\frac{\\partial {\\cal L}}{\\partial {\\bf y}^{(l)}}$, reține intern $\\frac{\\partial {\\cal L}}{\\partial {\\bf \\theta}^{(l)}}$ și întoarce $\\frac{\\partial {\\cal L}}{\\partial {\\bf x}^{(l)}}$\n",
    " - `update` modifică parametrii locali ${\\bf \\theta}^{(l)}$ folosing gradientul stocat $\\frac{\\partial{\\cal L}}{\\partial{\\bf \\theta}^{(l)}}$"
   ]
  },
  {
   "cell_type": "code",
   "execution_count": 5,
   "metadata": {
    "colab": {},
    "colab_type": "code",
    "id": "SW206j3euJuf"
   },
   "outputs": [],
   "source": [
    "class Layer:\n",
    "\n",
    "    def forward(self, x: np.ndarray) -> np.ndarray:\n",
    "        raise NotImplementedError\n",
    "        \n",
    "    def backward(self, x: np.ndarray, dy: np.ndarray) -> np.ndarray:\n",
    "        raise NotImplementedError\n",
    "        \n",
    "    def update(self, *args, **kwargs):\n",
    "        pass  # If a layer has no parameters, then this function does nothing"
   ]
  },
  {
   "cell_type": "markdown",
   "metadata": {
    "colab_type": "text",
    "id": "NIT6K4IduJuk"
   },
   "source": [
    "### Rețeaua neurală\n",
    "\n",
    "  * în faza `forward` ieșirile stratului $l$ devin intrările stratului $l+1$: ${\\bf x}^{(l+1)} = {\\bf y}^{(l)}$\n",
    "  * în faza `backward` gradientul în raport cu intrările stratului $l+1$ devine gradientul în raport cu ieșirile stratului $l$: $\\frac{\\partial {\\cal L}}{\\partial {\\bf y}^{(l)}}=\\frac{\\partial {\\cal L}}{\\partial {\\bf x}^{(l+1)}}$\n",
    "  \n",
    "Completați metoda `backward` din clasa `FeedForwardNetwork`."
   ]
  },
  {
   "cell_type": "code",
   "execution_count": 6,
   "metadata": {
    "colab": {},
    "colab_type": "code",
    "id": "wTn-g3KAuJul"
   },
   "outputs": [],
   "source": [
    "class FeedForwardNetwork:\n",
    "    \n",
    "    def __init__(self, layers: List[Layer]):\n",
    "        self.layers = layers\n",
    "        \n",
    "    def forward(self, x: np.ndarray, train: bool = True) -> np.ndarray:\n",
    "        self._inputs = []\n",
    "        for layer in self.layers:\n",
    "            if train:\n",
    "                self._inputs.append(x)\n",
    "            x = layer.forward(x)\n",
    "        return x\n",
    "    \n",
    "    def backward(self, dy:np.ndarray) -> np.ndarray:\n",
    "        # TODO <0> : Compute the backward phase\n",
    "        dx = dy\n",
    "        for i in reversed(range(len(self.layers))):\n",
    "            dx = self.layers[i].backward(self._inputs[i], dx)\n",
    "\n",
    "        del self._inputs\n",
    "        return dx\n",
    "    \n",
    "    def update(self, *args, **kwargs):\n",
    "        for layer in self.layers:\n",
    "            layer.update(*args, **kwargs)"
   ]
  },
  {
   "cell_type": "markdown",
   "metadata": {
    "colab_type": "text",
    "id": "VyQLVM4quJup"
   },
   "source": [
    "### Stratul linear\n",
    "\n",
    "Un strat linear cu $M$ intrări și $N$ ieșiri are parametrii $\\theta = \\left( {\\bf W}, {\\bf b} \\right)$ unde ${\\bf W} \\in \\mathbb{R}^{M \\times N}$ și ${\\bf b} \\in \\mathbb{R}^{N}$.\n",
    "\n",
    "Pentru un singur exemlu ${\\bf x} \\in {\\mathbb R}^{M}$:\n",
    "$$ {\\bf y} = {\\bf x}^{\\intercal}{\\bf W} + {\\bf b} $$\n",
    "\n",
    "Implementați metoda `forward` care primește un batch de exemple $X \\in {\\mathbb R}^{B\\times M}$ și întoarce ieșirile corespunzătoare: $Y \\in {\\mathbb R}^{B\\times N}$.\n",
    "\n",
    "Implementați metoda `backward` care primește un batch de exemple $X \\in {\\mathbb R}^{B\\times M}$ și gradientul în raport cu ieșirile $\\frac{\\partial {\\cal L}}{\\partial {\\bf Y}}$ și realizează două lucruri:\n",
    "  - calculează și salvează intern gradientul $\\frac{\\partial {\\cal L}}{\\partial {\\bf \\theta}}$\n",
    "  - calculează și întoarce gradientul $\\frac{\\partial {\\cal L}}{\\partial {\\bf X}}$\n",
    "  \n",
    "Implementați strategia de optimizare SGD cu _momentum_ (în metoda `update`)."
   ]
  },
  {
   "cell_type": "code",
   "execution_count": 7,
   "metadata": {
    "colab": {},
    "colab_type": "code",
    "id": "S47ZsyKdE7FF"
   },
   "outputs": [],
   "source": [
    "class Linear(Layer):\n",
    "    \n",
    "    def __init__(self, insize: int, outsize: int) -> None:\n",
    "        bound = np.sqrt(6. / insize)\n",
    "        self.weight = np.random.uniform(-bound, bound, (insize, outsize))\n",
    "        self.bias = np.zeros((outsize,))\n",
    "        \n",
    "        self.dweight = np.zeros_like(self.weight)\n",
    "        self.dbias = np.zeros_like(self.bias)\n",
    "\n",
    "        \n",
    "    def forward(self, x: np.ndarray) -> np.ndarray:\n",
    "        # compute the output of a linear layer\n",
    "        return x @ self.weight + self.bias\n",
    "    \n",
    "    def backward(self, x: np.ndarray, dy: np.ndarray) -> np.ndarray:\n",
    "        # compute dweight, dbias and  return dx\n",
    "        self.dweight = x.T @ dy\n",
    "        self.dbias = np.sum(dy, axis=0)\n",
    "\n",
    "        return dy @ self.weight.T\n",
    "    \n",
    "    def update(self, mode='SGD', lr=0.001, mu=0.9):\n",
    "        if mode == 'SGD':\n",
    "            self.weight -= lr * self.dweight\n",
    "            self.bias -= lr * self.dbias\n",
    "        elif mode == 'momentum':\n",
    "            # implement momentum update\n",
    "            self.wv = mu * self.wv + lr * self.dweight\n",
    "            self.weight -= self.wv\n",
    "\n",
    "            self.bv = mu * self.bv + lr * self.dbias\n",
    "            self.bias -= self.bv\n",
    "        else:\n",
    "            raise ValueError('mode should be SGD or momentum, not ' + str(mode))"
   ]
  },
  {
   "cell_type": "markdown",
   "metadata": {
    "colab_type": "text",
    "id": "QgfHlVgDuJut"
   },
   "source": [
    "### The Rectified Linear Unit\n",
    "\n",
    "Stratul ReLU aplică următoare următoare transformare neliniară element cu element:\n",
    "$$y = \\max\\left(x, 0\\right)$$\n",
    "\n",
    "Implementați metodele `forward` și `backward` pentru un strat de activare ReLU."
   ]
  },
  {
   "cell_type": "code",
   "execution_count": 8,
   "metadata": {
    "colab": {},
    "colab_type": "code",
    "id": "QOR1DJiwE7FJ"
   },
   "outputs": [],
   "source": [
    "class ReLU(Layer):\n",
    "    \n",
    "    def __init__(self) -> None:\n",
    "        pass\n",
    "    \n",
    "    def forward(self, x: np.ndarray) -> np.ndarray:\n",
    "        # TODO <3> : Compute the output of a rectified linear unit\n",
    "        return np.maximum(x, 0)\n",
    "    \n",
    "    def backward(self, x: np.ndarray, dy: np.ndarray) -> np.ndarray:\n",
    "        # TODO <4> : Compute the gradient w.r.t. x\n",
    "        return dy * (x > 0)"
   ]
  },
  {
   "cell_type": "markdown",
   "metadata": {},
   "source": [
    "### The Convolutional Layer\n",
    "\n",
    "**[Cerințele 9.1 - 9.2] (4p)** Implementați metodele `forward` și `backward` pentru un strat convolutional."
   ]
  },
  {
   "cell_type": "markdown",
   "metadata": {},
   "source": [
    "#### Im2Col auxiliries from [CS231n assignment](https://github.com/huyouare/CS231n/blob/master/assignment2/cs231n/im2col.py)"
   ]
  },
  {
   "cell_type": "code",
   "execution_count": 9,
   "metadata": {},
   "outputs": [],
   "source": [
    "def get_im2col_indices(x_shape, field_height, field_width, padding=1, stride=1):\n",
    "  # First figure out what the size of the output should be\n",
    "  N, C, H, W = x_shape\n",
    "  assert (H + 2 * padding - field_height) % stride == 0\n",
    "  assert (W + 2 * padding - field_height) % stride == 0\n",
    "  out_height = (H + 2 * padding - field_height) // stride + 1\n",
    "  out_width = (W + 2 * padding - field_width) // stride + 1\n",
    "\n",
    "  i0 = np.repeat(np.arange(field_height), field_width)\n",
    "  i0 = np.tile(i0, C)\n",
    "  i1 = stride * np.repeat(np.arange(out_height), out_width)\n",
    "  j0 = np.tile(np.arange(field_width), field_height * C)\n",
    "  j1 = stride * np.tile(np.arange(out_width), out_height)\n",
    "  i = i0.reshape(-1, 1) + i1.reshape(1, -1)\n",
    "  j = j0.reshape(-1, 1) + j1.reshape(1, -1)\n",
    "\n",
    "  k = np.repeat(np.arange(C), field_height * field_width).reshape(-1, 1)\n",
    "\n",
    "  return (k, i, j)\n",
    "\n",
    "\n",
    "def im2col_indices(x, field_height, field_width, padding=1, stride=1):\n",
    "  \"\"\" An implementation of im2col based on some fancy indexing \"\"\"\n",
    "  # Zero-pad the input\n",
    "  p = padding\n",
    "  x_padded = np.pad(x, ((0, 0), (0, 0), (p, p), (p, p)), mode='constant')\n",
    "\n",
    "  k, i, j = get_im2col_indices(x.shape, field_height, field_width, padding,\n",
    "                               stride)\n",
    "\n",
    "  cols = x_padded[:, k, i, j]\n",
    "  C = x.shape[1]\n",
    "  cols = cols.transpose(1, 2, 0).reshape(field_height * field_width * C, -1)\n",
    "  return cols\n",
    "\n",
    "\n",
    "def col2im_indices(cols, x_shape, field_height=3, field_width=3, padding=1,\n",
    "                   stride=1):\n",
    "  \"\"\" An implementation of col2im based on fancy indexing and np.add.at \"\"\"\n",
    "  N, C, H, W = x_shape\n",
    "  H_padded, W_padded = H + 2 * padding, W + 2 * padding\n",
    "  x_padded = np.zeros((N, C, H_padded, W_padded), dtype=cols.dtype)\n",
    "  k, i, j = get_im2col_indices(x_shape, field_height, field_width, padding,\n",
    "                               stride)\n",
    "  cols_reshaped = cols.reshape(C * field_height * field_width, -1, N)\n",
    "  cols_reshaped = cols_reshaped.transpose(2, 0, 1)\n",
    "  np.add.at(x_padded, (slice(None), k, i, j), cols_reshaped)\n",
    "  if padding == 0:\n",
    "    return x_padded\n",
    "  return x_padded[:, :, padding:-padding, padding:-padding]"
   ]
  },
  {
   "cell_type": "markdown",
   "metadata": {},
   "source": [
    "#### Convolutional Layer implementation"
   ]
  },
  {
   "cell_type": "code",
   "execution_count": 10,
   "metadata": {},
   "outputs": [
    {
     "output_type": "stream",
     "name": "stderr",
     "text": [
      "<>:34: SyntaxWarning: assertion is always true, perhaps remove parentheses?\n<>:55: SyntaxWarning: assertion is always true, perhaps remove parentheses?\n<>:34: SyntaxWarning: assertion is always true, perhaps remove parentheses?\n<>:55: SyntaxWarning: assertion is always true, perhaps remove parentheses?\n<ipython-input-10-e5606fc4b199>:34: SyntaxWarning: assertion is always true, perhaps remove parentheses?\n  assert (dd, hh, ww == self.inputs_depth, self.inputs_height, self.inputs_width)\n<ipython-input-10-e5606fc4b199>:55: SyntaxWarning: assertion is always true, perhaps remove parentheses?\n  assert (output_errors.shape == batch_size, self.outputs_depth, self.outputs_height, self.outputs_width)\n"
     ]
    }
   ],
   "source": [
    "class ConvolutionalLayer(Layer):\n",
    "    def __init__(self, inputs_depth: int, inputs_height: int, inputs_width: int, outputs_depth: int, k: int, stride: int):\n",
    "        # Number of inputs, number of outputs, filter size, stride\n",
    "\n",
    "        self.inputs_depth = inputs_depth\n",
    "        self.inputs_height = inputs_height\n",
    "        self.inputs_width = inputs_width\n",
    "\n",
    "        self.k = k\n",
    "        self.stride = stride\n",
    "\n",
    "        self.outputs_depth = outputs_depth\n",
    "        self.outputs_height = int((self.inputs_height - self.k) / self.stride + 1)\n",
    "        self.outputs_width = int((self.inputs_width - self.k) / self.stride + 1)\n",
    "\n",
    "        # Layer's parameters\n",
    "        self.weights = np.random.normal(\n",
    "            0,\n",
    "            np.sqrt(2.0 / float(self.outputs_depth + self.inputs_depth + self.k + self.k)),\n",
    "            (self.outputs_depth, self.inputs_depth, self.k, self.k)\n",
    "        )\n",
    "        self.biases = np.random.normal(\n",
    "            0,\n",
    "            np.sqrt(2.0 / float(self.outputs_depth + 1)),\n",
    "            (self.outputs_depth, 1)\n",
    "        )\n",
    "\n",
    "        # Gradients\n",
    "        self.g_weights = np.zeros(self.weights.shape)\n",
    "        self.g_biases = np.zeros(self.biases.shape)\n",
    "\n",
    "    def forward(self, inputs: np.ndarray) -> np.ndarray:\n",
    "        batch_size, dd, hh, ww = inputs.shape\n",
    "        assert (dd, hh, ww == self.inputs_depth, self.inputs_height, self.inputs_width)\n",
    "\n",
    "        # Computed values\n",
    "        outputs = np.zeros((batch_size, self.outputs_depth, self.outputs_height, self.outputs_width))\n",
    "\n",
    "        # TODO (9.1)\n",
    "        # -> compute outputs\n",
    "        inputs_col = im2col_indices(inputs, self.weights.shape[2], self.weights.shape[3], 0, self.stride)\n",
    "        w_col = self.weights.reshape((self.weights.shape[0], -1))\n",
    "        b_col = self.biases.reshape(-1, 1)\n",
    "        outputs = w_col @ inputs_col + b_col\n",
    "\n",
    "        outputs = outputs.reshape(self.outputs_depth, self.outputs_height, self.outputs_width, batch_size)\n",
    "\n",
    "        outputs = outputs.transpose(3, 0, 1, 2)\n",
    "\n",
    "        return outputs\n",
    "\n",
    "\n",
    "    def backward(self, inputs: np.ndarray, output_errors: np.ndarray) -> np.ndarray:\n",
    "        batch_size, dd, hh, ww = inputs.shape\n",
    "        assert (output_errors.shape == batch_size, self.outputs_depth, self.outputs_height, self.outputs_width)\n",
    "\n",
    "        # TODO (9.2.i)\n",
    "        # Compute the gradients w.r.t. the bias terms (self.g_biases)\n",
    "        self.g_biases = np.sum(output_errors, axis=(0, 2, 3)).reshape((self.weights.shape[0], -1))\n",
    "        \n",
    "        # TODO (9.2.ii)\n",
    "        # Compute the gradients w.r.t. the weights (self.g_weights)\n",
    "        inputs_col = im2col_indices(inputs, self.weights.shape[2], self.weights.shape[3], 0, self.stride)\n",
    "        dout_reshaped = output_errors.transpose(1, 2, 3, 0).reshape(self.weights.shape[0], -1)\n",
    "        self.g_weights = (dout_reshaped @ inputs_col.T).reshape(self.weights.shape)\n",
    "\n",
    "        # TODO (9.2.iii)\n",
    "        # Compute and return the gradients w.r.t the inputs of this layer\n",
    "        # return these gradients\n",
    "        dx_cols = self.weights.reshape(self.weights.shape[0], -1).T @ dout_reshaped\n",
    "        dx = col2im_indices(dx_cols, inputs.shape, self.k, self.k, 0, self.stride)\n",
    "\n",
    "        return dx\n",
    "\n",
    "\n",
    "    def update_parameters(self, mode='SGD', lr=0.001, mu=0.9):\n",
    "        if mode == 'SGD':\n",
    "            self.weights -= lr * self.g_weights\n",
    "            self.biases -= lr * self.g_biases\n",
    "        elif mode == 'momentum':\n",
    "            # implement/reuse momentum update from Lab 8\n",
    "            raise NotImplementedError\n",
    "        else:\n",
    "            raise ValueError('mode should be SGD or momentum, not ' + str(mode))\n",
    "\n",
    "    def to_string(self):\n",
    "        return \"[C ((%s, %s, %s) -> (%s, %s ) -> (%s, %s, %s)]\" % (\n",
    "            self.inputs_depth, self.inputs_height, self.inputs_width, self.k, self.stride, self.outputs_depth,\n",
    "            self.outputs_height, self.outputs_width)\n"
   ]
  },
  {
   "cell_type": "markdown",
   "metadata": {},
   "source": [
    "### The Max Pooling Layer\n",
    "\n",
    "**[Cerința 9.3] (2p)** Implementați metodele `forward` și `backward` pentru un strat de tip Max Pooling."
   ]
  },
  {
   "cell_type": "code",
   "execution_count": 11,
   "metadata": {},
   "outputs": [],
   "source": [
    "class MaxPoolingLayer(Layer):\n",
    "\n",
    "    def __init__(self, size: int = 2, stride: int = 2):\n",
    "        # Dimensions: stride\n",
    "        self.size = size\n",
    "        self.stride = stride\n",
    "\n",
    "        # indexes of max activations\n",
    "        self.switches = {}\n",
    "\n",
    "\n",
    "    def forward(self, inputs):\n",
    "        batch_size, dd, hh, ww = inputs.shape\n",
    "\n",
    "        h_out = (hh - self.size) // self.stride + 1\n",
    "        w_out = (ww - self.size) // self.stride + 1\n",
    "\n",
    "        in_col = im2col_indices(\n",
    "            inputs.reshape(batch_size * dd, 1, hh, ww),\n",
    "            self.size, self.size, 0, self.stride)\n",
    "\n",
    "        self.switches = np.argmax(in_col, 0)\n",
    "\n",
    "        return in_col[self.switches, range(self.switches.size)]\\\n",
    "            .reshape(h_out, w_out, batch_size, dd)\\\n",
    "            .transpose(2, 3, 0, 1)\n",
    "\n",
    "\n",
    "    def backward(self, inputs, output_errors):\n",
    "        batch_size, dd, hh, ww = inputs.shape\n",
    "\n",
    "        in_col = im2col_indices(\n",
    "            inputs.reshape(batch_size * dd, 1, hh, ww),\n",
    "            self.size, self.size, 0, self.stride)\n",
    "        din_col = np.zeros_like(in_col)\n",
    "\n",
    "        dout = output_errors.transpose(2, 3, 0, 1).ravel()\n",
    "        din_col[self.switches, range(self.switches.size)] = dout\n",
    "\n",
    "        return col2im_indices(\n",
    "            din_col,\n",
    "            (batch_size * dd, 1, hh, ww),\n",
    "            self.size, self.size, 0, self.stride)\\\n",
    "                .reshape(inputs.shape)\n",
    "\n",
    "    def to_string(self):\n",
    "        return \"[MP (%s x %s)]\" % (self.size, self.stride)"
   ]
  },
  {
   "cell_type": "markdown",
   "metadata": {},
   "source": [
    "### The Linearization Layer\n",
    "\n",
    "**[Cerința 9.4] (2p)** Implementați metodele `forward` și `backward` pentru un strat de tip Linearization.\n",
    "\n",
    "**Nota** Acesta este un strat care rearanjeaza datele dintr-un volum (numar canale x inaltime x latime) intr-un singur vector; (util la trecerea de la volume de imagini la straturi complet conectate)"
   ]
  },
  {
   "cell_type": "code",
   "execution_count": 12,
   "metadata": {},
   "outputs": [],
   "source": [
    "class LinearizeLayer(Layer):\n",
    "\n",
    "    def __init__(self, depth: int, height: int, width: int):\n",
    "        # Dimensions: depth, height, width\n",
    "        self.depth = depth\n",
    "        self.height = height\n",
    "        self.width = width\n",
    "\n",
    "\n",
    "    def forward(self, inputs: np.ndarray) -> np.ndarray:\n",
    "        # inputs are of shape (batch_size, depth, height, width)\n",
    "        # outputs are of shape (batch_size, depth x height x width)\n",
    "        \n",
    "        # TODO 1\n",
    "        # Reshape inputs- transform volume to column\n",
    "        return inputs.reshape(inputs.shape[0], -1)\n",
    "\n",
    "\n",
    "    def backward(self, inputs: np.ndarray, output_errors: np.ndarray) -> np.ndarray:\n",
    "        # unused argument - inputs\n",
    "        # output_errors of shape (batch_size, depth x height x width)\n",
    "\n",
    "        # TODO 1\n",
    "        # Reshape gradients - transform column to volume\n",
    "        return output_errors.reshape(-1, self.depth, self.height, self.width)\n",
    "\n",
    "\n",
    "    def to_string(self):\n",
    "        return \"[Lin ((%s, %s, %s) -> %s)]\" % (self.depth, self.height, self.width, self.depth * self.height * self.width)"
   ]
  },
  {
   "cell_type": "markdown",
   "metadata": {
    "colab_type": "text",
    "id": "4NrWBTmbI9gW"
   },
   "source": [
    "## 3. Funcția de cost\n",
    "\n",
    "Funcția de cost pe care o vom folosi este _cross entropy_ care combină un _softmax_ și un cost _negative log-likelihood_. (Matematica la tablă)\n",
    "\n",
    "Dacă ${\\bf y}$ reprezintă ieșrile rețelei pentru o intrare ${\\bf x}$, atunci ${\\bf y}$ va avea o dimensiune egală cu numărul de clase $K$. Atunci probabilitatea (prezisă de rețea) ca exemplul ${\\bf x}$ să aparțină clasei $k$ va fi $p_k$:\n",
    "\n",
    "$$\n",
    "\\begin{align}\n",
    "p_k &= \\frac{e^{y_k}}{\\sum_j e^{y_j}} & & \\text{softmax} \\\\\n",
    "{\\cal L} &= -\\log p_t & & \\text{negative log-likelihood}\n",
    "\\end{align}\n",
    "$$\n",
    "\n",
    "\n",
    "Pentru un batch de dimensiune $B$ se va face media costurilor corespunzătare fiecărui exemplu ($p_k$ este o funcție de ${\\bf x}$ și ${\\bf \\theta}$):\n",
    "\n",
    "$$ {\\cal L} = \\frac{1}{B} \\sum_{({\\bf x}, {\\bf t}) \\in Batch} -\\log p_t \\left({\\bf x}, \\theta\\right) $$\n",
    "\n",
    "Implementați metodele `forward` și `backward` pentru un funcția de cost _cross-entropy_ (o vom privi ca pe un strat suplimentar)."
   ]
  },
  {
   "cell_type": "code",
   "execution_count": 13,
   "metadata": {
    "colab": {},
    "colab_type": "code",
    "id": "YDXiDEu8E7FW"
   },
   "outputs": [],
   "source": [
    "class CrossEntropy:\n",
    "    def __init__(self):\n",
    "        pass\n",
    "\n",
    "    def _softmax(self, y, t):\n",
    "        e_t = np.exp([y[i][t[i]] for i in range(len(t))])\n",
    "        return e_t / np.exp(y).sum(axis=1)\n",
    "\n",
    "    def forward(self, y: np.ndarray, t: np.ndarray) -> float:\n",
    "        # TODO <5> : Compute the negative log likelihood\n",
    "        return -np.mean(np.log(self._softmax(y, t)))\n",
    "    \n",
    "    def backward(self, y: np.ndarray, t: np.ndarray) -> np.ndarray:\n",
    "        # TODO <6> : Compute dl/dy\n",
    "        diff = [[yj == y[i][t[i]] for yj in y[i]] for i in range(y.shape[0])]\n",
    "\n",
    "        return [[(np.exp(y[i][j]) / np.sum(np.exp(y[i])) - diff[i][j]) / y.shape[0]\\\n",
    "            for j in range(len(y[i]))] for i in range(len(y))]\n",
    "\n",
    "        return y"
   ]
  },
  {
   "cell_type": "markdown",
   "metadata": {
    "colab_type": "text",
    "id": "Uz9qM5eHJLNw"
   },
   "source": [
    "### Acuratețea\n",
    "\n",
    "Calculați acuratețea predicțiilor ${\\bf y}$ în raport cu clasele corecte ${\\bf t}$ (rația exemplelor pentru care clasa corectă a avut probabilitatea prezisă maximă)."
   ]
  },
  {
   "cell_type": "code",
   "execution_count": 14,
   "metadata": {
    "colab": {},
    "colab_type": "code",
    "id": "3nYfVCBSE7Fe"
   },
   "outputs": [],
   "source": [
    "from sklearn.metrics import accuracy_score\n",
    "\n",
    "def accuracy(y: np.ndarray, t: np.ndarray) -> float:\n",
    "    return accuracy_score(t, np.argmax(y, axis=1))"
   ]
  },
  {
   "cell_type": "markdown",
   "metadata": {
    "colab_type": "text",
    "id": "mIhtzd2gJQF2"
   },
   "source": [
    "## 4. Antrenarea rețelei neurale"
   ]
  },
  {
   "cell_type": "markdown",
   "metadata": {},
   "source": [
    "### [Cerinta 9.5] (2p) - Crearea si antrenarea unei arhitecturi de retea convolutionala similara cu LeNet\n",
    "\n",
    "Implementati [arhitectura LeNet](https://www.pyimagesearch.com/2016/08/01/lenet-convolutional-neural-network-in-python/) \n",
    "  - Conv(1, 28, 28, 20, 5, 1), Relu, MaxPool(2, 2), Conv(20, 12, 12, 50, 5, 1), Relu, MaxPool(2,2), Linearize(50, 4, 4), Linear(800, 500), Relu, Linear(500, 10), Softmax\n",
    "  \n",
    "**Adaptati codul de antrenare din laboratorul precedent pentru a antrena reteaua.**\n",
    "\n",
    "**Comparati rezultatele obtinute cu cele ale retelei MLP antrenate data trecuta.**"
   ]
  },
  {
   "cell_type": "code",
   "execution_count": 16,
   "metadata": {},
   "outputs": [
    {
     "output_type": "stream",
     "name": "stdout",
     "text": [
      "Epoch 01 | Batch 468 | Train NLL:  0.285 | Train Acc:  93.75% "
     ]
    },
    {
     "output_type": "error",
     "ename": "ValueError",
     "evalue": "not enough values to unpack (expected 4, got 3)",
     "traceback": [
      "\u001b[0;31m---------------------------------------------------------------------------\u001b[0m",
      "\u001b[0;31mValueError\u001b[0m                                Traceback (most recent call last)",
      "\u001b[0;32m<ipython-input-16-bd47aa4b378b>\u001b[0m in \u001b[0;36m<module>\u001b[0;34m\u001b[0m\n\u001b[1;32m     40\u001b[0m               f'| Train Acc: {accuracy(y, t) * 100:6.2f}% ', end='')\n\u001b[1;32m     41\u001b[0m \u001b[0;34m\u001b[0m\u001b[0m\n\u001b[0;32m---> 42\u001b[0;31m     \u001b[0my\u001b[0m \u001b[0;34m=\u001b[0m \u001b[0mnet\u001b[0m\u001b[0;34m.\u001b[0m\u001b[0mforward\u001b[0m\u001b[0;34m(\u001b[0m\u001b[0mtest_imgs\u001b[0m\u001b[0;34m,\u001b[0m \u001b[0mtrain\u001b[0m\u001b[0;34m=\u001b[0m\u001b[0;32mFalse\u001b[0m\u001b[0;34m)\u001b[0m\u001b[0;34m\u001b[0m\u001b[0;34m\u001b[0m\u001b[0m\n\u001b[0m\u001b[1;32m     43\u001b[0m     \u001b[0mtest_nll\u001b[0m \u001b[0;34m=\u001b[0m \u001b[0mcost_function\u001b[0m\u001b[0;34m.\u001b[0m\u001b[0mforward\u001b[0m\u001b[0;34m(\u001b[0m\u001b[0my\u001b[0m\u001b[0;34m,\u001b[0m \u001b[0mtest_labels\u001b[0m\u001b[0;34m)\u001b[0m\u001b[0;34m\u001b[0m\u001b[0;34m\u001b[0m\u001b[0m\n\u001b[1;32m     44\u001b[0m     print(f'| Test NLL: {test_nll:6.3f} '\n",
      "\u001b[0;32m<ipython-input-6-baba43d65fe9>\u001b[0m in \u001b[0;36mforward\u001b[0;34m(self, x, train)\u001b[0m\n\u001b[1;32m      9\u001b[0m             \u001b[0;32mif\u001b[0m \u001b[0mtrain\u001b[0m\u001b[0;34m:\u001b[0m\u001b[0;34m\u001b[0m\u001b[0;34m\u001b[0m\u001b[0m\n\u001b[1;32m     10\u001b[0m                 \u001b[0mself\u001b[0m\u001b[0;34m.\u001b[0m\u001b[0m_inputs\u001b[0m\u001b[0;34m.\u001b[0m\u001b[0mappend\u001b[0m\u001b[0;34m(\u001b[0m\u001b[0mx\u001b[0m\u001b[0;34m)\u001b[0m\u001b[0;34m\u001b[0m\u001b[0;34m\u001b[0m\u001b[0m\n\u001b[0;32m---> 11\u001b[0;31m             \u001b[0mx\u001b[0m \u001b[0;34m=\u001b[0m \u001b[0mlayer\u001b[0m\u001b[0;34m.\u001b[0m\u001b[0mforward\u001b[0m\u001b[0;34m(\u001b[0m\u001b[0mx\u001b[0m\u001b[0;34m)\u001b[0m\u001b[0;34m\u001b[0m\u001b[0;34m\u001b[0m\u001b[0m\n\u001b[0m\u001b[1;32m     12\u001b[0m         \u001b[0;32mreturn\u001b[0m \u001b[0mx\u001b[0m\u001b[0;34m\u001b[0m\u001b[0;34m\u001b[0m\u001b[0m\n\u001b[1;32m     13\u001b[0m \u001b[0;34m\u001b[0m\u001b[0m\n",
      "\u001b[0;32m<ipython-input-10-e5606fc4b199>\u001b[0m in \u001b[0;36mforward\u001b[0;34m(self, inputs)\u001b[0m\n\u001b[1;32m     31\u001b[0m \u001b[0;34m\u001b[0m\u001b[0m\n\u001b[1;32m     32\u001b[0m     \u001b[0;32mdef\u001b[0m \u001b[0mforward\u001b[0m\u001b[0;34m(\u001b[0m\u001b[0mself\u001b[0m\u001b[0;34m,\u001b[0m \u001b[0minputs\u001b[0m\u001b[0;34m:\u001b[0m \u001b[0mnp\u001b[0m\u001b[0;34m.\u001b[0m\u001b[0mndarray\u001b[0m\u001b[0;34m)\u001b[0m \u001b[0;34m->\u001b[0m \u001b[0mnp\u001b[0m\u001b[0;34m.\u001b[0m\u001b[0mndarray\u001b[0m\u001b[0;34m:\u001b[0m\u001b[0;34m\u001b[0m\u001b[0;34m\u001b[0m\u001b[0m\n\u001b[0;32m---> 33\u001b[0;31m         \u001b[0mbatch_size\u001b[0m\u001b[0;34m,\u001b[0m \u001b[0mdd\u001b[0m\u001b[0;34m,\u001b[0m \u001b[0mhh\u001b[0m\u001b[0;34m,\u001b[0m \u001b[0mww\u001b[0m \u001b[0;34m=\u001b[0m \u001b[0minputs\u001b[0m\u001b[0;34m.\u001b[0m\u001b[0mshape\u001b[0m\u001b[0;34m\u001b[0m\u001b[0;34m\u001b[0m\u001b[0m\n\u001b[0m\u001b[1;32m     34\u001b[0m         \u001b[0;32massert\u001b[0m \u001b[0;34m(\u001b[0m\u001b[0mdd\u001b[0m\u001b[0;34m,\u001b[0m \u001b[0mhh\u001b[0m\u001b[0;34m,\u001b[0m \u001b[0mww\u001b[0m \u001b[0;34m==\u001b[0m \u001b[0mself\u001b[0m\u001b[0;34m.\u001b[0m\u001b[0minputs_depth\u001b[0m\u001b[0;34m,\u001b[0m \u001b[0mself\u001b[0m\u001b[0;34m.\u001b[0m\u001b[0minputs_height\u001b[0m\u001b[0;34m,\u001b[0m \u001b[0mself\u001b[0m\u001b[0;34m.\u001b[0m\u001b[0minputs_width\u001b[0m\u001b[0;34m)\u001b[0m\u001b[0;34m\u001b[0m\u001b[0;34m\u001b[0m\u001b[0m\n\u001b[1;32m     35\u001b[0m \u001b[0;34m\u001b[0m\u001b[0m\n",
      "\u001b[0;31mValueError\u001b[0m: not enough values to unpack (expected 4, got 3)"
     ]
    }
   ],
   "source": [
    "# TODO 9.5: antrenare retea LeNet\n",
    "BATCH_SIZE = 128\n",
    "EPOCHS_NO = 20\n",
    "\n",
    "optimize_args = {'mode': 'SGD', 'lr': .005}\n",
    "\n",
    "net = FeedForwardNetwork([\n",
    "    ConvolutionalLayer(1, 28, 28, 20, 5, 1),\n",
    "    ReLU(),\n",
    "    MaxPoolingLayer(2, 2),\n",
    "    ConvolutionalLayer(20, 12, 12, 50, 5, 1),\n",
    "    ReLU(),\n",
    "    MaxPoolingLayer(2, 2),\n",
    "    LinearizeLayer(50, 4, 4),\n",
    "    Linear(800, 500),\n",
    "    ReLU(),\n",
    "    Linear(500, 10)\n",
    "])\n",
    "cost_function = CrossEntropy()\n",
    "\n",
    "for epoch in range(EPOCHS_NO):\n",
    "    for b_no, idx in enumerate(range(0, len(train_imgs), BATCH_SIZE)):\n",
    "        # 1. Prepare next batch\n",
    "        x = train_imgs[idx:idx + BATCH_SIZE,:,:]\n",
    "        x = x.reshape(x.shape[0], 1, x.shape[1], x.shape[2])\n",
    "        t = train_labels[idx:idx + BATCH_SIZE]\n",
    "        \n",
    "        # 2. Compute gradient\n",
    "        y = net.forward(x, True)\n",
    "        loss = cost_function.forward(y, t)\n",
    "        dy = cost_function.backward(y, t)\n",
    "        dx = net.backward(dy)\n",
    "        \n",
    "        # 3. Update network parameters\n",
    "        net.update(**optimize_args)\n",
    "        \n",
    "        print(f'\\rEpoch {epoch + 1:02d} '\n",
    "              f'| Batch {b_no:03d} '\n",
    "              f'| Train NLL: {loss:6.3f} '\n",
    "              f'| Train Acc: {accuracy(y, t) * 100:6.2f}% ', end='')\n",
    "\n",
    "    y = net.forward(test_imgs, train=False)\n",
    "    test_nll = cost_function.forward(y, test_labels)\n",
    "    print(f'| Test NLL: {test_nll:6.3f} '\n",
    "          f'| Test Acc: {accuracy(y, test_labels) * 100:3.2f}%')"
   ]
  },
  {
   "cell_type": "markdown",
   "metadata": {
    "colab_type": "text",
    "id": "J7zGgHlduJvA"
   },
   "source": [
    "## Teste\n",
    "\n",
    "Executați ```test0() and test16() and test7()``` pentru a rula testele."
   ]
  },
  {
   "cell_type": "code",
   "execution_count": null,
   "metadata": {
    "colab": {},
    "colab_type": "code",
    "id": "-YaLsPBfuJvB"
   },
   "outputs": [],
   "source": [
    "from numpy.linalg import norm \n",
    "\n",
    "def close_enough(arr1, arr2, max_err = 0.0000001):\n",
    "    assert(arr1.shape == arr2.shape)\n",
    "    return norm(arr1.reshape(arr1.size) - arr2.reshape(arr2.size)) < max_err\n",
    "\n",
    "def test0():\n",
    "    fakex = [np.random.randn(128, n) for n in [20, 40, 30, 10]]\n",
    "\n",
    "    class DummyLayer:\n",
    "        def __init__(self, idx):\n",
    "            self.idx = idx\n",
    "\n",
    "        def forward(self, x):\n",
    "            return fakex[self.idx + 1]\n",
    "\n",
    "        def backward(self, x, dldy):\n",
    "            if not np.allclose(x, fakex[self.idx]):\n",
    "                raise Exception(\"Intrări greșite în backward\")\n",
    "            if not np.allclose(dldy, -fakex[self.idx+1]):\n",
    "                raise Exception(\"Intrări greșite în backward\")\n",
    "            return -x\n",
    "\n",
    "    try:\n",
    "        net = FeedForwardNetwork([DummyLayer(i) for i in range(3)])\n",
    "        net.forward(fakex[0])\n",
    "        net.backward(-fakex[-1])\n",
    "        print(\"Cerința 0 rezolvată corect!\")\n",
    "        return True\n",
    "    except NotImplementedError as e:\n",
    "        print(\"Cerința 0 nu a fost implementată!\")\n",
    "    except Exception as e:\n",
    "        print(e)\n",
    "        print(\"Cerința 0 are erori.\")\n",
    "        \n",
    "    return False\n",
    "        \n",
    "def test16():\n",
    "    __x = np.array([[-3.0731, -1.9081, -0.7283, -0.0757, -0.7577],\n",
    "                    [ 2.4041, -1.1506, -0.5924,  1.3016,  1.0882],\n",
    "                    [-0.5254,  0.3519, -0.9633, -2.7393, -0.9745]])\n",
    "    __w = np.array([[ 1.3214, -0.5886, -0.0351,  1.2084,  1.2661, -0.9979, -0.1172],\n",
    "                    [-0.4022,  0.1168,  0.9020, -2.0098, -0.5409, -0.3876, -0.1719],\n",
    "                    [-1.1125, -0.5556,  0.8843,  0.6995,  0.4929,  0.7523,  0.1832],\n",
    "                    [ 0.2267,  0.6757,  1.1286, -0.3218,  1.6934, -0.1782, -0.3467],\n",
    "                    [-0.6062,  0.4426,  0.5090,  0.4772, -0.5721,  0.8658, -0.5999]])\n",
    "    __b = np.array([ 0.3335,  0.5051, -0.1393,  1.2116,  1.7836, -0.6597,  0.3553])\n",
    "    __y = np.array([[-1.70746622, 2.10919555, -2.8676804, 0.48630531, -1.1288499, 1.95609904, 1.39083457],\n",
    "                    [4.26749994, 0.64592254, 0.23749513, 6.11524068, 6.73936681, -2.34822291, -0.94127596],\n",
    "                    [0.5391161, -0.89159687, -4.24288533, -0.38789499, -3.62798139, -1.35206921, 1.71422657]])\n",
    "    \n",
    "    __dy = np.array([[ 1.5555, -0.8978, -0.2917, -0.3868, -0.8257, -0.3491, -0.8658],\n",
    "                     [ 1.1146,  1.4914,  0.9591, -0.2613,  0.5887,  0.4794,  0.8565],\n",
    "                     [-0.1552, -1.6319,  1.7642,  1.0503,  0.1035 , -0.7186, -0.9782]])\n",
    "    __dx = np.array([[ 1.53113221,  0.51455541, -2.588423,   -1.49460989, -0.98384103],\n",
    "                     [ 0.41215308,  0.46469672, -0.59552791,  3.04147235, -0.08763244],\n",
    "                     [ 2.92549149, -0.25707023,  2.70531668,  1.15769427,  0.67643021]])\n",
    "    __dw = np.array(\n",
    "        [[-2.01905511,  7.20190418,  2.2752849,   0.00865613,  3.89837344,  2.60289719, 5.23374791],\n",
    "         [-4.30512319, -0.57717827,  0.07387429,  1.40830543,  0.9345816,  -0.13835527, 0.3223155 ],\n",
    "         [-1.64365553,  1.34237165, -2.05517959, -0.57525343,  0.15290988,  0.66248035, 1.0654716 ],\n",
    "         [ 1.75815137,  6.47943337, -3.56222681, -3.18791411,  0.54523986,  2.61887489, 3.85994472],\n",
    "         [ 0.18554777,  3.89349109, -0.45449919, -1.01478565,  1.16539548,  1.48647185, 2.54131586]]\n",
    "    )\n",
    "    __db = np.array([ 2.5149, -1.0383,  2.4316,  0.4022, -0.1335, -0.5883, -0.9875])\n",
    "    \n",
    "    __y_relu = np.array([[0, 2.10919555, 0, 0.48630531, 0, 1.95609904, 1.39083457],\n",
    "                         [4.26749994, 0.64592254, 0.23749513, 6.11524068, 6.73936681, 0, 0],\n",
    "                         [0.5391161, 0, 0, 0, 0, 0, 1.71422657]])\n",
    "    __drelu = np.array([[0, -0.8978, 0, -0.3868, 0, -0.3491, -0.8658],\n",
    "                        [ 1.1146,  1.4914,  0.9591, -0.2613,  0.5887,  0,  0],\n",
    "                        [-0.1552, 0,  0,  0,  0 , 0, -0.9782]])\n",
    "    \n",
    "    __t = np.array([3, 1, 2])\n",
    "    __dl_dy = np.array(\n",
    "        [[ 2.80870645e-03,  1.27661957e-01,  8.80302096e-04, -3.08142112e-01,\n",
    "           5.00952130e-03,  1.09539948e-01,  6.22416775e-02],\n",
    "         [ 1.73238217e-02, -3.32870086e-01,  3.07917841e-04,  1.09927743e-01,\n",
    "           2.05192672e-01,  2.31991342e-05,  9.47329526e-05],\n",
    "         [ 6.60308812e-02,  1.57905168e-02, -3.32780047e-01,  2.61307149e-02,\n",
    "           1.02329216e-03,  9.96358772e-03,  2.13841054e-01]]\n",
    "    )\n",
    "\n",
    "\n",
    "    try:\n",
    "        lin = Linear(5, 7)\n",
    "        lin.weight = __w.copy()\n",
    "        lin.bias = __b.copy()\n",
    "        y = lin.forward(__x.copy())\n",
    "        if not np.allclose(y, __y):\n",
    "            raise Exception(\"Ieșiri greșite\")\n",
    "        print(\"Cerința 1 rezolvată corect!\")\n",
    "    except NotImplementedError as e:\n",
    "        print(\"Cerința 1 nu a fost implementată!\")\n",
    "        return False\n",
    "    except Exception as e:\n",
    "        print(e)\n",
    "        print(\"Cerința 1 are erori.\")\n",
    "        return False\n",
    "        \n",
    "    try:\n",
    "        dx = lin.backward(__x.copy(), __dy.copy())\n",
    "        if not np.allclose(dx, __dx):\n",
    "            raise ValueError(\"dL/dx greșit\")\n",
    "        if not np.allclose(lin.dweight, __dw):\n",
    "            raise ValueError(\"dL/dw greșit\")\n",
    "        if not np.allclose(lin.dbias, __db):\n",
    "            raise ValueError(\"dL/db greșit\")\n",
    "        print(\"Cerința 2 rezolvată corect!\")\n",
    "    except NotImplementedError as e:\n",
    "        print(\"Cerința 2 nu a fost implementată!\")\n",
    "        return False\n",
    "    except Exception as e:\n",
    "        print(e)\n",
    "        print(\"Cerința 2 are erori.\")\n",
    "        return False\n",
    "\n",
    "    try:\n",
    "        relu = ReLU()\n",
    "        y_relu = relu.forward(__y.copy())\n",
    "        if not np.allclose(y_relu, __y_relu):\n",
    "            raise ValueError(\"ReLU(x) greșit\")\n",
    "        print(\"Cerința 3 rezolvată corect!\")\n",
    "    except NotImplementedError as e:\n",
    "        print(\"Cerința 3 nu a fost implementată!\")\n",
    "        return False\n",
    "    except Exception as e:\n",
    "        print(e)\n",
    "        print(\"Cerința 3 are erori.\")\n",
    "        return False\n",
    "            \n",
    "    try:\n",
    "        relu = ReLU()\n",
    "        drelu = relu.backward(__y.copy(), __dy.copy())\n",
    "        if not np.allclose(drelu, __drelu):\n",
    "            raise ValueError(\"ReLU.backward greșit\")\n",
    "        print(\"Cerința 4 rezolvată corect!\")\n",
    "    except NotImplementedError as e:\n",
    "        print(\"Cerința 4 nu a fost implementată!\")\n",
    "        return False\n",
    "    except Exception as e:\n",
    "        print(e)\n",
    "        print(\"Cerința 4 are erori.\")\n",
    "        return False\n",
    "    \n",
    "    try:\n",
    "        ce = CrossEntropy()\n",
    "        loss = ce.forward(__y.copy(), __t.copy())\n",
    "        if np.abs(loss - 5.1874357237332545) > 1e-6:\n",
    "            raise ValueError(f\"Valoare greșită nll: {loss:f} în loc de 5.1874357237332545\")\n",
    "        print(\"Cerința 5 rezolvată corect!\")\n",
    "    except NotImplementedError as e:\n",
    "        print(\"Cerința 5 nu a fost implementată!\")\n",
    "        return False\n",
    "    except Exception as e:\n",
    "        print(e)\n",
    "        print(\"Cerința 5 are erori.\")\n",
    "        return False\n",
    "    \n",
    "    try:\n",
    "        ce = CrossEntropy()\n",
    "        dl_dy = ce.backward(__y.copy(), __t.copy())\n",
    "        if not np.allclose(dl_dy, __dl_dy) > 1e-6:\n",
    "            raise ValueError(f\"Valoare greșită pentru dNLL/dy\")\n",
    "        print(\"Cerința 6 rezolvată corect!\")\n",
    "    except NotImplementedError as e:\n",
    "        print(\"Cerința 6 nu a fost implementată!\")\n",
    "        return False\n",
    "    except Exception as e:\n",
    "        print(e)\n",
    "        print(\"Cerința 6 are erori.\")\n",
    "        return False\n",
    "    \n",
    "    return True\n",
    "\n",
    "def test7():  # Acuratețea\n",
    "    y = np.array([[ 0.6460014 , -0.05876393, -1.36496105, -0.07057596,  0.54938383],\n",
    "                  [-0.8033942 , -0.51753041,  0.92278036, -1.66303585, -0.36537512],\n",
    "                  [-1.3710599 ,  0.65598193, -0.75527154,  1.21609284,  0.08284123],\n",
    "                  [-1.24696857,  0.32676634,  0.09572539,  1.38316398, -0.14110726],\n",
    "                  [-2.01698315,  2.06123375, -1.68003675,  0.0504592 ,  0.04427597],\n",
    "                  [-0.8893451 ,  1.74695148, -0.29394473,  0.74203068, -0.75185261],\n",
    "                  [ 1.34126333, -0.5272606 ,  1.46458319,  1.59529987,  1.86884676],\n",
    "                  [-0.58987297,  1.10900165, -0.71208103,  0.20478154, -1.26693567],\n",
    "                  [-2.17730677, -1.36147532, -1.49679182,  0.24812177, -0.13368035],\n",
    "                  [-0.48730599,  1.31710647,  0.41765538,  1.19869192, -0.05301611],\n",
    "                  [-0.10655224, -0.21174034,  1.31548647, -0.57990281,  0.85868472],\n",
    "                  [-0.32055613, -2.17817118, -0.28488692,  1.62977524,  0.25150929],\n",
    "                  [ 0.07704727,  1.67710047,  1.83368441, -0.45456845, -0.74474969]])\n",
    "    t = np.array([0, 2, 3, 3, 1, 0, 1, 1, 2, 1, 2, 3, 2])\n",
    "    try:\n",
    "        acc = accuracy(y, t)\n",
    "        if np.abs(acc - 0.7692307692307693) > 1e-7:\n",
    "            raise ValueError(f\"{acc:f} != 10/13\")\n",
    "        print(f\"Cerința 7 rezolvată corect!\")\n",
    "    except NotImplementedError as e:\n",
    "        print(\"Cerința 7 nu a fost implementată!\")\n",
    "    except Exception as e:\n",
    "        print(e)\n",
    "        print(\"Cerința 7 are erori.\")\n",
    "\n",
    "    return True\n",
    "\n",
    "\n",
    "def test_convolutional_layer():\n",
    "\n",
    "    np.random.seed(0)\n",
    "    l = ConvolutionalLayer(2, 3, 4, 3, 2, 1)\n",
    "\n",
    "    l.weights = np.random.rand(3, 2, 2, 2)\n",
    "\n",
    "    l.biases = np.random.rand(3, 1)\n",
    "\n",
    "    x = np.array([[[[1, 2, 3, 4], [5, 6, 7, 8], [9, 10, 11, 12]],\n",
    "                  [[13, 14, 15, 16], [17, 18, 19, 20], [21, 22, 23, 24]]]])\n",
    "\n",
    "    print(\"Testing forward computation...\")\n",
    "    output = l.forward(x)\n",
    "    target = np.array([[[[ 34.55043437, 38.95942899, 43.36842361],\n",
    "                        [ 52.18641284, 56.59540746, 61.00440208]],\n",
    "    [[ 30.72457988, 34.08923073, 37.45388158],\n",
    "     [ 44.18318328, 47.54783413, 50.91248498]],\n",
    "     [[ 28.2244684, 31.30220961, 34.37995083],\n",
    "      [ 40.53543326, 43.61317448, 46.69091569]]]])\n",
    "    assert (output.shape == target.shape), \"Wrong output size\"\n",
    "    assert close_enough(output, target), \"Wrong values in layer ouput\"\n",
    "    print(\"Forward computation implemented ok!\")\n",
    "\n",
    "    output_err = np.random.rand(1, 3, 2, 3)\n",
    "\n",
    "    print(\"Testing backward computation...\")\n",
    "\n",
    "    g = l.backward(x, output_err)\n",
    "    # print(l.g_biases)\n",
    "#    print(l.g_weights)\n",
    "#    print(g)\n",
    "\n",
    "    print(\"    i. testing gradients w.r.t. the bias terms...\")\n",
    "    gbias_target =  np.array([[ 2.4595299 ],\n",
    "                              [ 3.86207926],\n",
    "                              [ 1.17504241]])\n",
    "\n",
    "    print(l.g_biases.shape)\n",
    "    print(gbias_target.shape)\n",
    "\n",
    "    assert (l.g_biases.shape == gbias_target.shape), \"Wrong size\"\n",
    "    assert close_enough(l.g_biases, gbias_target), \"Wrong values\"\n",
    "    print(\"     OK\")\n",
    "\n",
    "    print(\"   ii. testing gradients w.r.t. the weights...\")\n",
    "    gweights_target = np.array(\n",
    "            [[[[ 12.19071134, 14.65024124],\n",
    "               [ 22.02883093, 24.48836083]],\n",
    "    [[ 41.70507011, 44.1646    ],\n",
    "     [ 51.54318969, 54.00271959]]],\n",
    "\n",
    "    [[[ 17.14269456, 21.00477382],\n",
    "      [ 32.59101161, 36.45309087]],\n",
    "\n",
    "  [[ 63.4876457 , 67.34972496],\n",
    "   [ 78.93596275, 82.79804201]]],\n",
    "\n",
    " [[[  5.38434096,  6.55938337],\n",
    "   [ 10.08451061, 11.25955302]],\n",
    "\n",
    "  [[ 19.4848499 , 20.65989231],\n",
    "   [ 24.18501955, 25.36006196]]]]\n",
    "    )\n",
    "\n",
    "    assert (l.g_weights.shape == gweights_target.shape), \"Wrong size\"\n",
    "    assert close_enough(l.g_weights, gweights_target), \"Wrong values\"\n",
    "    print(\"     OK\")\n",
    "\n",
    "    return True\n",
    "\n",
    "\n",
    "def test_max_pooling_layer():\n",
    "\n",
    "    l = MaxPoolingLayer(2)\n",
    "\n",
    "    x = np.array([[[[1, 2, 3, 4], [5, 6, 7, 8]],\n",
    "                  [[9, 10, 11, 12], [13, 14, 15, 16]],\n",
    "                  [[17, 18, 19, 20], [21, 22, 23, 24]]]])\n",
    "\n",
    "    print(\"Testing forward computation...\")\n",
    "    output = l.forward(x)\n",
    "    target = np.array([[[[6, 8]],\n",
    "                       [[14, 16]],\n",
    "                       [[22, 24]]]])\n",
    "    assert (output.shape == target.shape), \"Wrong output size\"\n",
    "    assert close_enough(output, target), \"Wrong values in layer ouput\"\n",
    "    print(\"Forward computation implemented ok!\")\n",
    "\n",
    "\n",
    "    output_err = output\n",
    "\n",
    "    print(\"Testing backward computation...\")\n",
    "\n",
    "    g = l.backward(x, output_err)\n",
    "    print(g)\n",
    "\n",
    "\n",
    "    print(\"Testing gradients\")\n",
    "    in_target = np.array([[[[0, 0, 0, 0], [0, 6, 0, 8]],\n",
    "                          [[0, 0, 0, 0], [0, 14, 0, 16]],\n",
    "                          [[0, 0, 0, 0], [0, 22, 0, 24]]]])\n",
    "\n",
    "    assert (g.shape == in_target.shape), \"Wrong size\"\n",
    "    assert close_enough(g, in_target), \"Wrong values in gradients\"\n",
    "    print(\"     OK\")\n",
    "\n",
    "    print(\"Backward computation implemented ok!\")\n",
    "    return True\n",
    "    \n",
    "\n",
    "def test_linearize_layer():\n",
    "\n",
    "    l = LinearizeLayer(2, 3, 4)\n",
    "\n",
    "    x = np.array([[[[1, 2, 3, 4], [5, 6, 7, 8], [9, 10, 11, 12]],\n",
    "                  [[13, 14, 15, 16], [17, 18, 19, 20], [21, 22, 23, 24]]]])\n",
    "\n",
    "    print(\"Testing forward computation...\")\n",
    "    output = l.forward(x)\n",
    "    target = np.array([[1], [2], [3], [4], [5], [6], [7], [8], [9], [10], [11], [12], [13], [14], [15], [16], [17], [18], [19], [20], [21], [22], [23], [24]])\n",
    "    target = target.reshape(1, len(target))\n",
    "    \n",
    "    assert (output.shape == target.shape), \"Wrong output size\"\n",
    "    assert close_enough(output, target), \"Wrong values in layer ouput\"\n",
    "    print(\"Forward computation implemented ok!\")\n",
    "\n",
    "    output_err = output\n",
    "\n",
    "    print(\"Testing backward computation...\")\n",
    "\n",
    "    g = l.backward(x, output_err)\n",
    "\n",
    "    print(\"Testing gradients\")\n",
    "    in_target = x\n",
    "\n",
    "    assert (g.shape == in_target.shape), \"Wrong size\"\n",
    "    assert close_enough(g, in_target), \"Wrong values in gradients\"\n",
    "    print(\"     OK\")\n",
    "\n",
    "    print(\"Backward computation implemented ok!\")\n",
    "    return True\n"
   ]
  },
  {
   "cell_type": "code",
   "execution_count": null,
   "metadata": {
    "colab": {},
    "colab_type": "code",
    "id": "nWQ2e7C4uJvD"
   },
   "outputs": [],
   "source": [
    "test0() and test16() and test7()"
   ]
  },
  {
   "cell_type": "code",
   "execution_count": null,
   "metadata": {},
   "outputs": [],
   "source": [
    "test_convolutional_layer() and test_max_pooling_layer() and test_linearize_layer()"
   ]
  }
 ],
 "metadata": {
  "colab": {
   "collapsed_sections": [],
   "include_colab_link": true,
   "name": "Laborator 8",
   "provenance": []
  },
  "kernelspec": {
   "display_name": "Python 3",
   "language": "python",
   "name": "python3"
  },
  "language_info": {
   "codemirror_mode": {
    "name": "ipython",
    "version": 3
   },
   "file_extension": ".py",
   "mimetype": "text/x-python",
   "name": "python",
   "nbconvert_exporter": "python",
   "pygments_lexer": "ipython3",
   "version": "3.8.5"
  }
 },
 "nbformat": 4,
 "nbformat_minor": 1
}