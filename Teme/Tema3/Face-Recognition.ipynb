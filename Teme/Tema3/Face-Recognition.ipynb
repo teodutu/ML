{
  "nbformat": 4,
  "nbformat_minor": 0,
  "metadata": {
    "kernelspec": {
      "display_name": "Python 3",
      "language": "python",
      "name": "python3"
    },
    "language_info": {
      "codemirror_mode": {
        "name": "ipython",
        "version": 3
      },
      "file_extension": ".py",
      "mimetype": "text/x-python",
      "name": "python",
      "nbconvert_exporter": "python",
      "pygments_lexer": "ipython3",
      "version": "3.8.5"
    },
    "metadata": {
      "interpreter": {
        "hash": "31f2aee4e71d21fbe5cf8b01ff0e069b9275f58929596ceb00d14d90e3e16cd6"
      }
    },
    "colab": {
      "name": "Face-Recognition.ipynb",
      "provenance": [],
      "collapsed_sections": []
    },
    "accelerator": "GPU"
  },
  "cells": [
    {
      "cell_type": "markdown",
      "metadata": {
        "id": "NT-NsaBiSy7a"
      },
      "source": [
        "# Tema 3 - Clasificare de fete"
      ]
    },
    {
      "cell_type": "markdown",
      "metadata": {
        "id": "8Bk427OaS5vn"
      },
      "source": [
        "## Importuri"
      ]
    },
    {
      "cell_type": "code",
      "metadata": {
        "colab": {
          "base_uri": "https://localhost:8080/"
        },
        "id": "ICtC53x1LOlB",
        "outputId": "19beb829-f67d-4be6-d1af-5353abe81531"
      },
      "source": [
        "from copy import deepcopy\n",
        "import numpy as np\n",
        "import pandas as pd\n",
        "import time\n",
        "import torch\n",
        "import torch.nn as nn\n",
        "from torch.utils.data import Dataset, DataLoader\n",
        "import torchvision.transforms as transforms\n",
        "\n",
        "device = torch.device(\"cuda\" if torch.cuda.is_available() else \"cpu\")\n",
        "print(f'Running code @ {device}')\n",
        "\n",
        "!pip3 install facenet_pytorch\n",
        "from facenet_pytorch import MTCNN, InceptionResnetV1\n",
        "\n",
        "from sklearn.datasets import fetch_lfw_people\n",
        "from sklearn.model_selection import train_test_split\n",
        "from sklearn.svm import SVC\n",
        "from sklearn.metrics import accuracy_score\n",
        "\n",
        "from matplotlib import pyplot as plt\n",
        "import pylab as pl\n",
        "from IPython import display"
      ],
      "execution_count": null,
      "outputs": [
        {
          "output_type": "stream",
          "text": [
            "Running code @ cuda\n",
            "Requirement already satisfied: facenet_pytorch in /usr/local/lib/python3.7/dist-packages (2.5.2)\n",
            "Requirement already satisfied: numpy in /usr/local/lib/python3.7/dist-packages (from facenet_pytorch) (1.19.5)\n",
            "Requirement already satisfied: requests in /usr/local/lib/python3.7/dist-packages (from facenet_pytorch) (2.23.0)\n",
            "Requirement already satisfied: torchvision in /usr/local/lib/python3.7/dist-packages (from facenet_pytorch) (0.9.1+cu101)\n",
            "Requirement already satisfied: pillow in /usr/local/lib/python3.7/dist-packages (from facenet_pytorch) (7.1.2)\n",
            "Requirement already satisfied: idna<3,>=2.5 in /usr/local/lib/python3.7/dist-packages (from requests->facenet_pytorch) (2.10)\n",
            "Requirement already satisfied: chardet<4,>=3.0.2 in /usr/local/lib/python3.7/dist-packages (from requests->facenet_pytorch) (3.0.4)\n",
            "Requirement already satisfied: certifi>=2017.4.17 in /usr/local/lib/python3.7/dist-packages (from requests->facenet_pytorch) (2020.12.5)\n",
            "Requirement already satisfied: urllib3!=1.25.0,!=1.25.1,<1.26,>=1.21.1 in /usr/local/lib/python3.7/dist-packages (from requests->facenet_pytorch) (1.24.3)\n",
            "Requirement already satisfied: torch==1.8.1 in /usr/local/lib/python3.7/dist-packages (from torchvision->facenet_pytorch) (1.8.1+cu101)\n",
            "Requirement already satisfied: typing-extensions in /usr/local/lib/python3.7/dist-packages (from torch==1.8.1->torchvision->facenet_pytorch) (3.7.4.3)\n"
          ],
          "name": "stdout"
        }
      ]
    },
    {
      "cell_type": "markdown",
      "metadata": {
        "id": "j5IRL9McS9Tv"
      },
      "source": [
        "## Procesarea seturilor de date"
      ]
    },
    {
      "cell_type": "code",
      "metadata": {
        "id": "FrrVkRHjLOlG"
      },
      "source": [
        "def get_dataset():\n",
        "    return fetch_lfw_people(color=True)\n",
        "\n",
        "\n",
        "def get_small_dataset(og_ds, num_classes=5):\n",
        "    uniq, elem = np.unique(og_ds['target'], return_counts=True)\n",
        "    most_common = list(dict(sorted(zip(uniq, elem), key=lambda p: p[1], reverse=True)[:num_classes]).keys())\n",
        "\n",
        "    images = []\n",
        "    targets = []\n",
        "    for i, cls in enumerate(og_ds['target']):\n",
        "        if cls in most_common:\n",
        "            images.append(og_ds['images'][i])\n",
        "            targets.append(most_common.index(cls))\n",
        "\n",
        "    return {\n",
        "        'images': np.array(images),\n",
        "        'target': np.array(targets),\n",
        "        'target_names': np.array([og_ds['target_names'][tgt] for tgt in set(most_common)])\n",
        "    }\n",
        "\n",
        "# _ = get_og_dataset()"
      ],
      "execution_count": null,
      "outputs": []
    },
    {
      "cell_type": "code",
      "metadata": {
        "id": "pxNRYdBsSa4F"
      },
      "source": [
        "class FacesDataSet(Dataset):\n",
        "    def __init__(self, X, y, transform=None):\n",
        "        self.X = X\n",
        "        self.y = y\n",
        "        self.trans = transforms.Compose([transforms.ToTensor()])\n",
        "\n",
        "\n",
        "    def __len__(self):\n",
        "        return len(self.y)\n",
        "\n",
        "\n",
        "    def __getitem__(self, idx):\n",
        "        if torch.is_tensor(idx):\n",
        "            idx = idx.tolist()\n",
        "  \n",
        "        return self.trans(self.X[idx]), self.y[idx]\n",
        "  \n",
        "\n",
        "\n",
        "class FacesDataSetImproved(Dataset):\n",
        "    def __init__(self, X, y, transform=None):\n",
        "        self.X = X\n",
        "        self.y = y\n",
        "        self.trans = transforms.Compose([\n",
        "            transforms.ToTensor(),\n",
        "            transforms.Normalize((0.5, 0.5, 0.5), (0.5, 0.5, 0.5))\n",
        "        ])\n",
        "\n",
        "\n",
        "    def __len__(self):\n",
        "        return len(self.y)\n",
        "\n",
        "\n",
        "    def __getitem__(self, idx):\n",
        "        if torch.is_tensor(idx):\n",
        "            idx = idx.tolist()\n",
        "  \n",
        "        return self.trans(self.X[idx]), self.y[idx]"
      ],
      "execution_count": null,
      "outputs": []
    },
    {
      "cell_type": "code",
      "metadata": {
        "id": "1cXh1i4hLOlH"
      },
      "source": [
        "BATCH_SIZE_TRAIN = 100\n",
        "BATCH_SIZE_TEST = 100\n",
        "NO_WORKERS = 2\n",
        "SHUFFLE_DATA = True\n",
        "\n",
        "\n",
        "DS = get_dataset()\n",
        "SMALL_DS = get_small_dataset(DS)\n",
        "\n",
        "X_small_train, X_small_test, y_small_train, y_small_test = train_test_split(\n",
        "    SMALL_DS['images'], SMALL_DS['target'], test_size=0.2, random_state=42)\n",
        "X_train, X_test, y_train, y_test = train_test_split(DS['images'], DS['target'],\n",
        "    test_size=0.2, random_state=42)\n",
        "\n",
        "small_test_loader = torch.utils.data.DataLoader(FacesDataSet(X_small_test, y_small_test),\n",
        "    batch_size=BATCH_SIZE_TRAIN, shuffle=SHUFFLE_DATA, num_workers=NO_WORKERS)\n",
        "small_train_loader = torch.utils.data.DataLoader(FacesDataSet(X_small_train, y_small_train),\n",
        "    batch_size=BATCH_SIZE_TRAIN, shuffle=SHUFFLE_DATA, num_workers=NO_WORKERS)\n",
        "test_loader = torch.utils.data.DataLoader(FacesDataSet(X_test, y_test),\n",
        "    batch_size=BATCH_SIZE_TRAIN, shuffle=SHUFFLE_DATA, num_workers=NO_WORKERS)\n",
        "train_loader = torch.utils.data.DataLoader(FacesDataSet(X_train, y_train),\n",
        "    batch_size=BATCH_SIZE_TRAIN, shuffle=SHUFFLE_DATA, num_workers=NO_WORKERS)\n",
        "\n",
        "batch_train_images, batch_train_labels = next(iter(train_loader))\n",
        "batch_train_images_small, batch_train_labels_small = next(iter(small_train_loader))\n",
        "\n",
        "def loopy_test_loader(dl):\n",
        "    data_iter = iter(dl)\n",
        "    \n",
        "    while True:\n",
        "        try:\n",
        "            yield next(data_iter)\n",
        "        except StopIteration:\n",
        "            data_iter = iter(dl)\n",
        "            yield next(data_iter)"
      ],
      "execution_count": null,
      "outputs": []
    },
    {
      "cell_type": "markdown",
      "metadata": {
        "id": "S8PnC0j8TCAg"
      },
      "source": [
        "## Cerinta 1 - modelul MLP"
      ]
    },
    {
      "cell_type": "code",
      "metadata": {
        "colab": {
          "base_uri": "https://localhost:8080/"
        },
        "id": "exlnXfijLOlI",
        "outputId": "58c8086b-d278-465b-ae64-e31b37f788b1"
      },
      "source": [
        "class MLP(nn.Module):\n",
        "    def __init__(self, width, height, n_chan, n_cls):\n",
        "        super(MLP, self).__init__()\n",
        "\n",
        "        self.fc1 = nn.Linear(n_chan * width * height, 128)\n",
        "        self.relu1 = nn.ReLU()\n",
        "\n",
        "        self.fc2 = nn.Linear(128, 128)\n",
        "        self.relu2 = nn.ReLU()\n",
        "\n",
        "        self.fc3 = nn.Linear(128, n_cls)\n",
        "        self.sigmoid = nn.Sigmoid()\n",
        "\n",
        "\n",
        "    def forward(self, x):\n",
        "        x = torch.flatten(x, 1)\n",
        "        x = self.fc1(x)\n",
        "        x = self.relu1(x)\n",
        "\n",
        "        x = self.fc2(x)\n",
        "        x = self.relu2(x)\n",
        "\n",
        "        x = self.fc3(x)\n",
        "        x = self.sigmoid(x)\n",
        "\n",
        "        return x\n",
        "\n",
        "\n",
        "class ImprovedMLP(nn.Module):\n",
        "    def __init__(self, width, height, n_chan, n_cls):\n",
        "        super(ImprovedMLP, self).__init__()\n",
        "        self.fc1 = nn.Linear(n_chan * width * height, n_cls)\n",
        "        self.bn1 = nn.BatchNorm1d(n_cls)\n",
        "        self.sigmoid = nn.Sigmoid()\n",
        "\n",
        "\n",
        "    def forward(self, x):\n",
        "        x = torch.flatten(x, 1)\n",
        "        x = self.fc1(x)\n",
        "        x = self.bn1(x)\n",
        "        x = self.sigmoid(x)\n",
        "\n",
        "        return x\n",
        "\n",
        "\n",
        "_, chan, w, h = batch_train_images.size()\n",
        "mlp_net = MLP(w, h, chan, 5)\n",
        "mlp_net = mlp_net.to(device)\n",
        "\n",
        "print(list(mlp_net.modules())[0])\n",
        "\n",
        "\n",
        "select = 2\n",
        "inputs = batch_train_images.to(device)[:select]\n",
        "target = batch_train_labels[:select]\n",
        "\n",
        "output = mlp_net(inputs)\n",
        "_, predicted = torch.max(output, 1)\n",
        "\n",
        "print(output)\n",
        "print(predicted)\n",
        "print(target)"
      ],
      "execution_count": 33,
      "outputs": [
        {
          "output_type": "stream",
          "text": [
            "MLP(\n",
            "  (fc1): Linear(in_features=8742, out_features=128, bias=True)\n",
            "  (relu1): ReLU()\n",
            "  (fc2): Linear(in_features=128, out_features=128, bias=True)\n",
            "  (relu2): ReLU()\n",
            "  (fc3): Linear(in_features=128, out_features=5, bias=True)\n",
            "  (sigmoid): Sigmoid()\n",
            ")\n",
            "tensor([[1.0000e+00, 1.1152e-12, 3.0123e-05, 9.8942e-01, 8.5811e-07],\n",
            "        [1.0000e+00, 1.0873e-07, 8.0242e-03, 9.9999e-01, 1.1273e-03]],\n",
            "       device='cuda:0', grad_fn=<SigmoidBackward>)\n",
            "tensor([0, 0], device='cuda:0')\n",
            "tensor([3389, 1933])\n"
          ],
          "name": "stdout"
        }
      ]
    },
    {
      "cell_type": "markdown",
      "metadata": {
        "id": "qPMTe7kWTFkP"
      },
      "source": [
        "## Cerinta 2 - Modelul CNN"
      ]
    },
    {
      "cell_type": "code",
      "metadata": {
        "colab": {
          "base_uri": "https://localhost:8080/"
        },
        "id": "MII0M0opLOlI",
        "outputId": "0495c5f7-3bac-4211-f979-793246effbf9"
      },
      "source": [
        "class ConvNet(nn.Module):\n",
        "    def __init__(self, width, height, n_chan, n_cls):\n",
        "        super(ConvNet, self).__init__()\n",
        "\n",
        "        self.conv1 = nn.Conv2d(n_chan, 8, kernel_size=5, stride=1)\n",
        "        self.conv2 = nn.Conv2d(8, 16, kernel_size=5, stride=1)\n",
        "        self.pool1 = nn.MaxPool2d(kernel_size=2, stride=2)\n",
        "        self.dropout1 = nn.Dropout(p=0.25)\n",
        "\n",
        "        self.conv3 = nn.Conv2d(16, 32, kernel_size=3, stride=1)\n",
        "        self.conv4 = nn.Conv2d(32, 64, kernel_size=3, stride=1)\n",
        "        self.pool2 =  nn.MaxPool2d(kernel_size=2, stride=2)\n",
        "        self.dropout2 = nn.Dropout(p=0.25)\n",
        "\n",
        "        w_conv1 = (width - 5) + 1\n",
        "        h_conv1 = (height - 5) + 1\n",
        "        w_conv2 = (w_conv1 - 5) + 1\n",
        "        h_conv2 = (h_conv1 - 5) + 1\n",
        "        w_pool1 = (w_conv2 - 2) // 2 + 1\n",
        "        h_pool1 = (h_conv2 - 2) // 2 + 1\n",
        "\n",
        "        w_conv3 = (w_pool1 - 3) + 1\n",
        "        h_conv3 = (h_pool1 - 3) + 1\n",
        "        w_conv4 = (w_conv3 - 3) + 1\n",
        "        h_conv4 = (h_conv3 - 3) + 1\n",
        "        w_pool2 = (w_conv4 - 2) // 2 + 1\n",
        "        h_pool2 = (h_conv4 - 2) // 2 + 1\n",
        "\n",
        "        in_dense = 64 * w_pool2 * h_pool2\n",
        "\n",
        "        self.dense1 = nn.Linear(in_dense, 200)\n",
        "        self.dropout3 = nn.Dropout(p=0.4)\n",
        "        self.dense2 = nn.Linear(200, out_features=n_cls)\n",
        "        self.dropout4 = nn.Dropout(p=0.4)\n",
        "\n",
        "\n",
        "    def forward(self, x):\n",
        "        x = self.conv1(x)\n",
        "        x = self.conv2(x)\n",
        "        x = self.pool1(x)\n",
        "        x = self.dropout1(x)\n",
        "\n",
        "        x = self.conv3(x)\n",
        "        x = self.conv4(x)\n",
        "        x = self.pool2(x)\n",
        "        x = self.dropout2(x)\n",
        "\n",
        "        x = torch.flatten(x, 1)\n",
        "        x = self.dense1(x)\n",
        "        x = self.dropout3(x)\n",
        "\n",
        "        x = torch.flatten(x, 1)\n",
        "        x = self.dense2(x)\n",
        "        x = self.dropout4(x)\n",
        "\n",
        "        return x\n",
        "\n",
        "_, chan, w, h = batch_train_images.size()\n",
        "conv_net = ConvNet(w, h, chan, 5)\n",
        "conv_net = conv_net.to(device)\n",
        "\n",
        "print(list(conv_net.modules())[0])\n",
        "\n",
        "\n",
        "select = 2\n",
        "inputs = batch_train_images.to(device)[:select]\n",
        "target = batch_train_labels[:select]\n",
        "\n",
        "output = conv_net(inputs)\n",
        "_, predicted = torch.max(output, 1)\n",
        "\n",
        "print(output)\n",
        "print(predicted)\n",
        "print(target)"
      ],
      "execution_count": null,
      "outputs": [
        {
          "output_type": "stream",
          "text": [
            "ConvNet(\n",
            "  (conv1): Conv2d(3, 8, kernel_size=(5, 5), stride=(1, 1))\n",
            "  (conv2): Conv2d(8, 16, kernel_size=(5, 5), stride=(1, 1))\n",
            "  (pool1): MaxPool2d(kernel_size=2, stride=2, padding=0, dilation=1, ceil_mode=False)\n",
            "  (dropout1): Dropout(p=0.25, inplace=False)\n",
            "  (conv3): Conv2d(16, 32, kernel_size=(3, 3), stride=(1, 1))\n",
            "  (conv4): Conv2d(32, 64, kernel_size=(3, 3), stride=(1, 1))\n",
            "  (pool2): MaxPool2d(kernel_size=2, stride=2, padding=0, dilation=1, ceil_mode=False)\n",
            "  (dropout2): Dropout(p=0.25, inplace=False)\n",
            "  (dense1): Linear(in_features=4928, out_features=200, bias=True)\n",
            "  (dropout3): Dropout(p=0.4, inplace=False)\n",
            "  (dense2): Linear(in_features=200, out_features=5, bias=True)\n",
            "  (dropout4): Dropout(p=0.4, inplace=False)\n",
            ")\n",
            "tensor([[ 0.0000, 35.7718, -3.4438,  0.0000,  0.0000],\n",
            "        [ 0.0000,  0.0000,  0.0000,  0.0000,  3.0900]], device='cuda:0',\n",
            "       grad_fn=<FusedDropoutBackward>)\n",
            "tensor([1, 4], device='cuda:0')\n",
            "tensor([3389, 1933])\n"
          ],
          "name": "stdout"
        }
      ]
    },
    {
      "cell_type": "markdown",
      "metadata": {
        "id": "ynk8C7PfTJwn"
      },
      "source": [
        "## Bonus - VGG"
      ]
    },
    {
      "cell_type": "code",
      "metadata": {
        "id": "jWJyBP_4dKoI"
      },
      "source": [
        "def get_ds_facenet_vectors(net, mtcnn, images, labels):\n",
        "    res = []\n",
        "    removed = []\n",
        "    new_labels = deepcopy(labels)\n",
        "\n",
        "    for i, img in enumerate(images):\n",
        "        img = mtcnn(img)\n",
        "        if img is None:\n",
        "            removed.append(i)\n",
        "        else:\n",
        "            res.append(net(img.unsqueeze(0)).squeeze(0).detach().numpy())\n",
        "\n",
        "    new_labels = np.delete(new_labels, removed)\n",
        "\n",
        "    return res, new_labels\n",
        "\n",
        "\n",
        "def classify_SVC(model, net, mtcnn, X_train, X_test, y_train, y_test):\n",
        "    X_train, y_train = get_ds_facenet_vectors(net, mtcnn, X_train, y_train)\n",
        "    X_test, y_test = get_ds_facenet_vectors(net, mtcnn, X_test, y_test)\n",
        "\n",
        "    model = model.fit(X_train, y_train)\n",
        "    y_pred = model.predict(X_test)\n",
        "\n",
        "    print(f'SVC accuracy = {accuracy_score(y_test, y_pred)}')"
      ],
      "execution_count": null,
      "outputs": []
    },
    {
      "cell_type": "code",
      "metadata": {
        "id": "rJaElTQ6LOlK",
        "colab": {
          "base_uri": "https://localhost:8080/"
        },
        "outputId": "20c85035-e693-45ad-e157-f15b8a89bff8"
      },
      "source": [
        "classify_SVC(SVC(),\n",
        "    InceptionResnetV1(pretrained='vggface2').eval(),\n",
        "    MTCNN(margin=32, select_largest=False, post_process=False, device=device),\n",
        "    X_train, X_test, y_train, y_test)"
      ],
      "execution_count": null,
      "outputs": [
        {
          "output_type": "stream",
          "text": [
            "SVC accuracy = 0.046377922575699504\n"
          ],
          "name": "stdout"
        }
      ]
    },
    {
      "cell_type": "code",
      "metadata": {
        "colab": {
          "base_uri": "https://localhost:8080/"
        },
        "id": "hulmjTlmdRyP",
        "outputId": "e4817f70-e5b3-42a4-eb7c-bfd6da423bdf"
      },
      "source": [
        "classify_SVC(SVC(),\n",
        "    InceptionResnetV1(pretrained='vggface2').eval(),\n",
        "    MTCNN(margin=32, select_largest=False, post_process=False, device=device),\n",
        "    X_small_train, X_small_test, y_small_train, y_small_test)"
      ],
      "execution_count": null,
      "outputs": [
        {
          "output_type": "stream",
          "text": [
            "SVC accuracy = 0.5758928571428571\n"
          ],
          "name": "stdout"
        }
      ]
    },
    {
      "cell_type": "markdown",
      "metadata": {
        "id": "mSSYuFFSTL0n"
      },
      "source": [
        "## Testarea algoritmilor"
      ]
    },
    {
      "cell_type": "code",
      "metadata": {
        "id": "auwOg57RLOlK"
      },
      "source": [
        "TRAIN_ITERS = 100e3\n",
        "REPORT_TRAIN_EVERY = 100\n",
        "PLOT_EVERY = 100\n",
        "REPORT_TEST_EVERY = 100\n",
        "TEST_ITERS = 100\n",
        "\n",
        "lr_init = 0.01\n",
        "lr_factor = 0.1\n",
        "lr_schedule_milestones = [90e3, 100e3, 110e3]\n",
        "\n",
        "\n",
        "def plot_stat(stat_list, steps, title, y_label):\n",
        "    pl.plot(steps, stat_list, c='b')\n",
        "    pl.title(f'{title}')\n",
        "    pl.xlabel('Numar de batchuri')\n",
        "    pl.ylabel(y_label)\n",
        "    pl.show()\n",
        "\n",
        "\n",
        "def top_k_accuracy(k, target, output):\n",
        "    batch_size = target.size(0)\n",
        "    \n",
        "    _, pred = output.topk(k, 1, True, True)\n",
        "    \n",
        "    pred = pred.t()\n",
        "    correct = pred.eq(target.to(device).view(1, -1).expand_as(pred))\n",
        "\n",
        "    correct_k = correct[:k].view(-1).float().sum(0, keepdim=True)\n",
        "    correct_k.mul_(100.0 / batch_size)\n",
        "    \n",
        "    return correct_k\n",
        "\n",
        "\n",
        "def test_alg(net, loader_train, loader_test, optimiser, epochs):\n",
        "    train_iter = 0\n",
        "    losses = []\n",
        "    test_losses = []\n",
        "    train_accs = []\n",
        "    test_accs = []\n",
        "    steps = []\n",
        "    test_steps = []\n",
        "\n",
        "    criterion = nn.CrossEntropyLoss()\n",
        "    lr_scheduler = torch.optim.lr_scheduler.MultiStepLR(optimiser, milestones=lr_schedule_milestones, gamma=lr_factor)\n",
        "    test_data_provider = loopy_test_loader(loader_test)\n",
        "\n",
        "    net.train()\n",
        "\n",
        "    running_loss = 0.0\n",
        "    running_acc = 0.0\n",
        "    ct = 0\n",
        "\n",
        "    for epoch in range(epochs):\n",
        "        for i, data in enumerate(loader_train, 0):\n",
        "            lr_scheduler.step()\n",
        "            inputs, labels = data[0].to(device), data[1].to(device)\n",
        "            optimiser.zero_grad()\n",
        "\n",
        "            outputs = net(inputs)\n",
        "            loss = criterion(outputs, labels)\n",
        "            loss.backward()\n",
        "            optimiser.step()\n",
        "\n",
        "            running_loss += loss.item()\n",
        "            running_acc += top_k_accuracy(1, labels, outputs)\n",
        "            \n",
        "            if train_iter % REPORT_TRAIN_EVERY == REPORT_TRAIN_EVERY - 1:\n",
        "                train_loss = running_loss / REPORT_TRAIN_EVERY\n",
        "                train_acc = running_acc / REPORT_TRAIN_EVERY\n",
        "                \n",
        "                print('[%d, %5d, %6d] LR: %.5f' % (epoch + 1, i + 1, train_iter, lr_scheduler.get_lr()[-1]))\n",
        "                print('[%d, %5d] loss: %.5f, acc: %.5f' %\n",
        "                    (epoch + 1, i + 1, train_loss, train_acc))\n",
        "                \n",
        "                losses.append(train_loss)\n",
        "                steps.append(train_iter)\n",
        "                train_accs.append(train_acc)\n",
        "                \n",
        "                running_loss = 0\n",
        "                train_loss = 0\n",
        "                running_acc = 0\n",
        "                train_acc = 0\n",
        "                \n",
        "            train_iter += 1\n",
        "        \n",
        "            if train_iter % REPORT_TEST_EVERY == 0:\n",
        "                net.eval()\n",
        "                \n",
        "                with torch.no_grad():\n",
        "                    test_iter = 0\n",
        "                    test_loss = 0\n",
        "                    correct = 0\n",
        "                    \n",
        "                    while test_iter < TEST_ITERS:\n",
        "                        test_data = next(test_data_provider)\n",
        "                        test_inputs, test_labels = test_data[0].to(device), test_data[1].to(device)\n",
        "\n",
        "                        out = net(test_inputs)\n",
        "                        test_loss += criterion(out, test_labels)\n",
        "\n",
        "                        correct += top_k_accuracy(1, test_labels, out)\n",
        "                        test_iter += 1\n",
        "                            \n",
        "                    avg_test_loss = test_loss / TEST_ITERS\n",
        "                    avg_acc = correct / TEST_ITERS\n",
        "                    test_accs.append(avg_acc)\n",
        "                    test_losses.append(avg_test_loss)\n",
        "                    test_steps.append(train_iter)\n",
        "                    \n",
        "                    print('[%d, %5d] avg_test_loss: %.5f, avg_test_acc: %.2f' \n",
        "                        % (epoch + 1, i + 1, avg_test_loss, avg_acc))\n",
        "                    \n",
        "                net.train()\n",
        "\n",
        "    plot_stat(train_accs, steps, 'Acuratete pe setul de antrenare', 'Acuratete')\n",
        "    plot_stat(losses, steps, 'Loss pe setul de antrenare', 'Valoarea functiei de loss')\n",
        "\n",
        "    plot_stat(test_accs, test_steps,'Acuratete pe setul de testare', 'Acuratete')\n",
        "    plot_stat(test_losses, test_steps, 'Loss pe setul de testare', 'Valoarea functiei de loss')"
      ],
      "execution_count": null,
      "outputs": []
    },
    {
      "cell_type": "code",
      "metadata": {
        "id": "qUjenNvGR7_Z",
        "colab": {
          "base_uri": "https://localhost:8080/",
          "height": 1000
        },
        "outputId": "6ecd80fe-bdd3-493f-d237-c204065e3c3d"
      },
      "source": [
        "_, chan, w, h = batch_train_images.size()\n",
        "net = ConvNet(w, h, chan, len(DS['target_names'])).to(device)\n",
        "\n",
        "test_alg(net,\n",
        "    train_loader, test_loader,\n",
        "    torch.optim.Adam(net.parameters(), lr=0.01, weight_decay=1e-4),\n",
        "    200)"
      ],
      "execution_count": null,
      "outputs": [
        {
          "output_type": "stream",
          "text": [
            "/usr/local/lib/python3.7/dist-packages/torch/optim/lr_scheduler.py:134: UserWarning: Detected call of `lr_scheduler.step()` before `optimizer.step()`. In PyTorch 1.1.0 and later, you should call them in the opposite order: `optimizer.step()` before `lr_scheduler.step()`.  Failure to do this will result in PyTorch skipping the first value of the learning rate schedule. See more details at https://pytorch.org/docs/stable/optim.html#how-to-adjust-learning-rate\n",
            "  \"https://pytorch.org/docs/stable/optim.html#how-to-adjust-learning-rate\", UserWarning)\n"
          ],
          "name": "stderr"
        },
        {
          "output_type": "stream",
          "text": [
            "[1,   100,     99] LR: 0.01000\n",
            "[1,   100] loss: 5649.32688, acc: 0.21000\n"
          ],
          "name": "stdout"
        },
        {
          "output_type": "stream",
          "text": [
            "/usr/local/lib/python3.7/dist-packages/torch/optim/lr_scheduler.py:417: UserWarning: To get the last learning rate computed by the scheduler, please use `get_last_lr()`.\n",
            "  \"please use `get_last_lr()`.\", UserWarning)\n"
          ],
          "name": "stderr"
        },
        {
          "output_type": "stream",
          "text": [
            "[1,   100] avg_test_loss: 90.10613, avg_test_acc: 0.04\n",
            "[2,    94,    199] LR: 0.01000\n",
            "[2,    94] loss: 38.77558, acc: 0.36000\n",
            "[2,    94] avg_test_loss: 88.92995, avg_test_acc: 0.00\n",
            "[3,    88,    299] LR: 0.01000\n",
            "[3,    88] loss: 24.24346, acc: 0.53000\n",
            "[3,    88] avg_test_loss: 57.99676, avg_test_acc: 0.05\n",
            "[4,    82,    399] LR: 0.01000\n",
            "[4,    82] loss: 17.33759, acc: 0.76000\n",
            "[4,    82] avg_test_loss: 30.68665, avg_test_acc: 0.00\n",
            "[5,    76,    499] LR: 0.01000\n",
            "[5,    76] loss: 14.13016, acc: 1.10163\n",
            "[5,    76] avg_test_loss: 22.94894, avg_test_acc: 0.03\n",
            "[6,    70,    599] LR: 0.01000\n",
            "[6,    70] loss: 11.82055, acc: 1.56326\n",
            "[6,    70] avg_test_loss: 16.75553, avg_test_acc: 0.00\n",
            "[7,    64,    699] LR: 0.01000\n",
            "[7,    64] loss: 10.57131, acc: 1.87163\n",
            "[7,    64] avg_test_loss: 12.32230, avg_test_acc: 0.00\n",
            "[8,    58,    799] LR: 0.01000\n",
            "[8,    58] loss: 9.57122, acc: 3.15163\n",
            "[8,    58] avg_test_loss: 11.58802, avg_test_acc: 0.00\n",
            "[9,    52,    899] LR: 0.01000\n",
            "[9,    52] loss: 8.89098, acc: 4.01000\n",
            "[9,    52] avg_test_loss: 10.06100, avg_test_acc: 0.09\n",
            "[10,    46,    999] LR: 0.01000\n",
            "[10,    46] loss: 8.40291, acc: 5.75814\n",
            "[10,    46] avg_test_loss: 9.45235, avg_test_acc: 0.69\n",
            "[11,    40,   1099] LR: 0.01000\n",
            "[11,    40] loss: 7.91243, acc: 6.99628\n",
            "[11,    40] avg_test_loss: 8.83508, avg_test_acc: 2.07\n",
            "[12,    34,   1199] LR: 0.01000\n",
            "[12,    34] loss: 7.61930, acc: 8.20814\n",
            "[12,    34] avg_test_loss: 8.80357, avg_test_acc: 1.56\n",
            "[13,    28,   1299] LR: 0.01000\n",
            "[13,    28] loss: 7.29505, acc: 10.34302\n",
            "[13,    28] avg_test_loss: 8.56033, avg_test_acc: 2.41\n",
            "[14,    22,   1399] LR: 0.01000\n",
            "[14,    22] loss: 7.03905, acc: 11.92628\n",
            "[14,    22] avg_test_loss: 8.65238, avg_test_acc: 0.95\n",
            "[15,    16,   1499] LR: 0.01000\n",
            "[15,    16] loss: 6.78185, acc: 13.59442\n",
            "[15,    16] avg_test_loss: 8.23840, avg_test_acc: 4.38\n",
            "[16,    10,   1599] LR: 0.01000\n",
            "[16,    10] loss: 6.62588, acc: 14.75116\n",
            "[16,    10] avg_test_loss: 8.23436, avg_test_acc: 3.55\n",
            "[17,     4,   1699] LR: 0.01000\n",
            "[17,     4] loss: 6.44528, acc: 17.05791\n",
            "[17,     4] avg_test_loss: 7.95920, avg_test_acc: 5.37\n",
            "[17,   104,   1799] LR: 0.01000\n",
            "[17,   104] loss: 6.34434, acc: 17.98000\n",
            "[17,   104] avg_test_loss: 7.77042, avg_test_acc: 7.34\n",
            "[18,    98,   1899] LR: 0.01000\n",
            "[18,    98] loss: 6.13258, acc: 19.80953\n",
            "[18,    98] avg_test_loss: 7.84671, avg_test_acc: 6.64\n",
            "[19,    92,   1999] LR: 0.01000\n",
            "[19,    92] loss: 6.00847, acc: 21.44465\n",
            "[19,    92] avg_test_loss: 7.81785, avg_test_acc: 6.09\n",
            "[20,    86,   2099] LR: 0.01000\n",
            "[20,    86] loss: 5.93232, acc: 22.67768\n",
            "[20,    86] avg_test_loss: 7.78475, avg_test_acc: 6.74\n",
            "[21,    80,   2199] LR: 0.01000\n",
            "[21,    80] loss: 5.86110, acc: 23.62442\n",
            "[21,    80] avg_test_loss: 7.65743, avg_test_acc: 6.14\n",
            "[22,    74,   2299] LR: 0.01000\n",
            "[22,    74] loss: 5.74396, acc: 25.26418\n",
            "[22,    74] avg_test_loss: 7.59455, avg_test_acc: 9.20\n",
            "[23,    68,   2399] LR: 0.01000\n",
            "[23,    68] loss: 5.62412, acc: 26.44907\n",
            "[23,    68] avg_test_loss: 7.61630, avg_test_acc: 8.62\n",
            "[24,    62,   2499] LR: 0.01000\n",
            "[24,    62] loss: 5.56770, acc: 26.91930\n",
            "[24,    62] avg_test_loss: 7.58988, avg_test_acc: 8.65\n",
            "[25,    56,   2599] LR: 0.01000\n",
            "[25,    56] loss: 5.45300, acc: 28.42744\n",
            "[25,    56] avg_test_loss: 7.54678, avg_test_acc: 9.01\n",
            "[26,    50,   2699] LR: 0.01000\n",
            "[26,    50] loss: 5.37411, acc: 29.28581\n",
            "[26,    50] avg_test_loss: 7.52914, avg_test_acc: 9.14\n",
            "[27,    44,   2799] LR: 0.01000\n",
            "[27,    44] loss: 5.41879, acc: 29.25070\n",
            "[27,    44] avg_test_loss: 7.44734, avg_test_acc: 10.64\n",
            "[28,    38,   2899] LR: 0.01000\n",
            "[28,    38] loss: 5.32653, acc: 30.70558\n",
            "[28,    38] avg_test_loss: 7.59507, avg_test_acc: 10.58\n",
            "[29,    32,   2999] LR: 0.01000\n",
            "[29,    32] loss: 5.35427, acc: 29.42907\n",
            "[29,    32] avg_test_loss: 7.51410, avg_test_acc: 10.25\n",
            "[30,    26,   3099] LR: 0.01000\n",
            "[30,    26] loss: 5.30456, acc: 30.64767\n",
            "[30,    26] avg_test_loss: 7.45445, avg_test_acc: 10.31\n",
            "[31,    20,   3199] LR: 0.01000\n",
            "[31,    20] loss: 5.18071, acc: 32.23046\n",
            "[31,    20] avg_test_loss: 7.45115, avg_test_acc: 10.20\n",
            "[32,    14,   3299] LR: 0.01000\n",
            "[32,    14] loss: 5.22659, acc: 31.76093\n",
            "[32,    14] avg_test_loss: 7.45973, avg_test_acc: 11.79\n",
            "[33,     8,   3399] LR: 0.01000\n",
            "[33,     8] loss: 5.14547, acc: 32.86256\n",
            "[33,     8] avg_test_loss: 7.38608, avg_test_acc: 10.20\n",
            "[34,     2,   3499] LR: 0.01000\n",
            "[34,     2] loss: 5.16674, acc: 32.38395\n",
            "[34,     2] avg_test_loss: 7.50389, avg_test_acc: 10.43\n",
            "[34,   102,   3599] LR: 0.01000\n",
            "[34,   102] loss: 315432116.55855, acc: 22.82000\n",
            "[34,   102] avg_test_loss: 621678336.00000, avg_test_acc: 0.00\n",
            "[35,    96,   3699] LR: 0.01000\n",
            "[35,    96] loss: 166890576.90875, acc: 0.09000\n",
            "[35,    96] avg_test_loss: 568794.06250, avg_test_acc: 0.04\n",
            "[36,    90,   3799] LR: 0.01000\n",
            "[36,    90] loss: 404422.85234, acc: 0.17000\n",
            "[36,    90] avg_test_loss: 90182.07031, avg_test_acc: 0.03\n",
            "[37,    84,   3899] LR: 0.01000\n",
            "[37,    84] loss: 218116.82453, acc: 0.07000\n",
            "[37,    84] avg_test_loss: 76338.30469, avg_test_acc: 0.06\n",
            "[38,    78,   3999] LR: 0.01000\n",
            "[38,    78] loss: 158720.69609, acc: 0.12000\n",
            "[38,    78] avg_test_loss: 67388.56250, avg_test_acc: 0.19\n",
            "[39,    72,   4099] LR: 0.01000\n",
            "[39,    72] loss: 121457.24727, acc: 0.12000\n",
            "[39,    72] avg_test_loss: 53897.91797, avg_test_acc: 0.16\n",
            "[40,    66,   4199] LR: 0.01000\n",
            "[40,    66] loss: 88840.46625, acc: 0.12000\n",
            "[40,    66] avg_test_loss: 53677.35547, avg_test_acc: 0.03\n",
            "[41,    60,   4299] LR: 0.01000\n",
            "[41,    60] loss: 98830.20906, acc: 0.14326\n",
            "[41,    60] avg_test_loss: 32136.86914, avg_test_acc: 0.16\n",
            "[42,    54,   4399] LR: 0.01000\n",
            "[42,    54] loss: 69444.24023, acc: 0.13000\n",
            "[42,    54] avg_test_loss: 30996.42188, avg_test_acc: 0.12\n",
            "[43,    48,   4499] LR: 0.01000\n",
            "[43,    48] loss: 59728.09645, acc: 0.14000\n",
            "[43,    48] avg_test_loss: 25784.04883, avg_test_acc: 0.07\n",
            "[44,    42,   4599] LR: 0.01000\n",
            "[44,    42] loss: 53161.63445, acc: 0.11000\n",
            "[44,    42] avg_test_loss: 27101.93164, avg_test_acc: 0.08\n",
            "[45,    36,   4699] LR: 0.01000\n",
            "[45,    36] loss: 51578.58777, acc: 0.18000\n",
            "[45,    36] avg_test_loss: 27511.50977, avg_test_acc: 0.16\n",
            "[46,    30,   4799] LR: 0.01000\n",
            "[46,    30] loss: 46838.38203, acc: 0.10000\n",
            "[46,    30] avg_test_loss: 25961.77930, avg_test_acc: 0.04\n",
            "[47,    24,   4899] LR: 0.01000\n",
            "[47,    24] loss: 48662.93102, acc: 0.16000\n",
            "[47,    24] avg_test_loss: 33832.21875, avg_test_acc: 0.15\n",
            "[48,    18,   4999] LR: 0.01000\n",
            "[48,    18] loss: 46202.42777, acc: 0.11000\n",
            "[48,    18] avg_test_loss: 20046.92969, avg_test_acc: 0.12\n",
            "[49,    12,   5099] LR: 0.01000\n",
            "[49,    12] loss: 34912.97883, acc: 0.16000\n",
            "[49,    12] avg_test_loss: 24753.68359, avg_test_acc: 0.04\n",
            "[50,     6,   5199] LR: 0.01000\n",
            "[50,     6] loss: 33015.52939, acc: 0.09000\n",
            "[50,     6] avg_test_loss: 22425.88672, avg_test_acc: 0.04\n",
            "[50,   106,   5299] LR: 0.01000\n",
            "[50,   106] loss: 38825.13186, acc: 0.10000\n",
            "[50,   106] avg_test_loss: 20880.97070, avg_test_acc: 0.10\n",
            "[51,   100,   5399] LR: 0.01000\n",
            "[51,   100] loss: 30350.84365, acc: 0.13000\n",
            "[51,   100] avg_test_loss: 16954.95898, avg_test_acc: 0.04\n",
            "[52,    94,   5499] LR: 0.01000\n",
            "[52,    94] loss: 30126.18926, acc: 0.16000\n",
            "[52,    94] avg_test_loss: 18754.37500, avg_test_acc: 0.03\n",
            "[53,    88,   5599] LR: 0.01000\n",
            "[53,    88] loss: 26080.81732, acc: 0.08000\n",
            "[53,    88] avg_test_loss: 13407.44434, avg_test_acc: 0.00\n",
            "[54,    82,   5699] LR: 0.01000\n",
            "[54,    82] loss: 25067.86936, acc: 0.13000\n",
            "[54,    82] avg_test_loss: 12990.59961, avg_test_acc: 0.08\n",
            "[55,    76,   5799] LR: 0.01000\n",
            "[55,    76] loss: 22288.37193, acc: 0.08163\n",
            "[55,    76] avg_test_loss: 14817.61719, avg_test_acc: 0.07\n",
            "[56,    70,   5899] LR: 0.01000\n",
            "[56,    70] loss: 20713.81500, acc: 0.11000\n",
            "[56,    70] avg_test_loss: 14611.32129, avg_test_acc: 0.05\n",
            "[57,    64,   5999] LR: 0.01000\n",
            "[57,    64] loss: 20619.13983, acc: 0.12000\n",
            "[57,    64] avg_test_loss: 16166.95312, avg_test_acc: 0.00\n",
            "[58,    58,   6099] LR: 0.01000\n",
            "[58,    58] loss: 18806.40777, acc: 0.14000\n",
            "[58,    58] avg_test_loss: 15235.98633, avg_test_acc: 0.10\n",
            "[59,    52,   6199] LR: 0.01000\n",
            "[59,    52] loss: 18073.47734, acc: 0.13000\n",
            "[59,    52] avg_test_loss: 11386.95508, avg_test_acc: 0.04\n",
            "[60,    46,   6299] LR: 0.01000\n",
            "[60,    46] loss: 16958.35695, acc: 0.12000\n",
            "[60,    46] avg_test_loss: 13862.29688, avg_test_acc: 0.08\n",
            "[61,    40,   6399] LR: 0.01000\n",
            "[61,    40] loss: 16321.57688, acc: 0.11000\n",
            "[61,    40] avg_test_loss: 12058.35742, avg_test_acc: 0.04\n",
            "[62,    34,   6499] LR: 0.01000\n",
            "[62,    34] loss: 15142.62988, acc: 0.18000\n",
            "[62,    34] avg_test_loss: 10759.48633, avg_test_acc: 0.15\n",
            "[63,    28,   6599] LR: 0.01000\n",
            "[63,    28] loss: 15230.37548, acc: 0.17000\n",
            "[63,    28] avg_test_loss: 12580.34863, avg_test_acc: 0.18\n",
            "[64,    22,   6699] LR: 0.01000\n",
            "[64,    22] loss: 15221.03178, acc: 0.16000\n",
            "[64,    22] avg_test_loss: 11444.25195, avg_test_acc: 0.13\n",
            "[65,    16,   6799] LR: 0.01000\n",
            "[65,    16] loss: 12692.64804, acc: 0.15000\n",
            "[65,    16] avg_test_loss: 8614.56055, avg_test_acc: 0.11\n",
            "[66,    10,   6899] LR: 0.01000\n",
            "[66,    10] loss: 13034.15579, acc: 0.12000\n",
            "[66,    10] avg_test_loss: 9785.14941, avg_test_acc: 0.08\n",
            "[67,     4,   6999] LR: 0.01000\n",
            "[67,     4] loss: 12236.23266, acc: 0.13163\n",
            "[67,     4] avg_test_loss: 7169.09912, avg_test_acc: 0.06\n",
            "[67,   104,   7099] LR: 0.01000\n",
            "[67,   104] loss: 12911.40234, acc: 0.15000\n",
            "[67,   104] avg_test_loss: 10281.17383, avg_test_acc: 0.18\n",
            "[68,    98,   7199] LR: 0.01000\n",
            "[68,    98] loss: 10875.65771, acc: 0.18163\n",
            "[68,    98] avg_test_loss: 7314.23535, avg_test_acc: 0.14\n",
            "[69,    92,   7299] LR: 0.01000\n",
            "[69,    92] loss: 10787.95924, acc: 0.16000\n",
            "[69,    92] avg_test_loss: 13885.47363, avg_test_acc: 0.21\n",
            "[70,    86,   7399] LR: 0.01000\n",
            "[70,    86] loss: 13058.51287, acc: 0.14000\n",
            "[70,    86] avg_test_loss: 7992.50146, avg_test_acc: 0.18\n",
            "[71,    80,   7499] LR: 0.01000\n",
            "[71,    80] loss: 41077.88012, acc: 0.12000\n",
            "[71,    80] avg_test_loss: 687325.81250, avg_test_acc: 0.00\n",
            "[72,    74,   7599] LR: 0.01000\n",
            "[72,    74] loss: 416823.95523, acc: 0.05000\n",
            "[72,    74] avg_test_loss: 464986.90625, avg_test_acc: 0.00\n",
            "[73,    68,   7699] LR: 0.01000\n",
            "[73,    68] loss: 319172.81570, acc: 0.00000\n",
            "[73,    68] avg_test_loss: 40299.55078, avg_test_acc: 0.00\n",
            "[74,    62,   7799] LR: 0.01000\n",
            "[74,    62] loss: 15373.19685, acc: 0.13000\n",
            "[74,    62] avg_test_loss: 6608.98535, avg_test_acc: 0.00\n",
            "[75,    56,   7899] LR: 0.01000\n",
            "[75,    56] loss: 6447.68207, acc: 0.19000\n",
            "[75,    56] avg_test_loss: 5743.59131, avg_test_acc: 0.00\n",
            "[76,    50,   7999] LR: 0.01000\n",
            "[76,    50] loss: 5649.76834, acc: 0.20000\n",
            "[76,    50] avg_test_loss: 5133.06787, avg_test_acc: 0.00\n",
            "[77,    44,   8099] LR: 0.01000\n",
            "[77,    44] loss: 5180.43072, acc: 0.16000\n",
            "[77,    44] avg_test_loss: 4528.12695, avg_test_acc: 0.00\n",
            "[78,    38,   8199] LR: 0.01000\n",
            "[78,    38] loss: 5284.72364, acc: 0.16000\n",
            "[78,    38] avg_test_loss: 5835.85303, avg_test_acc: 0.00\n",
            "[79,    32,   8299] LR: 0.01000\n",
            "[79,    32] loss: 7924.31693, acc: 0.24000\n",
            "[79,    32] avg_test_loss: 6395.59814, avg_test_acc: 0.10\n",
            "[80,    26,   8399] LR: 0.01000\n",
            "[80,    26] loss: 4525.33927, acc: 0.19000\n",
            "[80,    26] avg_test_loss: 4194.64404, avg_test_acc: 0.04\n",
            "[81,    20,   8499] LR: 0.01000\n",
            "[81,    20] loss: 5312.60169, acc: 0.14000\n",
            "[81,    20] avg_test_loss: 4314.16846, avg_test_acc: 0.00\n",
            "[82,    14,   8599] LR: 0.01000\n",
            "[82,    14] loss: 4679.63114, acc: 0.22000\n",
            "[82,    14] avg_test_loss: 5546.22168, avg_test_acc: 0.00\n",
            "[83,     8,   8699] LR: 0.01000\n",
            "[83,     8] loss: 5148.97949, acc: 0.15000\n",
            "[83,     8] avg_test_loss: 7808.29932, avg_test_acc: 0.00\n",
            "[84,     2,   8799] LR: 0.01000\n",
            "[84,     2] loss: 10765.20398, acc: 0.23000\n",
            "[84,     2] avg_test_loss: 5011.81152, avg_test_acc: 0.00\n",
            "[84,   102,   8899] LR: 0.01000\n",
            "[84,   102] loss: 28453.42430, acc: 0.14000\n",
            "[84,   102] avg_test_loss: 38714.51562, avg_test_acc: 0.00\n",
            "[85,    96,   8999] LR: 0.01000\n",
            "[85,    96] loss: 628548.36687, acc: 0.07000\n",
            "[85,    96] avg_test_loss: 16019.98340, avg_test_acc: 0.03\n",
            "[86,    90,   9099] LR: 0.01000\n",
            "[86,    90] loss: 22820.96634, acc: 0.06000\n",
            "[86,    90] avg_test_loss: 2937.57715, avg_test_acc: 0.04\n",
            "[87,    84,   9199] LR: 0.01000\n",
            "[87,    84] loss: 3622.32361, acc: 0.16000\n",
            "[87,    84] avg_test_loss: 2600.75122, avg_test_acc: 0.00\n",
            "[88,    78,   9299] LR: 0.01000\n",
            "[88,    78] loss: 2860.83223, acc: 0.17000\n",
            "[88,    78] avg_test_loss: 2158.13965, avg_test_acc: 0.06\n",
            "[89,    72,   9399] LR: 0.01000\n",
            "[89,    72] loss: 2557.94681, acc: 0.26163\n",
            "[89,    72] avg_test_loss: 1735.78406, avg_test_acc: 0.00\n",
            "[90,    66,   9499] LR: 0.01000\n",
            "[90,    66] loss: 2332.38927, acc: 0.16000\n",
            "[90,    66] avg_test_loss: 1935.97961, avg_test_acc: 0.00\n",
            "[91,    60,   9599] LR: 0.01000\n",
            "[91,    60] loss: 2159.28929, acc: 0.24000\n",
            "[91,    60] avg_test_loss: 1744.88367, avg_test_acc: 0.03\n",
            "[92,    54,   9699] LR: 0.01000\n",
            "[92,    54] loss: 1912.60357, acc: 0.21000\n",
            "[92,    54] avg_test_loss: 1577.21790, avg_test_acc: 0.10\n",
            "[93,    48,   9799] LR: 0.01000\n",
            "[93,    48] loss: 1820.67527, acc: 0.22000\n",
            "[93,    48] avg_test_loss: 1610.36389, avg_test_acc: 0.06\n",
            "[94,    42,   9899] LR: 0.01000\n",
            "[94,    42] loss: 1713.03651, acc: 0.24000\n",
            "[94,    42] avg_test_loss: 1529.21777, avg_test_acc: 0.04\n",
            "[95,    36,   9999] LR: 0.01000\n",
            "[95,    36] loss: 1593.43128, acc: 0.15000\n",
            "[95,    36] avg_test_loss: 1321.70581, avg_test_acc: 0.08\n",
            "[96,    30,  10099] LR: 0.01000\n",
            "[96,    30] loss: 1527.90454, acc: 0.18000\n",
            "[96,    30] avg_test_loss: 1594.25110, avg_test_acc: 0.08\n",
            "[97,    24,  10199] LR: 0.01000\n",
            "[97,    24] loss: 4717.98500, acc: 0.24000\n",
            "[97,    24] avg_test_loss: 1498.94202, avg_test_acc: 0.00\n",
            "[98,    18,  10299] LR: 0.01000\n",
            "[98,    18] loss: 1571.89484, acc: 0.20000\n",
            "[98,    18] avg_test_loss: 1266.31958, avg_test_acc: 0.18\n",
            "[99,    12,  10399] LR: 0.01000\n",
            "[99,    12] loss: 3147.04158, acc: 0.34000\n",
            "[99,    12] avg_test_loss: 3868.90405, avg_test_acc: 0.00\n",
            "[100,     6,  10499] LR: 0.01000\n",
            "[100,     6] loss: 6176.90409, acc: 0.25163\n",
            "[100,     6] avg_test_loss: 1329.66418, avg_test_acc: 0.22\n",
            "[100,   106,  10599] LR: 0.01000\n",
            "[100,   106] loss: 1275.29662, acc: 0.18000\n",
            "[100,   106] avg_test_loss: 844.15887, avg_test_acc: 0.18\n",
            "[101,   100,  10699] LR: 0.01000\n",
            "[101,   100] loss: 1102.61823, acc: 0.33000\n",
            "[101,   100] avg_test_loss: 862.46820, avg_test_acc: 0.18\n",
            "[102,    94,  10799] LR: 0.01000\n",
            "[102,    94] loss: 1032.63069, acc: 0.22163\n",
            "[102,    94] avg_test_loss: 784.52722, avg_test_acc: 0.20\n",
            "[103,    88,  10899] LR: 0.01000\n",
            "[103,    88] loss: 981.37381, acc: 0.20000\n",
            "[103,    88] avg_test_loss: 885.49286, avg_test_acc: 0.15\n",
            "[104,    82,  10999] LR: 0.01000\n",
            "[104,    82] loss: 976.99873, acc: 0.20000\n",
            "[104,    82] avg_test_loss: 961.98663, avg_test_acc: 0.13\n",
            "[105,    76,  11099] LR: 0.01000\n",
            "[105,    76] loss: 1550.79483, acc: 0.22163\n",
            "[105,    76] avg_test_loss: 1183.84729, avg_test_acc: 0.20\n",
            "[106,    70,  11199] LR: 0.01000\n",
            "[106,    70] loss: 1020.09706, acc: 0.21000\n",
            "[106,    70] avg_test_loss: 649.50513, avg_test_acc: 0.19\n",
            "[107,    64,  11299] LR: 0.01000\n",
            "[107,    64] loss: 874.91913, acc: 0.29000\n",
            "[107,    64] avg_test_loss: 729.26910, avg_test_acc: 0.16\n",
            "[108,    58,  11399] LR: 0.01000\n",
            "[108,    58] loss: 1447.73303, acc: 0.21000\n",
            "[108,    58] avg_test_loss: 600.00531, avg_test_acc: 0.11\n",
            "[109,    52,  11499] LR: 0.01000\n",
            "[109,    52] loss: 1005.83903, acc: 0.29000\n",
            "[109,    52] avg_test_loss: 917.72253, avg_test_acc: 0.07\n",
            "[110,    46,  11599] LR: 0.01000\n",
            "[110,    46] loss: 2230.33650, acc: 0.31000\n",
            "[110,    46] avg_test_loss: 842.36969, avg_test_acc: 0.07\n",
            "[111,    40,  11699] LR: 0.01000\n",
            "[111,    40] loss: 1752.45660, acc: 0.19000\n",
            "[111,    40] avg_test_loss: 794.67786, avg_test_acc: 0.23\n",
            "[112,    34,  11799] LR: 0.01000\n",
            "[112,    34] loss: 1345.54908, acc: 0.27000\n",
            "[112,    34] avg_test_loss: 910.30481, avg_test_acc: 0.15\n",
            "[113,    28,  11899] LR: 0.01000\n",
            "[113,    28] loss: 1255.78961, acc: 0.21000\n",
            "[113,    28] avg_test_loss: 637.03296, avg_test_acc: 0.08\n",
            "[114,    22,  11999] LR: 0.01000\n",
            "[114,    22] loss: 3266.38985, acc: 0.23000\n",
            "[114,    22] avg_test_loss: 1268.03052, avg_test_acc: 0.00\n",
            "[115,    16,  12099] LR: 0.01000\n",
            "[115,    16] loss: 1753.13557, acc: 0.26000\n",
            "[115,    16] avg_test_loss: 744.34613, avg_test_acc: 0.06\n",
            "[116,    10,  12199] LR: 0.01000\n",
            "[116,    10] loss: 12494.89826, acc: 0.25000\n",
            "[116,    10] avg_test_loss: 6931.93750, avg_test_acc: 0.00\n",
            "[117,     4,  12299] LR: 0.01000\n",
            "[117,     4] loss: 4705.25961, acc: 0.04000\n",
            "[117,     4] avg_test_loss: 563.09039, avg_test_acc: 0.08\n",
            "[117,   104,  12399] LR: 0.01000\n",
            "[117,   104] loss: 561.60497, acc: 0.23000\n",
            "[117,   104] avg_test_loss: 409.08002, avg_test_acc: 0.03\n",
            "[118,    98,  12499] LR: 0.01000\n",
            "[118,    98] loss: 488.58157, acc: 0.25000\n",
            "[118,    98] avg_test_loss: 320.10721, avg_test_acc: 0.04\n",
            "[119,    92,  12599] LR: 0.01000\n",
            "[119,    92] loss: 585.38515, acc: 0.17163\n",
            "[119,    92] avg_test_loss: 459.05945, avg_test_acc: 0.04\n",
            "[120,    86,  12699] LR: 0.01000\n",
            "[120,    86] loss: 1324.52010, acc: 0.21000\n",
            "[120,    86] avg_test_loss: 1440.08032, avg_test_acc: 0.04\n",
            "[121,    80,  12799] LR: 0.01000\n",
            "[121,    80] loss: 1228.26493, acc: 0.26000\n",
            "[121,    80] avg_test_loss: 217.50644, avg_test_acc: 0.03\n",
            "[122,    74,  12899] LR: 0.01000\n",
            "[122,    74] loss: 390.26747, acc: 0.22000\n",
            "[122,    74] avg_test_loss: 205.42105, avg_test_acc: 0.08\n",
            "[123,    68,  12999] LR: 0.01000\n",
            "[123,    68] loss: 398.49249, acc: 0.23000\n",
            "[123,    68] avg_test_loss: 213.30806, avg_test_acc: 0.11\n",
            "[124,    62,  13099] LR: 0.01000\n",
            "[124,    62] loss: 482.37266, acc: 0.26163\n",
            "[124,    62] avg_test_loss: 201.52339, avg_test_acc: 0.08\n",
            "[125,    56,  13199] LR: 0.01000\n",
            "[125,    56] loss: 475.24838, acc: 0.31000\n",
            "[125,    56] avg_test_loss: 180.32968, avg_test_acc: 0.00\n",
            "[126,    50,  13299] LR: 0.01000\n",
            "[126,    50] loss: 388.17358, acc: 0.33163\n",
            "[126,    50] avg_test_loss: 255.91769, avg_test_acc: 0.04\n",
            "[127,    44,  13399] LR: 0.01000\n",
            "[127,    44] loss: 336.22215, acc: 0.39000\n",
            "[127,    44] avg_test_loss: 144.21320, avg_test_acc: 0.09\n",
            "[128,    38,  13499] LR: 0.01000\n",
            "[128,    38] loss: 457.66733, acc: 0.27000\n",
            "[128,    38] avg_test_loss: 482.68842, avg_test_acc: 0.00\n",
            "[129,    32,  13599] LR: 0.01000\n",
            "[129,    32] loss: 674.18443, acc: 0.14000\n",
            "[129,    32] avg_test_loss: 203.44908, avg_test_acc: 0.00\n",
            "[130,    26,  13699] LR: 0.01000\n",
            "[130,    26] loss: 771.93079, acc: 0.23000\n",
            "[130,    26] avg_test_loss: 267.85077, avg_test_acc: 0.00\n",
            "[131,    20,  13799] LR: 0.01000\n",
            "[131,    20] loss: 285.23240, acc: 0.43000\n",
            "[131,    20] avg_test_loss: 116.41107, avg_test_acc: 0.10\n",
            "[132,    14,  13899] LR: 0.01000\n",
            "[132,    14] loss: 288.29377, acc: 0.44000\n",
            "[132,    14] avg_test_loss: 220.59125, avg_test_acc: 0.04\n",
            "[133,     8,  13999] LR: 0.01000\n",
            "[133,     8] loss: 1152.98186, acc: 0.23000\n",
            "[133,     8] avg_test_loss: 189.51888, avg_test_acc: 0.18\n",
            "[134,     2,  14099] LR: 0.01000\n",
            "[134,     2] loss: 823.75700, acc: 0.14000\n",
            "[134,     2] avg_test_loss: 198.68704, avg_test_acc: 0.00\n",
            "[134,   102,  14199] LR: 0.01000\n",
            "[134,   102] loss: 8992.39960, acc: 0.19000\n",
            "[134,   102] avg_test_loss: 31684.79102, avg_test_acc: 0.00\n",
            "[135,    96,  14299] LR: 0.01000\n",
            "[135,    96] loss: 212490255.64383, acc: 0.04000\n",
            "[135,    96] avg_test_loss: 915752.37500, avg_test_acc: 0.00\n",
            "[136,    90,  14399] LR: 0.01000\n",
            "[136,    90] loss: 691453.29656, acc: 0.07000\n",
            "[136,    90] avg_test_loss: 77106.67969, avg_test_acc: 0.13\n",
            "[137,    84,  14499] LR: 0.01000\n",
            "[137,    84] loss: 166756.87133, acc: 0.05000\n",
            "[137,    84] avg_test_loss: 45384.30078, avg_test_acc: 0.07\n",
            "[138,    78,  14599] LR: 0.01000\n",
            "[138,    78] loss: 79393.28477, acc: 0.08000\n",
            "[138,    78] avg_test_loss: 32164.38672, avg_test_acc: 1.43\n",
            "[139,    72,  14699] LR: 0.01000\n",
            "[139,    72] loss: 70479.77141, acc: 0.08000\n",
            "[139,    72] avg_test_loss: 28928.44141, avg_test_acc: 0.08\n",
            "[140,    66,  14799] LR: 0.01000\n",
            "[140,    66] loss: 57658.95395, acc: 0.11000\n",
            "[140,    66] avg_test_loss: 30823.97266, avg_test_acc: 0.08\n",
            "[141,    60,  14899] LR: 0.01000\n",
            "[141,    60] loss: 49208.90250, acc: 0.13000\n",
            "[141,    60] avg_test_loss: 21413.04688, avg_test_acc: 0.25\n",
            "[142,    54,  14999] LR: 0.01000\n",
            "[142,    54] loss: 45818.56293, acc: 0.12000\n",
            "[142,    54] avg_test_loss: 23308.43359, avg_test_acc: 0.00\n",
            "[143,    48,  15099] LR: 0.01000\n",
            "[143,    48] loss: 47913.74229, acc: 0.17000\n",
            "[143,    48] avg_test_loss: 20495.79883, avg_test_acc: 0.26\n",
            "[144,    42,  15199] LR: 0.01000\n",
            "[144,    42] loss: 33214.51771, acc: 0.07000\n",
            "[144,    42] avg_test_loss: 11802.31641, avg_test_acc: 0.51\n",
            "[145,    36,  15299] LR: 0.01000\n",
            "[145,    36] loss: 31785.45676, acc: 0.07000\n",
            "[145,    36] avg_test_loss: 20566.03320, avg_test_acc: 0.04\n",
            "[146,    30,  15399] LR: 0.01000\n",
            "[146,    30] loss: 31371.64684, acc: 0.14000\n",
            "[146,    30] avg_test_loss: 14650.83008, avg_test_acc: 0.14\n",
            "[147,    24,  15499] LR: 0.01000\n",
            "[147,    24] loss: 24599.05312, acc: 0.14000\n",
            "[147,    24] avg_test_loss: 11200.16602, avg_test_acc: 0.04\n",
            "[148,    18,  15599] LR: 0.01000\n",
            "[148,    18] loss: 22227.05166, acc: 0.16000\n",
            "[148,    18] avg_test_loss: 10373.19434, avg_test_acc: 0.04\n",
            "[149,    12,  15699] LR: 0.01000\n",
            "[149,    12] loss: 19545.04536, acc: 0.18000\n",
            "[149,    12] avg_test_loss: 9514.63965, avg_test_acc: 0.09\n",
            "[150,     6,  15799] LR: 0.01000\n",
            "[150,     6] loss: 18824.04129, acc: 0.12000\n",
            "[150,     6] avg_test_loss: 9560.72461, avg_test_acc: 0.28\n",
            "[150,   106,  15899] LR: 0.01000\n",
            "[150,   106] loss: 17555.80096, acc: 0.18326\n",
            "[150,   106] avg_test_loss: 8955.79883, avg_test_acc: 0.16\n",
            "[151,   100,  15999] LR: 0.01000\n",
            "[151,   100] loss: 16840.16609, acc: 0.19000\n",
            "[151,   100] avg_test_loss: 7837.40527, avg_test_acc: 0.78\n",
            "[152,    94,  16099] LR: 0.01000\n",
            "[152,    94] loss: 15583.43359, acc: 0.23163\n",
            "[152,    94] avg_test_loss: 6800.43066, avg_test_acc: 0.42\n",
            "[153,    88,  16199] LR: 0.01000\n",
            "[153,    88] loss: 14132.40771, acc: 0.17000\n",
            "[153,    88] avg_test_loss: 7709.32617, avg_test_acc: 0.24\n",
            "[154,    82,  16299] LR: 0.01000\n",
            "[154,    82] loss: 14065.99038, acc: 0.19000\n",
            "[154,    82] avg_test_loss: 7223.01904, avg_test_acc: 0.72\n",
            "[155,    76,  16399] LR: 0.01000\n",
            "[155,    76] loss: 14257.81146, acc: 0.09000\n",
            "[155,    76] avg_test_loss: 5941.01465, avg_test_acc: 0.11\n",
            "[156,    70,  16499] LR: 0.01000\n",
            "[156,    70] loss: 13766.09968, acc: 0.17000\n",
            "[156,    70] avg_test_loss: 5484.05762, avg_test_acc: 0.41\n",
            "[157,    64,  16599] LR: 0.01000\n",
            "[157,    64] loss: 10738.06771, acc: 0.10000\n",
            "[157,    64] avg_test_loss: 4961.79834, avg_test_acc: 0.30\n",
            "[158,    58,  16699] LR: 0.01000\n",
            "[158,    58] loss: 10301.67110, acc: 0.15000\n",
            "[158,    58] avg_test_loss: 5767.30371, avg_test_acc: 0.40\n",
            "[159,    52,  16799] LR: 0.01000\n",
            "[159,    52] loss: 9403.90783, acc: 0.16000\n",
            "[159,    52] avg_test_loss: 4918.67676, avg_test_acc: 0.25\n",
            "[160,    46,  16899] LR: 0.01000\n",
            "[160,    46] loss: 9047.82945, acc: 0.15000\n",
            "[160,    46] avg_test_loss: 3989.59619, avg_test_acc: 0.66\n",
            "[161,    40,  16999] LR: 0.01000\n",
            "[161,    40] loss: 8564.44504, acc: 0.18000\n",
            "[161,    40] avg_test_loss: 4393.10303, avg_test_acc: 0.39\n",
            "[162,    34,  17099] LR: 0.01000\n",
            "[162,    34] loss: 8136.10161, acc: 0.17000\n",
            "[162,    34] avg_test_loss: 4392.01709, avg_test_acc: 0.20\n",
            "[163,    28,  17199] LR: 0.01000\n",
            "[163,    28] loss: 7766.18497, acc: 0.15000\n",
            "[163,    28] avg_test_loss: 3755.77002, avg_test_acc: 0.29\n",
            "[164,    22,  17299] LR: 0.01000\n",
            "[164,    22] loss: 7637.42674, acc: 0.18000\n",
            "[164,    22] avg_test_loss: 3420.82593, avg_test_acc: 0.43\n",
            "[165,    16,  17399] LR: 0.01000\n",
            "[165,    16] loss: 7270.76239, acc: 0.14000\n",
            "[165,    16] avg_test_loss: 3469.28296, avg_test_acc: 0.25\n",
            "[166,    10,  17499] LR: 0.01000\n",
            "[166,    10] loss: 6774.06171, acc: 0.16000\n",
            "[166,    10] avg_test_loss: 3403.53735, avg_test_acc: 0.33\n",
            "[167,     4,  17599] LR: 0.01000\n",
            "[167,     4] loss: 6647.50847, acc: 0.18000\n",
            "[167,     4] avg_test_loss: 3776.92480, avg_test_acc: 0.45\n",
            "[167,   104,  17699] LR: 0.01000\n",
            "[167,   104] loss: 6204.91456, acc: 0.16000\n",
            "[167,   104] avg_test_loss: 3306.33887, avg_test_acc: 0.34\n",
            "[168,    98,  17799] LR: 0.01000\n",
            "[168,    98] loss: 5950.44854, acc: 0.18000\n",
            "[168,    98] avg_test_loss: 3220.48169, avg_test_acc: 0.40\n",
            "[169,    92,  17899] LR: 0.01000\n",
            "[169,    92] loss: 5645.71639, acc: 0.16163\n",
            "[169,    92] avg_test_loss: 3241.77173, avg_test_acc: 0.25\n",
            "[170,    86,  17999] LR: 0.01000\n",
            "[170,    86] loss: 5424.86312, acc: 0.19000\n",
            "[170,    86] avg_test_loss: 3363.07031, avg_test_acc: 0.31\n",
            "[171,    80,  18099] LR: 0.01000\n",
            "[171,    80] loss: 5683.81988, acc: 0.13163\n",
            "[171,    80] avg_test_loss: 2981.48267, avg_test_acc: 0.60\n",
            "[172,    74,  18199] LR: 0.01000\n",
            "[172,    74] loss: 4933.32717, acc: 0.20000\n",
            "[172,    74] avg_test_loss: 3215.77808, avg_test_acc: 0.43\n",
            "[173,    68,  18299] LR: 0.01000\n",
            "[173,    68] loss: 4646.42106, acc: 0.18000\n",
            "[173,    68] avg_test_loss: 2897.22656, avg_test_acc: 0.20\n",
            "[174,    62,  18399] LR: 0.01000\n",
            "[174,    62] loss: 4507.05620, acc: 0.30000\n",
            "[174,    62] avg_test_loss: 2308.24170, avg_test_acc: 0.39\n",
            "[175,    56,  18499] LR: 0.01000\n",
            "[175,    56] loss: 6696.93582, acc: 0.10000\n",
            "[175,    56] avg_test_loss: 5839.89502, avg_test_acc: 0.14\n",
            "[176,    50,  18599] LR: 0.01000\n",
            "[176,    50] loss: 11246.81009, acc: 0.12000\n",
            "[176,    50] avg_test_loss: 6548.36035, avg_test_acc: 0.04\n",
            "[177,    44,  18699] LR: 0.01000\n",
            "[177,    44] loss: 7482.39430, acc: 0.15000\n",
            "[177,    44] avg_test_loss: 3667.65869, avg_test_acc: 0.20\n",
            "[178,    38,  18799] LR: 0.01000\n",
            "[178,    38] loss: 8443.52441, acc: 0.14000\n",
            "[178,    38] avg_test_loss: 10617.25684, avg_test_acc: 0.51\n",
            "[179,    32,  18899] LR: 0.01000\n",
            "[179,    32] loss: 36927.28383, acc: 0.02000\n",
            "[179,    32] avg_test_loss: 10946.22949, avg_test_acc: 0.19\n",
            "[180,    26,  18999] LR: 0.01000\n",
            "[180,    26] loss: 55614.06593, acc: 0.09000\n",
            "[180,    26] avg_test_loss: 13086.39258, avg_test_acc: 0.00\n",
            "[181,    20,  19099] LR: 0.01000\n",
            "[181,    20] loss: 22508.64690, acc: 0.12000\n",
            "[181,    20] avg_test_loss: 11851.66992, avg_test_acc: 0.47\n",
            "[182,    14,  19199] LR: 0.01000\n",
            "[182,    14] loss: 56219.94817, acc: 0.08000\n",
            "[182,    14] avg_test_loss: 68808.44531, avg_test_acc: 0.00\n",
            "[183,     8,  19299] LR: 0.01000\n",
            "[183,     8] loss: 36865.79723, acc: 0.08000\n",
            "[183,     8] avg_test_loss: 7735.03027, avg_test_acc: 0.04\n",
            "[184,     2,  19399] LR: 0.01000\n",
            "[184,     2] loss: 5626.37640, acc: 0.30163\n",
            "[184,     2] avg_test_loss: 1334.05310, avg_test_acc: 0.82\n",
            "[184,   102,  19499] LR: 0.01000\n",
            "[184,   102] loss: 2315.67551, acc: 0.34000\n",
            "[184,   102] avg_test_loss: 1125.41064, avg_test_acc: 0.33\n",
            "[185,    96,  19599] LR: 0.01000\n",
            "[185,    96] loss: 2051.06927, acc: 0.21000\n",
            "[185,    96] avg_test_loss: 1123.90393, avg_test_acc: 0.38\n",
            "[186,    90,  19699] LR: 0.01000\n",
            "[186,    90] loss: 1843.49827, acc: 0.21000\n",
            "[186,    90] avg_test_loss: 990.12445, avg_test_acc: 0.47\n",
            "[187,    84,  19799] LR: 0.01000\n",
            "[187,    84] loss: 1754.62412, acc: 0.26000\n",
            "[187,    84] avg_test_loss: 1097.15540, avg_test_acc: 0.59\n",
            "[188,    78,  19899] LR: 0.01000\n",
            "[188,    78] loss: 1676.60773, acc: 0.26000\n",
            "[188,    78] avg_test_loss: 1090.20007, avg_test_acc: 0.50\n",
            "[189,    72,  19999] LR: 0.01000\n",
            "[189,    72] loss: 1587.56130, acc: 0.19000\n",
            "[189,    72] avg_test_loss: 962.36530, avg_test_acc: 0.45\n",
            "[190,    66,  20099] LR: 0.01000\n",
            "[190,    66] loss: 1521.70633, acc: 0.24000\n",
            "[190,    66] avg_test_loss: 957.14661, avg_test_acc: 0.44\n",
            "[191,    60,  20199] LR: 0.01000\n",
            "[191,    60] loss: 1449.80555, acc: 0.24000\n",
            "[191,    60] avg_test_loss: 959.72357, avg_test_acc: 0.41\n",
            "[192,    54,  20299] LR: 0.01000\n",
            "[192,    54] loss: 1489.10210, acc: 0.27000\n",
            "[192,    54] avg_test_loss: 993.61609, avg_test_acc: 0.48\n",
            "[193,    48,  20399] LR: 0.01000\n",
            "[193,    48] loss: 1446.39800, acc: 0.23000\n",
            "[193,    48] avg_test_loss: 941.03015, avg_test_acc: 0.45\n",
            "[194,    42,  20499] LR: 0.01000\n",
            "[194,    42] loss: 1424.54199, acc: 0.24000\n",
            "[194,    42] avg_test_loss: 894.28851, avg_test_acc: 0.22\n",
            "[195,    36,  20599] LR: 0.01000\n",
            "[195,    36] loss: 129739.19506, acc: 0.10000\n",
            "[195,    36] avg_test_loss: 101930.58594, avg_test_acc: 0.04\n",
            "[196,    30,  20699] LR: 0.01000\n",
            "[196,    30] loss: 50175.59348, acc: 0.07000\n",
            "[196,    30] avg_test_loss: 2915.58057, avg_test_acc: 0.04\n",
            "[197,    24,  20799] LR: 0.01000\n",
            "[197,    24] loss: 2343.37757, acc: 0.14000\n",
            "[197,    24] avg_test_loss: 953.66357, avg_test_acc: 0.39\n",
            "[198,    18,  20899] LR: 0.01000\n",
            "[198,    18] loss: 1258.90800, acc: 0.18000\n",
            "[198,    18] avg_test_loss: 670.35052, avg_test_acc: 0.38\n",
            "[199,    12,  20999] LR: 0.01000\n",
            "[199,    12] loss: 1029.93200, acc: 0.22000\n",
            "[199,    12] avg_test_loss: 454.24817, avg_test_acc: 0.38\n",
            "[200,     6,  21099] LR: 0.01000\n",
            "[200,     6] loss: 892.38277, acc: 0.27000\n",
            "[200,     6] avg_test_loss: 517.21021, avg_test_acc: 0.44\n",
            "[200,   106,  21199] LR: 0.01000\n",
            "[200,   106] loss: 800.59588, acc: 0.12000\n",
            "[200,   106] avg_test_loss: 433.25845, avg_test_acc: 0.30\n"
          ],
          "name": "stdout"
        },
        {
          "output_type": "display_data",
          "data": {
            "image/png": "[encoded data removed]",
            "text/plain": [
              "<Figure size 432x288 with 1 Axes>"
            ]
          },
          "metadata": {
            "tags": [],
            "needs_background": "light"
          }
        },
        {
          "output_type": "display_data",
          "data": {
            "image/png": "[encoded data removed]",
            "text/plain": [
              "<Figure size 432x288 with 1 Axes>"
            ]
          },
          "metadata": {
            "tags": [],
            "needs_background": "light"
          }
        },
        {
          "output_type": "display_data",
          "data": {
            "image/png": "[encoded data removed]",
            "text/plain": [
              "<Figure size 432x288 with 1 Axes>"
            ]
          },
          "metadata": {
            "tags": [],
            "needs_background": "light"
          }
        },
        {
          "output_type": "display_data",
          "data": {
            "image/png": "[encoded data removed]",
            "text/plain": [
              "<Figure size 432x288 with 1 Axes>"
            ]
          },
          "metadata": {
            "tags": [],
            "needs_background": "light"
          }
        }
      ]
    },
    {
      "cell_type": "code",
      "metadata": {
        "id": "Q4oH66GmbEbz",
        "colab": {
          "base_uri": "https://localhost:8080/",
          "height": 1000
        },
        "outputId": "4912aaf7-c410-419c-f62b-2682dc4e45e1"
      },
      "source": [
        "_, chan, w, h = batch_train_images.size()\n",
        "net = ConvNet(w, h, chan, len(SMALL_DS['target_names'])).to(device)\n",
        "\n",
        "test_alg(net,\n",
        "    small_train_loader, small_test_loader,\n",
        "    torch.optim.Adam(net.parameters(), lr=0.01, weight_decay=1e-4),\n",
        "    300)"
      ],
      "execution_count": 38,
      "outputs": [
        {
          "output_type": "stream",
          "text": [
            "/usr/local/lib/python3.7/dist-packages/torch/optim/lr_scheduler.py:134: UserWarning: Detected call of `lr_scheduler.step()` before `optimizer.step()`. In PyTorch 1.1.0 and later, you should call them in the opposite order: `optimizer.step()` before `lr_scheduler.step()`.  Failure to do this will result in PyTorch skipping the first value of the learning rate schedule. See more details at https://pytorch.org/docs/stable/optim.html#how-to-adjust-learning-rate\n",
            "  \"https://pytorch.org/docs/stable/optim.html#how-to-adjust-learning-rate\", UserWarning)\n"
          ],
          "name": "stderr"
        },
        {
          "output_type": "stream",
          "text": [
            "[10,    10,     99] LR: 0.01000\n",
            "[10,    10] loss: 6237.26861, acc: 33.99333\n"
          ],
          "name": "stdout"
        },
        {
          "output_type": "stream",
          "text": [
            "/usr/local/lib/python3.7/dist-packages/torch/optim/lr_scheduler.py:417: UserWarning: To get the last learning rate computed by the scheduler, please use `get_last_lr()`.\n",
            "  \"please use `get_last_lr()`.\", UserWarning)\n"
          ],
          "name": "stderr"
        },
        {
          "output_type": "stream",
          "text": [
            "[10,    10] avg_test_loss: 22.24756, avg_test_acc: 59.37\n",
            "[20,    10,    199] LR: 0.01000\n",
            "[20,    10] loss: 16.36850, acc: 54.18333\n",
            "[20,    10] avg_test_loss: 4.62199, avg_test_acc: 73.00\n",
            "[30,    10,    299] LR: 0.01000\n",
            "[30,    10] loss: 6.76127, acc: 61.08000\n",
            "[30,    10] avg_test_loss: 3.42637, avg_test_acc: 75.97\n",
            "[40,    10,    399] LR: 0.01000\n",
            "[40,    10] loss: 4.68819, acc: 65.06333\n",
            "[40,    10] avg_test_loss: 3.13750, avg_test_acc: 74.36\n",
            "[50,    10,    499] LR: 0.01000\n",
            "[50,    10] loss: 3.38110, acc: 68.10999\n",
            "[50,    10] avg_test_loss: 2.04142, avg_test_acc: 77.33\n",
            "[60,    10,    599] LR: 0.01000\n",
            "[60,    10] loss: 2.32252, acc: 71.30333\n",
            "[60,    10] avg_test_loss: 2.11940, avg_test_acc: 79.27\n",
            "[70,    10,    699] LR: 0.01000\n",
            "[70,    10] loss: 1.90582, acc: 73.58000\n",
            "[70,    10] avg_test_loss: 1.65559, avg_test_acc: 80.39\n",
            "[80,    10,    799] LR: 0.01000\n",
            "[80,    10] loss: 1.67439, acc: 74.65667\n",
            "[80,    10] avg_test_loss: 1.46617, avg_test_acc: 83.56\n",
            "[90,    10,    899] LR: 0.01000\n",
            "[90,    10] loss: 1.56429, acc: 74.11666\n",
            "[90,    10] avg_test_loss: 1.29712, avg_test_acc: 86.66\n",
            "[100,    10,    999] LR: 0.01000\n",
            "[100,    10] loss: 1.18398, acc: 77.79666\n",
            "[100,    10] avg_test_loss: 1.38981, avg_test_acc: 81.97\n",
            "[110,    10,   1099] LR: 0.01000\n",
            "[110,    10] loss: 1.19182, acc: 77.75666\n",
            "[110,    10] avg_test_loss: 1.24213, avg_test_acc: 83.65\n",
            "[120,    10,   1199] LR: 0.01000\n",
            "[120,    10] loss: 1.06991, acc: 78.35333\n",
            "[120,    10] avg_test_loss: 1.14528, avg_test_acc: 86.31\n",
            "[130,    10,   1299] LR: 0.01000\n",
            "[130,    10] loss: 0.93644, acc: 78.57333\n",
            "[130,    10] avg_test_loss: 1.53735, avg_test_acc: 80.61\n",
            "[140,    10,   1399] LR: 0.01000\n",
            "[140,    10] loss: 0.92350, acc: 79.17333\n",
            "[140,    10] avg_test_loss: 1.39195, avg_test_acc: 84.77\n",
            "[150,    10,   1499] LR: 0.01000\n",
            "[150,    10] loss: 0.77700, acc: 79.42000\n",
            "[150,    10] avg_test_loss: 1.04744, avg_test_acc: 85.91\n",
            "[160,    10,   1599] LR: 0.01000\n",
            "[160,    10] loss: 0.88926, acc: 79.55999\n",
            "[160,    10] avg_test_loss: 1.55881, avg_test_acc: 81.61\n",
            "[170,    10,   1699] LR: 0.01000\n",
            "[170,    10] loss: 0.77895, acc: 81.03333\n",
            "[170,    10] avg_test_loss: 1.10940, avg_test_acc: 87.06\n",
            "[180,    10,   1799] LR: 0.01000\n",
            "[180,    10] loss: 0.67350, acc: 82.14666\n",
            "[180,    10] avg_test_loss: 1.01950, avg_test_acc: 88.02\n",
            "[190,    10,   1899] LR: 0.01000\n",
            "[190,    10] loss: 0.61566, acc: 82.61666\n",
            "[190,    10] avg_test_loss: 0.89195, avg_test_acc: 89.07\n",
            "[200,    10,   1999] LR: 0.01000\n",
            "[200,    10] loss: 0.62605, acc: 81.78000\n",
            "[200,    10] avg_test_loss: 1.19671, avg_test_acc: 84.17\n",
            "[210,    10,   2099] LR: 0.01000\n",
            "[210,    10] loss: 0.64221, acc: 83.38000\n",
            "[210,    10] avg_test_loss: 0.75144, avg_test_acc: 89.67\n",
            "[220,    10,   2199] LR: 0.01000\n",
            "[220,    10] loss: 0.62776, acc: 81.78667\n",
            "[220,    10] avg_test_loss: 1.60997, avg_test_acc: 83.86\n",
            "[230,    10,   2299] LR: 0.01000\n",
            "[230,    10] loss: 0.63615, acc: 82.32334\n",
            "[230,    10] avg_test_loss: 1.22512, avg_test_acc: 86.28\n",
            "[240,    10,   2399] LR: 0.01000\n",
            "[240,    10] loss: 0.57073, acc: 83.19667\n",
            "[240,    10] avg_test_loss: 1.01909, avg_test_acc: 86.02\n",
            "[250,    10,   2499] LR: 0.01000\n",
            "[250,    10] loss: 0.55939, acc: 83.28334\n",
            "[250,    10] avg_test_loss: 1.07203, avg_test_acc: 86.94\n",
            "[260,    10,   2599] LR: 0.01000\n",
            "[260,    10] loss: 0.52061, acc: 83.79000\n",
            "[260,    10] avg_test_loss: 0.90835, avg_test_acc: 87.32\n",
            "[270,    10,   2699] LR: 0.01000\n",
            "[270,    10] loss: 0.51235, acc: 83.48332\n",
            "[270,    10] avg_test_loss: 1.04917, avg_test_acc: 87.11\n",
            "[280,    10,   2799] LR: 0.01000\n",
            "[280,    10] loss: 0.47684, acc: 84.85667\n",
            "[280,    10] avg_test_loss: 0.97534, avg_test_acc: 86.63\n",
            "[290,    10,   2899] LR: 0.01000\n",
            "[290,    10] loss: 0.51237, acc: 84.55333\n",
            "[290,    10] avg_test_loss: 1.00632, avg_test_acc: 89.49\n",
            "[300,    10,   2999] LR: 0.01000\n",
            "[300,    10] loss: 0.51163, acc: 83.57667\n",
            "[300,    10] avg_test_loss: 1.05547, avg_test_acc: 86.63\n"
          ],
          "name": "stdout"
        },
        {
          "output_type": "display_data",
          "data": {
            "image/png": "[encoded data removed]",
            "text/plain": [
              "<Figure size 432x288 with 1 Axes>"
            ]
          },
          "metadata": {
            "tags": [],
            "needs_background": "light"
          }
        },
        {
          "output_type": "display_data",
          "data": {
            "image/png": "[encoded data removed]",
            "text/plain": [
              "<Figure size 432x288 with 1 Axes>"
            ]
          },
          "metadata": {
            "tags": [],
            "needs_background": "light"
          }
        },
        {
          "output_type": "display_data",
          "data": {
            "image/png": "[encoded data removed]",
            "text/plain": [
              "<Figure size 432x288 with 1 Axes>"
            ]
          },
          "metadata": {
            "tags": [],
            "needs_background": "light"
          }
        },
        {
          "output_type": "display_data",
          "data": {
            "image/png": "[encoded data removed]",
            "text/plain": [
              "<Figure size 432x288 with 1 Axes>"
            ]
          },
          "metadata": {
            "tags": [],
            "needs_background": "light"
          }
        }
      ]
    },
    {
      "cell_type": "code",
      "metadata": {
        "colab": {
          "base_uri": "https://localhost:8080/",
          "height": 1000
        },
        "id": "Qu6mjkgHuRm0",
        "outputId": "83e6ad43-35e0-4429-90a7-d05f09f764e4"
      },
      "source": [
        "_, chan, w, h = batch_train_images_small.size()\n",
        "net = MLP(w, h, chan, len(SMALL_DS['target_names'])).to(device)\n",
        "\n",
        "test_alg(net,\n",
        "    small_train_loader, small_test_loader,\n",
        "    torch.optim.Adam(net.parameters(), lr=0.01, weight_decay=1e-4),\n",
        "    200)"
      ],
      "execution_count": null,
      "outputs": [
        {
          "output_type": "stream",
          "text": [
            "/usr/local/lib/python3.7/dist-packages/torch/optim/lr_scheduler.py:134: UserWarning: Detected call of `lr_scheduler.step()` before `optimizer.step()`. In PyTorch 1.1.0 and later, you should call them in the opposite order: `optimizer.step()` before `lr_scheduler.step()`.  Failure to do this will result in PyTorch skipping the first value of the learning rate schedule. See more details at https://pytorch.org/docs/stable/optim.html#how-to-adjust-learning-rate\n",
            "  \"https://pytorch.org/docs/stable/optim.html#how-to-adjust-learning-rate\", UserWarning)\n"
          ],
          "name": "stderr"
        },
        {
          "output_type": "stream",
          "text": [
            "[10,    10,     99] LR: 0.01000\n",
            "[10,    10] loss: 1.59710, acc: 45.46333\n"
          ],
          "name": "stdout"
        },
        {
          "output_type": "stream",
          "text": [
            "/usr/local/lib/python3.7/dist-packages/torch/optim/lr_scheduler.py:417: UserWarning: To get the last learning rate computed by the scheduler, please use `get_last_lr()`.\n",
            "  \"please use `get_last_lr()`.\", UserWarning)\n"
          ],
          "name": "stderr"
        },
        {
          "output_type": "stream",
          "text": [
            "[10,    10] avg_test_loss: 1.53909, avg_test_acc: 47.13\n",
            "[20,    10,    199] LR: 0.01000\n",
            "[20,    10] loss: 1.58986, acc: 46.40667\n",
            "[20,    10] avg_test_loss: 1.43363, avg_test_acc: 47.12\n",
            "[30,    10,    299] LR: 0.01000\n",
            "[30,    10] loss: 1.44370, acc: 46.11333\n",
            "[30,    10] avg_test_loss: 1.43842, avg_test_acc: 46.64\n",
            "[40,    10,    399] LR: 0.01000\n",
            "[40,    10] loss: 1.55123, acc: 33.42999\n",
            "[40,    10] avg_test_loss: 1.60944, avg_test_acc: 10.65\n",
            "[50,    10,    499] LR: 0.01000\n",
            "[50,    10] loss: 1.60944, acc: 14.38000\n",
            "[50,    10] avg_test_loss: 1.60944, avg_test_acc: 10.67\n",
            "[60,    10,    599] LR: 0.01000\n",
            "[60,    10] loss: 1.46734, acc: 43.27333\n",
            "[60,    10] avg_test_loss: 1.43723, avg_test_acc: 46.76\n",
            "[70,    10,    699] LR: 0.01000\n",
            "[70,    10] loss: 1.44883, acc: 45.59999\n",
            "[70,    10] avg_test_loss: 1.43648, avg_test_acc: 46.84\n",
            "[80,    10,    799] LR: 0.01000\n",
            "[80,    10] loss: 1.43710, acc: 46.77333\n",
            "[80,    10] avg_test_loss: 1.43722, avg_test_acc: 46.76\n",
            "[90,    10,    899] LR: 0.01000\n",
            "[90,    10] loss: 1.43783, acc: 46.69999\n",
            "[90,    10] avg_test_loss: 1.43240, avg_test_acc: 47.24\n",
            "[100,    10,    999] LR: 0.01000\n",
            "[100,    10] loss: 1.44370, acc: 46.11333\n",
            "[100,    10] avg_test_loss: 1.43003, avg_test_acc: 47.48\n",
            "[110,    10,   1099] LR: 0.01000\n",
            "[110,    10] loss: 1.44714, acc: 45.30000\n",
            "[110,    10] avg_test_loss: 1.60944, avg_test_acc: 11.44\n",
            "[120,    10,   1199] LR: 0.01000\n",
            "[120,    10] loss: 1.60944, acc: 20.45333\n",
            "[120,    10] avg_test_loss: 1.60944, avg_test_acc: 10.52\n",
            "[130,    10,   1299] LR: 0.01000\n",
            "[130,    10] loss: 1.46464, acc: 45.49666\n",
            "[130,    10] avg_test_loss: 1.44372, avg_test_acc: 46.11\n",
            "[140,    10,   1399] LR: 0.01000\n",
            "[140,    10] loss: 1.44140, acc: 46.99334\n",
            "[140,    10] avg_test_loss: 1.44738, avg_test_acc: 47.01\n",
            "[150,    10,   1499] LR: 0.01000\n",
            "[150,    10] loss: 1.48684, acc: 46.04000\n",
            "[150,    10] avg_test_loss: 1.44513, avg_test_acc: 47.05\n",
            "[160,    10,   1599] LR: 0.01000\n",
            "[160,    10] loss: 1.47878, acc: 46.33333\n",
            "[160,    10] avg_test_loss: 1.44476, avg_test_acc: 46.91\n",
            "[170,    10,   1699] LR: 0.01000\n",
            "[170,    10] loss: 1.46611, acc: 46.62666\n",
            "[170,    10] avg_test_loss: 1.44800, avg_test_acc: 46.76\n",
            "[180,    10,   1799] LR: 0.01000\n",
            "[180,    10] loss: 1.46464, acc: 47.06667\n",
            "[180,    10] avg_test_loss: 1.44996, avg_test_acc: 46.80\n",
            "[190,    10,   1899] LR: 0.01000\n",
            "[190,    10] loss: 1.45804, acc: 46.55667\n",
            "[190,    10] avg_test_loss: 1.44032, avg_test_acc: 46.60\n",
            "[200,    10,   1999] LR: 0.01000\n",
            "[200,    10] loss: 1.46024, acc: 46.06000\n",
            "[200,    10] avg_test_loss: 1.44416, avg_test_acc: 47.33\n"
          ],
          "name": "stdout"
        },
        {
          "output_type": "display_data",
          "data": {
            "image/png": "[encoded data removed]",
            "text/plain": [
              "<Figure size 432x288 with 1 Axes>"
            ]
          },
          "metadata": {
            "tags": [],
            "needs_background": "light"
          }
        },
        {
          "output_type": "display_data",
          "data": {
            "image/png": "[encoded data removed]",
            "text/plain": [
              "<Figure size 432x288 with 1 Axes>"
            ]
          },
          "metadata": {
            "tags": [],
            "needs_background": "light"
          }
        },
        {
          "output_type": "display_data",
          "data": {
            "image/png": "[encoded data removed]",
            "text/plain": [
              "<Figure size 432x288 with 1 Axes>"
            ]
          },
          "metadata": {
            "tags": [],
            "needs_background": "light"
          }
        },
        {
          "output_type": "display_data",
          "data": {
            "image/png": "[encoded data removed]",
            "text/plain": [
              "<Figure size 432x288 with 1 Axes>"
            ]
          },
          "metadata": {
            "tags": [],
            "needs_background": "light"
          }
        }
      ]
    },
    {
      "cell_type": "code",
      "metadata": {
        "colab": {
          "base_uri": "https://localhost:8080/",
          "height": 1000
        },
        "id": "T-WKxJ9jjBkU",
        "outputId": "6f953790-f9c4-4422-b9fe-e2c7260baafc"
      },
      "source": [
        "_, chan, w, h = batch_train_images_small.size()\n",
        "net = ImprovedMLP(w, h, chan, len(SMALL_DS['target_names'])).to(device)\n",
        "\n",
        "test_alg(net,\n",
        "    small_train_loader, small_test_loader,\n",
        "    torch.optim.Adam(net.parameters(), lr=0.01, weight_decay=1e-4),\n",
        "    50)"
      ],
      "execution_count": 34,
      "outputs": [
        {
          "output_type": "stream",
          "text": [
            "/usr/local/lib/python3.7/dist-packages/torch/optim/lr_scheduler.py:134: UserWarning: Detected call of `lr_scheduler.step()` before `optimizer.step()`. In PyTorch 1.1.0 and later, you should call them in the opposite order: `optimizer.step()` before `lr_scheduler.step()`.  Failure to do this will result in PyTorch skipping the first value of the learning rate schedule. See more details at https://pytorch.org/docs/stable/optim.html#how-to-adjust-learning-rate\n",
            "  \"https://pytorch.org/docs/stable/optim.html#how-to-adjust-learning-rate\", UserWarning)\n"
          ],
          "name": "stderr"
        },
        {
          "output_type": "stream",
          "text": [
            "[10,    10,     99] LR: 0.01000\n",
            "[10,    10] loss: 1.36690, acc: 64.95333\n"
          ],
          "name": "stdout"
        },
        {
          "output_type": "stream",
          "text": [
            "/usr/local/lib/python3.7/dist-packages/torch/optim/lr_scheduler.py:417: UserWarning: To get the last learning rate computed by the scheduler, please use `get_last_lr()`.\n",
            "  \"please use `get_last_lr()`.\", UserWarning)\n"
          ],
          "name": "stderr"
        },
        {
          "output_type": "stream",
          "text": [
            "[10,    10] avg_test_loss: 1.40658, avg_test_acc: 57.54\n",
            "[20,    10,    199] LR: 0.01000\n",
            "[20,    10] loss: 1.13083, acc: 91.07999\n",
            "[20,    10] avg_test_loss: 1.27155, avg_test_acc: 68.39\n",
            "[30,    10,    299] LR: 0.01000\n",
            "[30,    10] loss: 1.04077, acc: 95.88000\n",
            "[30,    10] avg_test_loss: 1.21038, avg_test_acc: 72.92\n",
            "[40,    10,    399] LR: 0.01000\n",
            "[40,    10] loss: 0.99454, acc: 97.88667\n",
            "[40,    10] avg_test_loss: 1.36342, avg_test_acc: 67.09\n",
            "[50,    10,    499] LR: 0.01000\n",
            "[50,    10] loss: 0.97244, acc: 98.77334\n",
            "[50,    10] avg_test_loss: 1.15685, avg_test_acc: 78.14\n"
          ],
          "name": "stdout"
        },
        {
          "output_type": "display_data",
          "data": {
            "image/png": "[encoded data removed]",
            "text/plain": [
              "<Figure size 432x288 with 1 Axes>"
            ]
          },
          "metadata": {
            "tags": [],
            "needs_background": "light"
          }
        },
        {
          "output_type": "display_data",
          "data": {
            "image/png": "[encoded data removed]",
            "text/plain": [
              "<Figure size 432x288 with 1 Axes>"
            ]
          },
          "metadata": {
            "tags": [],
            "needs_background": "light"
          }
        },
        {
          "output_type": "display_data",
          "data": {
            "image/png": "[encoded data removed]",
            "text/plain": [
              "<Figure size 432x288 with 1 Axes>"
            ]
          },
          "metadata": {
            "tags": [],
            "needs_background": "light"
          }
        },
        {
          "output_type": "display_data",
          "data": {
            "image/png": "[encoded data removed]",
            "text/plain": [
              "<Figure size 432x288 with 1 Axes>"
            ]
          },
          "metadata": {
            "tags": [],
            "needs_background": "light"
          }
        }
      ]
    }
  ]
}