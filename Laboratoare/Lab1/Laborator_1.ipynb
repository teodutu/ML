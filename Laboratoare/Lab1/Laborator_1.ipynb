{
 "cells": [
  {
   "cell_type": "markdown",
   "metadata": {
    "colab_type": "text",
    "id": "view-in-github"
   },
   "source": [
    "<a href=\"https://colab.research.google.com/github/cs-pub-ro/ML/blob/master/lab/lab1/Laborator_1.ipynb\" target=\"_parent\"><img src=\"https://colab.research.google.com/assets/colab-badge.svg\" alt=\"Open In Colab\"/></a>"
   ]
  },
  {
   "cell_type": "markdown",
   "metadata": {
    "colab_type": "text",
    "id": "5EUYXsI3JoDe"
   },
   "source": [
    "# Învățare Automată\n",
    "# Grupare. Algoritmul K-Means\n",
    "### Autori:\n",
    "* Tudor Berariu - 2016\n",
    "* George Muraru - 2020"
   ]
  },
  {
   "cell_type": "markdown",
   "metadata": {
    "colab_type": "text",
    "id": "N9EKsaOzJ4Y6"
   },
   "source": [
    "## 1. Scopul laboratorului\n",
    "Scopul laboratorului ı̂l reprezintă ı̂nțelegerea si implementarea unei metode de ı̂nvățarare nesupervizată pentru grupare (engl. clustering): **algoritmul K-Means**.\n",
    "\n",
    "Structura documentului este următoarea:\n",
    "* [Secțiunea 2](#scrollTo=lmsr8fvNKQ5m) prezintă contextul teoretic și formalizează problema ce se dorește rezolvată\n",
    "* [Secțiunea 3](#scrollTo=Aj8ThCuUKcEB) descrie algoritmul K-Means\n",
    "* [Secțiunea 4](#scrollTo=j5zthcYxMllG) enumeră câteva dintre limitările algoritmului K-Means și oferă câteva soluții simple pentru depășirea acestora\n",
    "* [Secțiunea 5](#scrollTo=yWjTUpn9OVY9) descrie câteva metode avansate pentru alegerea acestora.\n",
    "* [Secțiunea 6](#scrollTo=yWjTUpn9OVY9) descrie e metoda de evaluarea a performanței algoritmului\n",
    "* [Secțiunea 7](#scrollTo=dDFqbGHmDqtt) conține un setup inițial care trebuie rulat în colab (sau local) pentru instalarea dependențelor\n",
    "* [Secțiunea 8](#scrollTo=2xk677iNQRvQ) conține cerințele ce trebuie rezolvate ı̂n cadrul laboratorului\n",
    "* [Secțiunea 9](#scrollTo=muZzrV7uVxXv) conține o descriere a setului de date folosit"
   ]
  },
  {
   "cell_type": "markdown",
   "metadata": {
    "colab_type": "text",
    "id": "lmsr8fvNKQ5m"
   },
   "source": [
    "## 2. Problema\n",
    "Una dintre problemele fundamentale ale ı̂nvățării automate o reprezintă identificarea grupurilor (engl. clusters) ı̂ntr-un set de obiecte astfel ı̂ncât obiectele din același grup să prezinte un grad mare de similaritate. Această problemă de ı̂nvățare nesupervizată se numește cluster analysis.\n",
    "\n",
    "Problema grupării se poate formaliza ı̂n diferite feluri, existând mai multe abordări.\n",
    "În acest laborator vom rezolva problema grupării bazate pe **centroizi** (engl. centroid-based clustering).\n",
    "\n",
    "Se consideră un set de date $X = \\{x_{1} , . . . x_{N}\\}$ ce conține N exemple ı̂ntr-un spațiu D-dimensional. Scopul este partiționarea setului de date ı̂n K grupuri reprezentate prin K vectori prototip (engl. prototype vectors) $c_{k}$ (unde $k \\in \\{1,.,K\\}$) numiți centre sau centroizi (engl. centroids), astfel ı̂ncât distanța totală de la fiecare exemplu la cel mai apropiat centroid să fie minimă:\n",
    "\n",
    "$$\n",
    "\\begin{equation}\n",
    "J = \\sum_{i=1}^{N}\\sum_{k=1}^{K}in_{i,k} \\cdot \\left\\Vert{x_{i} - c_{k}}\\right\\Vert^2 \\tag{1}\n",
    "\\end{equation}\n",
    "$$\n",
    "\n",
    "$$\n",
    "\\begin{equation}\n",
    "in_{i,k} = \n",
    "    \\begin{cases}\n",
    "    1, dacă\\ k = argmin\\left\\Vert{x_{i} - c_{l}}\\right\\Vert\\\\\n",
    "    0, altfel\n",
    "    \\end{cases} \\tag{2}\n",
    "\\end{equation}\n",
    "$$\n",
    "\n",
    "---"
   ]
  },
  {
   "cell_type": "markdown",
   "metadata": {
    "colab_type": "text",
    "id": "Aj8ThCuUKcEB"
   },
   "source": [
    "## 3. Algoritmul K-Means\n",
    "\n",
    "<img src=\"https://drive.google.com/uc?export=view&id=19y4eTM66qJmccoHE6zaRGOPPgkmwRRUu\" style=\"margin-left: 50;\" align=\"right\" width=\"350\" height=\"350\"/>\n",
    "\n",
    "Algoritmul K-Means [[1]](#M67) pornește de la un set de K centroizi aleși aleator din setul de obiecte. Se repetă alternativ următorii doi pași până când \n",
    "algoritmul converge:\n",
    "1. Se parcurg toate obiectele din setul de date și fiecare dintre acestea este alocat grupului corespunzator celui mai apropiat centroid\n",
    "2. Se recalculează centroidul fiecarui grup\n",
    "\n",
    "Algoritmul converge atunci când în urma unei iterații nu s-a modificat componența grupurilor.\n",
    "\n",
    "Pentru a înțelege de ce algoritmul K-Means găsește un minim al expresiei J (Formula 1), trebuie observat că cei doi pași optimizează succesiv parametrii $in_{i,k}$ și $c_{k}$. \n",
    "1. Fixând $c_{k}$, se recalculează $in_{i,k}$ conform ecuației 2.\n",
    "2. Fixând $in_{i,k}$, un minim al expresiei $J$ se găsește în punctul în care derivata este zero: \n",
    "$$\n",
    "\\begin{equation}\n",
    "\\sum_{i=1}^{N}in_{i,k}(x_{i} - c_{k}) = 0\n",
    "\\end{equation}\n",
    "$$\n",
    "\n",
    "\n",
    "\n",
    "![Alg K-Means](https://drive.google.com/uc?export=view&id=1V2m8cYakqLohh_mipzup-vzQlWHysGFE)"
   ]
  },
  {
   "cell_type": "markdown",
   "metadata": {
    "colab_type": "text",
    "id": "j5zthcYxMllG"
   },
   "source": [
    "## 4. Limitări ale algoritmului K-Means\n",
    "Algoritmul K-Means prezintă următoarele limitări importante:\n",
    "\n",
    "1. Numărul de grupuri K trebuie cunoscut apriori.\n",
    "  * Dacă acest număr nu este cunoscut, se poate rula algoritmul pentru diferite valori ale lui K și se poate alege o partiție convenabilă. Altfel, se poate alege o altă metodă de grupare.\n",
    "2. Algoritmul converge către un minim local.\n",
    "  * Nu există o metodă tractabilă care să garanteze un minim global. În practică\n",
    "se obișnuiește rularea algoritmului de mai multe ori și păstrarea celui mai bun\n",
    "rezultat.\n",
    "3. Rezultatul algoritmului depinde de alegerea centroizilor inițiali.\n",
    "  * Există mai multe strategii pentru alegerea centroizilor inițiai ($c_{k}, 1 \\le k \\le K$), două dintre acestea fiind descrise în [Secțiunea 5](#scrollTo=YB_3ayRlOOPP)."
   ]
  },
  {
   "cell_type": "markdown",
   "metadata": {
    "colab_type": "text",
    "id": "YB_3ayRlOOPP"
   },
   "source": [
    "## 5. Alegerea centroizilor inițiali\n",
    "În algoritmul clasic K-Means cei K centroizi inițiali se aleg aleator din mulțimea obiectelor din setul de date. În continuare sunt descrise două metode mai bune pentru acest pas.\n",
    "\n",
    "### 5.1 Algoritmul K-Means++\n",
    "Algoritmul K-Means++ [[2]](#AV07) reprezintă o variantă ı̂mbunătățită a algoritmului K-Means ı̂n care centroizii inițiali sunt alesi după cum urmează:\n",
    "* Primul centroid $c_{1}$ se alege aleator din setul de date\n",
    "* Următorii $K − 1$ se aleg succesiv dintre obiectele din setul de date cu o probabilitate\n",
    "$$\n",
    "\\begin{equation}\n",
    "p_i = \\frac{D(x_{i})^2}{\\sum_{x\\in{X}}D(x)^2}\n",
    "\\end{equation}\n",
    "$$\n",
    "\n",
    "pentru fiecare obiect $x_{i}\\in{X}$, unde $D(x)$ este distanța cea mai mică dintre obiectul $x$ și un centroid deja ales.\n",
    "\n",
    "### 5.2 Metoda Kaufman\n",
    "În [[3]](#AV07) s-au testat pe diferite seturi de date mai multe metode de inițializare a centroizilor pentru algoritmul K-Means. Rezultatele au arătat că una dintre cele mai bune metode este cea propusă de Kaufman. Se alege întâi cel mai central obiect din setul de date, iar apoi se adaugă succesiv acele obiecte care strâng în jurul lor cel mai mare număr de elemente.\n",
    "\n",
    "<img src=\"https://drive.google.com/uc?export=view&id=1Oq7qVGywdonOBZhOZCFV-2aqHUE8Q71z\"/>"
   ]
  },
  {
   "cell_type": "markdown",
   "metadata": {
    "colab_type": "text",
    "id": "yWjTUpn9OVY9"
   },
   "source": [
    "## 6. Evaluarea unei grupări\n",
    "Nu există o rețetă unică pentru evaluarea unei grupări realizate pentru un set de date. În general, metricile țin cont de faptul că exemplele dintr-un grup trebuie să fie cât mai apropiate/similare, iar cele din grupuri diferite trebuie să fie cât mai diferite.\n",
    "Dacă sunt cunoscute clasele reale (precum ı̂ntr-o problemă de ı̂nvățare supervizată), atunci evaluarea se poate face mai ușor. Dintre metodele existente, este descrisă ı̂n continuare *Rand Index*.\n",
    "\n",
    "### 6.1 Rand Index\n",
    "Fiind date o grupare C și valorile reale T ale claselor din care fac parte obiectele dintr-un set de date, definim:\n",
    "* *TP (true positives)* numărul de perechi i, j care sunt ı̂n același grup ı̂n C și au aceeași clasă ı̂n T;\n",
    "* *FP (false positives)* numărul de perechi i, j care sunt ı̂n același grup ı̂n C, dar sunt ı̂n clase diferite ı̂n T ;\n",
    "* *FN (false negatives)* numărul de perechi i, j care sunt ı̂n grupuri diferite ı̂n C, dar au aceeași clasă ı̂n T ;\n",
    "* *TN (true negatives)* numărul de perechi i, j care sunt ı̂n grupuri diferite ı̂n C și au clase diferite ı̂n T.\n",
    "\n",
    "Metrica *Rand Index* este:\n",
    "$\n",
    "\\begin{equation}\n",
    "R = \\frac{TP + TN}{TP + FP + FN + TN} \\in [0, 1]\n",
    "\\end{equation}\n",
    "$"
   ]
  },
  {
   "cell_type": "markdown",
   "metadata": {
    "colab_type": "text",
    "id": "dDFqbGHmDqtt"
   },
   "source": [
    "## 7. Workspace Setup"
   ]
  },
  {
   "cell_type": "markdown",
   "metadata": {
    "colab_type": "text",
    "id": "vwR9zMQRtihy"
   },
   "source": [
    "### Dependențe\n"
   ]
  },
  {
   "cell_type": "code",
   "execution_count": 1,
   "metadata": {
    "colab": {},
    "colab_type": "code",
    "id": "mr7MO4rQtoqj"
   },
   "outputs": [
    {
     "name": "stdout",
     "output_type": "stream",
     "text": [
      "Requirement already satisfied: matplotlib in /home/teo/.local/lib/python3.8/site-packages (3.3.4)\n",
      "Requirement already satisfied: numpy>=1.15 in /home/teo/.local/lib/python3.8/site-packages (from matplotlib) (1.20.1)\n",
      "Requirement already satisfied: pillow>=6.2.0 in /usr/lib/python3/dist-packages (from matplotlib) (7.0.0)\n",
      "Requirement already satisfied: python-dateutil>=2.1 in /home/teo/.local/lib/python3.8/site-packages (from matplotlib) (2.8.1)\n",
      "Requirement already satisfied: kiwisolver>=1.0.1 in /home/teo/.local/lib/python3.8/site-packages (from matplotlib) (1.3.1)\n",
      "Requirement already satisfied: cycler>=0.10 in /home/teo/.local/lib/python3.8/site-packages (from matplotlib) (0.10.0)\n",
      "Requirement already satisfied: pyparsing!=2.0.4,!=2.1.2,!=2.1.6,>=2.0.3 in /usr/local/lib/python3.8/dist-packages (from matplotlib) (2.4.7)\n",
      "Requirement already satisfied: six>=1.5 in /usr/local/lib/python3.8/dist-packages (from python-dateutil>=2.1->matplotlib) (1.15.0)\n",
      "Requirement already satisfied: numpy in /home/teo/.local/lib/python3.8/site-packages (1.20.1)\n"
     ]
    }
   ],
   "source": [
    "!pip3 install matplotlib\n",
    "!pip3 install numpy"
   ]
  },
  {
   "cell_type": "markdown",
   "metadata": {
    "colab_type": "text",
    "id": "C5l_vdbW6enZ"
   },
   "source": [
    "### Câteva biblioteci de care vom avea nevoie"
   ]
  },
  {
   "cell_type": "code",
   "execution_count": 2,
   "metadata": {
    "colab": {},
    "colab_type": "code",
    "id": "uK1fxRNOXteB"
   },
   "outputs": [],
   "source": [
    "%matplotlib inline\n",
    "\n",
    "from copy import deepcopy\n",
    "import numpy as np\n",
    "from zipfile import ZipFile\n",
    "from random import choice, randint\n",
    "\n",
    "# Plotting stuff\n",
    "import matplotlib.pyplot as plt\n",
    "import matplotlib.markers\n",
    "from mpl_toolkits.mplot3d import Axes3D"
   ]
  },
  {
   "cell_type": "markdown",
   "metadata": {
    "colab_type": "text",
    "id": "kVQscCaxXfvF"
   },
   "source": [
    "### Parametrii necesari rulării\n"
   ]
  },
  {
   "cell_type": "code",
   "execution_count": 3,
   "metadata": {
    "colab": {},
    "colab_type": "code",
    "id": "TEHiJQeYXjCf"
   },
   "outputs": [],
   "source": [
    "DATASET_NAME = 'GolfBall'  #@param ['Atom', 'Chainlink', 'EngyTime', 'GolfBall', 'Hepta', 'Lsun', 'Target', 'TwoDiamonds', 'WingNut']\n",
    "\n",
    "# Numărul de clustere\n",
    "K = 2  #@param {type: \"slider\", min: 2, max: 10}"
   ]
  },
  {
   "cell_type": "markdown",
   "metadata": {
    "colab_type": "text",
    "id": "3Q9tBSFJYt5D"
   },
   "source": [
    "### Funcții ajutătoare pentru descărcarea și lucrul cu setul de date"
   ]
  },
  {
   "cell_type": "code",
   "execution_count": 4,
   "metadata": {
    "colab": {},
    "colab_type": "code",
    "id": "SMvyyQnlYiIr"
   },
   "outputs": [],
   "source": [
    "def getArchive():\n",
    "    \"\"\" Checks if FCPS.zip is present in the local directory, if not,\n",
    "    downloads it.\n",
    "\n",
    "    Returns:\n",
    "        A ZipFile object for the FCPS archive\n",
    "    \"\"\"\n",
    "\n",
    "    archive_url = (\"https://github.com/cs-pub-ro/ML/raw/master/lab1/FCPS.zip\")\n",
    "    local_archive = \"FCPS.zip\"\n",
    " \n",
    "    from os import path\n",
    "    if not path.isfile(local_archive):\n",
    "        import urllib\n",
    "        print(\"Downloading...\")\n",
    "        urllib.request.urlretrieve(archive_url, filename=local_archive)\n",
    "        assert(path.isfile(local_archive))\n",
    "        print(\"Got the archive\")\n",
    "\n",
    "    return ZipFile(local_archive)\n",
    "\n",
    "\n",
    "def getDataSet(archive, dataSetName):\n",
    "    \"\"\" Get a dataset from the FCPS.zip\n",
    "\n",
    "    Args:\n",
    "        archive (ZipFile): Object for the FCPS\n",
    "        dataSetName (String): The dataset name from the FCPS\n",
    "\n",
    "    Returns:\n",
    "        A tuple (Xs, labels)\n",
    "        Xs (numpy array): rows are the elements and the cols are the features\n",
    "        labels (numpy array): labels associated with Xs\n",
    "\n",
    "    \"\"\"\n",
    "    encoding = \"ISO-8859-1\"\n",
    "    path = \"FCPS/01FCPSdata/\" + dataSetName\n",
    " \n",
    "    lrnFile = path + \".lrn\"\n",
    "    with archive.open(lrnFile, \"r\") as f:\n",
    "        N = int(f.readline().decode(encoding).split()[1])\n",
    "        D = int(f.readline().decode(encoding).split()[1])\n",
    "        f.readline()\n",
    "        f.readline()\n",
    "        Xs = np.zeros([N, D-1])\n",
    "        for i in range(N):\n",
    "            data = f.readline().decode(encoding).strip().split(\"\\t\")\n",
    "            assert (len(data) == D)\n",
    "            assert (int(data[0]) == (i + 1))\n",
    "            Xs[i] = np.array(list(map(float, data[1:])))\n",
    "\n",
    "    clsFile = path + \".cls\"\n",
    "    with archive.open(clsFile, \"r\") as f:\n",
    "        labels = np.zeros(N).astype(\"uint\")\n",
    " \n",
    "        line = f.readline().decode(encoding)\n",
    "        while line.startswith(\"%\") or line.startswith(\"#\"):\n",
    "            line = f.readline().decode(encoding)\n",
    " \n",
    "        i = 0\n",
    "        while line and i < N:\n",
    "            data = line.strip().split(\"\\t\")\n",
    "            assert (len(data) == 2)\n",
    "            assert (int(data[0]) == (i + 1))\n",
    "            labels[i] = int(data[1])\n",
    "            line = f.readline().decode(encoding)\n",
    "            i = i + 1\n",
    " \n",
    "        assert (i == N)\n",
    " \n",
    "    return Xs, labels\n",
    "\n",
    "\n",
    "def plotClusters(Xs, labels, centroids, clusters):\n",
    "    \"\"\" Plot the data with the true labels alongside the centroids and the\n",
    "    predicted cluster.\n",
    "    If the elements from the dataset are not 2 or 3 dimensional then print\n",
    "    the index, predicted cluster and true label.\n",
    "\n",
    "    Args:\n",
    "        Xs (numpy array): dataset\n",
    "        labels (numpy array): real/true labels\n",
    "        centroids (numpy array): positions for the centroids\n",
    "        clusters (numpy array): predicted labels\n",
    "    \"\"\"\n",
    "\n",
    "    labelsNo = np.max(labels)\n",
    "    K = centroids.shape[0]\n",
    "\n",
    "    markers = []\n",
    "\n",
    "    while len(markers) < labelsNo:\n",
    "        markers.extend(list(matplotlib.markers.MarkerStyle.filled_markers))\n",
    "\n",
    "    colors = plt.cm.rainbow(np.linspace(0, 1, K+1))\n",
    "    if Xs.shape[1] == 2:\n",
    "        x = Xs[:,0]\n",
    "        y = Xs[:,1]\n",
    "        for (_x, _y, _c, _l) in zip(x, y, clusters, labels):\n",
    "            plt.scatter(_x, _y, s=500, c=[colors[_c]], marker=markers[_l])\n",
    "        plt.scatter(centroids[:,0], centroids[:, 1],\n",
    "                    s=800, c=[colors[K]], marker=markers[labelsNo])\n",
    "        plt.show()\n",
    "    elif Xs.shape[1] == 3:\n",
    "        x = Xs[:,0]\n",
    "        y = Xs[:,1]\n",
    "        z = Xs[:,2]\n",
    "        fig = plt.figure()\n",
    "        ax = fig.add_subplot(111, projection='3d')\n",
    "        for (_x, _y, _z, _c, _l) in zip(x, y, z, clusters, labels):\n",
    "            ax.scatter(_x, _y, _z, s=200, c=[colors[_c]], marker=markers[_l])\n",
    "        ax.scatter(centroids[:,0], centroids[:, 1], centroids[:, 2],\n",
    "                    s=400, c=[colors[K]], marker=markers[labelsNo])\n",
    "        plt.show()\n",
    "    else:\n",
    "        for i in range(Xs.shape[0]):\n",
    "            print(f\"{i} : {clusters[i]} ~ {labels[i]}\")"
   ]
  },
  {
   "cell_type": "markdown",
   "metadata": {
    "colab_type": "text",
    "id": "VgdP78g6rpvv"
   },
   "source": [
    "### Încărcare set de date"
   ]
  },
  {
   "cell_type": "code",
   "execution_count": 5,
   "metadata": {
    "colab": {},
    "colab_type": "code",
    "id": "hSpZu4WhroqA"
   },
   "outputs": [],
   "source": [
    "Xs, labels = getDataSet(getArchive(), DATASET_NAME)"
   ]
  },
  {
   "cell_type": "markdown",
   "metadata": {
    "colab_type": "text",
    "id": "2xk677iNQRvQ"
   },
   "source": [
    "## 8. Cerințe"
   ]
  },
  {
   "cell_type": "markdown",
   "metadata": {
    "colab_type": "text",
    "id": "uYI7jZaxkT34"
   },
   "source": [
    "1. [6 pct] Implementați algoritmul K-Means descris în [Secțiunea 3](#scrollTo=Aj8ThCuUKcEB)"
   ]
  },
  {
   "cell_type": "code",
   "execution_count": 6,
   "metadata": {},
   "outputs": [],
   "source": [
    "def kpp_centroids(Xs, K):\n",
    "    (N, D) = Xs.shape\n",
    "    cents = np.zeros([K, D])\n",
    "    cents[0] = Xs[randint(0, N - 1)]\n",
    "\n",
    "    for i in range(1, K):\n",
    "        d = np.array([min([np.linalg.norm(X - cents[j]) ** 2\n",
    "            for j in range(0, i)])\n",
    "                for X in Xs])\n",
    "\n",
    "        probs = []\n",
    "        for idx, p in enumerate((d / d.sum()) * 10000):\n",
    "            probs += [idx for _ in range(int(p))]\n",
    "\n",
    "        cents[i] = Xs[choice(probs)]\n",
    "\n",
    "    return cents\n",
    "\n",
    "\n",
    "def random_centroids(Xs, K):\n",
    "    return Xs[np.random.choice(Xs.shape[0], K)]"
   ]
  },
  {
   "cell_type": "code",
   "execution_count": 7,
   "metadata": {
    "colab": {},
    "colab_type": "code",
    "id": "XmGzukavXg4y",
    "tags": []
   },
   "outputs": [
    {
     "data": {
      "image/png": "[encoded data removed]",
      "text/plain": [
       "<Figure size 432x288 with 1 Axes>"
      ]
     },
     "metadata": {
      "needs_background": "light"
     },
     "output_type": "display_data"
    }
   ],
   "source": [
    "def kMeans(K, Xs, init):\n",
    "    (N, D) = Xs.shape\n",
    " \n",
    "    new_centroids = init(Xs, K)\n",
    "\n",
    "    while True:\n",
    "        centroids = deepcopy(new_centroids)\n",
    "        clusters = np.array([np.argmin(np.linalg.norm(X - centroids, axis=1)) for X in Xs])\n",
    "\n",
    "        for i in range(K):\n",
    "            points_with_centre = [Xs[j] for j in range(len(Xs)) if clusters[j] == i]\n",
    "            new_centroids[i] = np.mean(points_with_centre, axis=0)\n",
    "        \n",
    "        if (new_centroids - centroids).all() == 0:\n",
    "            break\n",
    "\n",
    "    return clusters, centroids\n",
    "\n",
    "clusters, centroids = kMeans(K, Xs, random_centroids)\n",
    "plotClusters(Xs, labels, centroids, clusters)"
   ]
  },
  {
   "cell_type": "markdown",
   "metadata": {
    "colab_type": "text",
    "id": "Mwf36n5zXN17"
   },
   "source": [
    "2. [2 pct] Implementați metrica *Rand Index* descrisă în [Secțiunea 6.1] \n",
    "\n"
   ]
  },
  {
   "cell_type": "code",
   "execution_count": 8,
   "metadata": {
    "colab": {},
    "colab_type": "code",
    "id": "gLfCL-dAAyf1"
   },
   "outputs": [
    {
     "name": "stdout",
     "output_type": "stream",
     "text": [
      "randIndex: 0.5\n"
     ]
    }
   ],
   "source": [
    "def randIndex(clusters, labels):\n",
    "    TP = FP = FN = TN = 0\n",
    "    N = clusters.shape[0]\n",
    "\n",
    "    for i in range(N):\n",
    "        for j in range(N):\n",
    "            TP = TP + 1 if clusters[i] == clusters[j] and labels[i] == labels[j] else TP\n",
    "            FP = FP + 1 if clusters[i] == clusters[j] and labels[i] != labels[j] else FP\n",
    "            FN = FN + 1 if clusters[i] != clusters[j] and labels[i] == labels[j] else FN\n",
    "            TN = TN + 1 if clusters[i] != clusters[j] and labels[i] != labels[j] else TN\n",
    "\n",
    "    return (TP + TN) / (TP + FP + FN + TN)\n",
    "\n",
    "print(\"randIndex:\", randIndex(clusters, labels))"
   ]
  },
  {
   "cell_type": "markdown",
   "metadata": {
    "colab_type": "text",
    "id": "enL8W9AdAub_"
   },
   "source": [
    "3. [2 pct] Testați algoritmul implementat și eficiența acestuia pe seturile de date din arhivă. Puteți selecta alt set de date folosind *DATASET* din [Parametrii necesari rulării](#scrollTo=kVQscCaxXfvF).\n",
    "    \n",
    "    **Explicați de ce** pe unele seturi de date rezultatele sunt *nesatisfăcătoare*."
   ]
  },
  {
   "cell_type": "markdown",
   "metadata": {
    "colab_type": "text",
    "id": "lj3dmiZ5W4ec"
   },
   "source": [
    "4. [2 pct] Implementați unul dintre cei doi algoritmi prezentați ı̂n Secțiunea 5:\n",
    "  * metoda Kaufman pentru alegerea centroizilor inițiali\n",
    "  * algoritmul K-Means++\n",
    "\n",
    "    Comparați grupările obținute astfel cu cele obținute cu algoritmul K-Means.\n",
    "\n",
    "    Este utilă inițializarea atentă a centroizilor?"
   ]
  },
  {
   "cell_type": "code",
   "execution_count": 9,
   "metadata": {},
   "outputs": [
    {
     "name": "stdout",
     "output_type": "stream",
     "text": [
      "Rand Index for DS Atom, K = 2 with random init: 0.591378125\n",
      "Rand Index for DS Atom, K = 2 with k++ init: 0.573153125\n",
      "\n",
      "Rand Index for DS Atom, K = 3 with random init: 0.716853125\n",
      "Rand Index for DS Atom, K = 3 with k++ init: 0.708334375\n",
      "\n",
      "Rand Index for DS Atom, K = 4 with random init: 0.71935625\n",
      "Rand Index for DS Atom, K = 4 with k++ init: 0.714896875\n",
      "\n",
      "Rand Index for DS Atom, K = 5 with random init: 0.787725\n",
      "Rand Index for DS Atom, K = 5 with k++ init: 0.743409375\n",
      "\n",
      "Rand Index for DS Atom, K = 6 with random init: 0.801515625\n",
      "Rand Index for DS Atom, K = 6 with k++ init: 0.802215625\n",
      "\n",
      "Rand Index for DS Atom, K = 7 with random init: 0.79440625\n",
      "Rand Index for DS Atom, K = 7 with k++ init: 0.794109375\n",
      "\n",
      "Rand Index for DS Atom, K = 8 with random init: 0.673584375\n",
      "Rand Index for DS Atom, K = 8 with k++ init: 0.787934375\n",
      "\n",
      "Rand Index for DS Atom, K = 9 with random init: 0.78531875\n",
      "Rand Index for DS Atom, K = 9 with k++ init: 0.78385\n",
      "\n",
      "Rand Index for DS Atom, K = 10 with random init: 0.65996875\n",
      "Rand Index for DS Atom, K = 10 with k++ init: 0.780815625\n",
      "\n",
      "Rand Index for DS Chainlink, K = 2 with random init: 0.550562\n",
      "Rand Index for DS Chainlink, K = 2 with k++ init: 0.547432\n",
      "\n",
      "Rand Index for DS Chainlink, K = 3 with random init: 0.572942\n",
      "Rand Index for DS Chainlink, K = 3 with k++ init: 0.572366\n",
      "\n",
      "Rand Index for DS Chainlink, K = 4 with random init: 0.580578\n",
      "Rand Index for DS Chainlink, K = 4 with k++ init: 0.565674\n",
      "\n",
      "Rand Index for DS Chainlink, K = 5 with random init: 0.62794\n",
      "Rand Index for DS Chainlink, K = 5 with k++ init: 0.588082\n",
      "\n",
      "Rand Index for DS Chainlink, K = 6 with random init: 0.582314\n",
      "Rand Index for DS Chainlink, K = 6 with k++ init: 0.583326\n",
      "\n",
      "Rand Index for DS Chainlink, K = 7 with random init: 0.603738\n",
      "Rand Index for DS Chainlink, K = 7 with k++ init: 0.602228\n",
      "\n",
      "Rand Index for DS Chainlink, K = 8 with random init: 0.59804\n",
      "Rand Index for DS Chainlink, K = 8 with k++ init: 0.585216\n",
      "\n",
      "Rand Index for DS Chainlink, K = 9 with random init: 0.613688\n",
      "Rand Index for DS Chainlink, K = 9 with k++ init: 0.613932\n",
      "\n",
      "Rand Index for DS Chainlink, K = 10 with random init: 0.604304\n",
      "Rand Index for DS Chainlink, K = 10 with k++ init: 0.604982\n",
      "\n",
      "Rand Index for DS EngyTime, K = 2 with random init: 0.9079937934875488\n",
      "Rand Index for DS EngyTime, K = 2 with k++ init: 0.9079937934875488\n",
      "\n",
      "Rand Index for DS EngyTime, K = 3 with random init: 0.781746506690979\n",
      "Rand Index for DS EngyTime, K = 3 with k++ init: 0.7813191413879395\n",
      "\n",
      "Rand Index for DS EngyTime, K = 4 with random init: 0.7013250589370728\n",
      "Rand Index for DS EngyTime, K = 4 with k++ init: 0.7027864456176758\n",
      "\n",
      "Rand Index for DS EngyTime, K = 5 with random init: 0.6773536205291748\n",
      "Rand Index for DS EngyTime, K = 5 with k++ init: 0.6688896417617798\n",
      "\n",
      "Rand Index for DS EngyTime, K = 6 with random init: 0.6566412448883057\n",
      "Rand Index for DS EngyTime, K = 6 with k++ init: 0.6499698162078857\n",
      "\n",
      "Rand Index for DS EngyTime, K = 7 with random init: 0.6306850910186768\n",
      "Rand Index for DS EngyTime, K = 7 with k++ init: 0.6232362985610962\n",
      "\n",
      "Rand Index for DS EngyTime, K = 8 with random init: 0.6164224147796631\n",
      "Rand Index for DS EngyTime, K = 8 with k++ init: 0.6134399175643921\n",
      "\n",
      "Rand Index for DS EngyTime, K = 9 with random init: 0.6050431728363037\n",
      "Rand Index for DS EngyTime, K = 9 with k++ init: 0.606236457824707\n",
      "\n",
      "Rand Index for DS EngyTime, K = 10 with random init: 0.5896207094192505\n",
      "Rand Index for DS EngyTime, K = 10 with k++ init: 0.5940935611724854\n",
      "\n",
      "Rand Index for DS GolfBall, K = 2 with random init: 0.5\n",
      "Rand Index for DS GolfBall, K = 2 with k++ init: 0.5\n",
      "\n",
      "Rand Index for DS GolfBall, K = 3 with random init: 0.33333932733783034\n",
      "Rand Index for DS GolfBall, K = 3 with k++ init: 0.3333546869743539\n",
      "\n",
      "Rand Index for DS GolfBall, K = 4 with random init: 0.2500666208624823\n",
      "Rand Index for DS GolfBall, K = 4 with k++ init: 0.25001030219522924\n",
      "\n",
      "Rand Index for DS GolfBall, K = 5 with random init: 0.20100806668130203\n",
      "Rand Index for DS GolfBall, K = 5 with k++ init: 0.20108498973901356\n",
      "\n",
      "Rand Index for DS GolfBall, K = 6 with random init: 0.16666816516779093\n",
      "Rand Index for DS GolfBall, K = 6 with k++ init: 0.16666766566741617\n",
      "\n",
      "Rand Index for DS GolfBall, K = 7 with random init: 0.14367566341766647\n",
      "Rand Index for DS GolfBall, K = 7 with k++ init: 0.14369676730849967\n",
      "\n",
      "Rand Index for DS GolfBall, K = 8 with random init: 0.12550309053369368\n",
      "Rand Index for DS GolfBall, K = 8 with k++ init: 0.12531303064110125\n",
      "\n",
      "Rand Index for DS GolfBall, K = 9 with random init: 0.11141668046536451\n",
      "Rand Index for DS GolfBall, K = 9 with k++ init: 0.11151570641465874\n",
      "\n",
      "Rand Index for DS GolfBall, K = 10 with random init: 0.10025247246441747\n",
      "Rand Index for DS GolfBall, K = 10 with k++ init: 0.10016206289658769\n",
      "\n",
      "Rand Index for DS Hepta, K = 2 with random init: 0.6315414738341046\n",
      "Rand Index for DS Hepta, K = 2 with k++ init: 0.6315414738341046\n",
      "\n",
      "Rand Index for DS Hepta, K = 3 with random init: 0.5888216447134211\n",
      "Rand Index for DS Hepta, K = 3 with k++ init: 0.7276610893556426\n",
      "\n",
      "Rand Index for DS Hepta, K = 4 with random init: 0.8344606621573514\n",
      "Rand Index for DS Hepta, K = 4 with k++ init: 0.7516909932360271\n",
      "\n",
      "Rand Index for DS Hepta, K = 5 with random init: 0.7417230331078676\n",
      "Rand Index for DS Hepta, K = 5 with k++ init: 0.8745105019579922\n",
      "\n",
      "Rand Index for DS Hepta, K = 6 with random init: 0.7343805624777501\n",
      "Rand Index for DS Hepta, K = 6 with k++ init: 0.9572801708793165\n",
      "\n",
      "Rand Index for DS Hepta, K = 7 with random init: 0.9441082235671058\n",
      "Rand Index for DS Hepta, K = 7 with k++ init: 1.0\n",
      "\n",
      "Rand Index for DS Hepta, K = 8 with random init: 0.9376112495550017\n",
      "Rand Index for DS Hepta, K = 8 with k++ init: 0.9906995372018512\n",
      "\n",
      "Rand Index for DS Hepta, K = 9 with random init: 0.9900320398718405\n"
     ]
    },
    {
     "name": "stderr",
     "output_type": "stream",
     "text": [
      "/home/teo/.local/lib/python3.8/site-packages/numpy/core/fromnumeric.py:3419: RuntimeWarning: Mean of empty slice.\n",
      "  return _methods._mean(a, axis=axis, dtype=dtype,\n",
      "/home/teo/.local/lib/python3.8/site-packages/numpy/core/_methods.py:188: RuntimeWarning: invalid value encountered in double_scalars\n",
      "  ret = ret.dtype.type(ret / rcount)\n"
     ]
    },
    {
     "name": "stdout",
     "output_type": "stream",
     "text": [
      "Rand Index for DS Hepta, K = 9 with k++ init: 0.9810875756496974\n",
      "\n",
      "Rand Index for DS Hepta, K = 10 with random init: 0.93187077251691\n",
      "Rand Index for DS Hepta, K = 10 with k++ init: 0.9774830900676398\n",
      "\n",
      "Rand Index for DS WingNut, K = 2 with random init: 0.9316448632897266\n",
      "Rand Index for DS WingNut, K = 2 with k++ init: 0.9298177971355943\n",
      "\n",
      "Rand Index for DS WingNut, K = 3 with random init: 0.8309876619753239\n",
      "Rand Index for DS WingNut, K = 3 with k++ init: 0.8305865986731974\n",
      "\n",
      "Rand Index for DS WingNut, K = 4 with random init: 0.7575678901357803\n",
      "Rand Index for DS WingNut, K = 4 with k++ init: 0.7575678901357803\n",
      "\n",
      "Rand Index for DS WingNut, K = 5 with random init: 0.6884532519065039\n",
      "Rand Index for DS WingNut, K = 5 with k++ init: 0.6785584196168393\n",
      "\n",
      "Rand Index for DS WingNut, K = 6 with random init: 0.6256936263872528\n",
      "Rand Index for DS WingNut, K = 6 with k++ init: 0.6798642972285944\n",
      "\n",
      "Rand Index for DS WingNut, K = 7 with random init: 0.6335695796391593\n",
      "Rand Index for DS WingNut, K = 7 with k++ init: 0.6234286843573688\n",
      "\n",
      "Rand Index for DS WingNut, K = 8 with random init: 0.6128092256184512\n",
      "Rand Index for DS WingNut, K = 8 with k++ init: 0.6190169880339761\n",
      "\n",
      "Rand Index for DS WingNut, K = 9 with random init: 0.6007250139500279\n",
      "Rand Index for DS WingNut, K = 9 with k++ init: 0.6057140864281728\n",
      "\n",
      "Rand Index for DS WingNut, K = 10 with random init: 0.5960905046810093\n",
      "Rand Index for DS WingNut, K = 10 with k++ init: 0.603482081964164\n",
      "\n"
     ]
    }
   ],
   "source": [
    "INIT_METHODS = {\n",
    "    'random': random_centroids,\n",
    "    'k++': kpp_centroids\n",
    "}\n",
    "DATASETS = ['Atom', 'Chainlink', 'EngyTime', 'GolfBall', 'Hepta', 'WingNut']\n",
    "\n",
    "for DATASET in DATASETS:\n",
    "    for K in range(2, 11):\n",
    "        for name, init in INIT_METHODS.items():\n",
    "            Xs, labels = getDataSet(getArchive(), DATASET)\n",
    "            clusters, _ = kMeans(K, Xs, init)\n",
    "            print(f'Rand Index for DS {DATASET}, K = {K} with {name} init: {randIndex(clusters, labels)}')\n",
    "        print()"
   ]
  },
  {
   "cell_type": "markdown",
   "metadata": {},
   "source": [
    "## Concluzie\n",
    "Pare ca sa alegem o metoda anume pentru initializarea centroizilor da rezoltate simtitor mai bune doar pentru anumite numere de clustere.\n",
    "\n",
    "De exemplu, pentru dataseturile:\n",
    "- **Atom**, K-means++ se comporta mai bine pentru $K \\in \\{8, 10\\}$\n",
    "- **Chainkink**, K-means++ are performante similare pentru orice K\n",
    "- **EngyTime**, K-mens++ se comporta similar indiferent de K, dar cel mai bine pentru K = 2, cele 2 clustere putand fi despartite natural printr-o dreapta\n",
    "- Din moment ce punctele din **GolfBall** sunt o sfera, aceasta nu contine clustere, drept care ambii algoritmi clasifica random\n",
    "- **Hepta** este printre cele mai simple dataseturi, in care punctele sunt clar distantate, deci ambii algoritmi se comporta la fel de bine\n",
    "- **WingNut**, ambii algoritmi au un `Rand Index` comparabil, cele mai mari valori fiind pentru K = 2, deoarece datasetul contine 2 clustere"
   ]
  },
  {
   "cell_type": "markdown",
   "metadata": {
    "colab_type": "text",
    "id": "muZzrV7uVxXv"
   },
   "source": [
    "## 9. Set de Date\n",
    "În cadrul acestui laborator veți folosi seturile de date [FCPS](https://github.com/cs-pub-ro/ML/raw/master/lab1/FCPS.zip) (Fundamental Clustering\n",
    "Problem Suite) ale Philipps Universität Marburg.\n",
    "\n",
    "Pentru fiecare set de date veți găsi următoarele fișiere ı̂n subdirectorul 01FCPSdata:\n",
    "* $<$nume$>$.lrn - setul de date cu un id pentru fiecare obiect,\n",
    "* $<$nume$>$.cls - clasele reale ale obiectelor.\n",
    "\n",
    "Coloanele sunt separate prin TAB."
   ]
  },
  {
   "cell_type": "markdown",
   "metadata": {
    "colab_type": "text",
    "id": "QtkW7x139Us6"
   },
   "source": [
    "# Bibliografie\n",
    "<a name=\"M67\">[1] *James MacQueen et al. Some methods for classification and analysis of multivariate observations. In Proceedings of the fifth Berkeley symposium on mathematical statistics and probability, volume 1, pages 281–297. California, USA, 1967*</a>\n",
    "\n",
    "<a name=\"AV07\">[2] *David Arthur and Sergei Vassilvitskii. k-means++: The advantages of careful seeding. In Proceedings of the eighteenth annual ACM-SIAM symposium on Discrete algorithms, pages 1027–1035. Society for Industrial and Applied Mathematics, 2007*</a>\n",
    "\n",
    "<a name=\"PLL99\">[3] *José Manuel Pena, Jose Antonio Lozano, and Pedro Larranaga. An empirical comparison of four initialization methods for the K-Means algorithm. Pattern recognition letters, 20(10):1027–1040, 1999*</a>\n"
   ]
  }
 ],
 "metadata": {
  "colab": {
   "authorship_tag": "ABX9TyPBgK7FlhLIDXnM62J+RICq",
   "collapsed_sections": [
    "vwR9zMQRtihy",
    "C5l_vdbW6enZ",
    "kVQscCaxXfvF",
    "3Q9tBSFJYt5D",
    "VgdP78g6rpvv",
    "2xk677iNQRvQ"
   ],
   "include_colab_link": true,
   "name": "Laborator 1.ipynb",
   "provenance": [],
   "toc_visible": true
  },
  "kernelspec": {
   "display_name": "Python 3",
   "language": "python",
   "name": "python3"
  },
  "language_info": {
   "codemirror_mode": {
    "name": "ipython",
    "version": 3
   },
   "file_extension": ".py",
   "mimetype": "text/x-python",
   "name": "python",
   "nbconvert_exporter": "python",
   "pygments_lexer": "ipython3",
   "version": "3.8.5"
  }
 },
 "nbformat": 4,
 "nbformat_minor": 1
}