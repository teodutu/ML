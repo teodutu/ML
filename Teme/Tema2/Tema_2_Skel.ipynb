{
  "nbformat": 4,
  "nbformat_minor": 0,
  "metadata": {
    "colab": {
      "name": "Tema 2 - Skel.ipynb",
      "provenance": [],
      "collapsed_sections": [],
      "include_colab_link": true
    },
    "kernelspec": {
      "display_name": "Python 3",
      "name": "python3",
      "language": "python"
    },
    "language_info": {
      "name": "python",
      "version": "3.8.5"
    }
  },
  "cells": [
    {
      "cell_type": "markdown",
      "metadata": {
        "id": "view-in-github",
        "colab_type": "text"
      },
      "source": [
        "<a href=\"https://colab.research.google.com/github/cs-pub-ro/ML/blob/master/homework/2020-2021/hw2/Tema_2_Skel.ipynb\" target=\"_parent\"><img src=\"https://colab.research.google.com/assets/colab-badge.svg\" alt=\"Open In Colab\"/></a>"
      ]
    },
    {
      "cell_type": "markdown",
      "metadata": {
        "id": "zLbq2kmY8Pg7"
      },
      "source": [
        "# Tema 2 - Taxi Driver\n",
        "\n",
        "### Autori: \n",
        "* George Muraru\n",
        "\n",
        "\n",
        "## 2. Scopul temei\n",
        "Tema are ca scop folosirea unor tehnici simple de reinforcement learning pentru a realiza un bot care \"știe\" să realizeze o sarcină simplă: să transporte o persoană dintr-o locație în alta.\n",
        "\n",
        "Mai multe detalii despre joc se pot găsi [aici](https://github.com/openai/gym/blob/master/gym/envs/toy_text/taxi.py) și [aici](https://gym.openai.com/envs/Taxi-v3/).\n",
        "\n",
        "\n",
        "## 3. Workspace Setup\n",
        "Pentru environmentul de joc, vom folosi \"Gym\" - un tool oferit de OpenAI pentru Reinforcement Learning.\n",
        "\n",
        "Mai multe detalii puteți găsi [aici](https://gym.openai.com/)."
      ]
    },
    {
      "cell_type": "markdown",
      "metadata": {
        "id": "h4HsagGt-zvI"
      },
      "source": [
        "### Dependețe"
      ]
    },
    {
      "cell_type": "code",
      "metadata": {
        "id": "ILG0Xlj3-1yh"
      },
      "source": [
        "!pip3 install -U gym"
      ],
      "execution_count": 1,
      "outputs": [
        {
          "output_type": "stream",
          "name": "stdout",
          "text": [
            "Requirement already up-to-date: gym in /home/teo/.local/lib/python3.8/site-packages (0.18.0)\nRequirement already satisfied, skipping upgrade: numpy>=1.10.4 in /home/teo/.local/lib/python3.8/site-packages (from gym) (1.20.1)\nRequirement already satisfied, skipping upgrade: pyglet<=1.5.0,>=1.4.0 in /home/teo/.local/lib/python3.8/site-packages (from gym) (1.5.0)\nRequirement already satisfied, skipping upgrade: cloudpickle<1.7.0,>=1.2.0 in /home/teo/.local/lib/python3.8/site-packages (from gym) (1.6.0)\nRequirement already satisfied, skipping upgrade: Pillow<=7.2.0 in /usr/lib/python3/dist-packages (from gym) (7.0.0)\nRequirement already satisfied, skipping upgrade: scipy in /home/teo/.local/lib/python3.8/site-packages (from gym) (1.6.1)\nRequirement already satisfied, skipping upgrade: future in /usr/local/lib/python3.8/dist-packages (from pyglet<=1.5.0,>=1.4.0->gym) (0.18.2)\n"
          ]
        }
      ]
    },
    {
      "cell_type": "markdown",
      "metadata": {
        "id": "rsezxQc6Cw2q"
      },
      "source": [
        "### Import biblioteci"
      ]
    },
    {
      "cell_type": "code",
      "metadata": {
        "id": "iRBWl2gNCz0s"
      },
      "source": [
        "import gym\n",
        "import seaborn as sns\n",
        "import numpy as np\n",
        "\n",
        "# Set seaborn plotting type\n",
        "sns.set()\n",
        "\n",
        "import random\n",
        "import time\n",
        "from IPython.display import clear_output"
      ],
      "execution_count": 2,
      "outputs": []
    },
    {
      "cell_type": "markdown",
      "metadata": {
        "id": "koOr44nVC2W8"
      },
      "source": [
        "### Setup Environment pentru Taxi"
      ]
    },
    {
      "cell_type": "code",
      "metadata": {
        "id": "6QqIehW-C6jt"
      },
      "source": [
        "env = gym.make('Taxi-v3')"
      ],
      "execution_count": 3,
      "outputs": []
    },
    {
      "cell_type": "markdown",
      "metadata": {
        "id": "hIrkE5md-DwS"
      },
      "source": [
        "### Parametrii"
      ]
    },
    {
      "cell_type": "code",
      "metadata": {
        "id": "Eq_2kBEe-I-s"
      },
      "source": [
        "LOG_INTERVAL = 100 #@param {type: \"slider\", min: 0, max: 1000, step: 10}\n",
        "NR_EPISODES = 5000 #@param {type: \"slider\", min: 5, max: 10000, step: 5}"
      ],
      "execution_count": 4,
      "outputs": []
    },
    {
      "cell_type": "markdown",
      "metadata": {
        "id": "m7CBF_u4Ifxf"
      },
      "source": [
        "### Hyperparametrii"
      ]
    },
    {
      "cell_type": "code",
      "metadata": {
        "id": "w5soyOMbIg-I"
      },
      "source": [
        "ALPHA = 0.1 #@param {type: \"slider\", min: 0.0, max: 1.0, step: 0.1}\n",
        "GAMMA = 0.9 #@param {type: \"slider\", min: 0.0, max: 1.0, step: 0.1}\n",
        "EPSILON = 0.2 #@param {type: \"slider\", min: 0.0, max: 1.0, step: 0.1}\n",
        "\n",
        "# For BONUS\n",
        "DECAY_EPS = 0.95 #@param {type: \"slider\", min: 0.0, max: 1.0, step: 0.05}\n",
        "DECAY_EPS_EPISODES = 100 #@param {type: \"slider\", min: 0, max: 10000, step: 5}\n",
        "BONUS = False"
      ],
      "execution_count": 5,
      "outputs": []
    },
    {
      "cell_type": "markdown",
      "metadata": {
        "id": "i2jAK1qtDooZ"
      },
      "source": [
        "## 4 Problemă de rezolvat\n",
        "Dorim să implementăm un bot care utilizează Q-Learning sau Sarsa pentru a realiza un task simplu - transportarea unei persoane de la o poziție la alta.\n",
        "\n",
        "De asemenea, dorim să observăm ce se întamplă când modifăm diferiți parametrii ai sistemului:\n",
        " - dăm un reward mai mic/mare pentru mișcări inutile\n",
        " - scoatem anumite informații din stare\n",
        "\n",
        "### Choose action (5p)\n",
        "Funcția `choose_action` are ca parametrii:\n",
        "- `Q` - tabela de stări-acțiuni/tabelă de utilităti (aceasta se va modifica în pasul de antrenare),\n",
        "- `state` - starea curentă în care se află jucătorul (în cazul nostru șoferul)\n",
        "- `eps` - probabilitatea cu care se va alege o mutare random, are rolul de a controla tradeoff-ul dintre *Explorare* și *Exploatare* \n",
        "\n",
        "Funcția `choose_action` trebuie să intoarcă o acțiune random cu probabilitate `eps`, altfel acțiunea care maximizează utilitatea din starea curentă."
      ]
    },
    {
      "cell_type": "code",
      "metadata": {
        "id": "vmImyaTvKKo-"
      },
      "source": [
        "def choose_action(Q: np.array, state: int, eps: float = 0.0) -> int:\n",
        "    # TODO: Select an action\n",
        "    if random.random() <= eps: \n",
        "        return env.action_space.sample()\n",
        "    return np.argmax(Q[state])"
      ],
      "execution_count": 6,
      "outputs": []
    },
    {
      "cell_type": "markdown",
      "metadata": {
        "id": "uvilu_zqD4LI"
      },
      "source": [
        "### 4.1 Q-Learning (25p)\n",
        "\n",
        "Implementați algoritmul Q-Learning.\n",
        "\n",
        "Formula de update pentru `Q` este:\n",
        "$$\n",
        "  Q[s_t, a] = Q[s_t, a] + \\alpha(R + \\gamma \\max_{a}Q[s_{t+1}, a] - Q[s_t, a])\n",
        "$$\n",
        "\n",
        "Unde:\n",
        "- `s_t` - starea la momentul `t`\n",
        "- `a` - acțiunea aleasă la momentul `t`\n",
        "- $\\alpha$, $\\gamma$ - parametru setat înainte de rulare\n",
        "- `s_{t+1}` - starea la momentul `t+1`, după ce s-a efectua acțiunea `a`"
      ]
    },
    {
      "cell_type": "markdown",
      "metadata": {
        "id": "vuQAPbb4EvCC"
      },
      "source": [
        "#### Train"
      ]
    },
    {
      "cell_type": "code",
      "metadata": {
        "id": "HfoLA8WSE26f"
      },
      "source": [
        "REWARDS = []\n",
        "eps = EPSILON\n",
        "\n",
        "# Table used to keep the utilities for state-action\n",
        "Q = np.zeros((env.observation_space.n, env.action_space.n))\n",
        "\n",
        "env.seed(42)\n",
        "\n",
        "for i in range(1, NR_EPISODES + 1):\n",
        "    state = env.reset()\n",
        "    has_ended = False\n",
        "    total_reward = 0\n",
        "\n",
        "    while not has_ended:\n",
        "        # TODO: Get the action\n",
        "        action = choose_action(Q, state, eps)\n",
        "\n",
        "        # Do the action\n",
        "        next_state, reward, has_ended, _ = env.step(action)\n",
        "\n",
        "        # Cumulate the reward for plotting\n",
        "        total_reward += reward\n",
        "\n",
        "        # TODO: Update the Q(state, action) with the new value\n",
        "        Q[state][action] += ALPHA * (reward + GAMMA * np.max(Q[next_state]) - Q[state][action]) \n",
        "\n",
        "        # TODO: Go to the new state\n",
        "        state = next_state\n",
        "\n",
        "    if i % LOG_INTERVAL == 0:\n",
        "        REWARDS.append(total_reward)\n",
        "        print(f\"Episode: {i}\")\n",
        "\n",
        "    # TODO (BONUS): Decay eps for every DECAY_EPS_EPISODES\n",
        "    # Use DECAY_EPS\n",
        "    if BONUS and i % DECAY_EPS_EPISODES == 0:\n",
        "        eps *= DECAY_EPS\n",
        "\n",
        "# Save the results for plotting\n",
        "Q_1 = Q\n",
        "print(\"Training Q-Learning finished.\\n\")"
      ],
      "execution_count": 7,
      "outputs": [
        {
          "output_type": "stream",
          "name": "stdout",
          "text": [
            "Episode: 100\n",
            "Episode: 200\n",
            "Episode: 300\n",
            "Episode: 400\n",
            "Episode: 500\n",
            "Episode: 600\n",
            "Episode: 700\n",
            "Episode: 800\n",
            "Episode: 900\n",
            "Episode: 1000\n",
            "Episode: 1100\n",
            "Episode: 1200\n",
            "Episode: 1300\n",
            "Episode: 1400\n",
            "Episode: 1500\n",
            "Episode: 1600\n",
            "Episode: 1700\n",
            "Episode: 1800\n",
            "Episode: 1900\n",
            "Episode: 2000\n",
            "Episode: 2100\n",
            "Episode: 2200\n",
            "Episode: 2300\n",
            "Episode: 2400\n",
            "Episode: 2500\n",
            "Episode: 2600\n",
            "Episode: 2700\n",
            "Episode: 2800\n",
            "Episode: 2900\n",
            "Episode: 3000\n",
            "Episode: 3100\n",
            "Episode: 3200\n",
            "Episode: 3300\n",
            "Episode: 3400\n",
            "Episode: 3500\n",
            "Episode: 3600\n",
            "Episode: 3700\n",
            "Episode: 3800\n",
            "Episode: 3900\n",
            "Episode: 4000\n",
            "Episode: 4100\n",
            "Episode: 4200\n",
            "Episode: 4300\n",
            "Episode: 4400\n",
            "Episode: 4500\n",
            "Episode: 4600\n",
            "Episode: 4700\n",
            "Episode: 4800\n",
            "Episode: 4900\n",
            "Episode: 5000\n",
            "Training Q-Learning finished.\n",
            "\n"
          ]
        }
      ]
    },
    {
      "cell_type": "markdown",
      "metadata": {
        "id": "Ya53mUXoyMki"
      },
      "source": [
        "#### Let's check the driver"
      ]
    },
    {
      "cell_type": "code",
      "metadata": {
        "id": "as7iNa86yQGL"
      },
      "source": [
        "state = env.reset()\n",
        "has_ended = False\n",
        "\n",
        "while not has_ended:\n",
        "    # TODO: Take always the best action\n",
        "    action = np.argmax(Q[state])\n",
        "    state, reward, has_ended, _ = env.step(action)\n",
        "    time.sleep(0.75)\n",
        "    env.render()\n",
        "    print(f\"Reward {reward}\")\n",
        "    clear_output(wait=True)"
      ],
      "execution_count": 8,
      "outputs": [
        {
          "output_type": "stream",
          "name": "stdout",
          "text": [
            "+---------+\n|\u001b[35m\u001b[34;1m\u001b[43mR\u001b[0m\u001b[0m\u001b[0m: | : :G|\n| : | : : |\n| : : : : |\n| | : | : |\n|Y| : |B: |\n+---------+\n  (Dropoff)\nReward 20\n"
          ]
        }
      ]
    },
    {
      "cell_type": "markdown",
      "metadata": {
        "id": "IG0vWU5W2y3L"
      },
      "source": [
        "### And the rewards"
      ]
    },
    {
      "cell_type": "code",
      "metadata": {
        "id": "kfW3gEtA23cY"
      },
      "source": [
        "x_points = np.arange(LOG_INTERVAL, NR_EPISODES + 1, LOG_INTERVAL)\n",
        "y_points = REWARDS\n",
        "\n",
        "plt = sns.lineplot(x=x_points, y=y_points)\n",
        "plt.set(xlabel=\"# episodes\", ylabel=\"reward\")"
      ],
      "execution_count": 9,
      "outputs": [
        {
          "output_type": "execute_result",
          "data": {
            "text/plain": [
              "[Text(0.5, 0, '# episodes'), Text(0, 0.5, 'reward')]"
            ]
          },
          "metadata": {},
          "execution_count": 9
        },
        {
          "output_type": "display_data",
          "data": {
            "text/plain": "<Figure size 432x288 with 1 Axes>",
            "image/svg+xml": "<?xml version=\"1.0\" encoding=\"utf-8\" standalone=\"no\"?>\n<!DOCTYPE svg PUBLIC \"-//W3C//DTD SVG 1.1//EN\"\n  \"http://www.w3.org/Graphics/SVG/1.1/DTD/svg11.dtd\">\n<svg height=\"267.599688pt\" version=\"1.1\" viewBox=\"0 0 404.527656 267.599688\" width=\"404.527656pt\" xmlns=\"http://www.w3.org/2000/svg\" xmlns:xlink=\"http://www.w3.org/1999/xlink\">\n <metadata>\n  <rdf:RDF xmlns:cc=\"http://creativecommons.org/ns#\" xmlns:dc=\"http://purl.org/dc/elements/1.1/\" xmlns:rdf=\"http://www.w3.org/1999/02/22-rdf-syntax-ns#\">\n   <cc:Work>\n    <dc:type rdf:resource=\"http://purl.org/dc/dcmitype/StillImage\"/>\n    <dc:date>2021-04-24T22:04:51.802506</dc:date>\n    <dc:format>image/svg+xml</dc:format>\n    <dc:creator>\n     <cc:Agent>\n      <dc:title>Matplotlib v3.4.1, https://matplotlib.org/</dc:title>\n     </cc:Agent>\n    </dc:creator>\n   </cc:Work>\n  </rdf:RDF>\n </metadata>\n <defs>\n  <style type=\"text/css\">*{stroke-linecap:butt;stroke-linejoin:round;}</style>\n </defs>\n <g id=\"figure_1\">\n  <g id=\"patch_1\">\n   <path d=\"M 0 267.599688 \nL 404.527656 267.599688 \nL 404.527656 0 \nL 0 0 \nz\n\" style=\"fill:#ffffff;\"/>\n  </g>\n  <g id=\"axes_1\">\n   <g id=\"patch_2\">\n    <path d=\"M 62.527656 224.64 \nL 397.327656 224.64 \nL 397.327656 7.2 \nL 62.527656 7.2 \nz\n\" style=\"fill:#eaeaf2;\"/>\n   </g>\n   <g id=\"matplotlib.axis_1\">\n    <g id=\"xtick_1\">\n     <g id=\"line2d_1\">\n      <path clip-path=\"url(#pf14a0de637)\" d=\"M 71.534335 224.64 \nL 71.534335 7.2 \n\" style=\"fill:none;stroke:#ffffff;stroke-linecap:round;\"/>\n     </g>\n     <g id=\"text_1\">\n      <!-- 0 -->\n      <g style=\"fill:#262626;\" transform=\"translate(68.03496 242.498281)scale(0.11 -0.11)\">\n       <defs>\n        <path d=\"M 2034 4250 \nQ 1547 4250 1301 3770 \nQ 1056 3291 1056 2328 \nQ 1056 1369 1301 889 \nQ 1547 409 2034 409 \nQ 2525 409 2770 889 \nQ 3016 1369 3016 2328 \nQ 3016 3291 2770 3770 \nQ 2525 4250 2034 4250 \nz\nM 2034 4750 \nQ 2819 4750 3233 4129 \nQ 3647 3509 3647 2328 \nQ 3647 1150 3233 529 \nQ 2819 -91 2034 -91 \nQ 1250 -91 836 529 \nQ 422 1150 422 2328 \nQ 422 3509 836 4129 \nQ 1250 4750 2034 4750 \nz\n\" id=\"DejaVuSans-30\" transform=\"scale(0.015625)\"/>\n       </defs>\n       <use xlink:href=\"#DejaVuSans-30\"/>\n      </g>\n     </g>\n    </g>\n    <g id=\"xtick_2\">\n     <g id=\"line2d_2\">\n      <path clip-path=\"url(#pf14a0de637)\" d=\"M 133.649363 224.64 \nL 133.649363 7.2 \n\" style=\"fill:none;stroke:#ffffff;stroke-linecap:round;\"/>\n     </g>\n     <g id=\"text_2\">\n      <!-- 1000 -->\n      <g style=\"fill:#262626;\" transform=\"translate(119.651863 242.498281)scale(0.11 -0.11)\">\n       <defs>\n        <path d=\"M 794 531 \nL 1825 531 \nL 1825 4091 \nL 703 3866 \nL 703 4441 \nL 1819 4666 \nL 2450 4666 \nL 2450 531 \nL 3481 531 \nL 3481 0 \nL 794 0 \nL 794 531 \nz\n\" id=\"DejaVuSans-31\" transform=\"scale(0.015625)\"/>\n       </defs>\n       <use xlink:href=\"#DejaVuSans-31\"/>\n       <use x=\"63.623047\" xlink:href=\"#DejaVuSans-30\"/>\n       <use x=\"127.246094\" xlink:href=\"#DejaVuSans-30\"/>\n       <use x=\"190.869141\" xlink:href=\"#DejaVuSans-30\"/>\n      </g>\n     </g>\n    </g>\n    <g id=\"xtick_3\">\n     <g id=\"line2d_3\">\n      <path clip-path=\"url(#pf14a0de637)\" d=\"M 195.764391 224.64 \nL 195.764391 7.2 \n\" style=\"fill:none;stroke:#ffffff;stroke-linecap:round;\"/>\n     </g>\n     <g id=\"text_3\">\n      <!-- 2000 -->\n      <g style=\"fill:#262626;\" transform=\"translate(181.766891 242.498281)scale(0.11 -0.11)\">\n       <defs>\n        <path d=\"M 1228 531 \nL 3431 531 \nL 3431 0 \nL 469 0 \nL 469 531 \nQ 828 903 1448 1529 \nQ 2069 2156 2228 2338 \nQ 2531 2678 2651 2914 \nQ 2772 3150 2772 3378 \nQ 2772 3750 2511 3984 \nQ 2250 4219 1831 4219 \nQ 1534 4219 1204 4116 \nQ 875 4013 500 3803 \nL 500 4441 \nQ 881 4594 1212 4672 \nQ 1544 4750 1819 4750 \nQ 2544 4750 2975 4387 \nQ 3406 4025 3406 3419 \nQ 3406 3131 3298 2873 \nQ 3191 2616 2906 2266 \nQ 2828 2175 2409 1742 \nQ 1991 1309 1228 531 \nz\n\" id=\"DejaVuSans-32\" transform=\"scale(0.015625)\"/>\n       </defs>\n       <use xlink:href=\"#DejaVuSans-32\"/>\n       <use x=\"63.623047\" xlink:href=\"#DejaVuSans-30\"/>\n       <use x=\"127.246094\" xlink:href=\"#DejaVuSans-30\"/>\n       <use x=\"190.869141\" xlink:href=\"#DejaVuSans-30\"/>\n      </g>\n     </g>\n    </g>\n    <g id=\"xtick_4\">\n     <g id=\"line2d_4\">\n      <path clip-path=\"url(#pf14a0de637)\" d=\"M 257.879419 224.64 \nL 257.879419 7.2 \n\" style=\"fill:none;stroke:#ffffff;stroke-linecap:round;\"/>\n     </g>\n     <g id=\"text_4\">\n      <!-- 3000 -->\n      <g style=\"fill:#262626;\" transform=\"translate(243.881919 242.498281)scale(0.11 -0.11)\">\n       <defs>\n        <path d=\"M 2597 2516 \nQ 3050 2419 3304 2112 \nQ 3559 1806 3559 1356 \nQ 3559 666 3084 287 \nQ 2609 -91 1734 -91 \nQ 1441 -91 1130 -33 \nQ 819 25 488 141 \nL 488 750 \nQ 750 597 1062 519 \nQ 1375 441 1716 441 \nQ 2309 441 2620 675 \nQ 2931 909 2931 1356 \nQ 2931 1769 2642 2001 \nQ 2353 2234 1838 2234 \nL 1294 2234 \nL 1294 2753 \nL 1863 2753 \nQ 2328 2753 2575 2939 \nQ 2822 3125 2822 3475 \nQ 2822 3834 2567 4026 \nQ 2313 4219 1838 4219 \nQ 1578 4219 1281 4162 \nQ 984 4106 628 3988 \nL 628 4550 \nQ 988 4650 1302 4700 \nQ 1616 4750 1894 4750 \nQ 2613 4750 3031 4423 \nQ 3450 4097 3450 3541 \nQ 3450 3153 3228 2886 \nQ 3006 2619 2597 2516 \nz\n\" id=\"DejaVuSans-33\" transform=\"scale(0.015625)\"/>\n       </defs>\n       <use xlink:href=\"#DejaVuSans-33\"/>\n       <use x=\"63.623047\" xlink:href=\"#DejaVuSans-30\"/>\n       <use x=\"127.246094\" xlink:href=\"#DejaVuSans-30\"/>\n       <use x=\"190.869141\" xlink:href=\"#DejaVuSans-30\"/>\n      </g>\n     </g>\n    </g>\n    <g id=\"xtick_5\">\n     <g id=\"line2d_5\">\n      <path clip-path=\"url(#pf14a0de637)\" d=\"M 319.994447 224.64 \nL 319.994447 7.2 \n\" style=\"fill:none;stroke:#ffffff;stroke-linecap:round;\"/>\n     </g>\n     <g id=\"text_5\">\n      <!-- 4000 -->\n      <g style=\"fill:#262626;\" transform=\"translate(305.996947 242.498281)scale(0.11 -0.11)\">\n       <defs>\n        <path d=\"M 2419 4116 \nL 825 1625 \nL 2419 1625 \nL 2419 4116 \nz\nM 2253 4666 \nL 3047 4666 \nL 3047 1625 \nL 3713 1625 \nL 3713 1100 \nL 3047 1100 \nL 3047 0 \nL 2419 0 \nL 2419 1100 \nL 313 1100 \nL 313 1709 \nL 2253 4666 \nz\n\" id=\"DejaVuSans-34\" transform=\"scale(0.015625)\"/>\n       </defs>\n       <use xlink:href=\"#DejaVuSans-34\"/>\n       <use x=\"63.623047\" xlink:href=\"#DejaVuSans-30\"/>\n       <use x=\"127.246094\" xlink:href=\"#DejaVuSans-30\"/>\n       <use x=\"190.869141\" xlink:href=\"#DejaVuSans-30\"/>\n      </g>\n     </g>\n    </g>\n    <g id=\"xtick_6\">\n     <g id=\"line2d_6\">\n      <path clip-path=\"url(#pf14a0de637)\" d=\"M 382.109474 224.64 \nL 382.109474 7.2 \n\" style=\"fill:none;stroke:#ffffff;stroke-linecap:round;\"/>\n     </g>\n     <g id=\"text_6\">\n      <!-- 5000 -->\n      <g style=\"fill:#262626;\" transform=\"translate(368.111974 242.498281)scale(0.11 -0.11)\">\n       <defs>\n        <path d=\"M 691 4666 \nL 3169 4666 \nL 3169 4134 \nL 1269 4134 \nL 1269 2991 \nQ 1406 3038 1543 3061 \nQ 1681 3084 1819 3084 \nQ 2600 3084 3056 2656 \nQ 3513 2228 3513 1497 \nQ 3513 744 3044 326 \nQ 2575 -91 1722 -91 \nQ 1428 -91 1123 -41 \nQ 819 9 494 109 \nL 494 744 \nQ 775 591 1075 516 \nQ 1375 441 1709 441 \nQ 2250 441 2565 725 \nQ 2881 1009 2881 1497 \nQ 2881 1984 2565 2268 \nQ 2250 2553 1709 2553 \nQ 1456 2553 1204 2497 \nQ 953 2441 691 2322 \nL 691 4666 \nz\n\" id=\"DejaVuSans-35\" transform=\"scale(0.015625)\"/>\n       </defs>\n       <use xlink:href=\"#DejaVuSans-35\"/>\n       <use x=\"63.623047\" xlink:href=\"#DejaVuSans-30\"/>\n       <use x=\"127.246094\" xlink:href=\"#DejaVuSans-30\"/>\n       <use x=\"190.869141\" xlink:href=\"#DejaVuSans-30\"/>\n      </g>\n     </g>\n    </g>\n    <g id=\"text_7\">\n     <!-- # episodes -->\n     <g style=\"fill:#262626;\" transform=\"translate(196.401719 257.904063)scale(0.12 -0.12)\">\n      <defs>\n       <path d=\"M 3272 2816 \nL 2363 2816 \nL 2100 1772 \nL 3016 1772 \nL 3272 2816 \nz\nM 2803 4594 \nL 2478 3297 \nL 3391 3297 \nL 3719 4594 \nL 4219 4594 \nL 3897 3297 \nL 4872 3297 \nL 4872 2816 \nL 3775 2816 \nL 3519 1772 \nL 4513 1772 \nL 4513 1294 \nL 3397 1294 \nL 3072 0 \nL 2572 0 \nL 2894 1294 \nL 1978 1294 \nL 1656 0 \nL 1153 0 \nL 1478 1294 \nL 494 1294 \nL 494 1772 \nL 1594 1772 \nL 1856 2816 \nL 850 2816 \nL 850 3297 \nL 1978 3297 \nL 2297 4594 \nL 2803 4594 \nz\n\" id=\"DejaVuSans-23\" transform=\"scale(0.015625)\"/>\n       <path id=\"DejaVuSans-20\" transform=\"scale(0.015625)\"/>\n       <path d=\"M 3597 1894 \nL 3597 1613 \nL 953 1613 \nQ 991 1019 1311 708 \nQ 1631 397 2203 397 \nQ 2534 397 2845 478 \nQ 3156 559 3463 722 \nL 3463 178 \nQ 3153 47 2828 -22 \nQ 2503 -91 2169 -91 \nQ 1331 -91 842 396 \nQ 353 884 353 1716 \nQ 353 2575 817 3079 \nQ 1281 3584 2069 3584 \nQ 2775 3584 3186 3129 \nQ 3597 2675 3597 1894 \nz\nM 3022 2063 \nQ 3016 2534 2758 2815 \nQ 2500 3097 2075 3097 \nQ 1594 3097 1305 2825 \nQ 1016 2553 972 2059 \nL 3022 2063 \nz\n\" id=\"DejaVuSans-65\" transform=\"scale(0.015625)\"/>\n       <path d=\"M 1159 525 \nL 1159 -1331 \nL 581 -1331 \nL 581 3500 \nL 1159 3500 \nL 1159 2969 \nQ 1341 3281 1617 3432 \nQ 1894 3584 2278 3584 \nQ 2916 3584 3314 3078 \nQ 3713 2572 3713 1747 \nQ 3713 922 3314 415 \nQ 2916 -91 2278 -91 \nQ 1894 -91 1617 61 \nQ 1341 213 1159 525 \nz\nM 3116 1747 \nQ 3116 2381 2855 2742 \nQ 2594 3103 2138 3103 \nQ 1681 3103 1420 2742 \nQ 1159 2381 1159 1747 \nQ 1159 1113 1420 752 \nQ 1681 391 2138 391 \nQ 2594 391 2855 752 \nQ 3116 1113 3116 1747 \nz\n\" id=\"DejaVuSans-70\" transform=\"scale(0.015625)\"/>\n       <path d=\"M 603 3500 \nL 1178 3500 \nL 1178 0 \nL 603 0 \nL 603 3500 \nz\nM 603 4863 \nL 1178 4863 \nL 1178 4134 \nL 603 4134 \nL 603 4863 \nz\n\" id=\"DejaVuSans-69\" transform=\"scale(0.015625)\"/>\n       <path d=\"M 2834 3397 \nL 2834 2853 \nQ 2591 2978 2328 3040 \nQ 2066 3103 1784 3103 \nQ 1356 3103 1142 2972 \nQ 928 2841 928 2578 \nQ 928 2378 1081 2264 \nQ 1234 2150 1697 2047 \nL 1894 2003 \nQ 2506 1872 2764 1633 \nQ 3022 1394 3022 966 \nQ 3022 478 2636 193 \nQ 2250 -91 1575 -91 \nQ 1294 -91 989 -36 \nQ 684 19 347 128 \nL 347 722 \nQ 666 556 975 473 \nQ 1284 391 1588 391 \nQ 1994 391 2212 530 \nQ 2431 669 2431 922 \nQ 2431 1156 2273 1281 \nQ 2116 1406 1581 1522 \nL 1381 1569 \nQ 847 1681 609 1914 \nQ 372 2147 372 2553 \nQ 372 3047 722 3315 \nQ 1072 3584 1716 3584 \nQ 2034 3584 2315 3537 \nQ 2597 3491 2834 3397 \nz\n\" id=\"DejaVuSans-73\" transform=\"scale(0.015625)\"/>\n       <path d=\"M 1959 3097 \nQ 1497 3097 1228 2736 \nQ 959 2375 959 1747 \nQ 959 1119 1226 758 \nQ 1494 397 1959 397 \nQ 2419 397 2687 759 \nQ 2956 1122 2956 1747 \nQ 2956 2369 2687 2733 \nQ 2419 3097 1959 3097 \nz\nM 1959 3584 \nQ 2709 3584 3137 3096 \nQ 3566 2609 3566 1747 \nQ 3566 888 3137 398 \nQ 2709 -91 1959 -91 \nQ 1206 -91 779 398 \nQ 353 888 353 1747 \nQ 353 2609 779 3096 \nQ 1206 3584 1959 3584 \nz\n\" id=\"DejaVuSans-6f\" transform=\"scale(0.015625)\"/>\n       <path d=\"M 2906 2969 \nL 2906 4863 \nL 3481 4863 \nL 3481 0 \nL 2906 0 \nL 2906 525 \nQ 2725 213 2448 61 \nQ 2172 -91 1784 -91 \nQ 1150 -91 751 415 \nQ 353 922 353 1747 \nQ 353 2572 751 3078 \nQ 1150 3584 1784 3584 \nQ 2172 3584 2448 3432 \nQ 2725 3281 2906 2969 \nz\nM 947 1747 \nQ 947 1113 1208 752 \nQ 1469 391 1925 391 \nQ 2381 391 2643 752 \nQ 2906 1113 2906 1747 \nQ 2906 2381 2643 2742 \nQ 2381 3103 1925 3103 \nQ 1469 3103 1208 2742 \nQ 947 2381 947 1747 \nz\n\" id=\"DejaVuSans-64\" transform=\"scale(0.015625)\"/>\n      </defs>\n      <use xlink:href=\"#DejaVuSans-23\"/>\n      <use x=\"83.789062\" xlink:href=\"#DejaVuSans-20\"/>\n      <use x=\"115.576172\" xlink:href=\"#DejaVuSans-65\"/>\n      <use x=\"177.099609\" xlink:href=\"#DejaVuSans-70\"/>\n      <use x=\"240.576172\" xlink:href=\"#DejaVuSans-69\"/>\n      <use x=\"268.359375\" xlink:href=\"#DejaVuSans-73\"/>\n      <use x=\"320.458984\" xlink:href=\"#DejaVuSans-6f\"/>\n      <use x=\"381.640625\" xlink:href=\"#DejaVuSans-64\"/>\n      <use x=\"445.117188\" xlink:href=\"#DejaVuSans-65\"/>\n      <use x=\"506.640625\" xlink:href=\"#DejaVuSans-73\"/>\n     </g>\n    </g>\n   </g>\n   <g id=\"matplotlib.axis_2\">\n    <g id=\"ytick_1\">\n     <g id=\"line2d_7\">\n      <path clip-path=\"url(#pf14a0de637)\" d=\"M 62.527656 209.799054 \nL 397.327656 209.799054 \n\" style=\"fill:none;stroke:#ffffff;stroke-linecap:round;\"/>\n     </g>\n     <g id=\"text_8\">\n      <!-- −300 -->\n      <g style=\"fill:#262626;\" transform=\"translate(22.81375 213.978194)scale(0.11 -0.11)\">\n       <defs>\n        <path d=\"M 678 2272 \nL 4684 2272 \nL 4684 1741 \nL 678 1741 \nL 678 2272 \nz\n\" id=\"DejaVuSans-2212\" transform=\"scale(0.015625)\"/>\n       </defs>\n       <use xlink:href=\"#DejaVuSans-2212\"/>\n       <use x=\"83.789062\" xlink:href=\"#DejaVuSans-33\"/>\n       <use x=\"147.412109\" xlink:href=\"#DejaVuSans-30\"/>\n       <use x=\"211.035156\" xlink:href=\"#DejaVuSans-30\"/>\n      </g>\n     </g>\n    </g>\n    <g id=\"ytick_2\">\n     <g id=\"line2d_8\">\n      <path clip-path=\"url(#pf14a0de637)\" d=\"M 62.527656 178.815868 \nL 397.327656 178.815868 \n\" style=\"fill:none;stroke:#ffffff;stroke-linecap:round;\"/>\n     </g>\n     <g id=\"text_9\">\n      <!-- −250 -->\n      <g style=\"fill:#262626;\" transform=\"translate(22.81375 182.995008)scale(0.11 -0.11)\">\n       <use xlink:href=\"#DejaVuSans-2212\"/>\n       <use x=\"83.789062\" xlink:href=\"#DejaVuSans-32\"/>\n       <use x=\"147.412109\" xlink:href=\"#DejaVuSans-35\"/>\n       <use x=\"211.035156\" xlink:href=\"#DejaVuSans-30\"/>\n      </g>\n     </g>\n    </g>\n    <g id=\"ytick_3\">\n     <g id=\"line2d_9\">\n      <path clip-path=\"url(#pf14a0de637)\" d=\"M 62.527656 147.832682 \nL 397.327656 147.832682 \n\" style=\"fill:none;stroke:#ffffff;stroke-linecap:round;\"/>\n     </g>\n     <g id=\"text_10\">\n      <!-- −200 -->\n      <g style=\"fill:#262626;\" transform=\"translate(22.81375 152.011822)scale(0.11 -0.11)\">\n       <use xlink:href=\"#DejaVuSans-2212\"/>\n       <use x=\"83.789062\" xlink:href=\"#DejaVuSans-32\"/>\n       <use x=\"147.412109\" xlink:href=\"#DejaVuSans-30\"/>\n       <use x=\"211.035156\" xlink:href=\"#DejaVuSans-30\"/>\n      </g>\n     </g>\n    </g>\n    <g id=\"ytick_4\">\n     <g id=\"line2d_10\">\n      <path clip-path=\"url(#pf14a0de637)\" d=\"M 62.527656 116.849496 \nL 397.327656 116.849496 \n\" style=\"fill:none;stroke:#ffffff;stroke-linecap:round;\"/>\n     </g>\n     <g id=\"text_11\">\n      <!-- −150 -->\n      <g style=\"fill:#262626;\" transform=\"translate(22.81375 121.028636)scale(0.11 -0.11)\">\n       <use xlink:href=\"#DejaVuSans-2212\"/>\n       <use x=\"83.789062\" xlink:href=\"#DejaVuSans-31\"/>\n       <use x=\"147.412109\" xlink:href=\"#DejaVuSans-35\"/>\n       <use x=\"211.035156\" xlink:href=\"#DejaVuSans-30\"/>\n      </g>\n     </g>\n    </g>\n    <g id=\"ytick_5\">\n     <g id=\"line2d_11\">\n      <path clip-path=\"url(#pf14a0de637)\" d=\"M 62.527656 85.866309 \nL 397.327656 85.866309 \n\" style=\"fill:none;stroke:#ffffff;stroke-linecap:round;\"/>\n     </g>\n     <g id=\"text_12\">\n      <!-- −100 -->\n      <g style=\"fill:#262626;\" transform=\"translate(22.81375 90.04545)scale(0.11 -0.11)\">\n       <use xlink:href=\"#DejaVuSans-2212\"/>\n       <use x=\"83.789062\" xlink:href=\"#DejaVuSans-31\"/>\n       <use x=\"147.412109\" xlink:href=\"#DejaVuSans-30\"/>\n       <use x=\"211.035156\" xlink:href=\"#DejaVuSans-30\"/>\n      </g>\n     </g>\n    </g>\n    <g id=\"ytick_6\">\n     <g id=\"line2d_12\">\n      <path clip-path=\"url(#pf14a0de637)\" d=\"M 62.527656 54.883123 \nL 397.327656 54.883123 \n\" style=\"fill:none;stroke:#ffffff;stroke-linecap:round;\"/>\n     </g>\n     <g id=\"text_13\">\n      <!-- −50 -->\n      <g style=\"fill:#262626;\" transform=\"translate(29.8125 59.062264)scale(0.11 -0.11)\">\n       <use xlink:href=\"#DejaVuSans-2212\"/>\n       <use x=\"83.789062\" xlink:href=\"#DejaVuSans-35\"/>\n       <use x=\"147.412109\" xlink:href=\"#DejaVuSans-30\"/>\n      </g>\n     </g>\n    </g>\n    <g id=\"ytick_7\">\n     <g id=\"line2d_13\">\n      <path clip-path=\"url(#pf14a0de637)\" d=\"M 62.527656 23.899937 \nL 397.327656 23.899937 \n\" style=\"fill:none;stroke:#ffffff;stroke-linecap:round;\"/>\n     </g>\n     <g id=\"text_14\">\n      <!-- 0 -->\n      <g style=\"fill:#262626;\" transform=\"translate(46.028906 28.079078)scale(0.11 -0.11)\">\n       <use xlink:href=\"#DejaVuSans-30\"/>\n      </g>\n     </g>\n    </g>\n    <g id=\"text_15\">\n     <!-- reward -->\n     <g style=\"fill:#262626;\" transform=\"translate(16.318125 136.697813)rotate(-90)scale(0.12 -0.12)\">\n      <defs>\n       <path d=\"M 2631 2963 \nQ 2534 3019 2420 3045 \nQ 2306 3072 2169 3072 \nQ 1681 3072 1420 2755 \nQ 1159 2438 1159 1844 \nL 1159 0 \nL 581 0 \nL 581 3500 \nL 1159 3500 \nL 1159 2956 \nQ 1341 3275 1631 3429 \nQ 1922 3584 2338 3584 \nQ 2397 3584 2469 3576 \nQ 2541 3569 2628 3553 \nL 2631 2963 \nz\n\" id=\"DejaVuSans-72\" transform=\"scale(0.015625)\"/>\n       <path d=\"M 269 3500 \nL 844 3500 \nL 1563 769 \nL 2278 3500 \nL 2956 3500 \nL 3675 769 \nL 4391 3500 \nL 4966 3500 \nL 4050 0 \nL 3372 0 \nL 2619 2869 \nL 1863 0 \nL 1184 0 \nL 269 3500 \nz\n\" id=\"DejaVuSans-77\" transform=\"scale(0.015625)\"/>\n       <path d=\"M 2194 1759 \nQ 1497 1759 1228 1600 \nQ 959 1441 959 1056 \nQ 959 750 1161 570 \nQ 1363 391 1709 391 \nQ 2188 391 2477 730 \nQ 2766 1069 2766 1631 \nL 2766 1759 \nL 2194 1759 \nz\nM 3341 1997 \nL 3341 0 \nL 2766 0 \nL 2766 531 \nQ 2569 213 2275 61 \nQ 1981 -91 1556 -91 \nQ 1019 -91 701 211 \nQ 384 513 384 1019 \nQ 384 1609 779 1909 \nQ 1175 2209 1959 2209 \nL 2766 2209 \nL 2766 2266 \nQ 2766 2663 2505 2880 \nQ 2244 3097 1772 3097 \nQ 1472 3097 1187 3025 \nQ 903 2953 641 2809 \nL 641 3341 \nQ 956 3463 1253 3523 \nQ 1550 3584 1831 3584 \nQ 2591 3584 2966 3190 \nQ 3341 2797 3341 1997 \nz\n\" id=\"DejaVuSans-61\" transform=\"scale(0.015625)\"/>\n      </defs>\n      <use xlink:href=\"#DejaVuSans-72\"/>\n      <use x=\"38.863281\" xlink:href=\"#DejaVuSans-65\"/>\n      <use x=\"100.386719\" xlink:href=\"#DejaVuSans-77\"/>\n      <use x=\"182.173828\" xlink:href=\"#DejaVuSans-61\"/>\n      <use x=\"243.453125\" xlink:href=\"#DejaVuSans-72\"/>\n      <use x=\"282.816406\" xlink:href=\"#DejaVuSans-64\"/>\n     </g>\n    </g>\n   </g>\n   <g id=\"line2d_14\">\n    <path clip-path=\"url(#pf14a0de637)\" d=\"M 77.745838 96.400593 \nL 83.957341 214.756364 \nL 90.168844 37.532539 \nL 96.380346 43.109513 \nL 102.591849 136.678735 \nL 108.803352 46.827495 \nL 115.014855 56.742115 \nL 121.226358 20.181955 \nL 127.43786 18.322964 \nL 133.649363 92.68261 \nL 139.860866 37.532539 \nL 146.072369 20.801619 \nL 152.283871 36.293212 \nL 158.495374 29.476911 \nL 164.706877 19.562291 \nL 170.91838 25.139265 \nL 177.129883 17.083636 \nL 183.341385 19.562291 \nL 189.552888 18.942628 \nL 195.764391 19.562291 \nL 201.975894 31.955566 \nL 208.187397 36.293212 \nL 214.398899 21.421282 \nL 220.610402 28.237583 \nL 226.821905 20.181955 \nL 233.033408 26.378592 \nL 239.24491 33.194893 \nL 245.456413 28.857247 \nL 251.667916 30.716238 \nL 257.879419 33.814557 \nL 264.090922 26.378592 \nL 270.302424 26.998256 \nL 276.513927 33.814557 \nL 282.72543 19.562291 \nL 288.936933 28.237583 \nL 295.148435 20.801619 \nL 301.359938 35.673548 \nL 307.571441 32.575229 \nL 313.782944 23.899937 \nL 319.994447 22.040946 \nL 326.205949 18.322964 \nL 332.417452 31.955566 \nL 338.628955 28.237583 \nL 344.840458 23.280274 \nL 351.051961 26.998256 \nL 357.263463 25.758928 \nL 363.474966 24.519601 \nL 369.686469 27.61792 \nL 375.897972 23.280274 \nL 382.109474 20.801619 \n\" style=\"fill:none;stroke:#4c72b0;stroke-linecap:round;stroke-width:1.5;\"/>\n   </g>\n   <g id=\"patch_3\">\n    <path d=\"M 62.527656 224.64 \nL 62.527656 7.2 \n\" style=\"fill:none;stroke:#ffffff;stroke-linecap:square;stroke-linejoin:miter;stroke-width:1.25;\"/>\n   </g>\n   <g id=\"patch_4\">\n    <path d=\"M 397.327656 224.64 \nL 397.327656 7.2 \n\" style=\"fill:none;stroke:#ffffff;stroke-linecap:square;stroke-linejoin:miter;stroke-width:1.25;\"/>\n   </g>\n   <g id=\"patch_5\">\n    <path d=\"M 62.527656 224.64 \nL 397.327656 224.64 \n\" style=\"fill:none;stroke:#ffffff;stroke-linecap:square;stroke-linejoin:miter;stroke-width:1.25;\"/>\n   </g>\n   <g id=\"patch_6\">\n    <path d=\"M 62.527656 7.2 \nL 397.327656 7.2 \n\" style=\"fill:none;stroke:#ffffff;stroke-linecap:square;stroke-linejoin:miter;stroke-width:1.25;\"/>\n   </g>\n  </g>\n </g>\n <defs>\n  <clipPath id=\"pf14a0de637\">\n   <rect height=\"217.44\" width=\"334.8\" x=\"62.527656\" y=\"7.2\"/>\n  </clipPath>\n </defs>\n</svg>\n",
            "image/png": "[encoded data removed]"
          },
          "metadata": {}
        }
      ]
    },
    {
      "cell_type": "markdown",
      "metadata": {
        "id": "twNZkA1ID7HC"
      },
      "source": [
        "### 4.2 SARSA (25p)\n",
        "Implementați algoritmul SARSA.\n",
        "\n",
        "Formula de update pentru `Q` este:\n",
        "$$\n",
        "  Q[s_t, a] = Q[s_t, a] + \\alpha(R + \\gamma Q[s_{t+1}, a'] - Q[s_t, a])\n",
        "$$\n",
        "\n",
        "Unde:\n",
        "- $s_t$ - starea la momentul `t`\n",
        "- **a** - acțiunea aleasă la momentul `t`\n",
        "- **a'** - acțiunea aleasă la momentul `t+1`, presupunând ca suntem în starea $s_{t+1}$\n",
        "- $\\alpha$, $\\gamma$ - parametru setat înainte de rulare\n",
        "- $s_{t+1}$ - starea la momentul `t+1`, după ce s-a efectua acțiunea `a`"
      ]
    },
    {
      "cell_type": "markdown",
      "metadata": {
        "id": "afpcVDWGJpvE"
      },
      "source": [
        "### Train"
      ]
    },
    {
      "cell_type": "code",
      "metadata": {
        "id": "ufning8fJrUI"
      },
      "source": [
        "REWARDS = []\n",
        "eps = EPSILON\n",
        "\n",
        "Q = np.zeros((env.observation_space.n, env.action_space.n))\n",
        "\n",
        "env.seed(42)\n",
        "\n",
        "for i in range(1, NR_EPISODES + 1):\n",
        "    state = env.reset()\n",
        "    has_ended = False\n",
        "    total_reward = 0\n",
        "\n",
        "    # TODO: Get the action\n",
        "    action = choose_action(Q, state, eps)\n",
        "\n",
        "    while not has_ended:\n",
        "        # Do the action\n",
        "        next_state, reward, has_ended, _ = env.step(action)\n",
        "\n",
        "        # TODO: Get the next_action from the next_state\n",
        "        next_action = choose_action(Q, next_state, eps)\n",
        "\n",
        "        # Cumulate the reward for plotting\n",
        "        total_reward += reward\n",
        "\n",
        "        # TODO: Update the Q(state, action) with the new value\n",
        "        Q[state][action] += ALPHA * (reward + GAMMA * Q[next_state][next_action] - Q[state][action])\n",
        "\n",
        "        # TODO: Go to the new state\n",
        "        state = next_state\n",
        "\n",
        "        # TODO: Update the action\n",
        "        action = next_action\n",
        "\n",
        "\n",
        "    if i % LOG_INTERVAL == 0:\n",
        "        REWARDS.append(total_reward)\n",
        "        print(f\"Episode: {i}\")\n",
        "\n",
        "    # TODO (BONUS): Decay eps for every DECAY_EPS_EPISODES\n",
        "    # Use DECAY_EPS\n",
        "    if BONUS and i % DECAY_EPS_EPISODES == 0:\n",
        "        eps *= DECAY_EPS\n",
        "\n",
        "# Save for plotting\n",
        "\n",
        "Q_2 = Q\n",
        "print(\"Training SARSA finished.\\n\")"
      ],
      "execution_count": 10,
      "outputs": [
        {
          "output_type": "stream",
          "name": "stdout",
          "text": [
            "Episode: 100\n",
            "Episode: 200\n",
            "Episode: 300\n",
            "Episode: 400\n",
            "Episode: 500\n",
            "Episode: 600\n",
            "Episode: 700\n",
            "Episode: 800\n",
            "Episode: 900\n",
            "Episode: 1000\n",
            "Episode: 1100\n",
            "Episode: 1200\n",
            "Episode: 1300\n",
            "Episode: 1400\n",
            "Episode: 1500\n",
            "Episode: 1600\n",
            "Episode: 1700\n",
            "Episode: 1800\n",
            "Episode: 1900\n",
            "Episode: 2000\n",
            "Episode: 2100\n",
            "Episode: 2200\n",
            "Episode: 2300\n",
            "Episode: 2400\n",
            "Episode: 2500\n",
            "Episode: 2600\n",
            "Episode: 2700\n",
            "Episode: 2800\n",
            "Episode: 2900\n",
            "Episode: 3000\n",
            "Episode: 3100\n",
            "Episode: 3200\n",
            "Episode: 3300\n",
            "Episode: 3400\n",
            "Episode: 3500\n",
            "Episode: 3600\n",
            "Episode: 3700\n",
            "Episode: 3800\n",
            "Episode: 3900\n",
            "Episode: 4000\n",
            "Episode: 4100\n",
            "Episode: 4200\n",
            "Episode: 4300\n",
            "Episode: 4400\n",
            "Episode: 4500\n",
            "Episode: 4600\n",
            "Episode: 4700\n",
            "Episode: 4800\n",
            "Episode: 4900\n",
            "Episode: 5000\n",
            "Training SARSA finished.\n",
            "\n"
          ]
        }
      ]
    },
    {
      "cell_type": "markdown",
      "metadata": {
        "id": "ZmxRA5T9LN96"
      },
      "source": [
        "#### Let's check the driver"
      ]
    },
    {
      "cell_type": "code",
      "metadata": {
        "id": "0rOjAgJOLQ8Z"
      },
      "source": [
        "state = env.reset()\n",
        "has_ended = False\n",
        "\n",
        "while not has_ended:\n",
        "    # TODO: Take always the best action\n",
        "    action = np.argmax(Q[state])\n",
        "    state, reward, has_ended, _ = env.step(action)\n",
        "    time.sleep(0.75)\n",
        "    env.render()\n",
        "    print(f\"Reward {reward}\")\n",
        "    clear_output(wait=True)"
      ],
      "execution_count": 11,
      "outputs": [
        {
          "output_type": "stream",
          "name": "stdout",
          "text": [
            "+---------+\n|\u001b[35m\u001b[34;1m\u001b[43mR\u001b[0m\u001b[0m\u001b[0m: | : :G|\n| : | : : |\n| : : : : |\n| | : | : |\n|Y| : |B: |\n+---------+\n  (Dropoff)\nReward 20\n"
          ]
        }
      ]
    },
    {
      "cell_type": "markdown",
      "metadata": {
        "id": "Yx3EMZteLTeZ"
      },
      "source": [
        "#### And the rewards"
      ]
    },
    {
      "cell_type": "code",
      "metadata": {
        "id": "tKM9oRJHLU0m"
      },
      "source": [
        "x_points = np.arange(LOG_INTERVAL, NR_EPISODES + 1, LOG_INTERVAL)\n",
        "y_points = REWARDS\n",
        "\n",
        "plt = sns.lineplot(x=x_points, y=y_points)\n",
        "plt.set(xlabel=\"# episodes\", ylabel=\"reward\")"
      ],
      "execution_count": 12,
      "outputs": [
        {
          "output_type": "execute_result",
          "data": {
            "text/plain": [
              "[Text(0.5, 0, '# episodes'), Text(0, 0.5, 'reward')]"
            ]
          },
          "metadata": {},
          "execution_count": 12
        },
        {
          "output_type": "display_data",
          "data": {
            "text/plain": "<Figure size 432x288 with 1 Axes>",
            "image/svg+xml": "<?xml version=\"1.0\" encoding=\"utf-8\" standalone=\"no\"?>\n<!DOCTYPE svg PUBLIC \"-//W3C//DTD SVG 1.1//EN\"\n  \"http://www.w3.org/Graphics/SVG/1.1/DTD/svg11.dtd\">\n<svg height=\"267.599687pt\" version=\"1.1\" viewBox=\"0 0 404.527656 267.599687\" width=\"404.527656pt\" xmlns=\"http://www.w3.org/2000/svg\" xmlns:xlink=\"http://www.w3.org/1999/xlink\">\n <metadata>\n  <rdf:RDF xmlns:cc=\"http://creativecommons.org/ns#\" xmlns:dc=\"http://purl.org/dc/elements/1.1/\" xmlns:rdf=\"http://www.w3.org/1999/02/22-rdf-syntax-ns#\">\n   <cc:Work>\n    <dc:type rdf:resource=\"http://purl.org/dc/dcmitype/StillImage\"/>\n    <dc:date>2021-04-24T22:05:08.093123</dc:date>\n    <dc:format>image/svg+xml</dc:format>\n    <dc:creator>\n     <cc:Agent>\n      <dc:title>Matplotlib v3.4.1, https://matplotlib.org/</dc:title>\n     </cc:Agent>\n    </dc:creator>\n   </cc:Work>\n  </rdf:RDF>\n </metadata>\n <defs>\n  <style type=\"text/css\">*{stroke-linecap:butt;stroke-linejoin:round;}</style>\n </defs>\n <g id=\"figure_1\">\n  <g id=\"patch_1\">\n   <path d=\"M 0 267.599687 \nL 404.527656 267.599687 \nL 404.527656 0 \nL 0 0 \nz\n\" style=\"fill:#ffffff;\"/>\n  </g>\n  <g id=\"axes_1\">\n   <g id=\"patch_2\">\n    <path d=\"M 62.527656 224.64 \nL 397.327656 224.64 \nL 397.327656 7.2 \nL 62.527656 7.2 \nz\n\" style=\"fill:#eaeaf2;\"/>\n   </g>\n   <g id=\"matplotlib.axis_1\">\n    <g id=\"xtick_1\">\n     <g id=\"line2d_1\">\n      <path clip-path=\"url(#pd487178ecb)\" d=\"M 71.534335 224.64 \nL 71.534335 7.2 \n\" style=\"fill:none;stroke:#ffffff;stroke-linecap:round;\"/>\n     </g>\n     <g id=\"text_1\">\n      <!-- 0 -->\n      <g style=\"fill:#262626;\" transform=\"translate(68.03496 242.498281)scale(0.11 -0.11)\">\n       <defs>\n        <path d=\"M 2034 4250 \nQ 1547 4250 1301 3770 \nQ 1056 3291 1056 2328 \nQ 1056 1369 1301 889 \nQ 1547 409 2034 409 \nQ 2525 409 2770 889 \nQ 3016 1369 3016 2328 \nQ 3016 3291 2770 3770 \nQ 2525 4250 2034 4250 \nz\nM 2034 4750 \nQ 2819 4750 3233 4129 \nQ 3647 3509 3647 2328 \nQ 3647 1150 3233 529 \nQ 2819 -91 2034 -91 \nQ 1250 -91 836 529 \nQ 422 1150 422 2328 \nQ 422 3509 836 4129 \nQ 1250 4750 2034 4750 \nz\n\" id=\"DejaVuSans-30\" transform=\"scale(0.015625)\"/>\n       </defs>\n       <use xlink:href=\"#DejaVuSans-30\"/>\n      </g>\n     </g>\n    </g>\n    <g id=\"xtick_2\">\n     <g id=\"line2d_2\">\n      <path clip-path=\"url(#pd487178ecb)\" d=\"M 133.649363 224.64 \nL 133.649363 7.2 \n\" style=\"fill:none;stroke:#ffffff;stroke-linecap:round;\"/>\n     </g>\n     <g id=\"text_2\">\n      <!-- 1000 -->\n      <g style=\"fill:#262626;\" transform=\"translate(119.651863 242.498281)scale(0.11 -0.11)\">\n       <defs>\n        <path d=\"M 794 531 \nL 1825 531 \nL 1825 4091 \nL 703 3866 \nL 703 4441 \nL 1819 4666 \nL 2450 4666 \nL 2450 531 \nL 3481 531 \nL 3481 0 \nL 794 0 \nL 794 531 \nz\n\" id=\"DejaVuSans-31\" transform=\"scale(0.015625)\"/>\n       </defs>\n       <use xlink:href=\"#DejaVuSans-31\"/>\n       <use x=\"63.623047\" xlink:href=\"#DejaVuSans-30\"/>\n       <use x=\"127.246094\" xlink:href=\"#DejaVuSans-30\"/>\n       <use x=\"190.869141\" xlink:href=\"#DejaVuSans-30\"/>\n      </g>\n     </g>\n    </g>\n    <g id=\"xtick_3\">\n     <g id=\"line2d_3\">\n      <path clip-path=\"url(#pd487178ecb)\" d=\"M 195.764391 224.64 \nL 195.764391 7.2 \n\" style=\"fill:none;stroke:#ffffff;stroke-linecap:round;\"/>\n     </g>\n     <g id=\"text_3\">\n      <!-- 2000 -->\n      <g style=\"fill:#262626;\" transform=\"translate(181.766891 242.498281)scale(0.11 -0.11)\">\n       <defs>\n        <path d=\"M 1228 531 \nL 3431 531 \nL 3431 0 \nL 469 0 \nL 469 531 \nQ 828 903 1448 1529 \nQ 2069 2156 2228 2338 \nQ 2531 2678 2651 2914 \nQ 2772 3150 2772 3378 \nQ 2772 3750 2511 3984 \nQ 2250 4219 1831 4219 \nQ 1534 4219 1204 4116 \nQ 875 4013 500 3803 \nL 500 4441 \nQ 881 4594 1212 4672 \nQ 1544 4750 1819 4750 \nQ 2544 4750 2975 4387 \nQ 3406 4025 3406 3419 \nQ 3406 3131 3298 2873 \nQ 3191 2616 2906 2266 \nQ 2828 2175 2409 1742 \nQ 1991 1309 1228 531 \nz\n\" id=\"DejaVuSans-32\" transform=\"scale(0.015625)\"/>\n       </defs>\n       <use xlink:href=\"#DejaVuSans-32\"/>\n       <use x=\"63.623047\" xlink:href=\"#DejaVuSans-30\"/>\n       <use x=\"127.246094\" xlink:href=\"#DejaVuSans-30\"/>\n       <use x=\"190.869141\" xlink:href=\"#DejaVuSans-30\"/>\n      </g>\n     </g>\n    </g>\n    <g id=\"xtick_4\">\n     <g id=\"line2d_4\">\n      <path clip-path=\"url(#pd487178ecb)\" d=\"M 257.879419 224.64 \nL 257.879419 7.2 \n\" style=\"fill:none;stroke:#ffffff;stroke-linecap:round;\"/>\n     </g>\n     <g id=\"text_4\">\n      <!-- 3000 -->\n      <g style=\"fill:#262626;\" transform=\"translate(243.881919 242.498281)scale(0.11 -0.11)\">\n       <defs>\n        <path d=\"M 2597 2516 \nQ 3050 2419 3304 2112 \nQ 3559 1806 3559 1356 \nQ 3559 666 3084 287 \nQ 2609 -91 1734 -91 \nQ 1441 -91 1130 -33 \nQ 819 25 488 141 \nL 488 750 \nQ 750 597 1062 519 \nQ 1375 441 1716 441 \nQ 2309 441 2620 675 \nQ 2931 909 2931 1356 \nQ 2931 1769 2642 2001 \nQ 2353 2234 1838 2234 \nL 1294 2234 \nL 1294 2753 \nL 1863 2753 \nQ 2328 2753 2575 2939 \nQ 2822 3125 2822 3475 \nQ 2822 3834 2567 4026 \nQ 2313 4219 1838 4219 \nQ 1578 4219 1281 4162 \nQ 984 4106 628 3988 \nL 628 4550 \nQ 988 4650 1302 4700 \nQ 1616 4750 1894 4750 \nQ 2613 4750 3031 4423 \nQ 3450 4097 3450 3541 \nQ 3450 3153 3228 2886 \nQ 3006 2619 2597 2516 \nz\n\" id=\"DejaVuSans-33\" transform=\"scale(0.015625)\"/>\n       </defs>\n       <use xlink:href=\"#DejaVuSans-33\"/>\n       <use x=\"63.623047\" xlink:href=\"#DejaVuSans-30\"/>\n       <use x=\"127.246094\" xlink:href=\"#DejaVuSans-30\"/>\n       <use x=\"190.869141\" xlink:href=\"#DejaVuSans-30\"/>\n      </g>\n     </g>\n    </g>\n    <g id=\"xtick_5\">\n     <g id=\"line2d_5\">\n      <path clip-path=\"url(#pd487178ecb)\" d=\"M 319.994447 224.64 \nL 319.994447 7.2 \n\" style=\"fill:none;stroke:#ffffff;stroke-linecap:round;\"/>\n     </g>\n     <g id=\"text_5\">\n      <!-- 4000 -->\n      <g style=\"fill:#262626;\" transform=\"translate(305.996947 242.498281)scale(0.11 -0.11)\">\n       <defs>\n        <path d=\"M 2419 4116 \nL 825 1625 \nL 2419 1625 \nL 2419 4116 \nz\nM 2253 4666 \nL 3047 4666 \nL 3047 1625 \nL 3713 1625 \nL 3713 1100 \nL 3047 1100 \nL 3047 0 \nL 2419 0 \nL 2419 1100 \nL 313 1100 \nL 313 1709 \nL 2253 4666 \nz\n\" id=\"DejaVuSans-34\" transform=\"scale(0.015625)\"/>\n       </defs>\n       <use xlink:href=\"#DejaVuSans-34\"/>\n       <use x=\"63.623047\" xlink:href=\"#DejaVuSans-30\"/>\n       <use x=\"127.246094\" xlink:href=\"#DejaVuSans-30\"/>\n       <use x=\"190.869141\" xlink:href=\"#DejaVuSans-30\"/>\n      </g>\n     </g>\n    </g>\n    <g id=\"xtick_6\">\n     <g id=\"line2d_6\">\n      <path clip-path=\"url(#pd487178ecb)\" d=\"M 382.109474 224.64 \nL 382.109474 7.2 \n\" style=\"fill:none;stroke:#ffffff;stroke-linecap:round;\"/>\n     </g>\n     <g id=\"text_6\">\n      <!-- 5000 -->\n      <g style=\"fill:#262626;\" transform=\"translate(368.111974 242.498281)scale(0.11 -0.11)\">\n       <defs>\n        <path d=\"M 691 4666 \nL 3169 4666 \nL 3169 4134 \nL 1269 4134 \nL 1269 2991 \nQ 1406 3038 1543 3061 \nQ 1681 3084 1819 3084 \nQ 2600 3084 3056 2656 \nQ 3513 2228 3513 1497 \nQ 3513 744 3044 326 \nQ 2575 -91 1722 -91 \nQ 1428 -91 1123 -41 \nQ 819 9 494 109 \nL 494 744 \nQ 775 591 1075 516 \nQ 1375 441 1709 441 \nQ 2250 441 2565 725 \nQ 2881 1009 2881 1497 \nQ 2881 1984 2565 2268 \nQ 2250 2553 1709 2553 \nQ 1456 2553 1204 2497 \nQ 953 2441 691 2322 \nL 691 4666 \nz\n\" id=\"DejaVuSans-35\" transform=\"scale(0.015625)\"/>\n       </defs>\n       <use xlink:href=\"#DejaVuSans-35\"/>\n       <use x=\"63.623047\" xlink:href=\"#DejaVuSans-30\"/>\n       <use x=\"127.246094\" xlink:href=\"#DejaVuSans-30\"/>\n       <use x=\"190.869141\" xlink:href=\"#DejaVuSans-30\"/>\n      </g>\n     </g>\n    </g>\n    <g id=\"text_7\">\n     <!-- # episodes -->\n     <g style=\"fill:#262626;\" transform=\"translate(196.401719 257.904062)scale(0.12 -0.12)\">\n      <defs>\n       <path d=\"M 3272 2816 \nL 2363 2816 \nL 2100 1772 \nL 3016 1772 \nL 3272 2816 \nz\nM 2803 4594 \nL 2478 3297 \nL 3391 3297 \nL 3719 4594 \nL 4219 4594 \nL 3897 3297 \nL 4872 3297 \nL 4872 2816 \nL 3775 2816 \nL 3519 1772 \nL 4513 1772 \nL 4513 1294 \nL 3397 1294 \nL 3072 0 \nL 2572 0 \nL 2894 1294 \nL 1978 1294 \nL 1656 0 \nL 1153 0 \nL 1478 1294 \nL 494 1294 \nL 494 1772 \nL 1594 1772 \nL 1856 2816 \nL 850 2816 \nL 850 3297 \nL 1978 3297 \nL 2297 4594 \nL 2803 4594 \nz\n\" id=\"DejaVuSans-23\" transform=\"scale(0.015625)\"/>\n       <path id=\"DejaVuSans-20\" transform=\"scale(0.015625)\"/>\n       <path d=\"M 3597 1894 \nL 3597 1613 \nL 953 1613 \nQ 991 1019 1311 708 \nQ 1631 397 2203 397 \nQ 2534 397 2845 478 \nQ 3156 559 3463 722 \nL 3463 178 \nQ 3153 47 2828 -22 \nQ 2503 -91 2169 -91 \nQ 1331 -91 842 396 \nQ 353 884 353 1716 \nQ 353 2575 817 3079 \nQ 1281 3584 2069 3584 \nQ 2775 3584 3186 3129 \nQ 3597 2675 3597 1894 \nz\nM 3022 2063 \nQ 3016 2534 2758 2815 \nQ 2500 3097 2075 3097 \nQ 1594 3097 1305 2825 \nQ 1016 2553 972 2059 \nL 3022 2063 \nz\n\" id=\"DejaVuSans-65\" transform=\"scale(0.015625)\"/>\n       <path d=\"M 1159 525 \nL 1159 -1331 \nL 581 -1331 \nL 581 3500 \nL 1159 3500 \nL 1159 2969 \nQ 1341 3281 1617 3432 \nQ 1894 3584 2278 3584 \nQ 2916 3584 3314 3078 \nQ 3713 2572 3713 1747 \nQ 3713 922 3314 415 \nQ 2916 -91 2278 -91 \nQ 1894 -91 1617 61 \nQ 1341 213 1159 525 \nz\nM 3116 1747 \nQ 3116 2381 2855 2742 \nQ 2594 3103 2138 3103 \nQ 1681 3103 1420 2742 \nQ 1159 2381 1159 1747 \nQ 1159 1113 1420 752 \nQ 1681 391 2138 391 \nQ 2594 391 2855 752 \nQ 3116 1113 3116 1747 \nz\n\" id=\"DejaVuSans-70\" transform=\"scale(0.015625)\"/>\n       <path d=\"M 603 3500 \nL 1178 3500 \nL 1178 0 \nL 603 0 \nL 603 3500 \nz\nM 603 4863 \nL 1178 4863 \nL 1178 4134 \nL 603 4134 \nL 603 4863 \nz\n\" id=\"DejaVuSans-69\" transform=\"scale(0.015625)\"/>\n       <path d=\"M 2834 3397 \nL 2834 2853 \nQ 2591 2978 2328 3040 \nQ 2066 3103 1784 3103 \nQ 1356 3103 1142 2972 \nQ 928 2841 928 2578 \nQ 928 2378 1081 2264 \nQ 1234 2150 1697 2047 \nL 1894 2003 \nQ 2506 1872 2764 1633 \nQ 3022 1394 3022 966 \nQ 3022 478 2636 193 \nQ 2250 -91 1575 -91 \nQ 1294 -91 989 -36 \nQ 684 19 347 128 \nL 347 722 \nQ 666 556 975 473 \nQ 1284 391 1588 391 \nQ 1994 391 2212 530 \nQ 2431 669 2431 922 \nQ 2431 1156 2273 1281 \nQ 2116 1406 1581 1522 \nL 1381 1569 \nQ 847 1681 609 1914 \nQ 372 2147 372 2553 \nQ 372 3047 722 3315 \nQ 1072 3584 1716 3584 \nQ 2034 3584 2315 3537 \nQ 2597 3491 2834 3397 \nz\n\" id=\"DejaVuSans-73\" transform=\"scale(0.015625)\"/>\n       <path d=\"M 1959 3097 \nQ 1497 3097 1228 2736 \nQ 959 2375 959 1747 \nQ 959 1119 1226 758 \nQ 1494 397 1959 397 \nQ 2419 397 2687 759 \nQ 2956 1122 2956 1747 \nQ 2956 2369 2687 2733 \nQ 2419 3097 1959 3097 \nz\nM 1959 3584 \nQ 2709 3584 3137 3096 \nQ 3566 2609 3566 1747 \nQ 3566 888 3137 398 \nQ 2709 -91 1959 -91 \nQ 1206 -91 779 398 \nQ 353 888 353 1747 \nQ 353 2609 779 3096 \nQ 1206 3584 1959 3584 \nz\n\" id=\"DejaVuSans-6f\" transform=\"scale(0.015625)\"/>\n       <path d=\"M 2906 2969 \nL 2906 4863 \nL 3481 4863 \nL 3481 0 \nL 2906 0 \nL 2906 525 \nQ 2725 213 2448 61 \nQ 2172 -91 1784 -91 \nQ 1150 -91 751 415 \nQ 353 922 353 1747 \nQ 353 2572 751 3078 \nQ 1150 3584 1784 3584 \nQ 2172 3584 2448 3432 \nQ 2725 3281 2906 2969 \nz\nM 947 1747 \nQ 947 1113 1208 752 \nQ 1469 391 1925 391 \nQ 2381 391 2643 752 \nQ 2906 1113 2906 1747 \nQ 2906 2381 2643 2742 \nQ 2381 3103 1925 3103 \nQ 1469 3103 1208 2742 \nQ 947 2381 947 1747 \nz\n\" id=\"DejaVuSans-64\" transform=\"scale(0.015625)\"/>\n      </defs>\n      <use xlink:href=\"#DejaVuSans-23\"/>\n      <use x=\"83.789062\" xlink:href=\"#DejaVuSans-20\"/>\n      <use x=\"115.576172\" xlink:href=\"#DejaVuSans-65\"/>\n      <use x=\"177.099609\" xlink:href=\"#DejaVuSans-70\"/>\n      <use x=\"240.576172\" xlink:href=\"#DejaVuSans-69\"/>\n      <use x=\"268.359375\" xlink:href=\"#DejaVuSans-73\"/>\n      <use x=\"320.458984\" xlink:href=\"#DejaVuSans-6f\"/>\n      <use x=\"381.640625\" xlink:href=\"#DejaVuSans-64\"/>\n      <use x=\"445.117188\" xlink:href=\"#DejaVuSans-65\"/>\n      <use x=\"506.640625\" xlink:href=\"#DejaVuSans-73\"/>\n     </g>\n    </g>\n   </g>\n   <g id=\"matplotlib.axis_2\">\n    <g id=\"ytick_1\">\n     <g id=\"line2d_7\">\n      <path clip-path=\"url(#pd487178ecb)\" d=\"M 62.527656 208.44766 \nL 397.327656 208.44766 \n\" style=\"fill:none;stroke:#ffffff;stroke-linecap:round;\"/>\n     </g>\n     <g id=\"text_8\">\n      <!-- −350 -->\n      <g style=\"fill:#262626;\" transform=\"translate(22.81375 212.6268)scale(0.11 -0.11)\">\n       <defs>\n        <path d=\"M 678 2272 \nL 4684 2272 \nL 4684 1741 \nL 678 1741 \nL 678 2272 \nz\n\" id=\"DejaVuSans-2212\" transform=\"scale(0.015625)\"/>\n       </defs>\n       <use xlink:href=\"#DejaVuSans-2212\"/>\n       <use x=\"83.789062\" xlink:href=\"#DejaVuSans-33\"/>\n       <use x=\"147.412109\" xlink:href=\"#DejaVuSans-35\"/>\n       <use x=\"211.035156\" xlink:href=\"#DejaVuSans-30\"/>\n      </g>\n     </g>\n    </g>\n    <g id=\"ytick_2\">\n     <g id=\"line2d_8\">\n      <path clip-path=\"url(#pd487178ecb)\" d=\"M 62.527656 182.161393 \nL 397.327656 182.161393 \n\" style=\"fill:none;stroke:#ffffff;stroke-linecap:round;\"/>\n     </g>\n     <g id=\"text_9\">\n      <!-- −300 -->\n      <g style=\"fill:#262626;\" transform=\"translate(22.81375 186.340533)scale(0.11 -0.11)\">\n       <use xlink:href=\"#DejaVuSans-2212\"/>\n       <use x=\"83.789062\" xlink:href=\"#DejaVuSans-33\"/>\n       <use x=\"147.412109\" xlink:href=\"#DejaVuSans-30\"/>\n       <use x=\"211.035156\" xlink:href=\"#DejaVuSans-30\"/>\n      </g>\n     </g>\n    </g>\n    <g id=\"ytick_3\">\n     <g id=\"line2d_9\">\n      <path clip-path=\"url(#pd487178ecb)\" d=\"M 62.527656 155.875126 \nL 397.327656 155.875126 \n\" style=\"fill:none;stroke:#ffffff;stroke-linecap:round;\"/>\n     </g>\n     <g id=\"text_10\">\n      <!-- −250 -->\n      <g style=\"fill:#262626;\" transform=\"translate(22.81375 160.054266)scale(0.11 -0.11)\">\n       <use xlink:href=\"#DejaVuSans-2212\"/>\n       <use x=\"83.789062\" xlink:href=\"#DejaVuSans-32\"/>\n       <use x=\"147.412109\" xlink:href=\"#DejaVuSans-35\"/>\n       <use x=\"211.035156\" xlink:href=\"#DejaVuSans-30\"/>\n      </g>\n     </g>\n    </g>\n    <g id=\"ytick_4\">\n     <g id=\"line2d_10\">\n      <path clip-path=\"url(#pd487178ecb)\" d=\"M 62.527656 129.588859 \nL 397.327656 129.588859 \n\" style=\"fill:none;stroke:#ffffff;stroke-linecap:round;\"/>\n     </g>\n     <g id=\"text_11\">\n      <!-- −200 -->\n      <g style=\"fill:#262626;\" transform=\"translate(22.81375 133.767999)scale(0.11 -0.11)\">\n       <use xlink:href=\"#DejaVuSans-2212\"/>\n       <use x=\"83.789062\" xlink:href=\"#DejaVuSans-32\"/>\n       <use x=\"147.412109\" xlink:href=\"#DejaVuSans-30\"/>\n       <use x=\"211.035156\" xlink:href=\"#DejaVuSans-30\"/>\n      </g>\n     </g>\n    </g>\n    <g id=\"ytick_5\">\n     <g id=\"line2d_11\">\n      <path clip-path=\"url(#pd487178ecb)\" d=\"M 62.527656 103.302592 \nL 397.327656 103.302592 \n\" style=\"fill:none;stroke:#ffffff;stroke-linecap:round;\"/>\n     </g>\n     <g id=\"text_12\">\n      <!-- −150 -->\n      <g style=\"fill:#262626;\" transform=\"translate(22.81375 107.481733)scale(0.11 -0.11)\">\n       <use xlink:href=\"#DejaVuSans-2212\"/>\n       <use x=\"83.789062\" xlink:href=\"#DejaVuSans-31\"/>\n       <use x=\"147.412109\" xlink:href=\"#DejaVuSans-35\"/>\n       <use x=\"211.035156\" xlink:href=\"#DejaVuSans-30\"/>\n      </g>\n     </g>\n    </g>\n    <g id=\"ytick_6\">\n     <g id=\"line2d_12\">\n      <path clip-path=\"url(#pd487178ecb)\" d=\"M 62.527656 77.016325 \nL 397.327656 77.016325 \n\" style=\"fill:none;stroke:#ffffff;stroke-linecap:round;\"/>\n     </g>\n     <g id=\"text_13\">\n      <!-- −100 -->\n      <g style=\"fill:#262626;\" transform=\"translate(22.81375 81.195466)scale(0.11 -0.11)\">\n       <use xlink:href=\"#DejaVuSans-2212\"/>\n       <use x=\"83.789062\" xlink:href=\"#DejaVuSans-31\"/>\n       <use x=\"147.412109\" xlink:href=\"#DejaVuSans-30\"/>\n       <use x=\"211.035156\" xlink:href=\"#DejaVuSans-30\"/>\n      </g>\n     </g>\n    </g>\n    <g id=\"ytick_7\">\n     <g id=\"line2d_13\">\n      <path clip-path=\"url(#pd487178ecb)\" d=\"M 62.527656 50.730058 \nL 397.327656 50.730058 \n\" style=\"fill:none;stroke:#ffffff;stroke-linecap:round;\"/>\n     </g>\n     <g id=\"text_14\">\n      <!-- −50 -->\n      <g style=\"fill:#262626;\" transform=\"translate(29.8125 54.909199)scale(0.11 -0.11)\">\n       <use xlink:href=\"#DejaVuSans-2212\"/>\n       <use x=\"83.789062\" xlink:href=\"#DejaVuSans-35\"/>\n       <use x=\"147.412109\" xlink:href=\"#DejaVuSans-30\"/>\n      </g>\n     </g>\n    </g>\n    <g id=\"ytick_8\">\n     <g id=\"line2d_14\">\n      <path clip-path=\"url(#pd487178ecb)\" d=\"M 62.527656 24.443791 \nL 397.327656 24.443791 \n\" style=\"fill:none;stroke:#ffffff;stroke-linecap:round;\"/>\n     </g>\n     <g id=\"text_15\">\n      <!-- 0 -->\n      <g style=\"fill:#262626;\" transform=\"translate(46.028906 28.622932)scale(0.11 -0.11)\">\n       <use xlink:href=\"#DejaVuSans-30\"/>\n      </g>\n     </g>\n    </g>\n    <g id=\"text_16\">\n     <!-- reward -->\n     <g style=\"fill:#262626;\" transform=\"translate(16.318125 136.697812)rotate(-90)scale(0.12 -0.12)\">\n      <defs>\n       <path d=\"M 2631 2963 \nQ 2534 3019 2420 3045 \nQ 2306 3072 2169 3072 \nQ 1681 3072 1420 2755 \nQ 1159 2438 1159 1844 \nL 1159 0 \nL 581 0 \nL 581 3500 \nL 1159 3500 \nL 1159 2956 \nQ 1341 3275 1631 3429 \nQ 1922 3584 2338 3584 \nQ 2397 3584 2469 3576 \nQ 2541 3569 2628 3553 \nL 2631 2963 \nz\n\" id=\"DejaVuSans-72\" transform=\"scale(0.015625)\"/>\n       <path d=\"M 269 3500 \nL 844 3500 \nL 1563 769 \nL 2278 3500 \nL 2956 3500 \nL 3675 769 \nL 4391 3500 \nL 4966 3500 \nL 4050 0 \nL 3372 0 \nL 2619 2869 \nL 1863 0 \nL 1184 0 \nL 269 3500 \nz\n\" id=\"DejaVuSans-77\" transform=\"scale(0.015625)\"/>\n       <path d=\"M 2194 1759 \nQ 1497 1759 1228 1600 \nQ 959 1441 959 1056 \nQ 959 750 1161 570 \nQ 1363 391 1709 391 \nQ 2188 391 2477 730 \nQ 2766 1069 2766 1631 \nL 2766 1759 \nL 2194 1759 \nz\nM 3341 1997 \nL 3341 0 \nL 2766 0 \nL 2766 531 \nQ 2569 213 2275 61 \nQ 1981 -91 1556 -91 \nQ 1019 -91 701 211 \nQ 384 513 384 1019 \nQ 384 1609 779 1909 \nQ 1175 2209 1959 2209 \nL 2766 2209 \nL 2766 2266 \nQ 2766 2663 2505 2880 \nQ 2244 3097 1772 3097 \nQ 1472 3097 1187 3025 \nQ 903 2953 641 2809 \nL 641 3341 \nQ 956 3463 1253 3523 \nQ 1550 3584 1831 3584 \nQ 2591 3584 2966 3190 \nQ 3341 2797 3341 1997 \nz\n\" id=\"DejaVuSans-61\" transform=\"scale(0.015625)\"/>\n      </defs>\n      <use xlink:href=\"#DejaVuSans-72\"/>\n      <use x=\"38.863281\" xlink:href=\"#DejaVuSans-65\"/>\n      <use x=\"100.386719\" xlink:href=\"#DejaVuSans-77\"/>\n      <use x=\"182.173828\" xlink:href=\"#DejaVuSans-61\"/>\n      <use x=\"243.453125\" xlink:href=\"#DejaVuSans-72\"/>\n      <use x=\"282.816406\" xlink:href=\"#DejaVuSans-64\"/>\n     </g>\n    </g>\n   </g>\n   <g id=\"line2d_15\">\n    <path clip-path=\"url(#pd487178ecb)\" d=\"M 77.745838 214.756364 \nL 83.957341 205.293308 \nL 90.168844 25.495242 \nL 96.380346 131.69176 \nL 102.591849 99.622515 \nL 108.803352 205.293308 \nL 115.014855 17.609362 \nL 121.226358 64.398917 \nL 127.43786 26.546692 \nL 133.649363 38.638375 \nL 139.860866 26.020967 \nL 146.072369 34.432573 \nL 152.283871 32.329671 \nL 158.495374 18.660812 \nL 164.706877 34.432573 \nL 170.91838 28.123868 \nL 177.129883 55.461586 \nL 183.341385 40.741277 \nL 189.552888 20.763714 \nL 195.764391 19.712263 \nL 201.975894 24.443791 \nL 208.187397 17.083636 \nL 214.398899 19.712263 \nL 220.610402 78.067776 \nL 226.821905 20.763714 \nL 233.033408 22.866615 \nL 239.24491 42.844178 \nL 245.456413 26.546692 \nL 251.667916 20.763714 \nL 257.879419 23.918066 \nL 264.090922 19.186538 \nL 270.302424 42.844178 \nL 276.513927 181.635667 \nL 282.72543 39.164101 \nL 288.936933 59.667389 \nL 295.148435 17.609362 \nL 301.359938 38.638375 \nL 307.571441 26.546692 \nL 313.782944 40.741277 \nL 319.994447 26.546692 \nL 326.205949 33.906847 \nL 332.417452 32.855397 \nL 338.628955 20.237988 \nL 344.840458 18.660812 \nL 351.051961 29.701044 \nL 357.263463 21.815164 \nL 363.474966 31.278221 \nL 369.686469 21.289439 \nL 375.897972 19.712263 \nL 382.109474 25.495242 \n\" style=\"fill:none;stroke:#4c72b0;stroke-linecap:round;stroke-width:1.5;\"/>\n   </g>\n   <g id=\"patch_3\">\n    <path d=\"M 62.527656 224.64 \nL 62.527656 7.2 \n\" style=\"fill:none;stroke:#ffffff;stroke-linecap:square;stroke-linejoin:miter;stroke-width:1.25;\"/>\n   </g>\n   <g id=\"patch_4\">\n    <path d=\"M 397.327656 224.64 \nL 397.327656 7.2 \n\" style=\"fill:none;stroke:#ffffff;stroke-linecap:square;stroke-linejoin:miter;stroke-width:1.25;\"/>\n   </g>\n   <g id=\"patch_5\">\n    <path d=\"M 62.527656 224.64 \nL 397.327656 224.64 \n\" style=\"fill:none;stroke:#ffffff;stroke-linecap:square;stroke-linejoin:miter;stroke-width:1.25;\"/>\n   </g>\n   <g id=\"patch_6\">\n    <path d=\"M 62.527656 7.2 \nL 397.327656 7.2 \n\" style=\"fill:none;stroke:#ffffff;stroke-linecap:square;stroke-linejoin:miter;stroke-width:1.25;\"/>\n   </g>\n  </g>\n </g>\n <defs>\n  <clipPath id=\"pd487178ecb\">\n   <rect height=\"217.44\" width=\"334.8\" x=\"62.527656\" y=\"7.2\"/>\n  </clipPath>\n </defs>\n</svg>\n",
            "image/png": "[encoded data removed]"
          },
          "metadata": {}
        }
      ]
    },
    {
      "cell_type": "markdown",
      "metadata": {
        "id": "XYMRn_T6D0sp"
      },
      "source": [
        "### 4.3 Results (35p)\n",
        "\n",
        "Modificați parametrii algoritmilor (cele de la începutul Notebook-ului), faceți grafice pentru fiecare caz și explicați rezultatele obținute.\n",
        "\n",
        "Unii (și nu numai) dintre paramatrii pe care îi puteți modifica:\n",
        "- numărul de episoade de antrenare\n",
        "- `eps` mai mic/mare\n",
        "- valoarea lui $\\gamma$\n",
        "- valoarea lui $\\alpha$\n",
        "\n",
        "#### 4.4 And something more... (10p)\n",
        "##### A simple move (5p)\n",
        "Dorim să vedem importanța reward-ului și a stării.\n",
        "\n",
        "Modificați celula de antrenare pentru una dintre metode astfel încât reward-ul pentru o **mutare simplă** să fie 0, (acum este -1). Refaceți graficul metodei alese și trageți concluziile.\n",
        "\n",
        "##### A little less space (5p)\n",
        "**Starea** are valori discrete (500 de valori posibile), iar aceasta este encodată folosind metoda d [aici](https://github.com/openai/gym/blob/master/gym/envs/toy_text/taxi.py#L128).\n",
        "\n",
        "Rescrieți codul astfel încât starea să fie encodată folosind:\n",
        "$$\n",
        "(((taxi\\_row * 5) + taxi\\_column) * 5 + pass\\_loc) * 2 + destination\n",
        "$$\n",
        "Antrenați unul dintre algoritmi, faceți graficul și explicați rezultatul.\n",
        "\n",
        "**Atenție!** Trebuie să și modificați cum arată Q (forma matricei).\n",
        "\n",
        "Hint: Decodarea stării este [aici](https://github.com/openai/gym/blob/master/gym/envs/toy_text/taxi.py#L139)\n",
        "\n",
        "## 5 BONUS: Some decay on the way (10p)\n",
        "Analizați ce se întâmplă daca scadeți treptat `eps`, pe măsura antrenării. \n",
        "\n",
        "Intuitiv, dorim ca la începutul antrenării agentul să **exploreze** cât mai mult posibil și să atingă un număr mare de stări (în exemplul nostru cu taxiul, nu avem așa multe stări, dar sunt jocuri în care spațiul stărilor poate fi mai mare).\n",
        "\n",
        "De asemenea, pe măsură ce continuăm antrenarea, dorim ca taximetristul să înceapă să **exploateze** mai mult stările cunoscute cu o utilitate mare."
      ]
    }
  ]
}