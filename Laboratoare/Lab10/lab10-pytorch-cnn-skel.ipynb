{
 "cells": [
  {
   "cell_type": "markdown",
   "metadata": {},
   "source": [
    "<a href=\"https://colab.research.google.com/github/cs-pub-ro/ML/blob/master/lab/lab10/lab10-pytorch-cnn-skel.ipynb\" target=\"_parent\"><img src=\"https://colab.research.google.com/assets/colab-badge.svg\" alt=\"Open In Colab\"/></a>"
   ]
  },
  {
   "cell_type": "markdown",
   "metadata": {
    "colab_type": "text",
    "id": "Xi1dtiTtK1Ov"
   },
   "source": [
    "Lab 10 : Rețele Convoluționale în PyTorch\n",
    "===================================\n",
    "\n",
    "### Clasificare supervizată folosind arhitectura ResNet-50\n",
    "\n",
    "Exemple introduse în acest laborator:\n",
    "- preprocesarea datelor în PyTorch ([data transforms](https://pytorch.org/docs/stable/torchvision/transforms.html))\n",
    "- utilizarea unui [DataLoader](https://pytorch.org/docs/stable/data.html#torch.utils.data.DataLoader)\n",
    "- definirea unei arhitecturi convoluționale în PyTorch\n",
    "- efectul utilizării normalizării la nivel de batch (batch normalization - [Descriere](https://towardsdatascience.com/batch-normalization-in-neural-networks-1ac91516821c), [Modul PyTorch](https://pytorch.org/docs/stable/nn.html#batchnorm2d)) în arhitecturi convoluționale adânci\n",
    "- ciclul de antrenare al unei rețele în PyTorch\n",
    "\n",
    "\n",
    "**Credit**:\n",
    "- Exercitii și structură cod adaptate din tutorialul ConvNet al Vioricăi Pătrăucean, din cadrul EEML 2019.\n",
    "- Arhitectura ResNet-50 din PyTorch model zoo"
   ]
  },
  {
   "cell_type": "code",
   "execution_count": 1,
   "metadata": {
    "colab": {
     "base_uri": "https://localhost:8080/",
     "height": 34
    },
    "colab_type": "code",
    "id": "9Ho_PioVRL_o",
    "outputId": "3e817e11-6142-44e0-98e9-c1f9777e016b"
   },
   "outputs": [
    {
     "output_type": "stream",
     "name": "stdout",
     "text": [
      "Running code @ cuda\n"
     ]
    }
   ],
   "source": [
    "from __future__ import absolute_import\n",
    "from __future__ import division\n",
    "from __future__ import print_function\n",
    "\n",
    "import time\n",
    "import torch\n",
    "import torch.nn as nn\n",
    "\n",
    "# Definirea mediului pe care va rula codul de antrenare\n",
    "device = torch.device(\"cuda\" if torch.cuda.is_available() else \"cpu\")\n",
    "\n",
    "print(f'Running code @ {device}')\n",
    "\n",
    "import numpy as np\n",
    "\n",
    "# Plotting library.\n",
    "from matplotlib import pyplot as plt\n",
    "import pylab as pl\n",
    "from IPython import display\n",
    "\n",
    "import collections\n",
    "import enum\n",
    "import warnings\n",
    "warnings.filterwarnings('ignore')"
   ]
  },
  {
   "cell_type": "markdown",
   "metadata": {
    "colab_type": "text",
    "id": "EmjogSWJ-Xlt"
   },
   "source": [
    "## Descărcare și preparare date\n",
    "\n",
    "* **Cifar-10** este echivalentul MNIST pentru imagini naturale RGB\n",
    "\n",
    "* cuprinde 60k 32x32 imagini color din 10 clase: airplane, automobile, bird, cat, deer, dog, frog, horse, ship, truck\n",
    "\n",
    "* train: 50k; test: 10k\n",
    "\n",
    "\n",
    "**Exemplu 1: Implementarea unor metode de augmentare de date**\n",
    "\n",
    "În Pytorch pot fi folosite _transformări de date_ la momentul încărcării în memorie a unui set de date. \n",
    "Pentru aceasta se pot utiliza clase predefinite (din pachetul `torchvision.transforms`) sau pot fi construite clase custom.\n",
    "\n",
    "În acest exemplu folosim _transforms_ pentru a aplica două tehnici de **augmentare a datelor**, folosite la antrenare: oglindiri aleatoare a imaginilor și crop-uri aleatoare ale imaginii (sunt folosite clase existente în pachetul `torchvision.transforms`.\n"
   ]
  },
  {
   "cell_type": "code",
   "execution_count": 2,
   "metadata": {
    "colab": {
     "base_uri": "https://localhost:8080/",
     "height": 136
    },
    "colab_type": "code",
    "id": "LEEkhc5KRa8t",
    "outputId": "cf7c5d63-c851-4cc3-b00a-dacc790ffc70",
    "scrolled": true
   },
   "outputs": [
    {
     "output_type": "stream",
     "name": "stdout",
     "text": [
      "Files already downloaded and verified\n",
      "Files already downloaded and verified\n",
      "Size of training images (50000, 32, 32, 3)\n",
      "Size of training labels 50000\n",
      "Size of test images (10000, 32, 32, 3)\n",
      "Size of test labels 10000\n"
     ]
    }
   ],
   "source": [
    "# Prepare data \n",
    "import torchvision\n",
    "import torchvision.transforms as transforms\n",
    "\n",
    "NUM_WORKERS = 2\n",
    "\n",
    "\n",
    "TRAIN_DATASET_SIZE = 50000\n",
    "TEST_DATASET_SIZE = 10000\n",
    "\n",
    "CIFAR10_IMG_WIDTH = 32\n",
    "CIFAR10_IMG_HEIGHT = 32\n",
    "\n",
    "DATA_MEAN = (0.5, 0.5, 0.5)    # define the mean for the scaling transform - PIL images already come given in \n",
    "DATA_STD = (0.5, 0.5, 0.5)        # define the standard deviation for the scaling transform\n",
    "train_transform = transforms.Compose(\n",
    "    [\n",
    "        transforms.RandomHorizontalFlip(),     # apply random horizontal flip\n",
    "        transforms.RandomCrop(                          # apply random crop, after padding image with 4 values on each side, using `reflect` mode\n",
    "            size=(CIFAR10_IMG_WIDTH, CIFAR10_IMG_HEIGHT), \n",
    "            padding=(4, 4), \n",
    "            padding_mode=\"reflect\"),\n",
    "        transforms.ToTensor(),\n",
    "        transforms.Normalize(DATA_MEAN, DATA_STD)       # normalize the image tensor to [-1, 1] on each channel: img_norm = (img - data_mean) / data_std \n",
    "    ] \n",
    ")\n",
    "\n",
    "\n",
    "test_transform = transforms.Compose(\n",
    "    [\n",
    "        transforms.ToTensor(),                          # on test set we only need to apply the same normalization\n",
    "        transforms.Normalize(DATA_MEAN, DATA_STD) \n",
    "    ] \n",
    ")\n",
    "\n",
    "\n",
    "\n",
    "train_images = torchvision.datasets.CIFAR10(root='./data', train=True, download=True, \n",
    "                                            transform=train_transform)\n",
    "\n",
    "test_images = torchvision.datasets.CIFAR10(root='./data', train=False, download=True, \n",
    "                                           transform=test_transform)\n",
    "\n",
    "# Check sizes of tensors\n",
    "print(f'Size of training images {train_images.data.shape}')\n",
    "print(f'Size of training labels {len(train_images.targets)}')\n",
    "print(f'Size of test images {test_images.data.shape}')\n",
    "print(f'Size of test labels {len(test_images.targets)}')"
   ]
  },
  {
   "cell_type": "markdown",
   "metadata": {
    "colab_type": "text",
    "id": "4vMPjp0UU4Mx"
   },
   "source": [
    "## Afișare imagini\n",
    "Implementarea unei „galerii” de imagini pentru vizualizarea setului de date."
   ]
  },
  {
   "cell_type": "code",
   "execution_count": 3,
   "metadata": {
    "colab": {},
    "colab_type": "code",
    "id": "Xy0BWFwFUQ0J"
   },
   "outputs": [],
   "source": [
    "MAX_IMAGES = 10\n",
    "\n",
    "def gallery(images, label, title='Input images'):\n",
    "    class_dict = ['plane', 'car', 'bird', 'cat','deer', 'dog', 'frog', 'horse', 'ship', 'truck']\n",
    "    num_frames, h, w, num_channels = images.shape\n",
    "    num_frames = min(num_frames, MAX_IMAGES)\n",
    "    ff, axes = plt.subplots(1, num_frames, figsize=(num_frames, 1), subplot_kw={'xticks': [], \n",
    "                                                                                'yticks': []})\n",
    "    for i in range(0, num_frames):\n",
    "        if num_channels == 3:\n",
    "            axes[i].imshow(np.squeeze(images[i]))\n",
    "        else:\n",
    "            axes[i].imshow(np.squeeze(images[i]), cmap='gray')\n",
    "        axes[i].set_title(class_dict[label[i]])\n",
    "        plt.setp(axes[i].get_xticklabels(), visible=False)\n",
    "        plt.setp(axes[i].get_yticklabels(), visible=False)\n",
    "    ff.subplots_adjust(wspace=0.1)\n",
    "    plt.show()"
   ]
  },
  {
   "cell_type": "code",
   "execution_count": 4,
   "metadata": {
    "colab": {
     "base_uri": "https://localhost:8080/",
     "height": 163
    },
    "colab_type": "code",
    "id": "7kGaRa23RfjT",
    "outputId": "93c17195-d219-4398-9859-689594a9a604"
   },
   "outputs": [
    {
     "output_type": "display_data",
     "data": {
      "text/plain": "<Figure size 720x72 with 10 Axes>",
      "image/svg+xml": "<?xml version=\"1.0\" encoding=\"utf-8\" standalone=\"no\"?>\n<!DOCTYPE svg PUBLIC \"-//W3C//DTD SVG 1.1//EN\"\n  \"http://www.w3.org/Graphics/SVG/1.1/DTD/svg11.dtd\">\n<svg height=\"84.210786pt\" version=\"1.1\" viewBox=\"0 0 575.9 84.210786\" width=\"575.9pt\" xmlns=\"http://www.w3.org/2000/svg\" xmlns:xlink=\"http://www.w3.org/1999/xlink\">\n <metadata>\n  <rdf:RDF xmlns:cc=\"http://creativecommons.org/ns#\" xmlns:dc=\"http://purl.org/dc/elements/1.1/\" xmlns:rdf=\"http://www.w3.org/1999/02/22-rdf-syntax-ns#\">\n   <cc:Work>\n    <dc:type rdf:resource=\"http://purl.org/dc/dcmitype/StillImage\"/>\n    <dc:date>2021-05-18T21:17:17.656717</dc:date>\n    <dc:format>image/svg+xml</dc:format>\n    <dc:creator>\n     <cc:Agent>\n      <dc:title>Matplotlib v3.4.1, https://matplotlib.org/</dc:title>\n     </cc:Agent>\n    </dc:creator>\n   </cc:Work>\n  </rdf:RDF>\n </metadata>\n <defs>\n  <style type=\"text/css\">*{stroke-linecap:butt;stroke-linejoin:round;}</style>\n </defs>\n <g id=\"figure_1\">\n  <g id=\"patch_1\">\n   <path d=\"M 0 84.210786 \nL 575.9 84.210786 \nL 575.9 0 \nL 0 0 \nz\n\" style=\"fill:none;\"/>\n  </g>\n  <g id=\"axes_1\">\n   <g id=\"patch_2\">\n    <path d=\"M 10.7 73.510786 \nL 61.892661 73.510786 \nL 61.892661 22.318125 \nL 10.7 22.318125 \nz\n\" style=\"fill:#ffffff;\"/>\n   </g>\n   <g clip-path=\"url(#pe351cf69a7)\">\n    <image height=\"52\" id=\"imagea9011d52ea\" transform=\"scale(1 -1)translate(0 -52)\" width=\"52\" x=\"10.7\" xlink:href=\"data:image/png;base64,\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\" y=\"-21.510786\"/>\n   </g>\n   <g id=\"matplotlib.axis_1\"/>\n   <g id=\"matplotlib.axis_2\"/>\n   <g id=\"patch_3\">\n    <path d=\"M 10.7 73.510786 \nL 10.7 22.318125 \n\" style=\"fill:none;stroke:#000000;stroke-linecap:square;stroke-linejoin:miter;stroke-width:0.8;\"/>\n   </g>\n   <g id=\"patch_4\">\n    <path d=\"M 61.892661 73.510786 \nL 61.892661 22.318125 \n\" style=\"fill:none;stroke:#000000;stroke-linecap:square;stroke-linejoin:miter;stroke-width:0.8;\"/>\n   </g>\n   <g id=\"patch_5\">\n    <path d=\"M 10.7 73.510786 \nL 61.892661 73.510786 \n\" style=\"fill:none;stroke:#000000;stroke-linecap:square;stroke-linejoin:miter;stroke-width:0.8;\"/>\n   </g>\n   <g id=\"patch_6\">\n    <path d=\"M 10.7 22.318125 \nL 61.892661 22.318125 \n\" style=\"fill:none;stroke:#000000;stroke-linecap:square;stroke-linejoin:miter;stroke-width:0.8;\"/>\n   </g>\n   <g id=\"text_1\">\n    <!-- frog -->\n    <g transform=\"translate(24.372268 16.318125)scale(0.12 -0.12)\">\n     <defs>\n      <path d=\"M 2375 4863 \nL 2375 4384 \nL 1825 4384 \nQ 1516 4384 1395 4259 \nQ 1275 4134 1275 3809 \nL 1275 3500 \nL 2222 3500 \nL 2222 3053 \nL 1275 3053 \nL 1275 0 \nL 697 0 \nL 697 3053 \nL 147 3053 \nL 147 3500 \nL 697 3500 \nL 697 3744 \nQ 697 4328 969 4595 \nQ 1241 4863 1831 4863 \nL 2375 4863 \nz\n\" id=\"DejaVuSans-66\" transform=\"scale(0.015625)\"/>\n      <path d=\"M 2631 2963 \nQ 2534 3019 2420 3045 \nQ 2306 3072 2169 3072 \nQ 1681 3072 1420 2755 \nQ 1159 2438 1159 1844 \nL 1159 0 \nL 581 0 \nL 581 3500 \nL 1159 3500 \nL 1159 2956 \nQ 1341 3275 1631 3429 \nQ 1922 3584 2338 3584 \nQ 2397 3584 2469 3576 \nQ 2541 3569 2628 3553 \nL 2631 2963 \nz\n\" id=\"DejaVuSans-72\" transform=\"scale(0.015625)\"/>\n      <path d=\"M 1959 3097 \nQ 1497 3097 1228 2736 \nQ 959 2375 959 1747 \nQ 959 1119 1226 758 \nQ 1494 397 1959 397 \nQ 2419 397 2687 759 \nQ 2956 1122 2956 1747 \nQ 2956 2369 2687 2733 \nQ 2419 3097 1959 3097 \nz\nM 1959 3584 \nQ 2709 3584 3137 3096 \nQ 3566 2609 3566 1747 \nQ 3566 888 3137 398 \nQ 2709 -91 1959 -91 \nQ 1206 -91 779 398 \nQ 353 888 353 1747 \nQ 353 2609 779 3096 \nQ 1206 3584 1959 3584 \nz\n\" id=\"DejaVuSans-6f\" transform=\"scale(0.015625)\"/>\n      <path d=\"M 2906 1791 \nQ 2906 2416 2648 2759 \nQ 2391 3103 1925 3103 \nQ 1463 3103 1205 2759 \nQ 947 2416 947 1791 \nQ 947 1169 1205 825 \nQ 1463 481 1925 481 \nQ 2391 481 2648 825 \nQ 2906 1169 2906 1791 \nz\nM 3481 434 \nQ 3481 -459 3084 -895 \nQ 2688 -1331 1869 -1331 \nQ 1566 -1331 1297 -1286 \nQ 1028 -1241 775 -1147 \nL 775 -588 \nQ 1028 -725 1275 -790 \nQ 1522 -856 1778 -856 \nQ 2344 -856 2625 -561 \nQ 2906 -266 2906 331 \nL 2906 616 \nQ 2728 306 2450 153 \nQ 2172 0 1784 0 \nQ 1141 0 747 490 \nQ 353 981 353 1791 \nQ 353 2603 747 3093 \nQ 1141 3584 1784 3584 \nQ 2172 3584 2450 3431 \nQ 2728 3278 2906 2969 \nL 2906 3500 \nL 3481 3500 \nL 3481 434 \nz\n\" id=\"DejaVuSans-67\" transform=\"scale(0.015625)\"/>\n     </defs>\n     <use xlink:href=\"#DejaVuSans-66\"/>\n     <use x=\"35.205078\" xlink:href=\"#DejaVuSans-72\"/>\n     <use x=\"74.068359\" xlink:href=\"#DejaVuSans-6f\"/>\n     <use x=\"135.25\" xlink:href=\"#DejaVuSans-67\"/>\n    </g>\n   </g>\n  </g>\n  <g id=\"axes_2\">\n   <g id=\"patch_7\">\n    <path d=\"M 67.011927 73.510786 \nL 118.204587 73.510786 \nL 118.204587 22.318125 \nL 67.011927 22.318125 \nz\n\" style=\"fill:#ffffff;\"/>\n   </g>\n   <g clip-path=\"url(#p7cabe6e3be)\">\n    <image height=\"52\" id=\"imageb97e497234\" transform=\"scale(1 -1)translate(0 -52)\" width=\"52\" x=\"67.011927\" xlink:href=\"data:image/png;base64,\niVBORw0KGgoAAAANSUhEUgAAADQAAAA0CAYAAADFeBvrAAAYfUlEQVR4nE2a2a4tWXaWv9lGt7rdny7zZGWlyy5bBgEWF1yAeSsehDfgGbhA4g3AAlkGZEM5K/P0Z3eriW72XMTKhC3FxdJeKyLGnGOMvxlT/Id//+9KBhISZWpyERyfPf/1v/x3/uZv/paHxz0pZ1CG77//jlevXvDP/ulfQCmM44j3gRgjk/c87A887Pd8+PSJeZ7xzlEKICRVd4lUGikUU38kuJlpOAIgACXBaEXbVFxs13Rty2Z3TbvasdndcHWxpa0rNl2DlhIlJVJKhBCAPF8CjZRQBAVJkYqcBSELqnbN1c0Lmm5HQSJtxcvXL7i6uqRpVwhA2xqlFAA+RKrVM7rp8KngnCPHhPOBmBJZVlhT0TQtg5Z4N2G1IOdMzoWcIkJATIVhmIkh4ZNiHSXSrkgxYLVkX2lqa6iMoa4btNYYWyOFRgiJltqSC5QiycqQEEzJsdpd85sfDFZVKGMx3YrVuqVtazYXq19X6OrqEmuXe7z//JWLz1+wzYYQAkpKDocDwzjyfBjouo6rq2v6Q4ebJ8Z+RfARHwJDPxCDx7uZeTxSckbansubALZj7g/k6NElslm3bFYdlxdXNE3LZnuBMRVKanTVvIZY8D6RqClS0F1saNpbXr2OGGGRSkNdU9UWbRSGSEqR4D3DHHFxSZxcNMau6HvP8XBgHEe0MWhd8fLljrZtWW9WRD9TcoKmozRLurTtTAyB4GZS9JScULbm9uUrvn37HR9++gP98ZnD057D8wOCwm53sQS02bHdXtA2HVrIFkjkHIlekYBSFMYqlKnRaIRSFGPQWiOlJMVIypCFIMR0Tpl8rqfMNDn6YeSwP7DZbNFdxWa9pWlr2rZFCkkpIIRCa4tSFUJUpBSJdianQCkZZevlZTcbnpoaPxmUEkzO4+YJbWtihoxAaQMF9DQGJp/ox8Dj8QHvHTlMiJSR5/wGKFIhlUIqja0r2nXL9mpLzjPZBY73z3w5jHzZjzw9fOVwOHDc77FK09iGq8tbmqbG1ho3e477nhILq3VL06yoa0WhLDsjJUpJlNHsdlvWXcftxY61lby+2fDh02c+f/nKy7ffY4zFO4eyFrREa61RsVBy5sP7d+z3z5To0EKghSClRCmFmPLyIKnZXe548eYFr15fcdPViBhJT3tMyZQQ2K7X1JXl7uYKrRuMrRmnCWUUrWlIORNSQgqNVApjNKUUSoECGClRUqGkpsTIcDrippF5HOhPz8zTjNSG1faSqmrw88Rmu6FtarTRFiUzFPj04QOfvnyEGKiMpjKGGCMpJbzzSARGKfx0x27bsKo1d1dbVEwc/vgOS0HkxG6zRqot3bqj7x3OJfp+QFvDTghizsScMNL+GlAMnlIyhYISAiPEkt4hcNzvmcaecThx//ULoQikMrSrHU3T4auZzW5N2zToEAUZi61W/PDDn/Py1Vs2m5aua+namhgTwQeGYYAYETlTKcFut+H0dOJzLMiUGeeMURWXqx374zPDNLHvjxRpSUXy/HiP+JD5u/8FH9+/I3jP5fYWtMA0FboykAslRGpl0FKSKEzjwLF/RqURcoKSiSHjU+T9u4+Yql7er79g1bXomArlHPHl1Q2r7Y7NpqVtapqmJqW0AOc0QUyInBEpUjWWmBX9lBA5kaRFarCWXxfgOA9U3RZlLNM8EqMjxYlxHhYcMxJtNFJrKAJRCkIajNJooSAFSgE3z1gRyDkhBVAyORX6/oR2nhgiq7bBWoueXSCjkNry5tvvEEpirURKgTxvO0AuGYlEIIghEVPER8+T85QooLlE5pE69fT9ia/3X/j5y0fuXr9lvb0g5cA09/THJ3Ly1LZms+5o2gZtGwoKicQISaUNSgiEGxHTieBnBDMkj1YSKQolR47P9whpSKlwebEFQHerjofnAz+9/5nn04GQAlqxBCMEUoqly5WCUgYhFQWFtpa6rnn77TestyusUri+pz0euLm9JeTIcezpqppKKYYYIQRKdCgKbWX4/e9+IPrC3B84ngYEgqZumLRemoIGSDR1he97wjwx9j0hJkrKjMd7tKlouzVvXl7xm+9/g9aVxnnHp8+f+PDlI9M8oURGCpb9UBLKEpDWFqk1wlQ0bcd2u+PVm9eoqqJtW5QUlJJYbzasx571ak1tLUZIRE6QIyVFtNZ0VcW3r19y//mR4ekL0/PjsnBth1QKpRS2qUhxRkvBFAMheELwlAySQvIDWmZqs+b6cs3rV9foh8cHPn/9ws8f3vP16Z7ZTcjoMVJipAQhKKWQUgZRkFLQrBcO9agNKh25ubnhh9/+CUM/cjqeKLKw3qx4+80bchLEmKnIzCmS3cyrl9/z3dvv+P7td8xf7/njx3+kOj0TY+CYIoFCouCEIiMoBawISJG52HUIpRBK09SKtm25vr3j9V3N5Rq0NJZ2s+Pm9Vv0qmMcTjx9fEdTVbR1RYppwQ0fQGaUFty9uMJYizYGqRLBj5QwIbJDEli1FUbDqqsRQkERvHy14dQfeHy849s3b3lx95KmXbFZb7m6vMCVgegzLmZ673E50a4tpqqp25bGglGCqrYoo1Fa0zWauq7Y7LbcXVesmoSuuy03r1b8+eoVw/DE8emevznuudpuudrtmKYJ78PS5WTEVorf/+WfUnUNuq7Yf76H7NFpxhJoTOHqokPINW3b0rQdVV3RdJZxmnh+3rPbXNM0K5p2y/XdS77//geOpifOPTkmvhwODL5w++0Fu+sL7l7e0bUVtjKs1iuMNRijWTUarQXaSqzt0NqjQyxUzYrXmw3zuOGxMkixMGltDCulmeeZcRxJKSOiQNmaql1Rb1aIKFiZir/653+FNhqhBKObyRSkUggpQQqySIzTzPHQ058mcgKfPNd311x2/4QvqxNxPIIP7A5HphT53b/4HRdXW65vLkGAlIKqqRAsjUrLjBAFZETKjBABfdjvUU3BbDooGSjkksh5ubTWSCXIOZFKQiQIMRNTWb6OREpNVTW/snFdVeRSKAJCioQUmWfPPHucD/T9QEoFY2vWbU3b3ZD2V8TRIINHtRW+JF69umazW7HbrRaRKQTWmoUm5YIoCchkkYACoqD/83/6j9huS7N7QckT03Bg6PdoEoLIbrvFe4fzA6lkYlK8//E97WbNarvh9PBMrTRb1S6YJQpz8BQKQikenh45HI/8/O49wzDQDz1tU3N5ueOv/+2/YXt3w/XVjsq9prgdpkTeCkFWAr1VCAXOjwgEUkgyUBJLQEKAFBQpSUgKAv32m5dI26LbFd4VGh35/vu31MZSVxXWGKSE9bojl4KQEiUUsghEKnR1gxKCT5+/MM0j0zQyuhmpFN1mxTTPOO8xpubiouHm9o7dbs1ut+H6+pJ21YCGIgWhRNxwIisJWqE3DaJIhFggXSJQWRJCJIZ0XjSQFWSxyAj9J7/9jiINRVf0J4nzlm0rEWfq633AOkPKcZESUtDYikoZrNSYdQU5c//0yOPjA4+P9wzThK0sNy9uFx9BaTabLZvNmqurS65vLlivO25ub2i1AJlIouBjYDgdQCuUVbTZgNKIM0dRRSKToPhMmDyRjDSSyhgShUxB//W//le03Zrd5RWTm0g5kFMgpUSKiWmeiSHigyfGREoFxC/sAXKKpJyYx5l5HnHzREgJbQ3dZkXVNFhbse4usMZQ2QqpClKCNgKip7iRKSRGFzj1A1VbU+l6kStCAQqiJIbM6bDntO/pTwPFQL1uuKtvGL3HJ4du24VTXV/u8LEllyXWnDPxLBtyyqScFrMjLSC7mBt5aRYp4bwnxUCKARcCQgp0bbFVhTaWtlqjpEIrRT4XM+L8e6EIMRNiIuUCCISUCKkQQlLK4uyUnJmnwNDPnPYD1a7GpuX7MUacT+hpOFFXFnLCKihCgTKU8w6ItUCIpVGWM6fLOf/yASElhUJIESUFUsDheMAFz+zd0u1+qWSWRVo0MAghyEWSi2SeI84lhDRoU2NtgxQGhIIiEcJQRGKcAvv9wMP9nreXbzDWglC4MDNMDu2dwzuPC4EYPUUUbF0v73t+qBQCJRRCshSoEkuXBApLralfCreAoFBSxE0DSmiEVAvJFUsXBLn8WABp+ShzQuZMApASpAIpyQKiymSZiSnjTSa1ErG1dNcrqnXDGCMuZVwGPc8zs3OMs8PNE4VC++uWL4ZeERIhy/IOYsGXX//KEvri3fwCeVBywk0TVtdoDbLWIKAIzuagoIiCkAJEWbRQKcsdxDkgIShCkEggCkkVkgYahY4V1bpBNRafCj5DLKD/5z/8yGZ35PPB8/T0SE6R6+sNl5cXXF7suNztkEpTYmZy0+KdpfnXlKmrCm00Td0ipUIohTUVx3ji3c+f2Kwv6bo1L7aXCCkWcD7XRc4JfpEpi9WJEKCtwVQVUuqldyUoqoAStNuadtssC2IMPivQFSEFJhfQ7z9+oRsCpyh5fn6mlMwUHJNPuJCZpoBWGolgnkZCcHg/nhdRcbHb0TQNQlULNuWCj4mYCgjDafCM8wmspW4sTVthjEGKZScKS/qe3c6lXoX8/2QLlFQWzCkFrRXLPgqEtGQkwWWen0/cPx3Qf/+Hn6hWe1YPC4oLUXjue26OI4/HkcZWi0uKwM0j0Tnc3KO0xFYVb779hu1uC1WH1AkhBePkcKFg7JqvDyeG4cD98cj19ZZvvrljLSVKC5SUZJZFyOcOyv+X7iUvFIfAuaJBK0VKhVxAqJoc4XgaePfuCz+//4hGaorUJGmYoiDlgh4Kk/Q8+Z6SjuSUCLNb/AQyVguqpqZbK8YvE20v+DRrSDMlTsyHA8d9z09//Min+wOnYebysuO3379ht1tRWY2SoIVFLpMCgvME58gpkEsmC0glL522SMbBk3IhIdC2oTIVT0fPw+Oev/u7v+fz10eOpwGN+KX7SDKSVGCOAhmguEx0gRQCfp4RZSn+ptJUopAtxCHQZ0cwI8X3pPmEPxw4Pp/4+PmeTw9H+smRSdzcjoSYKTlTfmkA5/YfQySGAOTzXgjieYdShhghFSjKkIoiZ8nhNPH4fOTL1wfG0ZFTQUNGiiU3q6ZBpYJQBmsbum5L1J6SM2Jd8LMjxUBIieRhPs5URWM9BFMTx4nQ95TDyOH5xIdPDzwOMy5lbtUtQlcopRFnvJLndCshMZx6pmHAVmLphEoye0cIGTdnVLVGqQrsiqfnIw9PD/zhxz9wPB0JJdN0Dd1aofvDM0JXrEr59WFdZemsotWFEDOZTA4ZISFLyZwilIzIEZEjpIB3Djd55jFifCKljBSCcuZY4WxYlnIuaLGw56XFF8h5MTLNYj4iBLEUUBrbGmLWTCHxcH/PsR859iMhJ5ACYw1KaaSQ6NP+Gd2sz67O4oetKktnFJ0qOJVIOeFTRCHIUhBFWVzOBLIkRI4E55imwDhG2rD4ZlIKhISSMjEGUkzLyyMRQi0YVJb/kwsSgTUWKRVFCnIGqTXWdMx9op8cP/78GRfieUiwdNqqtktnRKDn6Yj3E1EImnaFloZGSGqpqLVEGcEcEqfTSMqKVCRjDgitUFaipcGqGoVF4MnFIHKmhJnpcI+bZkIu5HlF8RPEjCwGQUWReunYKZHmSJgCrg4UDLpa0XaXTHNif3L8t7/9H3z5+siXLwe61YputSaVsNAwKZjdTIwRrY0EkXF+RCdJEppJgNWJ2haMBipFWxvmIClxcWRZTCAECinUeYKmzoRyYQrejeTgl7RKHnJcmE8RiDP9ySWfTchlhFmljoICDLPLnPqJ+4c99w+PPD09M88zSiu0VvBL9njPPDtCCOjdzQZpC8/PH8lRITI8hcLNzSUpXPP221s2bceuW/N0CBz6wP7RLRO/JM9TTYtSFqUrpHGIIMk5MQ/HZdQoJTnOlBSRQvw/giQg5sDoRu6fH4hupLm8JBVLSIYPnz7w+ctXfvzpHR8/fGaeHFpXODcSo19qK0YOhwPOuWWHfvunf8FpTtyfIvunR8LkkLNn//yFz5879vsbNqsVV7sb9kfPaQj0px5lLY3syHmkZImSFmOhqg3SK4SWSAkrW6Ery/Xljqa2jNPAw+M97dzw4uUtyiiqruL221fk6Ln99i1FNxxOgQ8fHnh63jMOE1oZrF1mt87NFOCyukZKTV23C6VEol+8eot8OvJ4+oobR8Z+oIwT43zicLSUfGK320LJHE6eYYqcThOmrhAyMk01Uid0oyklIc+cS0iJVoqqqanbmt1mhbUa52b6vlBKgnKD1AJdGXZ315QYaXeXjFkynhxPTydOp5HgF7OmlMI4ToQYyXkBXaUU1laEEEmpoL/55i9pugOFLxRfM3YnKunxccbFmY/3D3z8+pV/+D9/YJhmnA8cZrcwcaPZXV7QdCuu7l6x3t6y3txwo6FuLC9fveTqasd6s+Li5o66tjw+PbBav6Fu7EKolUJWlm//9M84Hg78/OWJL/vIcYxMx0DKiqbpyCURQmCaJ+p2wbOqqhYADvHcHSU6p4QUkqZu6dYbhJJoMaFzhUktbjLkGMkxUguLthHsRCqFXAoxeOZpZByOCKkhF2qrkcGx3mxZb7dsNit2ux3dasV2u2W73dB1LVIKYooMk+Pp2HM49hymmeMYOPQeP4yU7Mk4lJaUUrBW/+p9/7JLOZclGAx66E+kWKjrms3FJbqpyOlwJoiCFCIpJPw0I8TC5WY/4IJjmmfGaaLkgp8nSA+E4UTRllVVcXd9zcXllvV6xe3tLReXF7x48YLNpsNajVKC2Xken4/87z++px96pix56j394Jn3R3KaKcXRrRq0UdR1tRy4kGpJs7xYAlIqjJFo5/YUNE1tubtbU8SKzfobYkz4mBn6mXly7PeHha4I2BGJKRJiYPYeqRS3L+7wfsRNPR//8Sfmuubu+opXb97yzZtX3N5dUdU1TV1jjEJKScngfGKYAknUCANWKap5IESQq4YYIPqMOJ+LsFWDc45pGnB+AWhrLdZalFLoGB1CZbRStLVEacWL6wtSEcRUOJ4mhnEGpRCLekGWxenxMWCdR0rF7uKaaTogRWZyM0osKL/d7bi9vWW3XaG0WhRwycQQF9Nj9ExjIJfFMyilLJJfC4pRUDQ5qzPrECityG6hUjEunbSURRhKKdAhRHQuVKIggqPC8Kp7wfbiivXugjElTtPMh4cHZu/wITCeemY3MYwDT889MRWmkMA01DvJnAtVgW7dcXdzzZsXL0h5OvsUmf3zgXlynE4jP//0iU8fHgnZ4mNgf7hfJIwoxEVjILJAmgUKUs5LdqSIlDVQGMeBZfJT0EobpFj8NT9PJD/z6eMn+tGx6keqdYeQktur3dIIciZMEz56nJt5ejriQ0LKmiwSKXv+4s9+R1dZXtxe09Z28Z9TIqSAD4FpHPF+Adn1asXd7Q3vP/SkGPHOLfK6LFNEISQFmJ1DRcl63WJsRZMyMchF7OWM98sUXWtrIUdy8ng3kVPkY5Y0p5F2f+Tu9Qu6zYrLm6tFiktJiYFSEilH9k8nZhdwcyGJRCQg5t9Ta82rF7c09XL/haI4+mFgnufFrNeW7WaNUpqPn35cpIl3C9E8X0twAudmpJSs1yussQgEU4nkHH4NKMaIVraCJCgkUgqUnOm2W4o0DC7wjz/+TNu1vJxmjJJIAWE6YY2ibSw33Ra7XdM0G7LMJFn4l7//AS0ErbHUxqCkREQw2tB1K7abizMg1rx7957n/T3HwwPTeKCuNM4thmXTdFilMFrx9BSIITIMDqUEUmqkiouUV79MGRNaqMVqFWlp06VAShEhNEJKYo7nswoJVEKUzPH5GUnmpAVxN9E2HWJbUFYjK8WqbTFaY/VirnCWJufKxWiNlAqlBDF6xvG0MP7kF2gQ5VedlEtZjr+dr5yX4l/OCemz7JHks5GoUQohNKooqkrjXWL//Mj64ob1aouQAltV5wNGmZwcnz594nR45Ph8z8VqTdd0vLj7hu3Vjt3VBdc3t3TdMlQWepmc27om54zJy0GplJYx/+PTZz59/hnnelKaURKUFAgtmaZFEvjoSUkCeiHD54Fc1zWEoBfbOpSF+tTdCj8cGKaBvj/i55lcJnIR5CzYXl4jhabIChQIqTFth3IjGM1pnpicZ5oi7WNHu+po1xs2my3f/uZ7trsLmrrBTwNDf+L5+fGc94kQHO/e/8zh8IAoEUk+DwkEKQnGIRBCxIWA9wEhIYaMUgqBImUHZKw1CM4DAFtVhEkyO7ccq5xGcnbL0TJTs724BrGcTRBKgZIoWyGNBaVw08wcZ8Z+ph5OVE2Nso9sL6+oVltQFRmFG0aen5748OEdpURyScToeXp6YBx7ICHFUgc5C3ISeOfwITK7QM4RqSQp5TOzFuezQaC1JucFi/4vzk+6wRjIqswAAAAASUVORK5CYII=\" y=\"-21.510786\"/>\n   </g>\n   <g id=\"matplotlib.axis_3\"/>\n   <g id=\"matplotlib.axis_4\"/>\n   <g id=\"patch_8\">\n    <path d=\"M 67.011927 73.510786 \nL 67.011927 22.318125 \n\" style=\"fill:none;stroke:#000000;stroke-linecap:square;stroke-linejoin:miter;stroke-width:0.8;\"/>\n   </g>\n   <g id=\"patch_9\">\n    <path d=\"M 118.204587 73.510786 \nL 118.204587 22.318125 \n\" style=\"fill:none;stroke:#000000;stroke-linecap:square;stroke-linejoin:miter;stroke-width:0.8;\"/>\n   </g>\n   <g id=\"patch_10\">\n    <path d=\"M 67.011927 73.510786 \nL 118.204587 73.510786 \n\" style=\"fill:none;stroke:#000000;stroke-linecap:square;stroke-linejoin:miter;stroke-width:0.8;\"/>\n   </g>\n   <g id=\"patch_11\">\n    <path d=\"M 67.011927 22.318125 \nL 118.204587 22.318125 \n\" style=\"fill:none;stroke:#000000;stroke-linecap:square;stroke-linejoin:miter;stroke-width:0.8;\"/>\n   </g>\n   <g id=\"text_2\">\n    <!-- truck -->\n    <g transform=\"translate(77.213569 16.318125)scale(0.12 -0.12)\">\n     <defs>\n      <path d=\"M 1172 4494 \nL 1172 3500 \nL 2356 3500 \nL 2356 3053 \nL 1172 3053 \nL 1172 1153 \nQ 1172 725 1289 603 \nQ 1406 481 1766 481 \nL 2356 481 \nL 2356 0 \nL 1766 0 \nQ 1100 0 847 248 \nQ 594 497 594 1153 \nL 594 3053 \nL 172 3053 \nL 172 3500 \nL 594 3500 \nL 594 4494 \nL 1172 4494 \nz\n\" id=\"DejaVuSans-74\" transform=\"scale(0.015625)\"/>\n      <path d=\"M 544 1381 \nL 544 3500 \nL 1119 3500 \nL 1119 1403 \nQ 1119 906 1312 657 \nQ 1506 409 1894 409 \nQ 2359 409 2629 706 \nQ 2900 1003 2900 1516 \nL 2900 3500 \nL 3475 3500 \nL 3475 0 \nL 2900 0 \nL 2900 538 \nQ 2691 219 2414 64 \nQ 2138 -91 1772 -91 \nQ 1169 -91 856 284 \nQ 544 659 544 1381 \nz\nM 1991 3584 \nL 1991 3584 \nz\n\" id=\"DejaVuSans-75\" transform=\"scale(0.015625)\"/>\n      <path d=\"M 3122 3366 \nL 3122 2828 \nQ 2878 2963 2633 3030 \nQ 2388 3097 2138 3097 \nQ 1578 3097 1268 2742 \nQ 959 2388 959 1747 \nQ 959 1106 1268 751 \nQ 1578 397 2138 397 \nQ 2388 397 2633 464 \nQ 2878 531 3122 666 \nL 3122 134 \nQ 2881 22 2623 -34 \nQ 2366 -91 2075 -91 \nQ 1284 -91 818 406 \nQ 353 903 353 1747 \nQ 353 2603 823 3093 \nQ 1294 3584 2113 3584 \nQ 2378 3584 2631 3529 \nQ 2884 3475 3122 3366 \nz\n\" id=\"DejaVuSans-63\" transform=\"scale(0.015625)\"/>\n      <path d=\"M 581 4863 \nL 1159 4863 \nL 1159 1991 \nL 2875 3500 \nL 3609 3500 \nL 1753 1863 \nL 3688 0 \nL 2938 0 \nL 1159 1709 \nL 1159 0 \nL 581 0 \nL 581 4863 \nz\n\" id=\"DejaVuSans-6b\" transform=\"scale(0.015625)\"/>\n     </defs>\n     <use xlink:href=\"#DejaVuSans-74\"/>\n     <use x=\"39.208984\" xlink:href=\"#DejaVuSans-72\"/>\n     <use x=\"80.322266\" xlink:href=\"#DejaVuSans-75\"/>\n     <use x=\"143.701172\" xlink:href=\"#DejaVuSans-63\"/>\n     <use x=\"198.681641\" xlink:href=\"#DejaVuSans-6b\"/>\n    </g>\n   </g>\n  </g>\n  <g id=\"axes_3\">\n   <g id=\"patch_12\">\n    <path d=\"M 123.323853 73.510786 \nL 174.516514 73.510786 \nL 174.516514 22.318125 \nL 123.323853 22.318125 \nz\n\" style=\"fill:#ffffff;\"/>\n   </g>\n   <g clip-path=\"url(#pead5607da9)\">\n    <image height=\"52\" id=\"image3ad802c035\" transform=\"scale(1 -1)translate(0 -52)\" width=\"52\" x=\"123.323853\" xlink:href=\"data:image/png;base64,\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\" y=\"-21.510786\"/>\n   </g>\n   <g id=\"matplotlib.axis_5\"/>\n   <g id=\"matplotlib.axis_6\"/>\n   <g id=\"patch_13\">\n    <path d=\"M 123.323853 73.510786 \nL 123.323853 22.318125 \n\" style=\"fill:none;stroke:#000000;stroke-linecap:square;stroke-linejoin:miter;stroke-width:0.8;\"/>\n   </g>\n   <g id=\"patch_14\">\n    <path d=\"M 174.516514 73.510786 \nL 174.516514 22.318125 \n\" style=\"fill:none;stroke:#000000;stroke-linecap:square;stroke-linejoin:miter;stroke-width:0.8;\"/>\n   </g>\n   <g id=\"patch_15\">\n    <path d=\"M 123.323853 73.510786 \nL 174.516514 73.510786 \n\" style=\"fill:none;stroke:#000000;stroke-linecap:square;stroke-linejoin:miter;stroke-width:0.8;\"/>\n   </g>\n   <g id=\"patch_16\">\n    <path d=\"M 123.323853 22.318125 \nL 174.516514 22.318125 \n\" style=\"fill:none;stroke:#000000;stroke-linecap:square;stroke-linejoin:miter;stroke-width:0.8;\"/>\n   </g>\n   <g id=\"text_3\">\n    <!-- truck -->\n    <g transform=\"translate(133.525496 16.318125)scale(0.12 -0.12)\">\n     <use xlink:href=\"#DejaVuSans-74\"/>\n     <use x=\"39.208984\" xlink:href=\"#DejaVuSans-72\"/>\n     <use x=\"80.322266\" xlink:href=\"#DejaVuSans-75\"/>\n     <use x=\"143.701172\" xlink:href=\"#DejaVuSans-63\"/>\n     <use x=\"198.681641\" xlink:href=\"#DejaVuSans-6b\"/>\n    </g>\n   </g>\n  </g>\n  <g id=\"axes_4\">\n   <g id=\"patch_17\">\n    <path d=\"M 179.63578 73.510786 \nL 230.82844 73.510786 \nL 230.82844 22.318125 \nL 179.63578 22.318125 \nz\n\" style=\"fill:#ffffff;\"/>\n   </g>\n   <g clip-path=\"url(#pc92b3f70d4)\">\n    <image height=\"52\" id=\"image681bd099c1\" transform=\"scale(1 -1)translate(0 -52)\" width=\"52\" x=\"179.63578\" xlink:href=\"data:image/png;base64,\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\" y=\"-21.510786\"/>\n   </g>\n   <g id=\"matplotlib.axis_7\"/>\n   <g id=\"matplotlib.axis_8\"/>\n   <g id=\"patch_18\">\n    <path d=\"M 179.63578 73.510786 \nL 179.63578 22.318125 \n\" style=\"fill:none;stroke:#000000;stroke-linecap:square;stroke-linejoin:miter;stroke-width:0.8;\"/>\n   </g>\n   <g id=\"patch_19\">\n    <path d=\"M 230.82844 73.510786 \nL 230.82844 22.318125 \n\" style=\"fill:none;stroke:#000000;stroke-linecap:square;stroke-linejoin:miter;stroke-width:0.8;\"/>\n   </g>\n   <g id=\"patch_20\">\n    <path d=\"M 179.63578 73.510786 \nL 230.82844 73.510786 \n\" style=\"fill:none;stroke:#000000;stroke-linecap:square;stroke-linejoin:miter;stroke-width:0.8;\"/>\n   </g>\n   <g id=\"patch_21\">\n    <path d=\"M 179.63578 22.318125 \nL 230.82844 22.318125 \n\" style=\"fill:none;stroke:#000000;stroke-linecap:square;stroke-linejoin:miter;stroke-width:0.8;\"/>\n   </g>\n   <g id=\"text_4\">\n    <!-- deer -->\n    <g transform=\"translate(191.572735 16.318125)scale(0.12 -0.12)\">\n     <defs>\n      <path d=\"M 2906 2969 \nL 2906 4863 \nL 3481 4863 \nL 3481 0 \nL 2906 0 \nL 2906 525 \nQ 2725 213 2448 61 \nQ 2172 -91 1784 -91 \nQ 1150 -91 751 415 \nQ 353 922 353 1747 \nQ 353 2572 751 3078 \nQ 1150 3584 1784 3584 \nQ 2172 3584 2448 3432 \nQ 2725 3281 2906 2969 \nz\nM 947 1747 \nQ 947 1113 1208 752 \nQ 1469 391 1925 391 \nQ 2381 391 2643 752 \nQ 2906 1113 2906 1747 \nQ 2906 2381 2643 2742 \nQ 2381 3103 1925 3103 \nQ 1469 3103 1208 2742 \nQ 947 2381 947 1747 \nz\n\" id=\"DejaVuSans-64\" transform=\"scale(0.015625)\"/>\n      <path d=\"M 3597 1894 \nL 3597 1613 \nL 953 1613 \nQ 991 1019 1311 708 \nQ 1631 397 2203 397 \nQ 2534 397 2845 478 \nQ 3156 559 3463 722 \nL 3463 178 \nQ 3153 47 2828 -22 \nQ 2503 -91 2169 -91 \nQ 1331 -91 842 396 \nQ 353 884 353 1716 \nQ 353 2575 817 3079 \nQ 1281 3584 2069 3584 \nQ 2775 3584 3186 3129 \nQ 3597 2675 3597 1894 \nz\nM 3022 2063 \nQ 3016 2534 2758 2815 \nQ 2500 3097 2075 3097 \nQ 1594 3097 1305 2825 \nQ 1016 2553 972 2059 \nL 3022 2063 \nz\n\" id=\"DejaVuSans-65\" transform=\"scale(0.015625)\"/>\n     </defs>\n     <use xlink:href=\"#DejaVuSans-64\"/>\n     <use x=\"63.476562\" xlink:href=\"#DejaVuSans-65\"/>\n     <use x=\"125\" xlink:href=\"#DejaVuSans-65\"/>\n     <use x=\"186.523438\" xlink:href=\"#DejaVuSans-72\"/>\n    </g>\n   </g>\n  </g>\n  <g id=\"axes_5\">\n   <g id=\"patch_22\">\n    <path d=\"M 235.947706 73.510786 \nL 287.140367 73.510786 \nL 287.140367 22.318125 \nL 235.947706 22.318125 \nz\n\" style=\"fill:#ffffff;\"/>\n   </g>\n   <g clip-path=\"url(#pf5932eaca6)\">\n    <image height=\"52\" id=\"image39485c4158\" transform=\"scale(1 -1)translate(0 -52)\" width=\"52\" x=\"235.947706\" xlink:href=\"data:image/png;base64,\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\" y=\"-21.510786\"/>\n   </g>\n   <g id=\"matplotlib.axis_9\"/>\n   <g id=\"matplotlib.axis_10\"/>\n   <g id=\"patch_23\">\n    <path d=\"M 235.947706 73.510786 \nL 235.947706 22.318125 \n\" style=\"fill:none;stroke:#000000;stroke-linecap:square;stroke-linejoin:miter;stroke-width:0.8;\"/>\n   </g>\n   <g id=\"patch_24\">\n    <path d=\"M 287.140367 73.510786 \nL 287.140367 22.318125 \n\" style=\"fill:none;stroke:#000000;stroke-linecap:square;stroke-linejoin:miter;stroke-width:0.8;\"/>\n   </g>\n   <g id=\"patch_25\">\n    <path d=\"M 235.947706 73.510786 \nL 287.140367 73.510786 \n\" style=\"fill:none;stroke:#000000;stroke-linecap:square;stroke-linejoin:miter;stroke-width:0.8;\"/>\n   </g>\n   <g id=\"patch_26\">\n    <path d=\"M 235.947706 22.318125 \nL 287.140367 22.318125 \n\" style=\"fill:none;stroke:#000000;stroke-linecap:square;stroke-linejoin:miter;stroke-width:0.8;\"/>\n   </g>\n   <g id=\"text_5\">\n    <!-- car -->\n    <g transform=\"translate(252.101537 16.318125)scale(0.12 -0.12)\">\n     <defs>\n      <path d=\"M 2194 1759 \nQ 1497 1759 1228 1600 \nQ 959 1441 959 1056 \nQ 959 750 1161 570 \nQ 1363 391 1709 391 \nQ 2188 391 2477 730 \nQ 2766 1069 2766 1631 \nL 2766 1759 \nL 2194 1759 \nz\nM 3341 1997 \nL 3341 0 \nL 2766 0 \nL 2766 531 \nQ 2569 213 2275 61 \nQ 1981 -91 1556 -91 \nQ 1019 -91 701 211 \nQ 384 513 384 1019 \nQ 384 1609 779 1909 \nQ 1175 2209 1959 2209 \nL 2766 2209 \nL 2766 2266 \nQ 2766 2663 2505 2880 \nQ 2244 3097 1772 3097 \nQ 1472 3097 1187 3025 \nQ 903 2953 641 2809 \nL 641 3341 \nQ 956 3463 1253 3523 \nQ 1550 3584 1831 3584 \nQ 2591 3584 2966 3190 \nQ 3341 2797 3341 1997 \nz\n\" id=\"DejaVuSans-61\" transform=\"scale(0.015625)\"/>\n     </defs>\n     <use xlink:href=\"#DejaVuSans-63\"/>\n     <use x=\"54.980469\" xlink:href=\"#DejaVuSans-61\"/>\n     <use x=\"116.259766\" xlink:href=\"#DejaVuSans-72\"/>\n    </g>\n   </g>\n  </g>\n  <g id=\"axes_6\">\n   <g id=\"patch_27\">\n    <path d=\"M 292.259633 73.510786 \nL 343.452294 73.510786 \nL 343.452294 22.318125 \nL 292.259633 22.318125 \nz\n\" style=\"fill:#ffffff;\"/>\n   </g>\n   <g clip-path=\"url(#p8460c649d0)\">\n    <image height=\"52\" id=\"imageab299c06a2\" transform=\"scale(1 -1)translate(0 -52)\" width=\"52\" x=\"292.259633\" xlink:href=\"data:image/png;base64,\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\" y=\"-21.510786\"/>\n   </g>\n   <g id=\"matplotlib.axis_11\"/>\n   <g id=\"matplotlib.axis_12\"/>\n   <g id=\"patch_28\">\n    <path d=\"M 292.259633 73.510786 \nL 292.259633 22.318125 \n\" style=\"fill:none;stroke:#000000;stroke-linecap:square;stroke-linejoin:miter;stroke-width:0.8;\"/>\n   </g>\n   <g id=\"patch_29\">\n    <path d=\"M 343.452294 73.510786 \nL 343.452294 22.318125 \n\" style=\"fill:none;stroke:#000000;stroke-linecap:square;stroke-linejoin:miter;stroke-width:0.8;\"/>\n   </g>\n   <g id=\"patch_30\">\n    <path d=\"M 292.259633 73.510786 \nL 343.452294 73.510786 \n\" style=\"fill:none;stroke:#000000;stroke-linecap:square;stroke-linejoin:miter;stroke-width:0.8;\"/>\n   </g>\n   <g id=\"patch_31\">\n    <path d=\"M 292.259633 22.318125 \nL 343.452294 22.318125 \n\" style=\"fill:none;stroke:#000000;stroke-linecap:square;stroke-linejoin:miter;stroke-width:0.8;\"/>\n   </g>\n   <g id=\"text_6\">\n    <!-- car -->\n    <g transform=\"translate(308.413463 16.318125)scale(0.12 -0.12)\">\n     <use xlink:href=\"#DejaVuSans-63\"/>\n     <use x=\"54.980469\" xlink:href=\"#DejaVuSans-61\"/>\n     <use x=\"116.259766\" xlink:href=\"#DejaVuSans-72\"/>\n    </g>\n   </g>\n  </g>\n  <g id=\"axes_7\">\n   <g id=\"patch_32\">\n    <path d=\"M 348.57156 73.510786 \nL 399.76422 73.510786 \nL 399.76422 22.318125 \nL 348.57156 22.318125 \nz\n\" style=\"fill:#ffffff;\"/>\n   </g>\n   <g clip-path=\"url(#pdf910ccfa3)\">\n    <image height=\"52\" id=\"image095916d1d6\" transform=\"scale(1 -1)translate(0 -52)\" width=\"52\" x=\"348.57156\" xlink:href=\"data:image/png;base64,\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\" y=\"-21.510786\"/>\n   </g>\n   <g id=\"matplotlib.axis_13\"/>\n   <g id=\"matplotlib.axis_14\"/>\n   <g id=\"patch_33\">\n    <path d=\"M 348.57156 73.510786 \nL 348.57156 22.318125 \n\" style=\"fill:none;stroke:#000000;stroke-linecap:square;stroke-linejoin:miter;stroke-width:0.8;\"/>\n   </g>\n   <g id=\"patch_34\">\n    <path d=\"M 399.76422 73.510786 \nL 399.76422 22.318125 \n\" style=\"fill:none;stroke:#000000;stroke-linecap:square;stroke-linejoin:miter;stroke-width:0.8;\"/>\n   </g>\n   <g id=\"patch_35\">\n    <path d=\"M 348.57156 73.510786 \nL 399.76422 73.510786 \n\" style=\"fill:none;stroke:#000000;stroke-linecap:square;stroke-linejoin:miter;stroke-width:0.8;\"/>\n   </g>\n   <g id=\"patch_36\">\n    <path d=\"M 348.57156 22.318125 \nL 399.76422 22.318125 \n\" style=\"fill:none;stroke:#000000;stroke-linecap:square;stroke-linejoin:miter;stroke-width:0.8;\"/>\n   </g>\n   <g id=\"text_7\">\n    <!-- bird -->\n    <g transform=\"translate(362.521327 16.318125)scale(0.12 -0.12)\">\n     <defs>\n      <path d=\"M 3116 1747 \nQ 3116 2381 2855 2742 \nQ 2594 3103 2138 3103 \nQ 1681 3103 1420 2742 \nQ 1159 2381 1159 1747 \nQ 1159 1113 1420 752 \nQ 1681 391 2138 391 \nQ 2594 391 2855 752 \nQ 3116 1113 3116 1747 \nz\nM 1159 2969 \nQ 1341 3281 1617 3432 \nQ 1894 3584 2278 3584 \nQ 2916 3584 3314 3078 \nQ 3713 2572 3713 1747 \nQ 3713 922 3314 415 \nQ 2916 -91 2278 -91 \nQ 1894 -91 1617 61 \nQ 1341 213 1159 525 \nL 1159 0 \nL 581 0 \nL 581 4863 \nL 1159 4863 \nL 1159 2969 \nz\n\" id=\"DejaVuSans-62\" transform=\"scale(0.015625)\"/>\n      <path d=\"M 603 3500 \nL 1178 3500 \nL 1178 0 \nL 603 0 \nL 603 3500 \nz\nM 603 4863 \nL 1178 4863 \nL 1178 4134 \nL 603 4134 \nL 603 4863 \nz\n\" id=\"DejaVuSans-69\" transform=\"scale(0.015625)\"/>\n     </defs>\n     <use xlink:href=\"#DejaVuSans-62\"/>\n     <use x=\"63.476562\" xlink:href=\"#DejaVuSans-69\"/>\n     <use x=\"91.259766\" xlink:href=\"#DejaVuSans-72\"/>\n     <use x=\"130.623047\" xlink:href=\"#DejaVuSans-64\"/>\n    </g>\n   </g>\n  </g>\n  <g id=\"axes_8\">\n   <g id=\"patch_37\">\n    <path d=\"M 404.883486 73.510786 \nL 456.076147 73.510786 \nL 456.076147 22.318125 \nL 404.883486 22.318125 \nz\n\" style=\"fill:#ffffff;\"/>\n   </g>\n   <g clip-path=\"url(#p00aba11d8a)\">\n    <image height=\"52\" id=\"image965ea1cf3d\" transform=\"scale(1 -1)translate(0 -52)\" width=\"52\" x=\"404.883486\" xlink:href=\"data:image/png;base64,\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\" y=\"-21.510786\"/>\n   </g>\n   <g id=\"matplotlib.axis_15\"/>\n   <g id=\"matplotlib.axis_16\"/>\n   <g id=\"patch_38\">\n    <path d=\"M 404.883486 73.510786 \nL 404.883486 22.318125 \n\" style=\"fill:none;stroke:#000000;stroke-linecap:square;stroke-linejoin:miter;stroke-width:0.8;\"/>\n   </g>\n   <g id=\"patch_39\">\n    <path d=\"M 456.076147 73.510786 \nL 456.076147 22.318125 \n\" style=\"fill:none;stroke:#000000;stroke-linecap:square;stroke-linejoin:miter;stroke-width:0.8;\"/>\n   </g>\n   <g id=\"patch_40\">\n    <path d=\"M 404.883486 73.510786 \nL 456.076147 73.510786 \n\" style=\"fill:none;stroke:#000000;stroke-linecap:square;stroke-linejoin:miter;stroke-width:0.8;\"/>\n   </g>\n   <g id=\"patch_41\">\n    <path d=\"M 404.883486 22.318125 \nL 456.076147 22.318125 \n\" style=\"fill:none;stroke:#000000;stroke-linecap:square;stroke-linejoin:miter;stroke-width:0.8;\"/>\n   </g>\n   <g id=\"text_8\">\n    <!-- horse -->\n    <g transform=\"translate(413.722004 16.318125)scale(0.12 -0.12)\">\n     <defs>\n      <path d=\"M 3513 2113 \nL 3513 0 \nL 2938 0 \nL 2938 2094 \nQ 2938 2591 2744 2837 \nQ 2550 3084 2163 3084 \nQ 1697 3084 1428 2787 \nQ 1159 2491 1159 1978 \nL 1159 0 \nL 581 0 \nL 581 4863 \nL 1159 4863 \nL 1159 2956 \nQ 1366 3272 1645 3428 \nQ 1925 3584 2291 3584 \nQ 2894 3584 3203 3211 \nQ 3513 2838 3513 2113 \nz\n\" id=\"DejaVuSans-68\" transform=\"scale(0.015625)\"/>\n      <path d=\"M 2834 3397 \nL 2834 2853 \nQ 2591 2978 2328 3040 \nQ 2066 3103 1784 3103 \nQ 1356 3103 1142 2972 \nQ 928 2841 928 2578 \nQ 928 2378 1081 2264 \nQ 1234 2150 1697 2047 \nL 1894 2003 \nQ 2506 1872 2764 1633 \nQ 3022 1394 3022 966 \nQ 3022 478 2636 193 \nQ 2250 -91 1575 -91 \nQ 1294 -91 989 -36 \nQ 684 19 347 128 \nL 347 722 \nQ 666 556 975 473 \nQ 1284 391 1588 391 \nQ 1994 391 2212 530 \nQ 2431 669 2431 922 \nQ 2431 1156 2273 1281 \nQ 2116 1406 1581 1522 \nL 1381 1569 \nQ 847 1681 609 1914 \nQ 372 2147 372 2553 \nQ 372 3047 722 3315 \nQ 1072 3584 1716 3584 \nQ 2034 3584 2315 3537 \nQ 2597 3491 2834 3397 \nz\n\" id=\"DejaVuSans-73\" transform=\"scale(0.015625)\"/>\n     </defs>\n     <use xlink:href=\"#DejaVuSans-68\"/>\n     <use x=\"63.378906\" xlink:href=\"#DejaVuSans-6f\"/>\n     <use x=\"124.560547\" xlink:href=\"#DejaVuSans-72\"/>\n     <use x=\"165.673828\" xlink:href=\"#DejaVuSans-73\"/>\n     <use x=\"217.773438\" xlink:href=\"#DejaVuSans-65\"/>\n    </g>\n   </g>\n  </g>\n  <g id=\"axes_9\">\n   <g id=\"patch_42\">\n    <path d=\"M 461.195413 73.510786 \nL 512.388073 73.510786 \nL 512.388073 22.318125 \nL 461.195413 22.318125 \nz\n\" style=\"fill:#ffffff;\"/>\n   </g>\n   <g clip-path=\"url(#p258add6946)\">\n    <image height=\"52\" id=\"image94011188fb\" transform=\"scale(1 -1)translate(0 -52)\" width=\"52\" x=\"461.195413\" xlink:href=\"data:image/png;base64,\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\" y=\"-21.510786\"/>\n   </g>\n   <g id=\"matplotlib.axis_17\"/>\n   <g id=\"matplotlib.axis_18\"/>\n   <g id=\"patch_43\">\n    <path d=\"M 461.195413 73.510786 \nL 461.195413 22.318125 \n\" style=\"fill:none;stroke:#000000;stroke-linecap:square;stroke-linejoin:miter;stroke-width:0.8;\"/>\n   </g>\n   <g id=\"patch_44\">\n    <path d=\"M 512.388073 73.510786 \nL 512.388073 22.318125 \n\" style=\"fill:none;stroke:#000000;stroke-linecap:square;stroke-linejoin:miter;stroke-width:0.8;\"/>\n   </g>\n   <g id=\"patch_45\">\n    <path d=\"M 461.195413 73.510786 \nL 512.388073 73.510786 \n\" style=\"fill:none;stroke:#000000;stroke-linecap:square;stroke-linejoin:miter;stroke-width:0.8;\"/>\n   </g>\n   <g id=\"patch_46\">\n    <path d=\"M 461.195413 22.318125 \nL 512.388073 22.318125 \n\" style=\"fill:none;stroke:#000000;stroke-linecap:square;stroke-linejoin:miter;stroke-width:0.8;\"/>\n   </g>\n   <g id=\"text_9\">\n    <!-- ship -->\n    <g transform=\"translate(474.387681 16.318125)scale(0.12 -0.12)\">\n     <defs>\n      <path d=\"M 1159 525 \nL 1159 -1331 \nL 581 -1331 \nL 581 3500 \nL 1159 3500 \nL 1159 2969 \nQ 1341 3281 1617 3432 \nQ 1894 3584 2278 3584 \nQ 2916 3584 3314 3078 \nQ 3713 2572 3713 1747 \nQ 3713 922 3314 415 \nQ 2916 -91 2278 -91 \nQ 1894 -91 1617 61 \nQ 1341 213 1159 525 \nz\nM 3116 1747 \nQ 3116 2381 2855 2742 \nQ 2594 3103 2138 3103 \nQ 1681 3103 1420 2742 \nQ 1159 2381 1159 1747 \nQ 1159 1113 1420 752 \nQ 1681 391 2138 391 \nQ 2594 391 2855 752 \nQ 3116 1113 3116 1747 \nz\n\" id=\"DejaVuSans-70\" transform=\"scale(0.015625)\"/>\n     </defs>\n     <use xlink:href=\"#DejaVuSans-73\"/>\n     <use x=\"52.099609\" xlink:href=\"#DejaVuSans-68\"/>\n     <use x=\"115.478516\" xlink:href=\"#DejaVuSans-69\"/>\n     <use x=\"143.261719\" xlink:href=\"#DejaVuSans-70\"/>\n    </g>\n   </g>\n  </g>\n  <g id=\"axes_10\">\n   <g id=\"patch_47\">\n    <path d=\"M 517.507339 73.510786 \nL 568.7 73.510786 \nL 568.7 22.318125 \nL 517.507339 22.318125 \nz\n\" style=\"fill:#ffffff;\"/>\n   </g>\n   <g clip-path=\"url(#p07ff414903)\">\n    <image height=\"52\" id=\"image3acc45c56e\" transform=\"scale(1 -1)translate(0 -52)\" width=\"52\" x=\"517.507339\" xlink:href=\"data:image/png;base64,\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\" y=\"-21.510786\"/>\n   </g>\n   <g id=\"matplotlib.axis_19\"/>\n   <g id=\"matplotlib.axis_20\"/>\n   <g id=\"patch_48\">\n    <path d=\"M 517.507339 73.510786 \nL 517.507339 22.318125 \n\" style=\"fill:none;stroke:#000000;stroke-linecap:square;stroke-linejoin:miter;stroke-width:0.8;\"/>\n   </g>\n   <g id=\"patch_49\">\n    <path d=\"M 568.7 73.510786 \nL 568.7 22.318125 \n\" style=\"fill:none;stroke:#000000;stroke-linecap:square;stroke-linejoin:miter;stroke-width:0.8;\"/>\n   </g>\n   <g id=\"patch_50\">\n    <path d=\"M 517.507339 73.510786 \nL 568.7 73.510786 \n\" style=\"fill:none;stroke:#000000;stroke-linecap:square;stroke-linejoin:miter;stroke-width:0.8;\"/>\n   </g>\n   <g id=\"patch_51\">\n    <path d=\"M 517.507339 22.318125 \nL 568.7 22.318125 \n\" style=\"fill:none;stroke:#000000;stroke-linecap:square;stroke-linejoin:miter;stroke-width:0.8;\"/>\n   </g>\n   <g id=\"text_10\">\n    <!-- cat -->\n    <g transform=\"translate(533.775545 16.318125)scale(0.12 -0.12)\">\n     <use xlink:href=\"#DejaVuSans-63\"/>\n     <use x=\"54.980469\" xlink:href=\"#DejaVuSans-61\"/>\n     <use x=\"116.259766\" xlink:href=\"#DejaVuSans-74\"/>\n    </g>\n   </g>\n  </g>\n </g>\n <defs>\n  <clipPath id=\"pe351cf69a7\">\n   <rect height=\"51.192661\" width=\"51.192661\" x=\"10.7\" y=\"22.318125\"/>\n  </clipPath>\n  <clipPath id=\"p7cabe6e3be\">\n   <rect height=\"51.192661\" width=\"51.192661\" x=\"67.011927\" y=\"22.318125\"/>\n  </clipPath>\n  <clipPath id=\"pead5607da9\">\n   <rect height=\"51.192661\" width=\"51.192661\" x=\"123.323853\" y=\"22.318125\"/>\n  </clipPath>\n  <clipPath id=\"pc92b3f70d4\">\n   <rect height=\"51.192661\" width=\"51.192661\" x=\"179.63578\" y=\"22.318125\"/>\n  </clipPath>\n  <clipPath id=\"pf5932eaca6\">\n   <rect height=\"51.192661\" width=\"51.192661\" x=\"235.947706\" y=\"22.318125\"/>\n  </clipPath>\n  <clipPath id=\"p8460c649d0\">\n   <rect height=\"51.192661\" width=\"51.192661\" x=\"292.259633\" y=\"22.318125\"/>\n  </clipPath>\n  <clipPath id=\"pdf910ccfa3\">\n   <rect height=\"51.192661\" width=\"51.192661\" x=\"348.57156\" y=\"22.318125\"/>\n  </clipPath>\n  <clipPath id=\"p00aba11d8a\">\n   <rect height=\"51.192661\" width=\"51.192661\" x=\"404.883486\" y=\"22.318125\"/>\n  </clipPath>\n  <clipPath id=\"p258add6946\">\n   <rect height=\"51.192661\" width=\"51.192661\" x=\"461.195413\" y=\"22.318125\"/>\n  </clipPath>\n  <clipPath id=\"p07ff414903\">\n   <rect height=\"51.192661\" width=\"51.192661\" x=\"517.507339\" y=\"22.318125\"/>\n  </clipPath>\n </defs>\n</svg>\n",
      "image/png": "[encoded data removed]"
     },
     "metadata": {}
    }
   ],
   "source": [
    "gallery(train_images.data, train_images.targets)"
   ]
  },
  {
   "cell_type": "markdown",
   "metadata": {
    "colab_type": "text",
    "id": "9pgKO2uEU_tn"
   },
   "source": [
    "## Pregătirea datelor pentru antrenare și testare\n",
    "* pentru antrenare folosim optimizatori stocastici (e.g. SGD, Adam), asa că trebuie sa putem eșantiona exemple aleatoare din setul de date pentru a forma mini-batch-uri\n",
    "* pentru testare iterăm în mod secvențial prin setul de date"
   ]
  },
  {
   "cell_type": "code",
   "execution_count": 5,
   "metadata": {
    "colab": {
     "base_uri": "https://localhost:8080/",
     "height": 85
    },
    "colab_type": "code",
    "id": "a7DbXWyoRjO6",
    "outputId": "c41ff867-0428-415b-dbc0-e13c7d7abe54"
   },
   "outputs": [
    {
     "output_type": "stream",
     "name": "stdout",
     "text": [
      "Shape of training images: torch.Size([100, 3, 32, 32])\nShape of training labels: torch.Size([100])\n"
     ]
    }
   ],
   "source": [
    "# define dimension of the batches to sample from the datasets\n",
    "BATCH_SIZE_TRAIN = 100  #@param\n",
    "BATCH_SIZE_TEST = 100  #@param\n",
    "NO_WORKERS = 8  #@param\n",
    "SHUFFLE_DATA = True\n",
    "\n",
    "# create Dataset iterator object using the data previously downloaded\n",
    "# we shuffle the data and sample repeatedly batches for training\n",
    "train_loader = torch.utils.data.DataLoader(train_images, batch_size=BATCH_SIZE_TRAIN, \n",
    "                                           shuffle=SHUFFLE_DATA, \n",
    "                                           num_workers=NO_WORKERS)\n",
    "\n",
    "# get a training batch of images and labels\n",
    "(batch_train_images, batch_train_labels) = next(iter(train_loader))\n",
    "\n",
    "# check that the shape of the training batches is the expected one\n",
    "print(f'Shape of training images: {batch_train_images.size()}')\n",
    "print(f'Shape of training labels: {batch_train_labels.size()}')\n"
   ]
  },
  {
   "cell_type": "code",
   "execution_count": 6,
   "metadata": {
    "colab": {
     "base_uri": "https://localhost:8080/",
     "height": 85
    },
    "colab_type": "code",
    "id": "gpHYjHEiRmvs",
    "outputId": "39b420e6-e76b-4383-f599-fddf7da0e985"
   },
   "outputs": [
    {
     "output_type": "stream",
     "name": "stdout",
     "text": [
      "Shape of test images: torch.Size([100, 3, 32, 32])\nShape of test labels: torch.Size([100])\n"
     ]
    }
   ],
   "source": [
    "# we do the same for test dataset\n",
    "test_loader = torch.utils.data.DataLoader(test_images, batch_size=BATCH_SIZE_TRAIN, \n",
    "                                          shuffle=SHUFFLE_DATA, \n",
    "                                          num_workers=NO_WORKERS)\n",
    "\n",
    "def loopy_test_loader(dl):\n",
    "    data_iter = iter(dl)\n",
    "    \n",
    "    while True:\n",
    "        try:\n",
    "            yield next(data_iter)\n",
    "        except StopIteration:\n",
    "            data_iter = iter(dl)\n",
    "            yield next(data_iter)\n",
    "\n",
    "(batch_test_images, batch_test_labels) = next(iter(test_loader))\n",
    "print(f'Shape of test images: {batch_test_images.size()}')\n",
    "print(f'Shape of test labels: {batch_test_labels.size()}')\n"
   ]
  },
  {
   "cell_type": "markdown",
   "metadata": {
    "colab_type": "text",
    "id": "-Q9xIZOJEiiU"
   },
   "source": [
    "### Setări generale: nume model, utilizare batch normalization, utilizare regularizare"
   ]
  },
  {
   "cell_type": "code",
   "execution_count": 7,
   "metadata": {
    "colab": {},
    "colab_type": "code",
    "id": "6b8dDvmpEgwM"
   },
   "outputs": [],
   "source": [
    "model = \"resnet_v2\" \n",
    "flag_batch_norm = 'OFF'  # @param['ON', 'OFF']\n",
    "flag_regularize = True     # @param['True', 'False'] {type:\"raw\"}"
   ]
  },
  {
   "cell_type": "markdown",
   "metadata": {
    "colab_type": "text",
    "id": "KA8hnT4H-XmK"
   },
   "source": [
    "## 1. Definirea arhitecturii RESNET-50 - blocuri funcționale\n",
    "\n",
    "Implementarea propusă în PyTorch pentru ResNet-50 definește 4 straturi logice de grupuri _ResNet blocks_. Ele sunt definite în funcție de numărul de canale ce rezultă din fiecare strat logic.\n",
    "\n",
    "Astfel, rețeaua este compusă din urmatoarele blocuri funcționale:\n",
    "  * 3 blocuri ResNet cu 64 canale și  _\"first-block-dimension-reduction-stride\"_ = 1\n",
    "  * 4 blocuri ResNet cu 128 canale și _\"first-block-dimension-reduction-stride\"_ = 2 (i.e. îmjumătățim dimensiunea inputului)\n",
    "  * 6 blocuri ResNet cu 256 canale și _\"first-block-dimension-reduction-stride\"_ = 2 (i.e. îmjumătățim dimensiunea inputului)\n",
    "  * 3 blocuri ResNet cu 512 canale și _\"first-block-dimension-reduction-stride\"_ = 2 (i.e. îmjumătățim dimensiunea inputului)\n",
    "\n",
    "**Observație**: Pentru ca rețeaua ResNet are mulți parametrii, este posibil ca antrenarea ei să dureze mult pe resurse CPU sau chiar Colab.\n",
    "Pentru a înlesni antrenarea, utilizăm un factor de reducere a numărului de canale (`DOWNSIZE_FACTOR`) care împarte numărul de canale rezultant după fiecare strat logic (e.g. 64/4, 128/4, 256/4, 512/4) "
   ]
  },
  {
   "cell_type": "code",
   "execution_count": 8,
   "metadata": {
    "colab": {},
    "colab_type": "code",
    "id": "fRsh0ZUeV6m2"
   },
   "outputs": [],
   "source": [
    "# define parameters of resnet blocks for resnet-50 model\n",
    "import collections\n",
    "\n",
    "ResNetBlockParams = collections.namedtuple(\n",
    "    \"ResNetBlockParams\", [\"neck_ch\", \"blocks\", \"stride\"])\n",
    "\n",
    "DOWNSIZE_FACTOR = 1     # @param[8, 4, 2, 1]\n",
    "\n",
    "BLOCKS_50 = (\n",
    "    ResNetBlockParams(int(64/DOWNSIZE_FACTOR), 3, 1),\n",
    "    ResNetBlockParams(int(128/DOWNSIZE_FACTOR), 4, 2),\n",
    "    ResNetBlockParams(int(256/DOWNSIZE_FACTOR), 6, 2),\n",
    "    ResNetBlockParams(int(512/DOWNSIZE_FACTOR), 3, 2)\n",
    ")"
   ]
  },
  {
   "cell_type": "markdown",
   "metadata": {
    "colab_type": "text",
    "id": "tEHrKw71-XmO"
   },
   "source": [
    "### TODO 1: definiți apelurile de convoluții 3x3 și 1x1 folosite într-un bloc ResNet-50 \n",
    "Instantiați în mod corespunzător clasa de tip [nn.Conv2d](https://pytorch.org/docs/master/generated/torch.nn.Conv2d.html) din PyTorch "
   ]
  },
  {
   "cell_type": "code",
   "execution_count": 9,
   "metadata": {
    "colab": {},
    "colab_type": "code",
    "id": "6cMC4BWe-XmO"
   },
   "outputs": [],
   "source": [
    "def conv3x3(in_planes, out_planes, stride=1, padding=1, bias = False):\n",
    "    \"\"\"\n",
    "    3x3 2D convolution with padding=1\n",
    "    @:param in_planes: the number of input channels for the convolution filter\n",
    "    @:param out_planes: the number of output channels for the convolution filter\n",
    "    @:param stride: stride value for the convolution filter, default is 1\n",
    "    @:param padding: the padding to apply, default is 1 to keep width and height the same in the output activation maps \n",
    "    \n",
    "    \"\"\"\n",
    "    # TODO 1.1 return nn.Conv2d(...)\n",
    "    return nn.Conv2d(in_planes, out_planes, 3, stride=stride, padding=padding, bias=bias)\n",
    "\n",
    "\n",
    "def conv1x1(in_planes, out_planes, stride=1, bias=False):\n",
    "    \"\"\"\n",
    "    1x1 2D convolution\n",
    "    @:param in_planes: the number of input channels for the convolution filter\n",
    "    @:param out_planes: the number of output channels for the convolution filter\n",
    "    @:param stride: stride value for the convolution filter, default is 1\n",
    "    \"\"\"\n",
    "    # TODO 1.2 return nn.Conv2d(...)\n",
    "    return nn.Conv2d(in_planes, out_planes, 1, stride=stride, bias=bias)"
   ]
  },
  {
   "cell_type": "markdown",
   "metadata": {
    "colab_type": "text",
    "id": "xPF33y9U-XmS"
   },
   "source": [
    "### TODO 2: definiți blocuri ResNet cu \"gâtuire\" (bottleneck)\n",
    "\n",
    "Blocul de tip \"bottleneck\" din ResNet-50 este definit ca în figura următoare.\n",
    "\n",
    "![ResNet-50 Bottleneck block](https://github.com/asorici/NN-labs/blob/master/Lab3-CNN/img/Bottleneck-Blocks-for-ResNet-50-left-identity-shortcut-right-projection-shortcut.png?raw=1)\n",
    "\n",
    "În imaginea din stânga se observă cazul cu `stride=1`, unde blocul nu face o reducere a dimensiunii ( _downsampling_ ) pentru că operația de conv 3x3 efectuată pe partea residuală pastrează dimensiunile (folosind stride=1)\n",
    "\n",
    "Imaginea din dreapta arată operațiile efectuate atunci când `stride=2` și unde ieșirea stratului de gâtuire necesită o operație de _downsampling_ pentru a duce dimensiunea inputului la una egală cu cea înjumătățită care are loc pe calea reziduală.\n"
   ]
  },
  {
   "cell_type": "code",
   "execution_count": 10,
   "metadata": {
    "colab": {},
    "colab_type": "code",
    "id": "xby5GIFGaIEh"
   },
   "outputs": [],
   "source": [
    "class Bottleneck(nn.Module):\n",
    "    expansion = 4\n",
    "\n",
    "    def __init__(self, inplanes, planes, stride=1, downsample=None,\n",
    "                 base_width=int(64/DOWNSIZE_FACTOR), norm_layer=nn.BatchNorm2d):\n",
    "        \"\"\"\n",
    "        :param inplanes: initial number of input channels for the bottleneck block\n",
    "        :param planes: number of output channels  at the end of the ResNet block\n",
    "        :base_width: the number of channels at the start of the first logical ResNet-50 layer - the default is 64/DOWNSIZE_FACTOR\n",
    "                                  used to derive the channel size `f` of this bottleneck block\n",
    "        :downsample: a 1x1 conv layer that downsamples the input size or `None` if no downsampling needs to be performed \n",
    "        :norm_layer: the type of normalization to apply at after each conv operation, default is nn.BatchNorm2d\n",
    "        \"\"\"\n",
    "        super(Bottleneck, self).__init__()\n",
    "        \n",
    "        # `inplanes` defines the initial number of input channels for the bottleneck block\n",
    "        # `width` encodes the number of filters `f` in the picture of the bottleneck block above \n",
    "        width = int(planes * (base_width / (64./DOWNSIZE_FACTOR)))\n",
    "        \n",
    "        # Both self.conv2 and self.downsample layers downsample the input when stride != 1\n",
    "        \n",
    "        # BEGIN TODO 2.1\n",
    "        \n",
    "        # first conv 1x1 layer which implements the bottlenecking\n",
    "        self.conv1 = conv1x1(inplanes, width)\n",
    "        self.bn1 = norm_layer(width)\n",
    "        \n",
    "        # conv 3x3 layer which applies the stride given as parameter\n",
    "        self.conv2 = conv3x3(width, width, stride)\n",
    "        self.bn2 = norm_layer(width)\n",
    "        \n",
    "        # conv 1x1 layer where the number of output channels is \"expanded\" according to the defined expansion factor\n",
    "        # according to the above figure, the expansion factor is set to 4\n",
    "        self.conv3 = conv1x1(width, planes * self.expansion)\n",
    "        self.bn3 = norm_layer(planes * self.expansion)\n",
    "        \n",
    "        # END TODO 2.2\n",
    "\n",
    "        self.relu = nn.ReLU(inplace=True)\n",
    "        \n",
    "        self.downsample = downsample\n",
    "        self.stride = stride\n",
    "\n",
    "    def forward(self, x):\n",
    "        identity = x\n",
    "        \n",
    "        # TODO 2.2\n",
    "        # first layer conv1 + bn1 + relu\n",
    "        out = nn.Sequential(self.conv1, self.bn1, self.relu)(x)\n",
    "        \n",
    "        # second layer conv2 + bn2 + relu\n",
    "        out = nn.Sequential(self.conv2, self.bn2, self.relu)(out)\n",
    "\n",
    "        # third layer conv3 + bn3\n",
    "        out = nn.Sequential(self.conv3, self.bn3)(out)\n",
    "\n",
    "        # apply downsample to identity (original input to block), if it is defined (right image in figure above)\n",
    "        if self.downsample is not None:\n",
    "            identity = self.downsample(x)\n",
    "        \n",
    "        # add identity to residual and apply relu\n",
    "        out += identity\n",
    "        out = self.relu(out)\n",
    "\n",
    "        return out"
   ]
  },
  {
   "cell_type": "markdown",
   "metadata": {
    "colab_type": "text",
    "id": "s14QG5Et-XmW"
   },
   "source": [
    "## 2. Definirea arhitecturii ResNet-50 - compunerea blocurilor funcționale\n",
    "<div>\n",
    "\t<img title=\"ResNet-50 Architecture\" src=\"https://github.com/asorici/NN-labs/blob/master/Lab3-CNN/img/ResNet-50-arch.jpg?raw=1\" width=\"300\"/>\n",
    "</div>\n"
   ]
  },
  {
   "cell_type": "code",
   "execution_count": 11,
   "metadata": {
    "colab": {},
    "colab_type": "code",
    "id": "7nfiQxXS-XmX"
   },
   "outputs": [],
   "source": [
    "class ResNet(nn.Module):\n",
    "    def __init__(self, block, layers, num_classes=10, base_width=int(64/DOWNSIZE_FACTOR), \n",
    "                 norm_layer=nn.BatchNorm2d):\n",
    "        \"\"\"\n",
    "        Build the ResNet network model - based on PyTorch Model Zoo implementation\n",
    "        \n",
    "        :param block: the Resnet Block model to be used: in our case the `Bottleneck` block\n",
    "        :param layers: the logical layer definition, such as the one in BLOCKS_50\n",
    "        :param num_classes: the number of classes for target labels\n",
    "        :param base_width: the initial number of layers\n",
    "        :param norm_layer: the type of normalization to apply - either BatchNorm or EmptyNorm, default is BatchNorm\n",
    "        \"\"\"\n",
    "        super(ResNet, self).__init__()\n",
    "\n",
    "        self.inplanes = int(64/DOWNSIZE_FACTOR)\n",
    "        self.dilation = 1\n",
    "        self._norm_layer = norm_layer\n",
    "        \n",
    "        self.base_width = base_width\n",
    "        \n",
    "        # ResNet starts out with an initial 7x7 convolution with stride 2 that halves the input size\n",
    "        self.conv1 = nn.Conv2d(3, self.inplanes, kernel_size=7, stride=2, padding=3,\n",
    "                               bias=False)  # image is now 16x16\n",
    "        self.bn1 = norm_layer(self.inplanes)\n",
    "        self.relu = nn.ReLU(inplace=True)\n",
    "        \n",
    "        # We skip the maxpool layer because it would reduce the size too much starting from a 32 x 32 image \n",
    "        # self.maxpool = nn.MaxPool2d(kernel_size=1, stride=1, padding=1)\n",
    "        \n",
    "        # -- Build resnet logical layers\n",
    "        l = layers\n",
    "        \n",
    "        # logical layer1 - 3 bottleneck blocks with 64 filters and stride=1 \n",
    "        self.layer1 = self._make_layer(block, l[0].neck_ch, l[0].blocks, stride=l[0].stride)    # image is 16x16\n",
    "        \n",
    "        # logical layer2 - 4 bottleneck blocks with 128 filters and stride=2  (i.e. first halving)\n",
    "        self.layer2 = self._make_layer(block, l[1].neck_ch, l[1].blocks, stride=l[1].stride)    # image is 8x8\n",
    "        \n",
    "        # logical layer3 - 6 bottleneck blocks with 256 filters and stride=2  (i.e. second halving)\n",
    "        self.layer3 = self._make_layer(block, l[2].neck_ch, l[2].blocks, stride=l[2].stride)    # image is 4x4\n",
    "        \n",
    "        # logical layer4 - 3 bottleneck blocks with 512 filters and stride=2  (i.e. third halving)\n",
    "        self.layer4 = self._make_layer(block, l[3].neck_ch, l[3].blocks, stride=l[3].stride)    # image is 2x2\n",
    "        \n",
    "        # final ResNet layers - average pooling reduces size to 1x1 + fully connected layer of size 2048\n",
    "        self.avgpool = nn.AdaptiveAvgPool2d((1, 1))\n",
    "        \n",
    "        self.fc = nn.Linear(int(512/DOWNSIZE_FACTOR) * block.expansion, num_classes)\n",
    "\n",
    "    def _make_layer(self, block, planes, blocks, stride=1):\n",
    "        norm_layer = self._norm_layer\n",
    "        downsample = None\n",
    "\n",
    "        if stride != 1 or self.inplanes != planes * block.expansion:\n",
    "            downsample = nn.Sequential(\n",
    "                conv1x1(self.inplanes, planes * block.expansion, stride),\n",
    "                norm_layer(planes * block.expansion),\n",
    "            )\n",
    "\n",
    "        layers = list()\n",
    "        \n",
    "        # first Bottleneck block in the logical layer is the one that does the downsampling \n",
    "        layers.append(block(self.inplanes, planes, \n",
    "                            stride=stride, downsample=downsample,\n",
    "                            base_width=self.base_width, \n",
    "                            norm_layer=norm_layer))\n",
    "        \n",
    "        # the rest operate on the the downsampled result, keeping the size (i.e. using default stride of 1)\n",
    "        self.inplanes = planes * block.expansion\n",
    "        for _ in range(1, blocks):\n",
    "            layers.append(block(self.inplanes, planes,\n",
    "                                base_width=self.base_width,\n",
    "                                norm_layer=norm_layer))\n",
    "\n",
    "        return nn.Sequential(*layers)\n",
    "\n",
    "    def forward(self, x):\n",
    "        x = self.conv1(x)\n",
    "        x = self.bn1(x)\n",
    "        x = self.relu(x)\n",
    "\n",
    "        x = self.layer1(x)\n",
    "        x = self.layer2(x)\n",
    "        x = self.layer3(x)\n",
    "        x = self.layer4(x)\n",
    "\n",
    "        x = self.avgpool(x)\n",
    "        x = torch.flatten(x, 1)\n",
    "        x = self.fc(x)\n",
    "\n",
    "        return x"
   ]
  },
  {
   "cell_type": "code",
   "execution_count": 12,
   "metadata": {
    "colab": {},
    "colab_type": "code",
    "id": "cFrYIsi1aUEm"
   },
   "outputs": [],
   "source": [
    "from torchvision.models.resnet import model_urls\n",
    "from torch.utils.model_zoo import load_url as load_state_dict_from_url\n",
    "\n",
    "def _resnet(arch, block, layers, pretrained, progress, **kwargs):\n",
    "    model = ResNet(block, layers, **kwargs)\n",
    "    if pretrained:\n",
    "        state_dict = load_state_dict_from_url(model_urls[arch], progress=progress)\n",
    "        model.load_state_dict(state_dict)\n",
    "    return model\n",
    "\n",
    "\n",
    "def resnet50(pretrained=False, progress=True, **kwargs):\n",
    "    r\"\"\"ResNet-50 model from\n",
    "    `\"Deep Residual Learning for Image Recognition\" <https://arxiv.org/pdf/1512.03385.pdf>`_\n",
    "    Args:\n",
    "        pretrained (bool): If True, returns a model pre-trained on ImageNet\n",
    "        progress (bool): If True, displays a progress bar of the download to stderr\n",
    "    \"\"\"\n",
    "    return _resnet('resnet50', Bottleneck, BLOCKS_50, pretrained, progress,\n",
    "                   **kwargs)\n"
   ]
  },
  {
   "cell_type": "markdown",
   "metadata": {
    "colab_type": "text",
    "id": "B_JHI42C-Xmh"
   },
   "source": [
    "### Definirea unui strat de normalizare de tip identitate\n",
    "Inputul este forwardat ca atare."
   ]
  },
  {
   "cell_type": "code",
   "execution_count": 13,
   "metadata": {
    "colab": {},
    "colab_type": "code",
    "id": "YCkBbX4H-Xmj"
   },
   "outputs": [],
   "source": [
    "class EmptyNorm(nn.Module):\n",
    "    def __init__(self, *args, **kwargs):\n",
    "        super(EmptyNorm, self).__init__()\n",
    "        self._modules = dict()\n",
    "    \n",
    "    def forward(self, input):\n",
    "        return input"
   ]
  },
  {
   "cell_type": "markdown",
   "metadata": {
    "colab_type": "text",
    "id": "QPex0rz3auId"
   },
   "source": [
    "## 3. Pregătirea pipeline-ului de antrenare"
   ]
  },
  {
   "cell_type": "markdown",
   "metadata": {},
   "source": [
    "### Parametrizarea preprocesării datelor"
   ]
  },
  {
   "cell_type": "code",
   "execution_count": 14,
   "metadata": {
    "colab": {},
    "colab_type": "code",
    "id": "SoTsOIRQSPV0"
   },
   "outputs": [],
   "source": [
    "# First define the preprocessing ops for the train/test data\n",
    "crop_height = 32  # @param \n",
    "crop_width = 32  # @param\n",
    "NUM_CLASSES = 10  # @param"
   ]
  },
  {
   "cell_type": "markdown",
   "metadata": {
    "colab_type": "text",
    "id": "117ebPugarCO"
   },
   "source": [
    "### Initializarea modelului rețelei și funcții auxiliare pentru inspectarea modelului definit"
   ]
  },
  {
   "cell_type": "code",
   "execution_count": 15,
   "metadata": {
    "colab": {},
    "colab_type": "code",
    "id": "pfHEpqp3DZbR",
    "outputId": "8fec2fbc-2c64-427f-9e30-e4de49f81c25"
   },
   "outputs": [
    {
     "output_type": "stream",
     "name": "stdout",
     "text": [
      "ResNet(\n  (conv1): Conv2d(3, 64, kernel_size=(7, 7), stride=(2, 2), padding=(3, 3), bias=False)\n  (bn1): EmptyNorm()\n  (relu): ReLU(inplace=True)\n  (layer1): Sequential(\n    (0): Bottleneck(\n      (conv1): Conv2d(64, 64, kernel_size=(1, 1), stride=(1, 1), bias=False)\n      (bn1): EmptyNorm()\n      (conv2): Conv2d(64, 64, kernel_size=(3, 3), stride=(1, 1), padding=(1, 1), bias=False)\n      (bn2): EmptyNorm()\n      (conv3): Conv2d(64, 256, kernel_size=(1, 1), stride=(1, 1), bias=False)\n      (bn3): EmptyNorm()\n      (relu): ReLU(inplace=True)\n      (downsample): Sequential(\n        (0): Conv2d(64, 256, kernel_size=(1, 1), stride=(1, 1), bias=False)\n        (1): EmptyNorm()\n      )\n    )\n    (1): Bottleneck(\n      (conv1): Conv2d(256, 64, kernel_size=(1, 1), stride=(1, 1), bias=False)\n      (bn1): EmptyNorm()\n      (conv2): Conv2d(64, 64, kernel_size=(3, 3), stride=(1, 1), padding=(1, 1), bias=False)\n      (bn2): EmptyNorm()\n      (conv3): Conv2d(64, 256, kernel_size=(1, 1), stride=(1, 1), bias=False)\n      (bn3): EmptyNorm()\n      (relu): ReLU(inplace=True)\n    )\n    (2): Bottleneck(\n      (conv1): Conv2d(256, 64, kernel_size=(1, 1), stride=(1, 1), bias=False)\n      (bn1): EmptyNorm()\n      (conv2): Conv2d(64, 64, kernel_size=(3, 3), stride=(1, 1), padding=(1, 1), bias=False)\n      (bn2): EmptyNorm()\n      (conv3): Conv2d(64, 256, kernel_size=(1, 1), stride=(1, 1), bias=False)\n      (bn3): EmptyNorm()\n      (relu): ReLU(inplace=True)\n    )\n  )\n  (layer2): Sequential(\n    (0): Bottleneck(\n      (conv1): Conv2d(256, 128, kernel_size=(1, 1), stride=(1, 1), bias=False)\n      (bn1): EmptyNorm()\n      (conv2): Conv2d(128, 128, kernel_size=(3, 3), stride=(2, 2), padding=(1, 1), bias=False)\n      (bn2): EmptyNorm()\n      (conv3): Conv2d(128, 512, kernel_size=(1, 1), stride=(1, 1), bias=False)\n      (bn3): EmptyNorm()\n      (relu): ReLU(inplace=True)\n      (downsample): Sequential(\n        (0): Conv2d(256, 512, kernel_size=(1, 1), stride=(2, 2), bias=False)\n        (1): EmptyNorm()\n      )\n    )\n    (1): Bottleneck(\n      (conv1): Conv2d(512, 128, kernel_size=(1, 1), stride=(1, 1), bias=False)\n      (bn1): EmptyNorm()\n      (conv2): Conv2d(128, 128, kernel_size=(3, 3), stride=(1, 1), padding=(1, 1), bias=False)\n      (bn2): EmptyNorm()\n      (conv3): Conv2d(128, 512, kernel_size=(1, 1), stride=(1, 1), bias=False)\n      (bn3): EmptyNorm()\n      (relu): ReLU(inplace=True)\n    )\n    (2): Bottleneck(\n      (conv1): Conv2d(512, 128, kernel_size=(1, 1), stride=(1, 1), bias=False)\n      (bn1): EmptyNorm()\n      (conv2): Conv2d(128, 128, kernel_size=(3, 3), stride=(1, 1), padding=(1, 1), bias=False)\n      (bn2): EmptyNorm()\n      (conv3): Conv2d(128, 512, kernel_size=(1, 1), stride=(1, 1), bias=False)\n      (bn3): EmptyNorm()\n      (relu): ReLU(inplace=True)\n    )\n    (3): Bottleneck(\n      (conv1): Conv2d(512, 128, kernel_size=(1, 1), stride=(1, 1), bias=False)\n      (bn1): EmptyNorm()\n      (conv2): Conv2d(128, 128, kernel_size=(3, 3), stride=(1, 1), padding=(1, 1), bias=False)\n      (bn2): EmptyNorm()\n      (conv3): Conv2d(128, 512, kernel_size=(1, 1), stride=(1, 1), bias=False)\n      (bn3): EmptyNorm()\n      (relu): ReLU(inplace=True)\n    )\n  )\n  (layer3): Sequential(\n    (0): Bottleneck(\n      (conv1): Conv2d(512, 256, kernel_size=(1, 1), stride=(1, 1), bias=False)\n      (bn1): EmptyNorm()\n      (conv2): Conv2d(256, 256, kernel_size=(3, 3), stride=(2, 2), padding=(1, 1), bias=False)\n      (bn2): EmptyNorm()\n      (conv3): Conv2d(256, 1024, kernel_size=(1, 1), stride=(1, 1), bias=False)\n      (bn3): EmptyNorm()\n      (relu): ReLU(inplace=True)\n      (downsample): Sequential(\n        (0): Conv2d(512, 1024, kernel_size=(1, 1), stride=(2, 2), bias=False)\n        (1): EmptyNorm()\n      )\n    )\n    (1): Bottleneck(\n      (conv1): Conv2d(1024, 256, kernel_size=(1, 1), stride=(1, 1), bias=False)\n      (bn1): EmptyNorm()\n      (conv2): Conv2d(256, 256, kernel_size=(3, 3), stride=(1, 1), padding=(1, 1), bias=False)\n      (bn2): EmptyNorm()\n      (conv3): Conv2d(256, 1024, kernel_size=(1, 1), stride=(1, 1), bias=False)\n      (bn3): EmptyNorm()\n      (relu): ReLU(inplace=True)\n    )\n    (2): Bottleneck(\n      (conv1): Conv2d(1024, 256, kernel_size=(1, 1), stride=(1, 1), bias=False)\n      (bn1): EmptyNorm()\n      (conv2): Conv2d(256, 256, kernel_size=(3, 3), stride=(1, 1), padding=(1, 1), bias=False)\n      (bn2): EmptyNorm()\n      (conv3): Conv2d(256, 1024, kernel_size=(1, 1), stride=(1, 1), bias=False)\n      (bn3): EmptyNorm()\n      (relu): ReLU(inplace=True)\n    )\n    (3): Bottleneck(\n      (conv1): Conv2d(1024, 256, kernel_size=(1, 1), stride=(1, 1), bias=False)\n      (bn1): EmptyNorm()\n      (conv2): Conv2d(256, 256, kernel_size=(3, 3), stride=(1, 1), padding=(1, 1), bias=False)\n      (bn2): EmptyNorm()\n      (conv3): Conv2d(256, 1024, kernel_size=(1, 1), stride=(1, 1), bias=False)\n      (bn3): EmptyNorm()\n      (relu): ReLU(inplace=True)\n    )\n    (4): Bottleneck(\n      (conv1): Conv2d(1024, 256, kernel_size=(1, 1), stride=(1, 1), bias=False)\n      (bn1): EmptyNorm()\n      (conv2): Conv2d(256, 256, kernel_size=(3, 3), stride=(1, 1), padding=(1, 1), bias=False)\n      (bn2): EmptyNorm()\n      (conv3): Conv2d(256, 1024, kernel_size=(1, 1), stride=(1, 1), bias=False)\n      (bn3): EmptyNorm()\n      (relu): ReLU(inplace=True)\n    )\n    (5): Bottleneck(\n      (conv1): Conv2d(1024, 256, kernel_size=(1, 1), stride=(1, 1), bias=False)\n      (bn1): EmptyNorm()\n      (conv2): Conv2d(256, 256, kernel_size=(3, 3), stride=(1, 1), padding=(1, 1), bias=False)\n      (bn2): EmptyNorm()\n      (conv3): Conv2d(256, 1024, kernel_size=(1, 1), stride=(1, 1), bias=False)\n      (bn3): EmptyNorm()\n      (relu): ReLU(inplace=True)\n    )\n  )\n  (layer4): Sequential(\n    (0): Bottleneck(\n      (conv1): Conv2d(1024, 512, kernel_size=(1, 1), stride=(1, 1), bias=False)\n      (bn1): EmptyNorm()\n      (conv2): Conv2d(512, 512, kernel_size=(3, 3), stride=(2, 2), padding=(1, 1), bias=False)\n      (bn2): EmptyNorm()\n      (conv3): Conv2d(512, 2048, kernel_size=(1, 1), stride=(1, 1), bias=False)\n      (bn3): EmptyNorm()\n      (relu): ReLU(inplace=True)\n      (downsample): Sequential(\n        (0): Conv2d(1024, 2048, kernel_size=(1, 1), stride=(2, 2), bias=False)\n        (1): EmptyNorm()\n      )\n    )\n    (1): Bottleneck(\n      (conv1): Conv2d(2048, 512, kernel_size=(1, 1), stride=(1, 1), bias=False)\n      (bn1): EmptyNorm()\n      (conv2): Conv2d(512, 512, kernel_size=(3, 3), stride=(1, 1), padding=(1, 1), bias=False)\n      (bn2): EmptyNorm()\n      (conv3): Conv2d(512, 2048, kernel_size=(1, 1), stride=(1, 1), bias=False)\n      (bn3): EmptyNorm()\n      (relu): ReLU(inplace=True)\n    )\n    (2): Bottleneck(\n      (conv1): Conv2d(2048, 512, kernel_size=(1, 1), stride=(1, 1), bias=False)\n      (bn1): EmptyNorm()\n      (conv2): Conv2d(512, 512, kernel_size=(3, 3), stride=(1, 1), padding=(1, 1), bias=False)\n      (bn2): EmptyNorm()\n      (conv3): Conv2d(512, 2048, kernel_size=(1, 1), stride=(1, 1), bias=False)\n      (bn3): EmptyNorm()\n      (relu): ReLU(inplace=True)\n    )\n  )\n  (avgpool): AdaptiveAvgPool2d(output_size=(1, 1))\n  (fc): Linear(in_features=2048, out_features=10, bias=True)\n)\ntensor([[-0.0037, -0.0206, -0.0121,  0.0116, -0.0216,  0.0177,  0.0149, -0.0197,\n          0.0171,  0.0228],\n        [-0.0025, -0.0217, -0.0097,  0.0122, -0.0221,  0.0148,  0.0153, -0.0184,\n          0.0157,  0.0248]], device='cuda:0', grad_fn=<AddmmBackward>)\ntensor([9, 9], device='cuda:0')\ntensor([8, 0])\n"
     ]
    }
   ],
   "source": [
    "blocks = BLOCKS_50     # arhitectura blocurilor functionale\n",
    "\n",
    "net = None                       # type: nn.Module\n",
    "\n",
    "if flag_batch_norm == \"ON\":\n",
    "    net = resnet50(num_classes=NUM_CLASSES)\n",
    "else:\n",
    "    net = resnet50(num_classes=NUM_CLASSES, norm_layer=EmptyNorm)\n",
    "    \n",
    "net.train()                         # Default after init is train\n",
    "net = net.to(device)      # Move network to device\n",
    "\n",
    "print(list(net.modules())[0])\n",
    "\n",
    "# Let us test that we can propagate a batch through the defined networks\n",
    "select = 2\n",
    "inputs = batch_train_images.to(device)[:select]\n",
    "target = batch_train_labels[:select]\n",
    "\n",
    "output = net(inputs)\n",
    "_, predicted = torch.max(output, 1)\n",
    "\n",
    "print(output)\n",
    "print(predicted)\n",
    "print(target)"
   ]
  },
  {
   "cell_type": "code",
   "execution_count": 16,
   "metadata": {
    "colab": {},
    "colab_type": "code",
    "id": "5-F4W5niV1sm"
   },
   "outputs": [],
   "source": [
    "# Get number of parameters in a model by iterating through the model parameters\n",
    "def get_num_params(model):\n",
    "    num_params = 0\n",
    "    for params in model.parameters():\n",
    "        num_params += params.shape.numel()\n",
    "        \n",
    "    return num_params"
   ]
  },
  {
   "cell_type": "code",
   "execution_count": 17,
   "metadata": {
    "colab": {},
    "colab_type": "code",
    "id": "l7VKCh9ySddK",
    "outputId": "211916d9-252e-423b-ea96-806996b49071"
   },
   "outputs": [
    {
     "output_type": "stream",
     "name": "stdout",
     "text": [
      "Total number of parameters of models\n<class '__main__.ResNet'> :  23475402\n"
     ]
    }
   ],
   "source": [
    "# Get number of parameters in the model. Verify that we have implemented models correctly\n",
    "print(\"Total number of parameters of models\")\n",
    "print(str(net.__class__), \": \", get_num_params(net))  \n",
    "\n",
    "# should be on the order of 23M for default ResNet\n",
    "# if scaled down by 4: 1.4M for ResNet"
   ]
  },
  {
   "cell_type": "code",
   "execution_count": 18,
   "metadata": {
    "colab": {},
    "colab_type": "code",
    "id": "xXwpnrFWSmBg"
   },
   "outputs": [],
   "source": [
    "def top_k_accuracy(k, target, output):\n",
    "    batch_size = target.size(0)\n",
    "    \n",
    "    _, pred = output.topk(k, 1, True, True)\n",
    "    \n",
    "    pred = pred.t()\n",
    "    correct = pred.eq(target.to(device).view(1, -1).expand_as(pred))\n",
    "\n",
    "    correct_k = correct[:k].view(-1).float().sum(0, keepdim=True)\n",
    "    correct_k.mul_(100.0 / batch_size)\n",
    "    \n",
    "    return correct_k"
   ]
  },
  {
   "cell_type": "markdown",
   "metadata": {},
   "source": [
    "### Parametrizarea optimizatorului"
   ]
  },
  {
   "cell_type": "code",
   "execution_count": 19,
   "metadata": {
    "colab": {},
    "colab_type": "code",
    "id": "l_dTKQblSzkm"
   },
   "outputs": [],
   "source": [
    "lr_init = 0.01                # initial learning rate\n",
    "lr_factor = 0.1             # learning rate decay factor\n",
    "weight_decay_factor = 1e-4  # weight decay factor for L2 weight regularization\n",
    "lr_schedule_milestones = [90e3, 100e3, 110e3]\n",
    "\n",
    "# Define a Loss function and optimizer\n",
    "criterion = nn.CrossEntropyLoss()\n",
    "\n",
    "# Define optimizer - SGD with momentum and weight_decay for L2 weight regularization\n",
    "#optimizer = torch.optim.SGD(net.parameters(), lr=lr_init, momentum=0.9, weight_decay=weight_decay_factor)\n",
    "optimizer = torch.optim.Adam(net.parameters(), lr=0.01)\n",
    "\n",
    "if flag_regularize:\n",
    "    #optimizer = torch.optim.SGD(net.parameters(), lr=lr_init, momentum=0.9, weight_decay=weight_decay_factor)\n",
    "    optimizer = torch.optim.Adam(net.parameters(), lr=0.01, weight_decay=weight_decay_factor)\n",
    "        \n",
    "# Define learning rate scheduler\n",
    "lr_scheduler = torch.optim.lr_scheduler.MultiStepLR(optimizer, milestones=lr_schedule_milestones, gamma=lr_factor)"
   ]
  },
  {
   "cell_type": "markdown",
   "metadata": {},
   "source": [
    "### Afișarea loss-ului"
   ]
  },
  {
   "cell_type": "code",
   "execution_count": 20,
   "metadata": {
    "colab": {},
    "colab_type": "code",
    "id": "BeHQMMqsS9Cz"
   },
   "outputs": [],
   "source": [
    "# Function that takes a list of losses and plots them.\n",
    "REFRESH_EVERY = 1000\n",
    "\n",
    "def plot_losses(loss_list, steps, ct):\n",
    "    if ct % REFRESH_EVERY == 0:\n",
    "        display.clear_output(wait=True)\n",
    "    \n",
    "    display.display(pl.gcf())\n",
    "    pl.plot(steps, loss_list, c='b')\n",
    "    time.sleep(1.0)"
   ]
  },
  {
   "cell_type": "markdown",
   "metadata": {
    "colab_type": "text",
    "id": "JQBpZRP-TKI0"
   },
   "source": [
    "### Parametrizarea iterațiilor de antrenare, raportare și testare"
   ]
  },
  {
   "cell_type": "code",
   "execution_count": 21,
   "metadata": {
    "colab": {},
    "colab_type": "code",
    "id": "YNtIcyk7S_ub"
   },
   "outputs": [],
   "source": [
    "# Define number of training iterations and reporting intervals\n",
    "TRAIN_ITERS = 100e3  # @param\n",
    "REPORT_TRAIN_EVERY = 100  # @param\n",
    "PLOT_EVERY = 100  # @param\n",
    "REPORT_TEST_EVERY = 200  # @param\n",
    "TEST_ITERS = 100  # @param"
   ]
  },
  {
   "cell_type": "markdown",
   "metadata": {
    "colab_type": "text",
    "id": "6ARGcbSGTFDN"
   },
   "source": [
    "## 4. Antrenarea modelului"
   ]
  },
  {
   "cell_type": "code",
   "execution_count": null,
   "metadata": {
    "colab": {},
    "colab_type": "code",
    "id": "VSuV2dF-TDCD",
    "outputId": "845baf91-20b2-4a2f-927d-bd3d85d1b2d0"
   },
   "outputs": [],
   "source": [
    "# Question: What is the accuracy of the model at iteration 0, i.e. before training starts?\n",
    "\n",
    "# EPOCHS = int(TRAIN_ITERS / (TRAIN_DATASET_SIZE / BATCH_SIZE_TRAIN))\n",
    "EPOCHS = 50\n",
    "\n",
    "train_iter = 0\n",
    "losses = []\n",
    "steps = []\n",
    "\n",
    "# simulate an inifinte test data provider by looping over the test data\n",
    "test_data_provider = loopy_test_loader(test_loader)\n",
    "\n",
    "# set model in train mode\n",
    "net.train()\n",
    "\n",
    "running_loss = 0.0\n",
    "running_acc = 0.0\n",
    "ct = 0\n",
    "\n",
    "for epoch in range(int(EPOCHS)):  # loop over the dataset multiple times\n",
    "    \n",
    "    for i, data in enumerate(train_loader, 0):\n",
    "        # set the learning rate and decay according to iteration schedule\n",
    "        lr_scheduler.step()\n",
    "        \n",
    "        # get the inputs; data is a list of [inputs, labels]\n",
    "        inputs, labels = data[0].to(device), data[1].to(device)\n",
    "\n",
    "        # zero the parameter gradients\n",
    "        optimizer.zero_grad()\n",
    "\n",
    "        # forward + backward + optimize\n",
    "        outputs = net(inputs)\n",
    "        loss = criterion(outputs, labels)\n",
    "        loss.backward()\n",
    "        optimizer.step()\n",
    "\n",
    "        # print statistics\n",
    "        running_loss += loss.item()\n",
    "        running_acc += top_k_accuracy(1, labels, outputs)\n",
    "        \n",
    "        if train_iter % REPORT_TRAIN_EVERY == REPORT_TRAIN_EVERY - 1:    # print every REPORT_TRAIN_EVERY mini-batch iterations\n",
    "            train_loss = running_loss / REPORT_TRAIN_EVERY\n",
    "            train_acc = running_acc / REPORT_TRAIN_EVERY\n",
    "            \n",
    "            print('[%d, %5d, %6d] LR: %.5f' % (epoch + 1, i + 1, train_iter, lr_scheduler.get_lr()[-1]))\n",
    "            print('[%d, %5d] loss: %.5f, acc: %.5f' %\n",
    "                  (epoch + 1, i + 1, train_loss, train_acc))\n",
    "            \n",
    "            losses.append(train_loss)\n",
    "            steps.append(train_iter)\n",
    "            \n",
    "            running_loss = 0\n",
    "            train_loss = 0\n",
    "            running_acc = 0\n",
    "            train_acc = 0\n",
    "            \n",
    "            \n",
    "        if train_iter % PLOT_EVERY == 0:\n",
    "            plot_losses(losses, steps, train_iter)\n",
    "            \n",
    "        train_iter += 1\n",
    "    \n",
    "        if train_iter % REPORT_TEST_EVERY == 0:\n",
    "            # set model in test mode\n",
    "            net.eval()\n",
    "            \n",
    "            with torch.no_grad():\n",
    "                # evaluate over at most TEST_ITER sub samples from the test_loader\n",
    "                test_iter = 0\n",
    "                test_loss = 0\n",
    "                correct = 0\n",
    "                \n",
    "                while test_iter < TEST_ITERS:\n",
    "                #for j, test_data in enumerate(test_loader, start=test_ct):\n",
    "                    test_data = next(test_data_provider)\n",
    "                        \n",
    "                    # get the test inputs; data is a list of [inputs, labels]\n",
    "                    test_inputs, test_labels = test_data[0].to(device), test_data[1].to(device)\n",
    "                    \n",
    "                    out = net(test_inputs)\n",
    "                    test_loss += criterion(out, test_labels)\n",
    "                    \n",
    "                    correct += top_k_accuracy(1, test_labels, out)\n",
    "                    \n",
    "                    test_iter += 1\n",
    "                        \n",
    "                avg_test_loss = test_loss / TEST_ITERS\n",
    "                avg_acc = correct / TEST_ITERS\n",
    "                \n",
    "                print('[%d, %5d] avg_test_loss: %.5f, avg_test_acc: %.2f' \n",
    "                    % (epoch + 1, i + 1, avg_test_loss, avg_acc))\n",
    "                \n",
    "            # set model back in train mode\n",
    "            net.train()\n",
    "    \n",
    "print('Finished Training')"
   ]
  },
  {
   "cell_type": "markdown",
   "metadata": {
    "colab": {},
    "colab_type": "code",
    "id": "yHOL_pDk-XnG"
   },
   "source": [
    "## 5. Interpretarea rezultatelor - TODO 3\n",
    "**Răspundeți la următoarele întrebări:**\n",
    "\n",
    "1. care este acuratețea obținută pentru un model cu DOWNSIZE_FACTOR = 4 și normalizare EmptyNorm? (atașați printscreen sau grafic)\n",
    "2. care este acuratețea obținută pentru un model cu DOWNSIZE_FACTOR = 1 și normalizare EmptyNorm? (atașați printscreen sau grafic)\n",
    "3. care este acuratețea obținută pentru un model cu DOWNSIZE_FACTOR = 4 și normalizare BatchNorm? (atașați printscreen sau grafic)\n",
    "4. care este acuratețea obținută pentru un model cu DOWNSIZE_FACTOR = 1 și normalizare BatchNorm? (atașați printscreen sau grafic)\n",
    "5. ce se întâmplă atunci când creșteți numărul de parametrii ai modelului?\n",
    "6. care este efectul utilizării normalizării de tip BatchNorm?"
   ]
  },
  {
   "source": [
    "**Disclaimer:** Nu stiu de ce kernelul de Python crapa dupa 140-180 de epoci :(. Prin urmare, am rulat cu `DOWNSIZE_FACTOR = 4` pana a crapat. Rezultatele probabil s-ar mai fi imbunatatit daca ajungea antrenarea la 200 de epoci.\n",
    "\n",
    "1. Dupa cum se poate observa in imaginea de mai jos, acuratetea ajunge pana la 76.85% cand batch-urile sunt normate si folosind un factor de scalare de 4.\n",
    "\n",
    "![factor=4__norm=batch](plots/down-4_batch-norm.png)\n",
    "\n",
    "2. Totusi, pastrand acelasi factor de scalare si eliminand normarea, acuratetea scade pana la 59.6%, din cauza ca acum nu se mai uniformizeaza distributiile inputurilor fiecarui bloc.\n",
    "\n",
    "![factor=4__norm=empty](plots/down-4_norm-empty.png)\n",
    "\n",
    "3. Daca reducem factorul de scalare, invatarea e mai buna, din moment ce nu mai pierdem date, dar timpul de antrenare creste foarte mult, drept care nu am putut rula antrenarea decat putin peste 30 de epoci, cand acuratetea ajunge la 76.1%.\n",
    "\n",
    "![factor=1__norm=batch](plots/down-1_batch-norm.png)\n",
    "\n",
    "4. Scotand norma insa, rezultatele sunt foarte slabe. Reducerea dimensionalitatii este ea insasi o forma de normare, intrucat se concentreaza datele intr-un spatiu mai mic. Din acest motiv, acuratetea scade la 9.41%.\n",
    "\n",
    "![factor=1__norm=empty](plots/down-1_norm-empty.png)\n",
    "\n",
    "5. Un numar mai mare de parametri face ca reteaua sa invete mai bine si sa ajunga la acurateti mai mari, cu pretul folosirii a unei cantitati duble de VRAM (de la 900MB la 1800 MB) si a unor timpi de rualre mai lungi.\n",
    "\n",
    "6. BatchNorm are efectul de a creste acuratetea modelului, mentinand neschimbate distributiile inputurile fiecarui bloc."
   ],
   "cell_type": "markdown",
   "metadata": {}
  }
 ],
 "metadata": {
  "accelerator": "GPU",
  "colab": {
   "collapsed_sections": [],
   "name": "ComputerVisionPart1.ipynb",
   "provenance": []
  },
  "kernelspec": {
   "display_name": "Python 3",
   "language": "python",
   "name": "python3"
  },
  "language_info": {
   "codemirror_mode": {
    "name": "ipython",
    "version": 3
   },
   "file_extension": ".py",
   "mimetype": "text/x-python",
   "name": "python",
   "nbconvert_exporter": "python",
   "pygments_lexer": "ipython3",
   "version": "3.8.5"
  }
 },
 "nbformat": 4,
 "nbformat_minor": 1
}