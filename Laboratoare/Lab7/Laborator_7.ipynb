{
 "cells": [
  {
   "cell_type": "markdown",
   "metadata": {
    "colab_type": "text",
    "id": "view-in-github"
   },
   "source": [
    "<a href=\"https://colab.research.google.com/github/cs-pub-ro/ML/blob/master/lab/lab7/Laborator_7.ipynb\" target=\"_parent\"><img src=\"https://colab.research.google.com/assets/colab-badge.svg\" alt=\"Open In Colab\"/></a>"
   ]
  },
  {
   "cell_type": "markdown",
   "metadata": {
    "colab_type": "text",
    "id": "-RiRI3fHjjIw"
   },
   "source": [
    "# Învățare Automată\n",
    "# Învățare prin Recompensă - Algoritmul Q-learning\n",
    "### Autori:\n",
    "* Tudor Berariu - 2016\n",
    "* George Muraru - 2020"
   ]
  },
  {
   "cell_type": "markdown",
   "metadata": {
    "colab_type": "text",
    "id": "ibC7YWzdjnhW"
   },
   "source": [
    "## 1. Scopul laboratorului\n",
    "Scopul laboratorului îl reprezintă ̆întelegerea și implementarea algoritmului Q-Learning."
   ]
  },
  {
   "cell_type": "markdown",
   "metadata": {
    "colab_type": "text",
    "id": "o2LlVwPokURW"
   },
   "source": [
    "# 2. Algoritmul Q-Learning\n",
    "![Q-learning](https://github.com/cs-pub-ro/ML/blob/master/lab/lab7/img/q-learning.jpg?raw=true)"
   ]
  },
  {
   "cell_type": "markdown",
   "metadata": {
    "colab_type": "text",
    "id": "_iQkSawwqz4m"
   },
   "source": [
    "## 3. Workspace Setup\n"
   ]
  },
  {
   "cell_type": "markdown",
   "metadata": {
    "colab_type": "text",
    "id": "IGpoVQBdq2-f"
   },
   "source": [
    "### Câteva biblioteci de care vom avea nevoie"
   ]
  },
  {
   "cell_type": "code",
   "execution_count": 1,
   "metadata": {
    "colab": {},
    "colab_type": "code",
    "id": "oks9emv_sNHi"
   },
   "outputs": [],
   "source": [
    "from copy import deepcopy\n",
    "from random import choice, random\n",
    "from time import sleep\n",
    "import urllib\n",
    "\n",
    "from IPython.display import clear_output"
   ]
  },
  {
   "cell_type": "markdown",
   "metadata": {
    "colab_type": "text",
    "id": "BJjdU4Afq58O"
   },
   "source": [
    "## Parametrii necesari rulării"
   ]
  },
  {
   "cell_type": "code",
   "execution_count": 2,
   "metadata": {
    "colab": {},
    "colab_type": "code",
    "id": "rwW9HiQkxUHy"
   },
   "outputs": [],
   "source": [
    "# File to read map from\n",
    "MAP_NAME = \"mini_map\" #@param [\"mini_map\", \"big_map\", \"huge_map\"]\n",
    "\n",
    "# Meta-parameters\n",
    "\n",
    "LEARNING_RATE = 0.8 #@param {type: \"slider\", min: 0.001, max: 1.0, step: 0.01}\n",
    "DISCOUNT_FACTOR = 0.9 #@param {type: \"slider\", min: 0.01, max: 1.0, step: 0.01}\n",
    "\n",
    "# Probabilit to choose a random action\n",
    "EPSILON = 0 #@param {type: \"slider\", min: 0.0, max:1.0, step: 0.05, default: 0.05}\n",
    "\n",
    "\n",
    "# Training and evaluation episodes\n",
    "TRAIN_EPISODES = 1000 #@param {type: \"slider\", min: 1, max: 20000, default: 1000}\n",
    "\n",
    "# Evaluate after specified number of episodes\n",
    "EVAL_EVERY = 10 #@aram {type: \"slider\", min: 0, max: 1000}\n",
    "\n",
    "# Evaluate using the specified number of episodes\n",
    "EVAL_EPISODES = 10 #@param {type: \"slider\", min: 1, max: 1000}\n",
    "\n",
    "# Display\n",
    "VERBOSE = False #@param {type: \"boolean\"}\n",
    "PLOT_SCORE = True #@param {type: \"boolean\"}\n",
    "SLEEP_TIME = 1 #@param {type: \"slider\", min:1, max:10}\n",
    "\n",
    "# Show the end result\n",
    "FINAL_SHOW = False #@param {type: \"boolean\"}"
   ]
  },
  {
   "cell_type": "markdown",
   "metadata": {
    "colab_type": "text",
    "id": "HT5G9X_y1FQ6"
   },
   "source": [
    "### Clasă care abstractizează jocul"
   ]
  },
  {
   "cell_type": "code",
   "execution_count": 3,
   "metadata": {
    "colab": {},
    "colab_type": "code",
    "id": "zquu_dyV1J8J"
   },
   "outputs": [],
   "source": [
    "URL_PREFIX = \"https://raw.githubusercontent.com/cs-pub-ro/ML/master/lab/lab7/maps/\"\n",
    "\n",
    "ACTIONS = [\"UP\", \"RIGHT\", \"DOWN\", \"LEFT\", \"STAY\"]\n",
    "\n",
    "ACTION_EFFECTS = {\n",
    "    \"UP\": (-1,0),\n",
    "    \"RIGHT\": (0,1),\n",
    "    \"DOWN\": (1,0),\n",
    "    \"LEFT\": (0,-1),\n",
    "    \"STAY\": (0,0)\n",
    "}\n",
    "\n",
    "MOVE_REWARD = -0.1\n",
    "WIN_REWARD = 10.0\n",
    "LOSE_REWARD = -10.0\n",
    "\n",
    "## Functions to serialize / deserialize game states\n",
    "def __serialize_state(state):\n",
    "    return \"\\n\".join(map(lambda row: \"\".join(row), state))\n",
    "\n",
    "def __deserialize_state(str_state):\n",
    "    return list(map(list, str_state.split(\"\\n\")))\n",
    "\n",
    "## Return the initial state of the game\n",
    "def get_initial_state(map_file_name):\n",
    "    full_url = f\"{URL_PREFIX}{MAP_NAME}\"\n",
    "    state = urllib.request.urlopen(full_url).read().strip()\n",
    "\n",
    "    return state.decode(\"utf-8\")\n",
    "\n",
    "## Get the coordinates of an actor\n",
    "def __get_position(state, marker):\n",
    "    for row_idx, row in enumerate(state):\n",
    "        if marker in row:\n",
    "            return row_idx, row.index(marker)\n",
    "    return -1, -1\n",
    "\n",
    "## Check if is a final state\n",
    "def is_final_state(str_state, score):\n",
    "    return score < -20.0 or \"G\" not in str_state or \"o\" not in str_state\n",
    "\n",
    "## Check if the given coordinates are valid (on map and not a wall)\n",
    "def __is_valid_cell(state, row, col):\n",
    "    return row >= 0 and row < len(state) and \\\n",
    "        col >= 0 and col < len(state[row]) and \\\n",
    "        state[row][col] != \"*\"\n",
    "\n",
    "## Move to next state\n",
    "def apply_action(str_state, action):\n",
    "    assert(action in ACTIONS)\n",
    "    message = \"Greuceanu moved %s.\" % action\n",
    "\n",
    "    state = __deserialize_state(str_state)\n",
    "    g_row, g_col = __get_position(state, \"G\")\n",
    "    assert(g_row >= 0 and g_col >= 0)\n",
    "\n",
    "    next_g_row = g_row + ACTION_EFFECTS[action][0]\n",
    "    next_g_col = g_col + ACTION_EFFECTS[action][1]\n",
    "\n",
    "    if not __is_valid_cell(state, next_g_row, next_g_col):\n",
    "        next_g_row = g_row\n",
    "        next_g_col = g_col\n",
    "        message = f\"{message} Not a valid cell there.\"\n",
    "\n",
    "    state[g_row][g_col] = \" \"\n",
    "    if state[next_g_row][next_g_col] == \"B\":\n",
    "        message = f\"{message} Greuceanu stepped on the balaur.\"\n",
    "        return __serialize_state(state), LOSE_REWARD, message\n",
    "    elif state[next_g_row][next_g_col] == \"o\":\n",
    "        state[next_g_row][next_g_col] = \"G\"\n",
    "        message = f\"{message} Greuceanu found 'marul fermecat'.\"\n",
    "        return __serialize_state(state), WIN_REWARD, message\n",
    "    state[next_g_row][next_g_col] = \"G\"\n",
    "\n",
    "    ## Balaur moves now\n",
    "    b_row, b_col = __get_position(state, \"B\")\n",
    "    assert(b_row >= 0 and b_col >= 0)\n",
    "\n",
    "    dy, dx = next_g_row - b_row, next_g_col - b_col\n",
    "\n",
    "    is_good = lambda dr, dc:__is_valid_cell(state, b_row + dr, b_col + dc)\n",
    "\n",
    "    next_b_row, next_b_col = b_row, b_col\n",
    "    if abs(dy) > abs(dx) and is_good(dy // abs(dy), 0):\n",
    "        next_b_row = b_row + dy // abs(dy)\n",
    "    elif abs(dx) > abs(dy) and is_good(0, dx // abs(dx)):\n",
    "        next_b_col = b_col + dx // abs(dx)\n",
    "    else:\n",
    "        options = []\n",
    "        if abs(dx) > 0:\n",
    "            if is_good(0, dx // abs(dx)):\n",
    "                options.append((b_row, b_col + dx // abs(dx)))\n",
    "        else:\n",
    "            if is_good(0, -1):\n",
    "                options.append((b_row, b_col - 1))\n",
    "            if is_good(0, 1):\n",
    "                options.append((b_row, b_col + 1))\n",
    "        if abs(dy) > 0:\n",
    "            if is_good(dy // abs(dy), 0):\n",
    "                options.append((b_row + dy // abs(dy), b_col))\n",
    "        else:\n",
    "            if is_good(-1, 0):\n",
    "                options.append((b_row - 1, b_col))\n",
    "            if is_good(1, 0):\n",
    "                options.append((b_row + 1, b_col))\n",
    "\n",
    "        if len(options) > 0:\n",
    "            next_b_row, next_b_col = choice(options)\n",
    "\n",
    "    if state[next_b_row][next_b_col] == \"G\":\n",
    "        message = f\"{message} The balaur ate Greuceanu.\"\n",
    "        reward = LOSE_REWARD\n",
    "    elif state[next_b_row][next_b_col] == \"o\":\n",
    "        message = f\"{message} The balaur found marul fermecat. Greuceanu lost!\"\n",
    "        reward = LOSE_REWARD\n",
    "    else:\n",
    "        message = f\"{message} The balaur follows Greuceanu.\"\n",
    "        reward = MOVE_REWARD\n",
    "\n",
    "    state[b_row][b_col] = \" \"\n",
    "    state[next_b_row][next_b_col] = \"B\"\n",
    "\n",
    "    return __serialize_state(state), reward, message\n",
    "\n",
    "def display_state(state):\n",
    "    print(state)"
   ]
  },
  {
   "cell_type": "markdown",
   "metadata": {
    "colab_type": "text",
    "id": "6tGs4sOVqfdG"
   },
   "source": [
    "# 3. Problemă de rezolvat\n",
    "## Greuceanu și Balaurul\n",
    "Pe o hartă bidimensională se înfruntă Greuceanu și-un balaur.\n",
    "\n",
    "Greuceanu trebuie să găsească mărul fermecat înainte de a fi prins de balaur și înainte ca balaurul să calce pe măr. Balaurul simte direcția în care se află Greuceanu și se îndreaptă către el.\n",
    "\n",
    "Concret, Greuceanu **câștigă** jocul și 10 puncte dacă ajunge primul la mărul fermecat.\n",
    "\n",
    "Greuceanu **pierde** jocul dacă este prins de balaur sau dacă balaurul calcă pe măr. Deasemenea, la fiecare moment de timp Greuceanu pierde câte 0.1 puncte. \n",
    "\n",
    "Dacă **ajunge la -20 de puncte**, Greuceanu pierde jocul."
   ]
  },
  {
   "cell_type": "markdown",
   "metadata": {
    "colab_type": "text",
    "id": "KkW15QQZ1Dco"
   },
   "source": [
    "## 4. Cerințe\n",
    "1. [6 pct] Implementați algoritmul Q-learning (completași funcția **q_learning**).\n",
    "\n",
    "2. [2 pct] Implementați strategia-greedy de selecție a unei acțiuni. Funcția primește toate acțiunile valide dintr-o stare dată. Atât timp cât există acțiuni ce nu au fost explorate, se va alege aleator una dintre acestea. \n",
    "Altfel, cu o probabilitate $\\epsilon$ se va alege o acțiune aleatoare, iar cu o probabilitate 1 − $\\epsilon$ se va alege cea mai bună acțiune din starea respectivă.\n",
    "\n",
    "3. [2 pct] Implementați rutina de evaluare a politicii lacome (care alege întotdeauna cea mai bună acțiune).\n",
    "\n",
    "4. [2 pct] Găsiți metaparametrii potriviți pentru o învățare cât mai rapidă pe toate cele trei hărți (rata de învățare, valoarea lui $\\epsilon$). Încercați să modificați $\\epsilon$ pe parcursul învățarii."
   ]
  },
  {
   "cell_type": "code",
   "execution_count": 4,
   "metadata": {
    "colab": {},
    "colab_type": "code",
    "id": "pBIjvzqHL37B"
   },
   "outputs": [
    {
     "output_type": "stream",
     "name": "stdout",
     "text": [
      "Episode 1000 / 1000\n"
     ]
    },
    {
     "output_type": "display_data",
     "data": {
      "text/plain": "<Figure size 432x288 with 1 Axes>",
      "image/svg+xml": "<?xml version=\"1.0\" encoding=\"utf-8\" standalone=\"no\"?>\n<!DOCTYPE svg PUBLIC \"-//W3C//DTD SVG 1.1//EN\"\n  \"http://www.w3.org/Graphics/SVG/1.1/DTD/svg11.dtd\">\n<svg height=\"262.19625pt\" version=\"1.1\" viewBox=\"0 0 390.982812 262.19625\" width=\"390.982812pt\" xmlns=\"http://www.w3.org/2000/svg\" xmlns:xlink=\"http://www.w3.org/1999/xlink\">\n <metadata>\n  <rdf:RDF xmlns:cc=\"http://creativecommons.org/ns#\" xmlns:dc=\"http://purl.org/dc/elements/1.1/\" xmlns:rdf=\"http://www.w3.org/1999/02/22-rdf-syntax-ns#\">\n   <cc:Work>\n    <dc:type rdf:resource=\"http://purl.org/dc/dcmitype/StillImage\"/>\n    <dc:date>2021-04-17T13:54:27.920409</dc:date>\n    <dc:format>image/svg+xml</dc:format>\n    <dc:creator>\n     <cc:Agent>\n      <dc:title>Matplotlib v3.4.1, https://matplotlib.org/</dc:title>\n     </cc:Agent>\n    </dc:creator>\n   </cc:Work>\n  </rdf:RDF>\n </metadata>\n <defs>\n  <style type=\"text/css\">*{stroke-linecap:butt;stroke-linejoin:round;}</style>\n </defs>\n <g id=\"figure_1\">\n  <g id=\"patch_1\">\n   <path d=\"M 0 262.19625 \nL 390.982812 262.19625 \nL 390.982812 0 \nL 0 0 \nz\n\" style=\"fill:none;\"/>\n  </g>\n  <g id=\"axes_1\">\n   <g id=\"patch_2\">\n    <path d=\"M 48.982813 224.64 \nL 383.782813 224.64 \nL 383.782813 7.2 \nL 48.982813 7.2 \nz\n\" style=\"fill:#ffffff;\"/>\n   </g>\n   <g id=\"matplotlib.axis_1\">\n    <g id=\"xtick_1\">\n     <g id=\"line2d_1\">\n      <defs>\n       <path d=\"M 0 0 \nL 0 3.5 \n\" id=\"mcaeacfeba9\" style=\"stroke:#000000;stroke-width:0.8;\"/>\n      </defs>\n      <g>\n       <use style=\"stroke:#000000;stroke-width:0.8;\" x=\"63.896326\" xlink:href=\"#mcaeacfeba9\" y=\"224.64\"/>\n      </g>\n     </g>\n     <g id=\"text_1\">\n      <!-- 0 -->\n      <g transform=\"translate(60.715076 239.238437)scale(0.1 -0.1)\">\n       <defs>\n        <path d=\"M 2034 4250 \nQ 1547 4250 1301 3770 \nQ 1056 3291 1056 2328 \nQ 1056 1369 1301 889 \nQ 1547 409 2034 409 \nQ 2525 409 2770 889 \nQ 3016 1369 3016 2328 \nQ 3016 3291 2770 3770 \nQ 2525 4250 2034 4250 \nz\nM 2034 4750 \nQ 2819 4750 3233 4129 \nQ 3647 3509 3647 2328 \nQ 3647 1150 3233 529 \nQ 2819 -91 2034 -91 \nQ 1250 -91 836 529 \nQ 422 1150 422 2328 \nQ 422 3509 836 4129 \nQ 1250 4750 2034 4750 \nz\n\" id=\"DejaVuSans-30\" transform=\"scale(0.015625)\"/>\n       </defs>\n       <use xlink:href=\"#DejaVuSans-30\"/>\n      </g>\n     </g>\n    </g>\n    <g id=\"xtick_2\">\n     <g id=\"line2d_2\">\n      <g>\n       <use style=\"stroke:#000000;stroke-width:0.8;\" x=\"124.829987\" xlink:href=\"#mcaeacfeba9\" y=\"224.64\"/>\n      </g>\n     </g>\n     <g id=\"text_2\">\n      <!-- 200 -->\n      <g transform=\"translate(115.286237 239.238437)scale(0.1 -0.1)\">\n       <defs>\n        <path d=\"M 1228 531 \nL 3431 531 \nL 3431 0 \nL 469 0 \nL 469 531 \nQ 828 903 1448 1529 \nQ 2069 2156 2228 2338 \nQ 2531 2678 2651 2914 \nQ 2772 3150 2772 3378 \nQ 2772 3750 2511 3984 \nQ 2250 4219 1831 4219 \nQ 1534 4219 1204 4116 \nQ 875 4013 500 3803 \nL 500 4441 \nQ 881 4594 1212 4672 \nQ 1544 4750 1819 4750 \nQ 2544 4750 2975 4387 \nQ 3406 4025 3406 3419 \nQ 3406 3131 3298 2873 \nQ 3191 2616 2906 2266 \nQ 2828 2175 2409 1742 \nQ 1991 1309 1228 531 \nz\n\" id=\"DejaVuSans-32\" transform=\"scale(0.015625)\"/>\n       </defs>\n       <use xlink:href=\"#DejaVuSans-32\"/>\n       <use x=\"63.623047\" xlink:href=\"#DejaVuSans-30\"/>\n       <use x=\"127.246094\" xlink:href=\"#DejaVuSans-30\"/>\n      </g>\n     </g>\n    </g>\n    <g id=\"xtick_3\">\n     <g id=\"line2d_3\">\n      <g>\n       <use style=\"stroke:#000000;stroke-width:0.8;\" x=\"185.763648\" xlink:href=\"#mcaeacfeba9\" y=\"224.64\"/>\n      </g>\n     </g>\n     <g id=\"text_3\">\n      <!-- 400 -->\n      <g transform=\"translate(176.219898 239.238437)scale(0.1 -0.1)\">\n       <defs>\n        <path d=\"M 2419 4116 \nL 825 1625 \nL 2419 1625 \nL 2419 4116 \nz\nM 2253 4666 \nL 3047 4666 \nL 3047 1625 \nL 3713 1625 \nL 3713 1100 \nL 3047 1100 \nL 3047 0 \nL 2419 0 \nL 2419 1100 \nL 313 1100 \nL 313 1709 \nL 2253 4666 \nz\n\" id=\"DejaVuSans-34\" transform=\"scale(0.015625)\"/>\n       </defs>\n       <use xlink:href=\"#DejaVuSans-34\"/>\n       <use x=\"63.623047\" xlink:href=\"#DejaVuSans-30\"/>\n       <use x=\"127.246094\" xlink:href=\"#DejaVuSans-30\"/>\n      </g>\n     </g>\n    </g>\n    <g id=\"xtick_4\">\n     <g id=\"line2d_4\">\n      <g>\n       <use style=\"stroke:#000000;stroke-width:0.8;\" x=\"246.697309\" xlink:href=\"#mcaeacfeba9\" y=\"224.64\"/>\n      </g>\n     </g>\n     <g id=\"text_4\">\n      <!-- 600 -->\n      <g transform=\"translate(237.153559 239.238437)scale(0.1 -0.1)\">\n       <defs>\n        <path d=\"M 2113 2584 \nQ 1688 2584 1439 2293 \nQ 1191 2003 1191 1497 \nQ 1191 994 1439 701 \nQ 1688 409 2113 409 \nQ 2538 409 2786 701 \nQ 3034 994 3034 1497 \nQ 3034 2003 2786 2293 \nQ 2538 2584 2113 2584 \nz\nM 3366 4563 \nL 3366 3988 \nQ 3128 4100 2886 4159 \nQ 2644 4219 2406 4219 \nQ 1781 4219 1451 3797 \nQ 1122 3375 1075 2522 \nQ 1259 2794 1537 2939 \nQ 1816 3084 2150 3084 \nQ 2853 3084 3261 2657 \nQ 3669 2231 3669 1497 \nQ 3669 778 3244 343 \nQ 2819 -91 2113 -91 \nQ 1303 -91 875 529 \nQ 447 1150 447 2328 \nQ 447 3434 972 4092 \nQ 1497 4750 2381 4750 \nQ 2619 4750 2861 4703 \nQ 3103 4656 3366 4563 \nz\n\" id=\"DejaVuSans-36\" transform=\"scale(0.015625)\"/>\n       </defs>\n       <use xlink:href=\"#DejaVuSans-36\"/>\n       <use x=\"63.623047\" xlink:href=\"#DejaVuSans-30\"/>\n       <use x=\"127.246094\" xlink:href=\"#DejaVuSans-30\"/>\n      </g>\n     </g>\n    </g>\n    <g id=\"xtick_5\">\n     <g id=\"line2d_5\">\n      <g>\n       <use style=\"stroke:#000000;stroke-width:0.8;\" x=\"307.63097\" xlink:href=\"#mcaeacfeba9\" y=\"224.64\"/>\n      </g>\n     </g>\n     <g id=\"text_5\">\n      <!-- 800 -->\n      <g transform=\"translate(298.08722 239.238437)scale(0.1 -0.1)\">\n       <defs>\n        <path d=\"M 2034 2216 \nQ 1584 2216 1326 1975 \nQ 1069 1734 1069 1313 \nQ 1069 891 1326 650 \nQ 1584 409 2034 409 \nQ 2484 409 2743 651 \nQ 3003 894 3003 1313 \nQ 3003 1734 2745 1975 \nQ 2488 2216 2034 2216 \nz\nM 1403 2484 \nQ 997 2584 770 2862 \nQ 544 3141 544 3541 \nQ 544 4100 942 4425 \nQ 1341 4750 2034 4750 \nQ 2731 4750 3128 4425 \nQ 3525 4100 3525 3541 \nQ 3525 3141 3298 2862 \nQ 3072 2584 2669 2484 \nQ 3125 2378 3379 2068 \nQ 3634 1759 3634 1313 \nQ 3634 634 3220 271 \nQ 2806 -91 2034 -91 \nQ 1263 -91 848 271 \nQ 434 634 434 1313 \nQ 434 1759 690 2068 \nQ 947 2378 1403 2484 \nz\nM 1172 3481 \nQ 1172 3119 1398 2916 \nQ 1625 2713 2034 2713 \nQ 2441 2713 2670 2916 \nQ 2900 3119 2900 3481 \nQ 2900 3844 2670 4047 \nQ 2441 4250 2034 4250 \nQ 1625 4250 1398 4047 \nQ 1172 3844 1172 3481 \nz\n\" id=\"DejaVuSans-38\" transform=\"scale(0.015625)\"/>\n       </defs>\n       <use xlink:href=\"#DejaVuSans-38\"/>\n       <use x=\"63.623047\" xlink:href=\"#DejaVuSans-30\"/>\n       <use x=\"127.246094\" xlink:href=\"#DejaVuSans-30\"/>\n      </g>\n     </g>\n    </g>\n    <g id=\"xtick_6\">\n     <g id=\"line2d_6\">\n      <g>\n       <use style=\"stroke:#000000;stroke-width:0.8;\" x=\"368.564631\" xlink:href=\"#mcaeacfeba9\" y=\"224.64\"/>\n      </g>\n     </g>\n     <g id=\"text_6\">\n      <!-- 1000 -->\n      <g transform=\"translate(355.839631 239.238437)scale(0.1 -0.1)\">\n       <defs>\n        <path d=\"M 794 531 \nL 1825 531 \nL 1825 4091 \nL 703 3866 \nL 703 4441 \nL 1819 4666 \nL 2450 4666 \nL 2450 531 \nL 3481 531 \nL 3481 0 \nL 794 0 \nL 794 531 \nz\n\" id=\"DejaVuSans-31\" transform=\"scale(0.015625)\"/>\n       </defs>\n       <use xlink:href=\"#DejaVuSans-31\"/>\n       <use x=\"63.623047\" xlink:href=\"#DejaVuSans-30\"/>\n       <use x=\"127.246094\" xlink:href=\"#DejaVuSans-30\"/>\n       <use x=\"190.869141\" xlink:href=\"#DejaVuSans-30\"/>\n      </g>\n     </g>\n    </g>\n    <g id=\"text_7\">\n     <!-- Episode -->\n     <g transform=\"translate(196.745313 252.916562)scale(0.1 -0.1)\">\n      <defs>\n       <path d=\"M 628 4666 \nL 3578 4666 \nL 3578 4134 \nL 1259 4134 \nL 1259 2753 \nL 3481 2753 \nL 3481 2222 \nL 1259 2222 \nL 1259 531 \nL 3634 531 \nL 3634 0 \nL 628 0 \nL 628 4666 \nz\n\" id=\"DejaVuSans-45\" transform=\"scale(0.015625)\"/>\n       <path d=\"M 1159 525 \nL 1159 -1331 \nL 581 -1331 \nL 581 3500 \nL 1159 3500 \nL 1159 2969 \nQ 1341 3281 1617 3432 \nQ 1894 3584 2278 3584 \nQ 2916 3584 3314 3078 \nQ 3713 2572 3713 1747 \nQ 3713 922 3314 415 \nQ 2916 -91 2278 -91 \nQ 1894 -91 1617 61 \nQ 1341 213 1159 525 \nz\nM 3116 1747 \nQ 3116 2381 2855 2742 \nQ 2594 3103 2138 3103 \nQ 1681 3103 1420 2742 \nQ 1159 2381 1159 1747 \nQ 1159 1113 1420 752 \nQ 1681 391 2138 391 \nQ 2594 391 2855 752 \nQ 3116 1113 3116 1747 \nz\n\" id=\"DejaVuSans-70\" transform=\"scale(0.015625)\"/>\n       <path d=\"M 603 3500 \nL 1178 3500 \nL 1178 0 \nL 603 0 \nL 603 3500 \nz\nM 603 4863 \nL 1178 4863 \nL 1178 4134 \nL 603 4134 \nL 603 4863 \nz\n\" id=\"DejaVuSans-69\" transform=\"scale(0.015625)\"/>\n       <path d=\"M 2834 3397 \nL 2834 2853 \nQ 2591 2978 2328 3040 \nQ 2066 3103 1784 3103 \nQ 1356 3103 1142 2972 \nQ 928 2841 928 2578 \nQ 928 2378 1081 2264 \nQ 1234 2150 1697 2047 \nL 1894 2003 \nQ 2506 1872 2764 1633 \nQ 3022 1394 3022 966 \nQ 3022 478 2636 193 \nQ 2250 -91 1575 -91 \nQ 1294 -91 989 -36 \nQ 684 19 347 128 \nL 347 722 \nQ 666 556 975 473 \nQ 1284 391 1588 391 \nQ 1994 391 2212 530 \nQ 2431 669 2431 922 \nQ 2431 1156 2273 1281 \nQ 2116 1406 1581 1522 \nL 1381 1569 \nQ 847 1681 609 1914 \nQ 372 2147 372 2553 \nQ 372 3047 722 3315 \nQ 1072 3584 1716 3584 \nQ 2034 3584 2315 3537 \nQ 2597 3491 2834 3397 \nz\n\" id=\"DejaVuSans-73\" transform=\"scale(0.015625)\"/>\n       <path d=\"M 1959 3097 \nQ 1497 3097 1228 2736 \nQ 959 2375 959 1747 \nQ 959 1119 1226 758 \nQ 1494 397 1959 397 \nQ 2419 397 2687 759 \nQ 2956 1122 2956 1747 \nQ 2956 2369 2687 2733 \nQ 2419 3097 1959 3097 \nz\nM 1959 3584 \nQ 2709 3584 3137 3096 \nQ 3566 2609 3566 1747 \nQ 3566 888 3137 398 \nQ 2709 -91 1959 -91 \nQ 1206 -91 779 398 \nQ 353 888 353 1747 \nQ 353 2609 779 3096 \nQ 1206 3584 1959 3584 \nz\n\" id=\"DejaVuSans-6f\" transform=\"scale(0.015625)\"/>\n       <path d=\"M 2906 2969 \nL 2906 4863 \nL 3481 4863 \nL 3481 0 \nL 2906 0 \nL 2906 525 \nQ 2725 213 2448 61 \nQ 2172 -91 1784 -91 \nQ 1150 -91 751 415 \nQ 353 922 353 1747 \nQ 353 2572 751 3078 \nQ 1150 3584 1784 3584 \nQ 2172 3584 2448 3432 \nQ 2725 3281 2906 2969 \nz\nM 947 1747 \nQ 947 1113 1208 752 \nQ 1469 391 1925 391 \nQ 2381 391 2643 752 \nQ 2906 1113 2906 1747 \nQ 2906 2381 2643 2742 \nQ 2381 3103 1925 3103 \nQ 1469 3103 1208 2742 \nQ 947 2381 947 1747 \nz\n\" id=\"DejaVuSans-64\" transform=\"scale(0.015625)\"/>\n       <path d=\"M 3597 1894 \nL 3597 1613 \nL 953 1613 \nQ 991 1019 1311 708 \nQ 1631 397 2203 397 \nQ 2534 397 2845 478 \nQ 3156 559 3463 722 \nL 3463 178 \nQ 3153 47 2828 -22 \nQ 2503 -91 2169 -91 \nQ 1331 -91 842 396 \nQ 353 884 353 1716 \nQ 353 2575 817 3079 \nQ 1281 3584 2069 3584 \nQ 2775 3584 3186 3129 \nQ 3597 2675 3597 1894 \nz\nM 3022 2063 \nQ 3016 2534 2758 2815 \nQ 2500 3097 2075 3097 \nQ 1594 3097 1305 2825 \nQ 1016 2553 972 2059 \nL 3022 2063 \nz\n\" id=\"DejaVuSans-65\" transform=\"scale(0.015625)\"/>\n      </defs>\n      <use xlink:href=\"#DejaVuSans-45\"/>\n      <use x=\"63.183594\" xlink:href=\"#DejaVuSans-70\"/>\n      <use x=\"126.660156\" xlink:href=\"#DejaVuSans-69\"/>\n      <use x=\"154.443359\" xlink:href=\"#DejaVuSans-73\"/>\n      <use x=\"206.542969\" xlink:href=\"#DejaVuSans-6f\"/>\n      <use x=\"267.724609\" xlink:href=\"#DejaVuSans-64\"/>\n      <use x=\"331.201172\" xlink:href=\"#DejaVuSans-65\"/>\n     </g>\n    </g>\n   </g>\n   <g id=\"matplotlib.axis_2\">\n    <g id=\"ytick_1\">\n     <g id=\"line2d_7\">\n      <defs>\n       <path d=\"M 0 0 \nL -3.5 0 \n\" id=\"m7619668327\" style=\"stroke:#000000;stroke-width:0.8;\"/>\n      </defs>\n      <g>\n       <use style=\"stroke:#000000;stroke-width:0.8;\" x=\"48.982813\" xlink:href=\"#m7619668327\" y=\"183.054134\"/>\n      </g>\n     </g>\n     <g id=\"text_8\">\n      <!-- −10 -->\n      <g transform=\"translate(20.878125 186.853353)scale(0.1 -0.1)\">\n       <defs>\n        <path d=\"M 678 2272 \nL 4684 2272 \nL 4684 1741 \nL 678 1741 \nL 678 2272 \nz\n\" id=\"DejaVuSans-2212\" transform=\"scale(0.015625)\"/>\n       </defs>\n       <use xlink:href=\"#DejaVuSans-2212\"/>\n       <use x=\"83.789062\" xlink:href=\"#DejaVuSans-31\"/>\n       <use x=\"147.412109\" xlink:href=\"#DejaVuSans-30\"/>\n      </g>\n     </g>\n    </g>\n    <g id=\"ytick_2\">\n     <g id=\"line2d_8\">\n      <g>\n       <use style=\"stroke:#000000;stroke-width:0.8;\" x=\"48.982813\" xlink:href=\"#m7619668327\" y=\"136.433208\"/>\n      </g>\n     </g>\n     <g id=\"text_9\">\n      <!-- −5 -->\n      <g transform=\"translate(27.240625 140.232426)scale(0.1 -0.1)\">\n       <defs>\n        <path d=\"M 691 4666 \nL 3169 4666 \nL 3169 4134 \nL 1269 4134 \nL 1269 2991 \nQ 1406 3038 1543 3061 \nQ 1681 3084 1819 3084 \nQ 2600 3084 3056 2656 \nQ 3513 2228 3513 1497 \nQ 3513 744 3044 326 \nQ 2575 -91 1722 -91 \nQ 1428 -91 1123 -41 \nQ 819 9 494 109 \nL 494 744 \nQ 775 591 1075 516 \nQ 1375 441 1709 441 \nQ 2250 441 2565 725 \nQ 2881 1009 2881 1497 \nQ 2881 1984 2565 2268 \nQ 2250 2553 1709 2553 \nQ 1456 2553 1204 2497 \nQ 953 2441 691 2322 \nL 691 4666 \nz\n\" id=\"DejaVuSans-35\" transform=\"scale(0.015625)\"/>\n       </defs>\n       <use xlink:href=\"#DejaVuSans-2212\"/>\n       <use x=\"83.789062\" xlink:href=\"#DejaVuSans-35\"/>\n      </g>\n     </g>\n    </g>\n    <g id=\"ytick_3\">\n     <g id=\"line2d_9\">\n      <g>\n       <use style=\"stroke:#000000;stroke-width:0.8;\" x=\"48.982813\" xlink:href=\"#m7619668327\" y=\"89.812281\"/>\n      </g>\n     </g>\n     <g id=\"text_10\">\n      <!-- 0 -->\n      <g transform=\"translate(35.620312 93.6115)scale(0.1 -0.1)\">\n       <use xlink:href=\"#DejaVuSans-30\"/>\n      </g>\n     </g>\n    </g>\n    <g id=\"ytick_4\">\n     <g id=\"line2d_10\">\n      <g>\n       <use style=\"stroke:#000000;stroke-width:0.8;\" x=\"48.982813\" xlink:href=\"#m7619668327\" y=\"43.191355\"/>\n      </g>\n     </g>\n     <g id=\"text_11\">\n      <!-- 5 -->\n      <g transform=\"translate(35.620312 46.990574)scale(0.1 -0.1)\">\n       <use xlink:href=\"#DejaVuSans-35\"/>\n      </g>\n     </g>\n    </g>\n    <g id=\"text_12\">\n     <!-- Average score -->\n     <g transform=\"translate(14.798437 151.474687)rotate(-90)scale(0.1 -0.1)\">\n      <defs>\n       <path d=\"M 2188 4044 \nL 1331 1722 \nL 3047 1722 \nL 2188 4044 \nz\nM 1831 4666 \nL 2547 4666 \nL 4325 0 \nL 3669 0 \nL 3244 1197 \nL 1141 1197 \nL 716 0 \nL 50 0 \nL 1831 4666 \nz\n\" id=\"DejaVuSans-41\" transform=\"scale(0.015625)\"/>\n       <path d=\"M 191 3500 \nL 800 3500 \nL 1894 563 \nL 2988 3500 \nL 3597 3500 \nL 2284 0 \nL 1503 0 \nL 191 3500 \nz\n\" id=\"DejaVuSans-76\" transform=\"scale(0.015625)\"/>\n       <path d=\"M 2631 2963 \nQ 2534 3019 2420 3045 \nQ 2306 3072 2169 3072 \nQ 1681 3072 1420 2755 \nQ 1159 2438 1159 1844 \nL 1159 0 \nL 581 0 \nL 581 3500 \nL 1159 3500 \nL 1159 2956 \nQ 1341 3275 1631 3429 \nQ 1922 3584 2338 3584 \nQ 2397 3584 2469 3576 \nQ 2541 3569 2628 3553 \nL 2631 2963 \nz\n\" id=\"DejaVuSans-72\" transform=\"scale(0.015625)\"/>\n       <path d=\"M 2194 1759 \nQ 1497 1759 1228 1600 \nQ 959 1441 959 1056 \nQ 959 750 1161 570 \nQ 1363 391 1709 391 \nQ 2188 391 2477 730 \nQ 2766 1069 2766 1631 \nL 2766 1759 \nL 2194 1759 \nz\nM 3341 1997 \nL 3341 0 \nL 2766 0 \nL 2766 531 \nQ 2569 213 2275 61 \nQ 1981 -91 1556 -91 \nQ 1019 -91 701 211 \nQ 384 513 384 1019 \nQ 384 1609 779 1909 \nQ 1175 2209 1959 2209 \nL 2766 2209 \nL 2766 2266 \nQ 2766 2663 2505 2880 \nQ 2244 3097 1772 3097 \nQ 1472 3097 1187 3025 \nQ 903 2953 641 2809 \nL 641 3341 \nQ 956 3463 1253 3523 \nQ 1550 3584 1831 3584 \nQ 2591 3584 2966 3190 \nQ 3341 2797 3341 1997 \nz\n\" id=\"DejaVuSans-61\" transform=\"scale(0.015625)\"/>\n       <path d=\"M 2906 1791 \nQ 2906 2416 2648 2759 \nQ 2391 3103 1925 3103 \nQ 1463 3103 1205 2759 \nQ 947 2416 947 1791 \nQ 947 1169 1205 825 \nQ 1463 481 1925 481 \nQ 2391 481 2648 825 \nQ 2906 1169 2906 1791 \nz\nM 3481 434 \nQ 3481 -459 3084 -895 \nQ 2688 -1331 1869 -1331 \nQ 1566 -1331 1297 -1286 \nQ 1028 -1241 775 -1147 \nL 775 -588 \nQ 1028 -725 1275 -790 \nQ 1522 -856 1778 -856 \nQ 2344 -856 2625 -561 \nQ 2906 -266 2906 331 \nL 2906 616 \nQ 2728 306 2450 153 \nQ 2172 0 1784 0 \nQ 1141 0 747 490 \nQ 353 981 353 1791 \nQ 353 2603 747 3093 \nQ 1141 3584 1784 3584 \nQ 2172 3584 2450 3431 \nQ 2728 3278 2906 2969 \nL 2906 3500 \nL 3481 3500 \nL 3481 434 \nz\n\" id=\"DejaVuSans-67\" transform=\"scale(0.015625)\"/>\n       <path id=\"DejaVuSans-20\" transform=\"scale(0.015625)\"/>\n       <path d=\"M 3122 3366 \nL 3122 2828 \nQ 2878 2963 2633 3030 \nQ 2388 3097 2138 3097 \nQ 1578 3097 1268 2742 \nQ 959 2388 959 1747 \nQ 959 1106 1268 751 \nQ 1578 397 2138 397 \nQ 2388 397 2633 464 \nQ 2878 531 3122 666 \nL 3122 134 \nQ 2881 22 2623 -34 \nQ 2366 -91 2075 -91 \nQ 1284 -91 818 406 \nQ 353 903 353 1747 \nQ 353 2603 823 3093 \nQ 1294 3584 2113 3584 \nQ 2378 3584 2631 3529 \nQ 2884 3475 3122 3366 \nz\n\" id=\"DejaVuSans-63\" transform=\"scale(0.015625)\"/>\n      </defs>\n      <use xlink:href=\"#DejaVuSans-41\"/>\n      <use x=\"62.533203\" xlink:href=\"#DejaVuSans-76\"/>\n      <use x=\"121.712891\" xlink:href=\"#DejaVuSans-65\"/>\n      <use x=\"183.236328\" xlink:href=\"#DejaVuSans-72\"/>\n      <use x=\"224.349609\" xlink:href=\"#DejaVuSans-61\"/>\n      <use x=\"285.628906\" xlink:href=\"#DejaVuSans-67\"/>\n      <use x=\"349.105469\" xlink:href=\"#DejaVuSans-65\"/>\n      <use x=\"410.628906\" xlink:href=\"#DejaVuSans-20\"/>\n      <use x=\"442.416016\" xlink:href=\"#DejaVuSans-73\"/>\n      <use x=\"494.515625\" xlink:href=\"#DejaVuSans-63\"/>\n      <use x=\"549.496094\" xlink:href=\"#DejaVuSans-6f\"/>\n      <use x=\"610.677734\" xlink:href=\"#DejaVuSans-72\"/>\n      <use x=\"649.541016\" xlink:href=\"#DejaVuSans-65\"/>\n     </g>\n    </g>\n   </g>\n   <g id=\"line2d_11\">\n    <path clip-path=\"url(#pcd7b044b1a)\" d=\"M 64.200994 151.724871 \nL 64.810331 196.107993 \nL 65.114999 190.699966 \nL 65.419668 193.124254 \nL 65.724336 193.124254 \nL 66.029004 194.243156 \nL 66.333672 189.767547 \nL 66.638341 192.564803 \nL 66.943009 192.191835 \nL 67.247677 195.175575 \nL 67.552346 194.243156 \nL 67.857014 194.243156 \nL 68.161682 193.497221 \nL 68.466351 194.243156 \nL 68.771019 193.497221 \nL 69.075687 193.497221 \nL 69.380355 198.159314 \nL 69.685024 199.4647 \nL 70.29436 200.397118 \nL 70.599029 200.024151 \nL 70.903697 197.97283 \nL 71.208365 199.091732 \nL 71.513034 197.786346 \nL 71.817702 197.599863 \nL 72.427039 198.345798 \nL 72.731707 196.107993 \nL 73.036375 164.592247 \nL 73.341043 165.897633 \nL 73.645712 165.711149 \nL 73.95038 165.338182 \nL 74.255048 165.338182 \nL 74.559717 197.599863 \nL 74.864385 195.735026 \nL 75.169053 196.294477 \nL 75.77839 195.548542 \nL 76.083058 194.802607 \nL 76.387727 195.921509 \nL 76.692395 194.802607 \nL 77.301731 196.853928 \nL 77.911068 213.264494 \nL 78.215736 213.450978 \nL 78.520405 213.450978 \nL 78.825073 212.332075 \nL 79.129741 206.924048 \nL 79.43441 199.091732 \nL 79.739078 203.00789 \nL 80.043746 203.567341 \nL 80.348414 207.297015 \nL 80.653083 203.194374 \nL 80.957751 204.126792 \nL 81.262419 200.024151 \nL 81.567088 199.091732 \nL 81.871756 197.413379 \nL 82.176424 201.143053 \nL 82.481093 200.956569 \nL 82.785761 201.888988 \nL 83.090429 201.516021 \nL 83.395098 200.024151 \nL 83.699766 197.786346 \nL 84.004434 198.345798 \nL 84.309102 199.278216 \nL 84.613771 198.532281 \nL 85.223107 200.583602 \nL 85.832444 197.97283 \nL 86.441781 199.651184 \nL 86.746449 199.091732 \nL 87.051117 199.4647 \nL 87.355785 203.940309 \nL 87.660454 205.618662 \nL 87.965122 205.059211 \nL 88.26979 212.891527 \nL 88.574459 213.637461 \nL 88.879127 210.653722 \nL 89.488464 207.297015 \nL 90.0978 211.213173 \nL 90.402469 211.586141 \nL 90.707137 212.891527 \nL 91.011805 214.756364 \nL 91.316473 202.634923 \nL 91.621142 204.872727 \nL 91.92581 204.872727 \nL 92.535147 203.753825 \nL 92.839815 206.551081 \nL 93.144483 203.380858 \nL 93.449152 206.737564 \nL 93.75382 204.872727 \nL 94.363156 203.194374 \nL 94.667825 203.380858 \nL 94.972493 210.840206 \nL 95.58183 213.823945 \nL 95.886498 211.772624 \nL 96.191166 211.772624 \nL 96.495835 201.516021 \nL 96.800503 201.143053 \nL 97.105171 201.329537 \nL 97.40984 202.634923 \nL 98.019176 196.667444 \nL 98.323844 197.413379 \nL 98.628513 195.921509 \nL 98.933181 196.107993 \nL 99.542518 200.210635 \nL 99.847186 201.143053 \nL 100.151854 199.4647 \nL 100.456523 200.956569 \nL 100.761191 200.956569 \nL 101.065859 200.770086 \nL 101.370527 199.837667 \nL 101.675196 203.00789 \nL 101.979864 201.702504 \nL 102.284532 201.329537 \nL 102.589201 202.821407 \nL 102.893869 211.213173 \nL 103.198537 211.772624 \nL 103.503206 213.264494 \nL 103.807874 212.705043 \nL 104.112542 211.586141 \nL 104.417211 204.686244 \nL 104.721879 204.49976 \nL 105.026547 204.686244 \nL 105.331215 206.364597 \nL 105.635884 210.094271 \nL 105.940552 208.788885 \nL 106.24522 209.161852 \nL 106.549889 209.348336 \nL 106.854557 212.145592 \nL 107.159225 208.415918 \nL 107.463894 208.602401 \nL 107.768562 208.415918 \nL 108.07323 206.924048 \nL 108.377898 202.634923 \nL 108.682567 202.634923 \nL 108.987235 202.261955 \nL 109.291903 200.770086 \nL 109.596572 205.805146 \nL 109.90124 207.856467 \nL 110.205908 172.051595 \nL 110.510577 172.424563 \nL 110.815245 174.475883 \nL 111.119913 170.000274 \nL 111.424582 170.186758 \nL 111.72925 170.186758 \nL 112.033918 170.373242 \nL 112.338586 168.881372 \nL 112.643255 168.881372 \nL 112.947923 167.016535 \nL 113.252591 203.940309 \nL 113.55726 203.940309 \nL 114.471265 95.593276 \nL 114.775933 94.660858 \nL 115.080601 58.669503 \nL 115.38527 92.423053 \nL 115.689938 93.914923 \nL 116.299274 93.914923 \nL 116.603943 97.644597 \nL 116.908611 99.882401 \nL 117.213279 104.730978 \nL 117.517948 104.730978 \nL 117.822616 107.714717 \nL 118.127284 145.197942 \nL 118.431953 109.579554 \nL 118.736621 102.120206 \nL 119.041289 138.111561 \nL 119.345957 99.136467 \nL 119.650626 94.101407 \nL 119.955294 93.728439 \nL 120.259962 128.414408 \nL 120.564631 92.423053 \nL 120.869299 125.99012 \nL 121.173967 89.812281 \nL 121.478636 88.693379 \nL 121.783304 56.245214 \nL 122.087972 92.050086 \nL 122.392641 94.101407 \nL 122.697309 92.982504 \nL 123.001977 92.982504 \nL 123.306645 91.863602 \nL 123.611314 92.609537 \nL 123.915982 55.872247 \nL 124.525319 128.414408 \nL 124.829987 127.295506 \nL 125.134655 89.625798 \nL 125.439324 90.7447 \nL 126.04866 18.202539 \nL 126.353328 18.202539 \nL 126.657997 20.81331 \nL 126.962665 19.694408 \nL 127.267333 20.81331 \nL 127.572002 58.110051 \nL 127.87667 58.110051 \nL 128.181338 59.974889 \nL 128.790675 59.974889 \nL 129.095343 23.79705 \nL 129.400012 60.161372 \nL 129.70468 55.685763 \nL 130.314016 55.685763 \nL 130.618685 54.566861 \nL 130.923353 18.202539 \nL 131.228021 18.202539 \nL 131.53269 19.321441 \nL 131.837358 18.202539 \nL 132.446695 20.440343 \nL 132.751363 20.440343 \nL 133.056031 56.804666 \nL 133.360699 56.804666 \nL 133.665368 95.77976 \nL 134.274704 95.77976 \nL 134.579373 58.296535 \nL 134.884041 59.415437 \nL 135.188709 19.321441 \nL 135.493378 18.202539 \nL 135.798046 18.202539 \nL 136.102714 19.321441 \nL 136.407383 18.202539 \nL 136.712051 19.321441 \nL 137.016719 19.694408 \nL 137.321387 20.81331 \nL 137.626056 58.296535 \nL 137.930724 58.296535 \nL 138.235392 57.177633 \nL 138.540061 56.804666 \nL 138.844729 59.04247 \nL 139.149397 57.177633 \nL 139.454066 58.296535 \nL 140.063402 58.296535 \nL 140.36807 54.939828 \nL 140.672739 18.202539 \nL 140.977407 17.083636 \nL 141.282075 18.202539 \nL 141.586744 18.202539 \nL 141.891412 18.948473 \nL 143.110085 18.948473 \nL 143.414754 18.202539 \nL 144.02409 20.440343 \nL 144.328758 24.170017 \nL 144.633427 24.170017 \nL 144.938095 62.772144 \nL 145.242763 65.009949 \nL 145.547432 65.009949 \nL 145.8521 61.280274 \nL 146.156768 61.280274 \nL 146.461437 23.79705 \nL 146.766105 20.440343 \nL 147.375441 18.202539 \nL 147.68011 18.202539 \nL 147.984778 17.083636 \nL 148.289446 17.083636 \nL 148.594115 18.202539 \nL 149.812788 18.202539 \nL 150.117456 17.083636 \nL 367.955294 17.083636 \nL 368.564631 46.175094 \nL 368.564631 46.175094 \n\" style=\"fill:none;stroke:#0000ff;stroke-linecap:square;\"/>\n   </g>\n   <g id=\"line2d_12\">\n    <path clip-path=\"url(#pcd7b044b1a)\" d=\"M 66.943009 89.812281 \nL 69.989692 89.812281 \nL 73.036375 89.812281 \nL 76.083058 89.812281 \nL 79.129741 89.812281 \nL 82.176424 89.812281 \nL 85.223107 89.812281 \nL 88.26979 89.812281 \nL 91.316473 89.812281 \nL 94.363156 89.812281 \nL 97.40984 89.812281 \nL 100.456523 89.812281 \nL 103.503206 89.812281 \nL 106.549889 89.812281 \nL 109.596572 89.812281 \nL 112.643255 89.812281 \nL 115.689938 89.812281 \nL 118.736621 89.812281 \nL 121.783304 89.812281 \nL 124.829987 89.812281 \nL 127.87667 89.812281 \nL 130.923353 89.812281 \nL 133.970036 89.812281 \nL 137.016719 89.812281 \nL 140.063402 89.812281 \nL 143.110085 89.812281 \nL 146.156768 89.812281 \nL 149.203451 89.812281 \nL 152.250134 89.812281 \nL 155.296817 89.812281 \nL 158.3435 89.812281 \nL 161.390184 89.812281 \nL 164.436867 89.812281 \nL 167.48355 89.812281 \nL 170.530233 89.812281 \nL 173.576916 89.812281 \nL 176.623599 89.812281 \nL 179.670282 89.812281 \nL 182.716965 89.812281 \nL 185.763648 89.812281 \nL 188.810331 89.812281 \nL 191.857014 89.812281 \nL 194.903697 89.812281 \nL 197.95038 89.812281 \nL 200.997063 89.812281 \nL 204.043746 89.812281 \nL 207.090429 89.812281 \nL 210.137112 89.812281 \nL 213.183795 89.812281 \nL 216.230478 89.812281 \nL 219.277161 89.812281 \nL 222.323844 89.812281 \nL 225.370527 89.812281 \nL 228.417211 89.812281 \nL 231.463894 89.812281 \nL 234.510577 89.812281 \nL 237.55726 89.812281 \nL 240.603943 89.812281 \nL 243.650626 89.812281 \nL 246.697309 89.812281 \nL 249.743992 89.812281 \nL 252.790675 89.812281 \nL 255.837358 89.812281 \nL 258.884041 89.812281 \nL 261.930724 89.812281 \nL 264.977407 89.812281 \nL 268.02409 89.812281 \nL 271.070773 89.812281 \nL 274.117456 89.812281 \nL 277.164139 89.812281 \nL 280.210822 89.812281 \nL 283.257505 89.812281 \nL 286.304188 89.812281 \nL 289.350871 89.812281 \nL 292.397555 89.812281 \nL 295.444238 89.812281 \nL 298.490921 89.812281 \nL 301.537604 89.812281 \nL 304.584287 89.812281 \nL 307.63097 89.812281 \nL 310.677653 89.812281 \nL 313.724336 89.812281 \nL 316.771019 89.812281 \nL 319.817702 89.812281 \nL 322.864385 89.812281 \nL 325.911068 89.812281 \nL 328.957751 89.812281 \nL 332.004434 89.812281 \nL 335.051117 89.812281 \nL 338.0978 89.812281 \nL 341.144483 89.812281 \nL 344.191166 89.812281 \nL 347.237849 89.812281 \nL 350.284532 89.812281 \nL 353.331215 89.812281 \nL 356.377898 89.812281 \nL 359.424582 89.812281 \nL 362.471265 89.812281 \nL 365.517948 89.812281 \nL 368.564631 89.812281 \n\" style=\"fill:none;stroke:#ff0000;stroke-linecap:square;stroke-width:2;\"/>\n   </g>\n   <g id=\"patch_3\">\n    <path d=\"M 48.982813 224.64 \nL 48.982813 7.2 \n\" style=\"fill:none;stroke:#000000;stroke-linecap:square;stroke-linejoin:miter;stroke-width:0.8;\"/>\n   </g>\n   <g id=\"patch_4\">\n    <path d=\"M 383.782813 224.64 \nL 383.782813 7.2 \n\" style=\"fill:none;stroke:#000000;stroke-linecap:square;stroke-linejoin:miter;stroke-width:0.8;\"/>\n   </g>\n   <g id=\"patch_5\">\n    <path d=\"M 48.982813 224.64 \nL 383.782812 224.64 \n\" style=\"fill:none;stroke:#000000;stroke-linecap:square;stroke-linejoin:miter;stroke-width:0.8;\"/>\n   </g>\n   <g id=\"patch_6\">\n    <path d=\"M 48.982813 7.2 \nL 383.782812 7.2 \n\" style=\"fill:none;stroke:#000000;stroke-linecap:square;stroke-linejoin:miter;stroke-width:0.8;\"/>\n   </g>\n  </g>\n </g>\n <defs>\n  <clipPath id=\"pcd7b044b1a\">\n   <rect height=\"217.44\" width=\"334.8\" x=\"48.982813\" y=\"7.2\"/>\n  </clipPath>\n </defs>\n</svg>\n",
      "image/png": "[encoded data removed]"
     },
     "metadata": {
      "needs_background": "light"
     }
    }
   ],
   "source": [
    "def get_legal_actions(str_state):\n",
    "    #TODO (1) : Get the actions Greuceanu can do\n",
    "    return [a for a in ACTIONS if apply_action(str_state, a)]\n",
    "\n",
    "\n",
    "def epsilon_greedy(Q, state, legal_actions, epsilon):\n",
    "    # TODO (2) : Epsilon greedy\n",
    "    unexplored_actions = [a for a in legal_actions if (state, a) not in Q]\n",
    "\n",
    "    if unexplored_actions:\n",
    "        return choice(unexplored_actions)\n",
    "\n",
    "    if random() < epsilon:\n",
    "        return choice(legal_actions)\n",
    "    return best_action(Q, state, legal_actions)\n",
    "\n",
    "\n",
    "def best_action(Q, state, legal_actions):\n",
    "    # TODO (3) : Best action\n",
    "    results = [(a, Q[state, a]) for a in legal_actions if (state, a) in Q]\n",
    "    return max(results, key = lambda t: t[1])[0]\n",
    "\n",
    "\n",
    "def q_learning():\n",
    "    Q = {}\n",
    "    train_scores = []\n",
    "    eval_scores = []\n",
    "    initial_state = get_initial_state(MAP_NAME)\n",
    "    epsilon = EPSILON\n",
    "\n",
    "    for train_ep in range(1, TRAIN_EPISODES+1):\n",
    "        clear_output(wait=True)\n",
    "        score = 0\n",
    "        state = deepcopy(initial_state)\n",
    "        epsilon -= 0.2 * epsilon\n",
    "\n",
    "        if VERBOSE:\n",
    "            display_state(state); sleep(SLEEP_TIME)\n",
    "            clear_output(wait=True)\n",
    "\n",
    "        while not is_final_state(state, score):\n",
    "            actions = get_legal_actions(state)\n",
    "            action = epsilon_greedy(Q, state, actions, EPSILON)\n",
    "\n",
    "            new_state, reward, msg = apply_action(state, action)\n",
    "            score += reward\n",
    "            \n",
    "            # # TODO (1) : Q-Learning\n",
    "            if not (state, action) in Q:\n",
    "                Q[(state, action)] = 0\n",
    "\n",
    "            best_val = max(\n",
    "                [val for (s, a), val in Q.items() if s == new_state],\n",
    "                default=0\n",
    "            )\n",
    "            Q[(state, action)] += LEARNING_RATE *\\\n",
    "                (reward + DISCOUNT_FACTOR * best_val - Q[(state, action)])\n",
    "\n",
    "            if VERBOSE:\n",
    "                print(msg); display_state(state); sleep(SLEEP_TIME)\n",
    "                clear_output(wait=True)\n",
    "\n",
    "            state = new_state\n",
    "\n",
    "        print(f\"Episode {train_ep} / {TRAIN_EPISODES}\")\n",
    "        train_scores.append(score)\n",
    "\n",
    "        # evaluate the greedy policy\n",
    "        if train_ep % EVAL_EVERY == 0:\n",
    "            avg_score = .0\n",
    "\n",
    "            # TODO (4) : Evaluate\n",
    "            eval_scores.append(avg_score)\n",
    "\n",
    "    # --------------------------------------------------------------------------\n",
    "    if FINAL_SHOW:\n",
    "        state = deepcopy(initial_state)\n",
    "        while not is_final_state(state, score):\n",
    "            action = best_action(Q, state, get_legal_actions(state))\n",
    "            state, _, msg = apply_action(state, action)\n",
    "            print(msg); display_state(state); sleep(SLEEP_TIME)\n",
    "            clear_output(wait=True)\n",
    "\n",
    "    if PLOT_SCORE:\n",
    "        from matplotlib import pyplot as plt\n",
    "        import numpy as np\n",
    "        plt.xlabel(\"Episode\")\n",
    "        plt.ylabel(\"Average score\")\n",
    "        plt.plot(\n",
    "            np.linspace(1, TRAIN_EPISODES, TRAIN_EPISODES),\n",
    "            np.convolve(train_scores, [0.2,0.2,0.2,0.2,0.2], \"same\"),\n",
    "            linewidth = 1.0, color = \"blue\"\n",
    "        )\n",
    "        plt.plot(\n",
    "            np.linspace(EVAL_EVERY, TRAIN_EPISODES, len(eval_scores)),\n",
    "                        eval_scores, linewidth = 2.0, color = \"red\"\n",
    "        )\n",
    "        plt.show()\n",
    "\n",
    "q_learning()"
   ]
  }
 ],
 "metadata": {
  "colab": {
   "authorship_tag": "ABX9TyN/uvc0L9CPWm0L1/L+wYs6",
   "collapsed_sections": [
    "HT5G9X_y1FQ6",
    "6tGs4sOVqfdG",
    "KkW15QQZ1Dco"
   ],
   "include_colab_link": true,
   "name": "Laborator 7.ipynb",
   "provenance": []
  },
  "kernelspec": {
   "display_name": "Python 3",
   "language": "python",
   "name": "python3"
  },
  "language_info": {
   "codemirror_mode": {
    "name": "ipython",
    "version": 3
   },
   "file_extension": ".py",
   "mimetype": "text/x-python",
   "name": "python",
   "nbconvert_exporter": "python",
   "pygments_lexer": "ipython3",
   "version": "3.8.5-final"
  }
 },
 "nbformat": 4,
 "nbformat_minor": 1
}