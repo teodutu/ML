{
 "cells": [
  {
   "cell_type": "markdown",
   "metadata": {
    "colab_type": "text",
    "id": "view-in-github"
   },
   "source": [
    "<a href=\"https://colab.research.google.com/github/cs-pub-ro/ML/blob/master/lab/lab7/Laborator_7.ipynb\" target=\"_parent\"><img src=\"https://colab.research.google.com/assets/colab-badge.svg\" alt=\"Open In Colab\"/></a>"
   ]
  },
  {
   "cell_type": "markdown",
   "metadata": {
    "colab_type": "text",
    "id": "-RiRI3fHjjIw"
   },
   "source": [
    "# Învățare Automată\n",
    "# Învățare prin Recompensă - Algoritmul Q-learning\n",
    "### Autori:\n",
    "* Tudor Berariu - 2016\n",
    "* George Muraru - 2020"
   ]
  },
  {
   "cell_type": "markdown",
   "metadata": {
    "colab_type": "text",
    "id": "ibC7YWzdjnhW"
   },
   "source": [
    "## 1. Scopul laboratorului\n",
    "Scopul laboratorului îl reprezintă ̆întelegerea și implementarea algoritmului Q-Learning."
   ]
  },
  {
   "cell_type": "markdown",
   "metadata": {
    "colab_type": "text",
    "id": "o2LlVwPokURW"
   },
   "source": [
    "# 2. Algoritmul Q-Learning\n",
    "![Q-learning](https://github.com/cs-pub-ro/ML/blob/master/lab/lab7/img/q-learning.jpg?raw=true)"
   ]
  },
  {
   "cell_type": "markdown",
   "metadata": {
    "colab_type": "text",
    "id": "_iQkSawwqz4m"
   },
   "source": [
    "## 3. Workspace Setup\n"
   ]
  },
  {
   "cell_type": "markdown",
   "metadata": {
    "colab_type": "text",
    "id": "IGpoVQBdq2-f"
   },
   "source": [
    "### Câteva biblioteci de care vom avea nevoie"
   ]
  },
  {
   "cell_type": "code",
   "execution_count": 1,
   "metadata": {
    "colab": {},
    "colab_type": "code",
    "id": "oks9emv_sNHi"
   },
   "outputs": [],
   "source": [
    "from copy import deepcopy\n",
    "from random import choice, random\n",
    "from statistics import mean\n",
    "from time import sleep\n",
    "import urllib\n",
    "\n",
    "from IPython.display import clear_output"
   ]
  },
  {
   "cell_type": "markdown",
   "metadata": {
    "colab_type": "text",
    "id": "BJjdU4Afq58O"
   },
   "source": [
    "## Parametrii necesari rulării"
   ]
  },
  {
   "cell_type": "code",
   "execution_count": 2,
   "metadata": {
    "colab": {},
    "colab_type": "code",
    "id": "rwW9HiQkxUHy"
   },
   "outputs": [],
   "source": [
    "# File to read map from\n",
    "MAP_NAME = \"huge_map\" #@param [\"mini_map\", \"big_map\", \"huge_map\"]\n",
    "\n",
    "# Meta-parameters\n",
    "\n",
    "LEARNING_RATE = 1 #@param {type: \"slider\", min: 0.001, max: 1.0, step: 0.01}\n",
    "DISCOUNT_FACTOR = 0.7 #@param {type: \"slider\", min: 0.01, max: 1.0, step: 0.01}\n",
    "\n",
    "# Probabilit to choose a random action\n",
    "EPSILON = 0.05 #@param {type: \"slider\", min: 0.0, max:1.0, step: 0.05, default: 0.05}\n",
    "\n",
    "\n",
    "# Training and evaluation episodes\n",
    "TRAIN_EPISODES = 5000 #@param {type: \"slider\", min: 1, max: 20000, default: 1000}\n",
    "\n",
    "# Evaluate after specified number of episodes\n",
    "EVAL_EVERY = 10 #@aram {type: \"slider\", min: 0, max: 1000}\n",
    "\n",
    "# Evaluate using the specified number of episodes\n",
    "EVAL_EPISODES = 10 #@param {type: \"slider\", min: 1, max: 1000}\n",
    "\n",
    "# Display\n",
    "VERBOSE = False #@param {type: \"boolean\"}\n",
    "PLOT_SCORE = True #@param {type: \"boolean\"}\n",
    "SLEEP_TIME = 1 #@param {type: \"slider\", min:1, max:10}\n",
    "\n",
    "# Show the end result\n",
    "FINAL_SHOW = False #@param {type: \"boolean\"}"
   ]
  },
  {
   "cell_type": "markdown",
   "metadata": {
    "colab_type": "text",
    "id": "HT5G9X_y1FQ6"
   },
   "source": [
    "### Clasă care abstractizează jocul"
   ]
  },
  {
   "cell_type": "code",
   "execution_count": 3,
   "metadata": {
    "colab": {},
    "colab_type": "code",
    "id": "zquu_dyV1J8J"
   },
   "outputs": [],
   "source": [
    "URL_PREFIX = \"https://raw.githubusercontent.com/cs-pub-ro/ML/master/lab/lab7/maps/\"\n",
    "\n",
    "ACTIONS = [\"UP\", \"RIGHT\", \"DOWN\", \"LEFT\", \"STAY\"]\n",
    "\n",
    "ACTION_EFFECTS = {\n",
    "    \"UP\": (-1,0),\n",
    "    \"RIGHT\": (0,1),\n",
    "    \"DOWN\": (1,0),\n",
    "    \"LEFT\": (0,-1),\n",
    "    \"STAY\": (0,0)\n",
    "}\n",
    "\n",
    "MOVE_REWARD = -0.1\n",
    "WIN_REWARD = 10.0\n",
    "LOSE_REWARD = -10.0\n",
    "\n",
    "## Functions to serialize / deserialize game states\n",
    "def __serialize_state(state):\n",
    "    return \"\\n\".join(map(lambda row: \"\".join(row), state))\n",
    "\n",
    "def __deserialize_state(str_state):\n",
    "    return list(map(list, str_state.split(\"\\n\")))\n",
    "\n",
    "## Return the initial state of the game\n",
    "def get_initial_state(map_file_name):\n",
    "    full_url = f\"{URL_PREFIX}{MAP_NAME}\"\n",
    "    state = urllib.request.urlopen(full_url).read().strip()\n",
    "\n",
    "    return state.decode(\"utf-8\")\n",
    "\n",
    "## Get the coordinates of an actor\n",
    "def __get_position(state, marker):\n",
    "    for row_idx, row in enumerate(state):\n",
    "        if marker in row:\n",
    "            return row_idx, row.index(marker)\n",
    "    return -1, -1\n",
    "\n",
    "## Check if is a final state\n",
    "def is_final_state(str_state, score):\n",
    "    return score < -20.0 or \"G\" not in str_state or \"o\" not in str_state\n",
    "\n",
    "## Check if the given coordinates are valid (on map and not a wall)\n",
    "def __is_valid_cell(state, row, col):\n",
    "    return row >= 0 and row < len(state) and \\\n",
    "        col >= 0 and col < len(state[row]) and \\\n",
    "        state[row][col] != \"*\"\n",
    "\n",
    "## Move to next state\n",
    "def apply_action(str_state, action):\n",
    "    assert(action in ACTIONS)\n",
    "    message = \"Greuceanu moved %s.\" % action\n",
    "\n",
    "    state = __deserialize_state(str_state)\n",
    "    g_row, g_col = __get_position(state, \"G\")\n",
    "    assert(g_row >= 0 and g_col >= 0)\n",
    "\n",
    "    next_g_row = g_row + ACTION_EFFECTS[action][0]\n",
    "    next_g_col = g_col + ACTION_EFFECTS[action][1]\n",
    "\n",
    "    if not __is_valid_cell(state, next_g_row, next_g_col):\n",
    "        next_g_row = g_row\n",
    "        next_g_col = g_col\n",
    "        message = f\"{message} Not a valid cell there.\"\n",
    "\n",
    "    state[g_row][g_col] = \" \"\n",
    "    if state[next_g_row][next_g_col] == \"B\":\n",
    "        message = f\"{message} Greuceanu stepped on the balaur.\"\n",
    "        return __serialize_state(state), LOSE_REWARD, message\n",
    "    elif state[next_g_row][next_g_col] == \"o\":\n",
    "        state[next_g_row][next_g_col] = \"G\"\n",
    "        message = f\"{message} Greuceanu found 'marul fermecat'.\"\n",
    "        return __serialize_state(state), WIN_REWARD, message\n",
    "    state[next_g_row][next_g_col] = \"G\"\n",
    "\n",
    "    ## Balaur moves now\n",
    "    b_row, b_col = __get_position(state, \"B\")\n",
    "    assert(b_row >= 0 and b_col >= 0)\n",
    "\n",
    "    dy, dx = next_g_row - b_row, next_g_col - b_col\n",
    "\n",
    "    is_good = lambda dr, dc:__is_valid_cell(state, b_row + dr, b_col + dc)\n",
    "\n",
    "    next_b_row, next_b_col = b_row, b_col\n",
    "    if abs(dy) > abs(dx) and is_good(dy // abs(dy), 0):\n",
    "        next_b_row = b_row + dy // abs(dy)\n",
    "    elif abs(dx) > abs(dy) and is_good(0, dx // abs(dx)):\n",
    "        next_b_col = b_col + dx // abs(dx)\n",
    "    else:\n",
    "        options = []\n",
    "        if abs(dx) > 0:\n",
    "            if is_good(0, dx // abs(dx)):\n",
    "                options.append((b_row, b_col + dx // abs(dx)))\n",
    "        else:\n",
    "            if is_good(0, -1):\n",
    "                options.append((b_row, b_col - 1))\n",
    "            if is_good(0, 1):\n",
    "                options.append((b_row, b_col + 1))\n",
    "        if abs(dy) > 0:\n",
    "            if is_good(dy // abs(dy), 0):\n",
    "                options.append((b_row + dy // abs(dy), b_col))\n",
    "        else:\n",
    "            if is_good(-1, 0):\n",
    "                options.append((b_row - 1, b_col))\n",
    "            if is_good(1, 0):\n",
    "                options.append((b_row + 1, b_col))\n",
    "\n",
    "        if len(options) > 0:\n",
    "            next_b_row, next_b_col = choice(options)\n",
    "\n",
    "    if state[next_b_row][next_b_col] == \"G\":\n",
    "        message = f\"{message} The balaur ate Greuceanu.\"\n",
    "        reward = LOSE_REWARD\n",
    "    elif state[next_b_row][next_b_col] == \"o\":\n",
    "        message = f\"{message} The balaur found marul fermecat. Greuceanu lost!\"\n",
    "        reward = LOSE_REWARD\n",
    "    else:\n",
    "        message = f\"{message} The balaur follows Greuceanu.\"\n",
    "        reward = MOVE_REWARD\n",
    "\n",
    "    state[b_row][b_col] = \" \"\n",
    "    state[next_b_row][next_b_col] = \"B\"\n",
    "\n",
    "    return __serialize_state(state), reward, message\n",
    "\n",
    "def display_state(state):\n",
    "    print(state)"
   ]
  },
  {
   "cell_type": "markdown",
   "metadata": {
    "colab_type": "text",
    "id": "6tGs4sOVqfdG"
   },
   "source": [
    "# 3. Problemă de rezolvat\n",
    "## Greuceanu și Balaurul\n",
    "Pe o hartă bidimensională se înfruntă Greuceanu și-un balaur.\n",
    "\n",
    "Greuceanu trebuie să găsească mărul fermecat înainte de a fi prins de balaur și înainte ca balaurul să calce pe măr. Balaurul simte direcția în care se află Greuceanu și se îndreaptă către el.\n",
    "\n",
    "Concret, Greuceanu **câștigă** jocul și 10 puncte dacă ajunge primul la mărul fermecat.\n",
    "\n",
    "Greuceanu **pierde** jocul dacă este prins de balaur sau dacă balaurul calcă pe măr. Deasemenea, la fiecare moment de timp Greuceanu pierde câte 0.1 puncte. \n",
    "\n",
    "Dacă **ajunge la -20 de puncte**, Greuceanu pierde jocul."
   ]
  },
  {
   "cell_type": "markdown",
   "metadata": {
    "colab_type": "text",
    "id": "KkW15QQZ1Dco"
   },
   "source": [
    "## 4. Cerințe\n",
    "1. [6 pct] Implementați algoritmul Q-learning (completași funcția **q_learning**).\n",
    "\n",
    "2. [2 pct] Implementați strategia-greedy de selecție a unei acțiuni. Funcția primește toate acțiunile valide dintr-o stare dată. Atât timp cât există acțiuni ce nu au fost explorate, se va alege aleator una dintre acestea. \n",
    "Altfel, cu o probabilitate $\\epsilon$ se va alege o acțiune aleatoare, iar cu o probabilitate 1 − $\\epsilon$ se va alege cea mai bună acțiune din starea respectivă.\n",
    "\n",
    "3. [2 pct] Implementați rutina de evaluare a politicii lacome (care alege întotdeauna cea mai bună acțiune).\n",
    "\n",
    "4. [2 pct] Găsiți metaparametrii potriviți pentru o învățare cât mai rapidă pe toate cele trei hărți (rata de învățare, valoarea lui $\\epsilon$). Încercați să modificați $\\epsilon$ pe parcursul învățarii."
   ]
  },
  {
   "cell_type": "code",
   "execution_count": 4,
   "metadata": {
    "colab": {},
    "colab_type": "code",
    "id": "pBIjvzqHL37B"
   },
   "outputs": [
    {
     "output_type": "display_data",
     "data": {
      "text/plain": "<Figure size 432x288 with 1 Axes>",
      "image/svg+xml": "<?xml version=\"1.0\" encoding=\"utf-8\" standalone=\"no\"?>\n<!DOCTYPE svg PUBLIC \"-//W3C//DTD SVG 1.1//EN\"\n  \"http://www.w3.org/Graphics/SVG/1.1/DTD/svg11.dtd\">\n<svg height=\"262.19625pt\" version=\"1.1\" viewBox=\"0 0 390.982812 262.19625\" width=\"390.982812pt\" xmlns=\"http://www.w3.org/2000/svg\" xmlns:xlink=\"http://www.w3.org/1999/xlink\">\n <metadata>\n  <rdf:RDF xmlns:cc=\"http://creativecommons.org/ns#\" xmlns:dc=\"http://purl.org/dc/elements/1.1/\" xmlns:rdf=\"http://www.w3.org/1999/02/22-rdf-syntax-ns#\">\n   <cc:Work>\n    <dc:type rdf:resource=\"http://purl.org/dc/dcmitype/StillImage\"/>\n    <dc:date>2021-04-20T21:23:01.235541</dc:date>\n    <dc:format>image/svg+xml</dc:format>\n    <dc:creator>\n     <cc:Agent>\n      <dc:title>Matplotlib v3.4.1, https://matplotlib.org/</dc:title>\n     </cc:Agent>\n    </dc:creator>\n   </cc:Work>\n  </rdf:RDF>\n </metadata>\n <defs>\n  <style type=\"text/css\">*{stroke-linecap:butt;stroke-linejoin:round;}</style>\n </defs>\n <g id=\"figure_1\">\n  <g id=\"patch_1\">\n   <path d=\"M 0 262.19625 \nL 390.982812 262.19625 \nL 390.982812 0 \nL 0 0 \nz\n\" style=\"fill:none;\"/>\n  </g>\n  <g id=\"axes_1\">\n   <g id=\"patch_2\">\n    <path d=\"M 48.982813 224.64 \nL 383.782813 224.64 \nL 383.782813 7.2 \nL 48.982813 7.2 \nz\n\" style=\"fill:#ffffff;\"/>\n   </g>\n   <g id=\"matplotlib.axis_1\">\n    <g id=\"xtick_1\">\n     <g id=\"line2d_1\">\n      <defs>\n       <path d=\"M 0 0 \nL 0 3.5 \n\" id=\"m13ea8a8b28\" style=\"stroke:#000000;stroke-width:0.8;\"/>\n      </defs>\n      <g>\n       <use style=\"stroke:#000000;stroke-width:0.8;\" x=\"64.140109\" xlink:href=\"#m13ea8a8b28\" y=\"224.64\"/>\n      </g>\n     </g>\n     <g id=\"text_1\">\n      <!-- 0 -->\n      <g transform=\"translate(60.958859 239.238438)scale(0.1 -0.1)\">\n       <defs>\n        <path d=\"M 2034 4250 \nQ 1547 4250 1301 3770 \nQ 1056 3291 1056 2328 \nQ 1056 1369 1301 889 \nQ 1547 409 2034 409 \nQ 2525 409 2770 889 \nQ 3016 1369 3016 2328 \nQ 3016 3291 2770 3770 \nQ 2525 4250 2034 4250 \nz\nM 2034 4750 \nQ 2819 4750 3233 4129 \nQ 3647 3509 3647 2328 \nQ 3647 1150 3233 529 \nQ 2819 -91 2034 -91 \nQ 1250 -91 836 529 \nQ 422 1150 422 2328 \nQ 422 3509 836 4129 \nQ 1250 4750 2034 4750 \nz\n\" id=\"DejaVuSans-30\" transform=\"scale(0.015625)\"/>\n       </defs>\n       <use xlink:href=\"#DejaVuSans-30\"/>\n      </g>\n     </g>\n    </g>\n    <g id=\"xtick_2\">\n     <g id=\"line2d_2\">\n      <g>\n       <use style=\"stroke:#000000;stroke-width:0.8;\" x=\"125.025014\" xlink:href=\"#m13ea8a8b28\" y=\"224.64\"/>\n      </g>\n     </g>\n     <g id=\"text_2\">\n      <!-- 1000 -->\n      <g transform=\"translate(112.300014 239.238438)scale(0.1 -0.1)\">\n       <defs>\n        <path d=\"M 794 531 \nL 1825 531 \nL 1825 4091 \nL 703 3866 \nL 703 4441 \nL 1819 4666 \nL 2450 4666 \nL 2450 531 \nL 3481 531 \nL 3481 0 \nL 794 0 \nL 794 531 \nz\n\" id=\"DejaVuSans-31\" transform=\"scale(0.015625)\"/>\n       </defs>\n       <use xlink:href=\"#DejaVuSans-31\"/>\n       <use x=\"63.623047\" xlink:href=\"#DejaVuSans-30\"/>\n       <use x=\"127.246094\" xlink:href=\"#DejaVuSans-30\"/>\n       <use x=\"190.869141\" xlink:href=\"#DejaVuSans-30\"/>\n      </g>\n     </g>\n    </g>\n    <g id=\"xtick_3\">\n     <g id=\"line2d_3\">\n      <g>\n       <use style=\"stroke:#000000;stroke-width:0.8;\" x=\"185.909918\" xlink:href=\"#m13ea8a8b28\" y=\"224.64\"/>\n      </g>\n     </g>\n     <g id=\"text_3\">\n      <!-- 2000 -->\n      <g transform=\"translate(173.184918 239.238438)scale(0.1 -0.1)\">\n       <defs>\n        <path d=\"M 1228 531 \nL 3431 531 \nL 3431 0 \nL 469 0 \nL 469 531 \nQ 828 903 1448 1529 \nQ 2069 2156 2228 2338 \nQ 2531 2678 2651 2914 \nQ 2772 3150 2772 3378 \nQ 2772 3750 2511 3984 \nQ 2250 4219 1831 4219 \nQ 1534 4219 1204 4116 \nQ 875 4013 500 3803 \nL 500 4441 \nQ 881 4594 1212 4672 \nQ 1544 4750 1819 4750 \nQ 2544 4750 2975 4387 \nQ 3406 4025 3406 3419 \nQ 3406 3131 3298 2873 \nQ 3191 2616 2906 2266 \nQ 2828 2175 2409 1742 \nQ 1991 1309 1228 531 \nz\n\" id=\"DejaVuSans-32\" transform=\"scale(0.015625)\"/>\n       </defs>\n       <use xlink:href=\"#DejaVuSans-32\"/>\n       <use x=\"63.623047\" xlink:href=\"#DejaVuSans-30\"/>\n       <use x=\"127.246094\" xlink:href=\"#DejaVuSans-30\"/>\n       <use x=\"190.869141\" xlink:href=\"#DejaVuSans-30\"/>\n      </g>\n     </g>\n    </g>\n    <g id=\"xtick_4\">\n     <g id=\"line2d_4\">\n      <g>\n       <use style=\"stroke:#000000;stroke-width:0.8;\" x=\"246.794822\" xlink:href=\"#m13ea8a8b28\" y=\"224.64\"/>\n      </g>\n     </g>\n     <g id=\"text_4\">\n      <!-- 3000 -->\n      <g transform=\"translate(234.069822 239.238438)scale(0.1 -0.1)\">\n       <defs>\n        <path d=\"M 2597 2516 \nQ 3050 2419 3304 2112 \nQ 3559 1806 3559 1356 \nQ 3559 666 3084 287 \nQ 2609 -91 1734 -91 \nQ 1441 -91 1130 -33 \nQ 819 25 488 141 \nL 488 750 \nQ 750 597 1062 519 \nQ 1375 441 1716 441 \nQ 2309 441 2620 675 \nQ 2931 909 2931 1356 \nQ 2931 1769 2642 2001 \nQ 2353 2234 1838 2234 \nL 1294 2234 \nL 1294 2753 \nL 1863 2753 \nQ 2328 2753 2575 2939 \nQ 2822 3125 2822 3475 \nQ 2822 3834 2567 4026 \nQ 2313 4219 1838 4219 \nQ 1578 4219 1281 4162 \nQ 984 4106 628 3988 \nL 628 4550 \nQ 988 4650 1302 4700 \nQ 1616 4750 1894 4750 \nQ 2613 4750 3031 4423 \nQ 3450 4097 3450 3541 \nQ 3450 3153 3228 2886 \nQ 3006 2619 2597 2516 \nz\n\" id=\"DejaVuSans-33\" transform=\"scale(0.015625)\"/>\n       </defs>\n       <use xlink:href=\"#DejaVuSans-33\"/>\n       <use x=\"63.623047\" xlink:href=\"#DejaVuSans-30\"/>\n       <use x=\"127.246094\" xlink:href=\"#DejaVuSans-30\"/>\n       <use x=\"190.869141\" xlink:href=\"#DejaVuSans-30\"/>\n      </g>\n     </g>\n    </g>\n    <g id=\"xtick_5\">\n     <g id=\"line2d_5\">\n      <g>\n       <use style=\"stroke:#000000;stroke-width:0.8;\" x=\"307.679726\" xlink:href=\"#m13ea8a8b28\" y=\"224.64\"/>\n      </g>\n     </g>\n     <g id=\"text_5\">\n      <!-- 4000 -->\n      <g transform=\"translate(294.954726 239.238438)scale(0.1 -0.1)\">\n       <defs>\n        <path d=\"M 2419 4116 \nL 825 1625 \nL 2419 1625 \nL 2419 4116 \nz\nM 2253 4666 \nL 3047 4666 \nL 3047 1625 \nL 3713 1625 \nL 3713 1100 \nL 3047 1100 \nL 3047 0 \nL 2419 0 \nL 2419 1100 \nL 313 1100 \nL 313 1709 \nL 2253 4666 \nz\n\" id=\"DejaVuSans-34\" transform=\"scale(0.015625)\"/>\n       </defs>\n       <use xlink:href=\"#DejaVuSans-34\"/>\n       <use x=\"63.623047\" xlink:href=\"#DejaVuSans-30\"/>\n       <use x=\"127.246094\" xlink:href=\"#DejaVuSans-30\"/>\n       <use x=\"190.869141\" xlink:href=\"#DejaVuSans-30\"/>\n      </g>\n     </g>\n    </g>\n    <g id=\"xtick_6\">\n     <g id=\"line2d_6\">\n      <g>\n       <use style=\"stroke:#000000;stroke-width:0.8;\" x=\"368.564631\" xlink:href=\"#m13ea8a8b28\" y=\"224.64\"/>\n      </g>\n     </g>\n     <g id=\"text_6\">\n      <!-- 5000 -->\n      <g transform=\"translate(355.839631 239.238438)scale(0.1 -0.1)\">\n       <defs>\n        <path d=\"M 691 4666 \nL 3169 4666 \nL 3169 4134 \nL 1269 4134 \nL 1269 2991 \nQ 1406 3038 1543 3061 \nQ 1681 3084 1819 3084 \nQ 2600 3084 3056 2656 \nQ 3513 2228 3513 1497 \nQ 3513 744 3044 326 \nQ 2575 -91 1722 -91 \nQ 1428 -91 1123 -41 \nQ 819 9 494 109 \nL 494 744 \nQ 775 591 1075 516 \nQ 1375 441 1709 441 \nQ 2250 441 2565 725 \nQ 2881 1009 2881 1497 \nQ 2881 1984 2565 2268 \nQ 2250 2553 1709 2553 \nQ 1456 2553 1204 2497 \nQ 953 2441 691 2322 \nL 691 4666 \nz\n\" id=\"DejaVuSans-35\" transform=\"scale(0.015625)\"/>\n       </defs>\n       <use xlink:href=\"#DejaVuSans-35\"/>\n       <use x=\"63.623047\" xlink:href=\"#DejaVuSans-30\"/>\n       <use x=\"127.246094\" xlink:href=\"#DejaVuSans-30\"/>\n       <use x=\"190.869141\" xlink:href=\"#DejaVuSans-30\"/>\n      </g>\n     </g>\n    </g>\n    <g id=\"text_7\">\n     <!-- Episode -->\n     <g transform=\"translate(196.745313 252.916563)scale(0.1 -0.1)\">\n      <defs>\n       <path d=\"M 628 4666 \nL 3578 4666 \nL 3578 4134 \nL 1259 4134 \nL 1259 2753 \nL 3481 2753 \nL 3481 2222 \nL 1259 2222 \nL 1259 531 \nL 3634 531 \nL 3634 0 \nL 628 0 \nL 628 4666 \nz\n\" id=\"DejaVuSans-45\" transform=\"scale(0.015625)\"/>\n       <path d=\"M 1159 525 \nL 1159 -1331 \nL 581 -1331 \nL 581 3500 \nL 1159 3500 \nL 1159 2969 \nQ 1341 3281 1617 3432 \nQ 1894 3584 2278 3584 \nQ 2916 3584 3314 3078 \nQ 3713 2572 3713 1747 \nQ 3713 922 3314 415 \nQ 2916 -91 2278 -91 \nQ 1894 -91 1617 61 \nQ 1341 213 1159 525 \nz\nM 3116 1747 \nQ 3116 2381 2855 2742 \nQ 2594 3103 2138 3103 \nQ 1681 3103 1420 2742 \nQ 1159 2381 1159 1747 \nQ 1159 1113 1420 752 \nQ 1681 391 2138 391 \nQ 2594 391 2855 752 \nQ 3116 1113 3116 1747 \nz\n\" id=\"DejaVuSans-70\" transform=\"scale(0.015625)\"/>\n       <path d=\"M 603 3500 \nL 1178 3500 \nL 1178 0 \nL 603 0 \nL 603 3500 \nz\nM 603 4863 \nL 1178 4863 \nL 1178 4134 \nL 603 4134 \nL 603 4863 \nz\n\" id=\"DejaVuSans-69\" transform=\"scale(0.015625)\"/>\n       <path d=\"M 2834 3397 \nL 2834 2853 \nQ 2591 2978 2328 3040 \nQ 2066 3103 1784 3103 \nQ 1356 3103 1142 2972 \nQ 928 2841 928 2578 \nQ 928 2378 1081 2264 \nQ 1234 2150 1697 2047 \nL 1894 2003 \nQ 2506 1872 2764 1633 \nQ 3022 1394 3022 966 \nQ 3022 478 2636 193 \nQ 2250 -91 1575 -91 \nQ 1294 -91 989 -36 \nQ 684 19 347 128 \nL 347 722 \nQ 666 556 975 473 \nQ 1284 391 1588 391 \nQ 1994 391 2212 530 \nQ 2431 669 2431 922 \nQ 2431 1156 2273 1281 \nQ 2116 1406 1581 1522 \nL 1381 1569 \nQ 847 1681 609 1914 \nQ 372 2147 372 2553 \nQ 372 3047 722 3315 \nQ 1072 3584 1716 3584 \nQ 2034 3584 2315 3537 \nQ 2597 3491 2834 3397 \nz\n\" id=\"DejaVuSans-73\" transform=\"scale(0.015625)\"/>\n       <path d=\"M 1959 3097 \nQ 1497 3097 1228 2736 \nQ 959 2375 959 1747 \nQ 959 1119 1226 758 \nQ 1494 397 1959 397 \nQ 2419 397 2687 759 \nQ 2956 1122 2956 1747 \nQ 2956 2369 2687 2733 \nQ 2419 3097 1959 3097 \nz\nM 1959 3584 \nQ 2709 3584 3137 3096 \nQ 3566 2609 3566 1747 \nQ 3566 888 3137 398 \nQ 2709 -91 1959 -91 \nQ 1206 -91 779 398 \nQ 353 888 353 1747 \nQ 353 2609 779 3096 \nQ 1206 3584 1959 3584 \nz\n\" id=\"DejaVuSans-6f\" transform=\"scale(0.015625)\"/>\n       <path d=\"M 2906 2969 \nL 2906 4863 \nL 3481 4863 \nL 3481 0 \nL 2906 0 \nL 2906 525 \nQ 2725 213 2448 61 \nQ 2172 -91 1784 -91 \nQ 1150 -91 751 415 \nQ 353 922 353 1747 \nQ 353 2572 751 3078 \nQ 1150 3584 1784 3584 \nQ 2172 3584 2448 3432 \nQ 2725 3281 2906 2969 \nz\nM 947 1747 \nQ 947 1113 1208 752 \nQ 1469 391 1925 391 \nQ 2381 391 2643 752 \nQ 2906 1113 2906 1747 \nQ 2906 2381 2643 2742 \nQ 2381 3103 1925 3103 \nQ 1469 3103 1208 2742 \nQ 947 2381 947 1747 \nz\n\" id=\"DejaVuSans-64\" transform=\"scale(0.015625)\"/>\n       <path d=\"M 3597 1894 \nL 3597 1613 \nL 953 1613 \nQ 991 1019 1311 708 \nQ 1631 397 2203 397 \nQ 2534 397 2845 478 \nQ 3156 559 3463 722 \nL 3463 178 \nQ 3153 47 2828 -22 \nQ 2503 -91 2169 -91 \nQ 1331 -91 842 396 \nQ 353 884 353 1716 \nQ 353 2575 817 3079 \nQ 1281 3584 2069 3584 \nQ 2775 3584 3186 3129 \nQ 3597 2675 3597 1894 \nz\nM 3022 2063 \nQ 3016 2534 2758 2815 \nQ 2500 3097 2075 3097 \nQ 1594 3097 1305 2825 \nQ 1016 2553 972 2059 \nL 3022 2063 \nz\n\" id=\"DejaVuSans-65\" transform=\"scale(0.015625)\"/>\n      </defs>\n      <use xlink:href=\"#DejaVuSans-45\"/>\n      <use x=\"63.183594\" xlink:href=\"#DejaVuSans-70\"/>\n      <use x=\"126.660156\" xlink:href=\"#DejaVuSans-69\"/>\n      <use x=\"154.443359\" xlink:href=\"#DejaVuSans-73\"/>\n      <use x=\"206.542969\" xlink:href=\"#DejaVuSans-6f\"/>\n      <use x=\"267.724609\" xlink:href=\"#DejaVuSans-64\"/>\n      <use x=\"331.201172\" xlink:href=\"#DejaVuSans-65\"/>\n     </g>\n    </g>\n   </g>\n   <g id=\"matplotlib.axis_2\">\n    <g id=\"ytick_1\">\n     <g id=\"line2d_7\">\n      <defs>\n       <path d=\"M 0 0 \nL -3.5 0 \n\" id=\"m166934cd1b\" style=\"stroke:#000000;stroke-width:0.8;\"/>\n      </defs>\n      <g>\n       <use style=\"stroke:#000000;stroke-width:0.8;\" x=\"48.982813\" xlink:href=\"#m166934cd1b\" y=\"212.075229\"/>\n      </g>\n     </g>\n     <g id=\"text_8\">\n      <!-- −28 -->\n      <g transform=\"translate(20.878125 215.874448)scale(0.1 -0.1)\">\n       <defs>\n        <path d=\"M 678 2272 \nL 4684 2272 \nL 4684 1741 \nL 678 1741 \nL 678 2272 \nz\n\" id=\"DejaVuSans-2212\" transform=\"scale(0.015625)\"/>\n        <path d=\"M 2034 2216 \nQ 1584 2216 1326 1975 \nQ 1069 1734 1069 1313 \nQ 1069 891 1326 650 \nQ 1584 409 2034 409 \nQ 2484 409 2743 651 \nQ 3003 894 3003 1313 \nQ 3003 1734 2745 1975 \nQ 2488 2216 2034 2216 \nz\nM 1403 2484 \nQ 997 2584 770 2862 \nQ 544 3141 544 3541 \nQ 544 4100 942 4425 \nQ 1341 4750 2034 4750 \nQ 2731 4750 3128 4425 \nQ 3525 4100 3525 3541 \nQ 3525 3141 3298 2862 \nQ 3072 2584 2669 2484 \nQ 3125 2378 3379 2068 \nQ 3634 1759 3634 1313 \nQ 3634 634 3220 271 \nQ 2806 -91 2034 -91 \nQ 1263 -91 848 271 \nQ 434 634 434 1313 \nQ 434 1759 690 2068 \nQ 947 2378 1403 2484 \nz\nM 1172 3481 \nQ 1172 3119 1398 2916 \nQ 1625 2713 2034 2713 \nQ 2441 2713 2670 2916 \nQ 2900 3119 2900 3481 \nQ 2900 3844 2670 4047 \nQ 2441 4250 2034 4250 \nQ 1625 4250 1398 4047 \nQ 1172 3844 1172 3481 \nz\n\" id=\"DejaVuSans-38\" transform=\"scale(0.015625)\"/>\n       </defs>\n       <use xlink:href=\"#DejaVuSans-2212\"/>\n       <use x=\"83.789062\" xlink:href=\"#DejaVuSans-32\"/>\n       <use x=\"147.412109\" xlink:href=\"#DejaVuSans-38\"/>\n      </g>\n     </g>\n    </g>\n    <g id=\"ytick_2\">\n     <g id=\"line2d_8\">\n      <g>\n       <use style=\"stroke:#000000;stroke-width:0.8;\" x=\"48.982813\" xlink:href=\"#m166934cd1b\" y=\"187.70128\"/>\n      </g>\n     </g>\n     <g id=\"text_9\">\n      <!-- −26 -->\n      <g transform=\"translate(20.878125 191.500499)scale(0.1 -0.1)\">\n       <defs>\n        <path d=\"M 2113 2584 \nQ 1688 2584 1439 2293 \nQ 1191 2003 1191 1497 \nQ 1191 994 1439 701 \nQ 1688 409 2113 409 \nQ 2538 409 2786 701 \nQ 3034 994 3034 1497 \nQ 3034 2003 2786 2293 \nQ 2538 2584 2113 2584 \nz\nM 3366 4563 \nL 3366 3988 \nQ 3128 4100 2886 4159 \nQ 2644 4219 2406 4219 \nQ 1781 4219 1451 3797 \nQ 1122 3375 1075 2522 \nQ 1259 2794 1537 2939 \nQ 1816 3084 2150 3084 \nQ 2853 3084 3261 2657 \nQ 3669 2231 3669 1497 \nQ 3669 778 3244 343 \nQ 2819 -91 2113 -91 \nQ 1303 -91 875 529 \nQ 447 1150 447 2328 \nQ 447 3434 972 4092 \nQ 1497 4750 2381 4750 \nQ 2619 4750 2861 4703 \nQ 3103 4656 3366 4563 \nz\n\" id=\"DejaVuSans-36\" transform=\"scale(0.015625)\"/>\n       </defs>\n       <use xlink:href=\"#DejaVuSans-2212\"/>\n       <use x=\"83.789062\" xlink:href=\"#DejaVuSans-32\"/>\n       <use x=\"147.412109\" xlink:href=\"#DejaVuSans-36\"/>\n      </g>\n     </g>\n    </g>\n    <g id=\"ytick_3\">\n     <g id=\"line2d_9\">\n      <g>\n       <use style=\"stroke:#000000;stroke-width:0.8;\" x=\"48.982813\" xlink:href=\"#m166934cd1b\" y=\"163.327331\"/>\n      </g>\n     </g>\n     <g id=\"text_10\">\n      <!-- −24 -->\n      <g transform=\"translate(20.878125 167.12655)scale(0.1 -0.1)\">\n       <use xlink:href=\"#DejaVuSans-2212\"/>\n       <use x=\"83.789062\" xlink:href=\"#DejaVuSans-32\"/>\n       <use x=\"147.412109\" xlink:href=\"#DejaVuSans-34\"/>\n      </g>\n     </g>\n    </g>\n    <g id=\"ytick_4\">\n     <g id=\"line2d_10\">\n      <g>\n       <use style=\"stroke:#000000;stroke-width:0.8;\" x=\"48.982813\" xlink:href=\"#m166934cd1b\" y=\"138.953382\"/>\n      </g>\n     </g>\n     <g id=\"text_11\">\n      <!-- −22 -->\n      <g transform=\"translate(20.878125 142.752601)scale(0.1 -0.1)\">\n       <use xlink:href=\"#DejaVuSans-2212\"/>\n       <use x=\"83.789062\" xlink:href=\"#DejaVuSans-32\"/>\n       <use x=\"147.412109\" xlink:href=\"#DejaVuSans-32\"/>\n      </g>\n     </g>\n    </g>\n    <g id=\"ytick_5\">\n     <g id=\"line2d_11\">\n      <g>\n       <use style=\"stroke:#000000;stroke-width:0.8;\" x=\"48.982813\" xlink:href=\"#m166934cd1b\" y=\"114.579433\"/>\n      </g>\n     </g>\n     <g id=\"text_12\">\n      <!-- −20 -->\n      <g transform=\"translate(20.878125 118.378652)scale(0.1 -0.1)\">\n       <use xlink:href=\"#DejaVuSans-2212\"/>\n       <use x=\"83.789062\" xlink:href=\"#DejaVuSans-32\"/>\n       <use x=\"147.412109\" xlink:href=\"#DejaVuSans-30\"/>\n      </g>\n     </g>\n    </g>\n    <g id=\"ytick_6\">\n     <g id=\"line2d_12\">\n      <g>\n       <use style=\"stroke:#000000;stroke-width:0.8;\" x=\"48.982813\" xlink:href=\"#m166934cd1b\" y=\"90.205484\"/>\n      </g>\n     </g>\n     <g id=\"text_13\">\n      <!-- −18 -->\n      <g transform=\"translate(20.878125 94.004702)scale(0.1 -0.1)\">\n       <use xlink:href=\"#DejaVuSans-2212\"/>\n       <use x=\"83.789062\" xlink:href=\"#DejaVuSans-31\"/>\n       <use x=\"147.412109\" xlink:href=\"#DejaVuSans-38\"/>\n      </g>\n     </g>\n    </g>\n    <g id=\"ytick_7\">\n     <g id=\"line2d_13\">\n      <g>\n       <use style=\"stroke:#000000;stroke-width:0.8;\" x=\"48.982813\" xlink:href=\"#m166934cd1b\" y=\"65.831535\"/>\n      </g>\n     </g>\n     <g id=\"text_14\">\n      <!-- −16 -->\n      <g transform=\"translate(20.878125 69.630753)scale(0.1 -0.1)\">\n       <use xlink:href=\"#DejaVuSans-2212\"/>\n       <use x=\"83.789062\" xlink:href=\"#DejaVuSans-31\"/>\n       <use x=\"147.412109\" xlink:href=\"#DejaVuSans-36\"/>\n      </g>\n     </g>\n    </g>\n    <g id=\"ytick_8\">\n     <g id=\"line2d_14\">\n      <g>\n       <use style=\"stroke:#000000;stroke-width:0.8;\" x=\"48.982813\" xlink:href=\"#m166934cd1b\" y=\"41.457585\"/>\n      </g>\n     </g>\n     <g id=\"text_15\">\n      <!-- −14 -->\n      <g transform=\"translate(20.878125 45.256804)scale(0.1 -0.1)\">\n       <use xlink:href=\"#DejaVuSans-2212\"/>\n       <use x=\"83.789062\" xlink:href=\"#DejaVuSans-31\"/>\n       <use x=\"147.412109\" xlink:href=\"#DejaVuSans-34\"/>\n      </g>\n     </g>\n    </g>\n    <g id=\"ytick_9\">\n     <g id=\"line2d_15\">\n      <g>\n       <use style=\"stroke:#000000;stroke-width:0.8;\" x=\"48.982813\" xlink:href=\"#m166934cd1b\" y=\"17.083636\"/>\n      </g>\n     </g>\n     <g id=\"text_16\">\n      <!-- −12 -->\n      <g transform=\"translate(20.878125 20.882855)scale(0.1 -0.1)\">\n       <use xlink:href=\"#DejaVuSans-2212\"/>\n       <use x=\"83.789062\" xlink:href=\"#DejaVuSans-31\"/>\n       <use x=\"147.412109\" xlink:href=\"#DejaVuSans-32\"/>\n      </g>\n     </g>\n    </g>\n    <g id=\"text_17\">\n     <!-- Average score -->\n     <g transform=\"translate(14.798437 151.474688)rotate(-90)scale(0.1 -0.1)\">\n      <defs>\n       <path d=\"M 2188 4044 \nL 1331 1722 \nL 3047 1722 \nL 2188 4044 \nz\nM 1831 4666 \nL 2547 4666 \nL 4325 0 \nL 3669 0 \nL 3244 1197 \nL 1141 1197 \nL 716 0 \nL 50 0 \nL 1831 4666 \nz\n\" id=\"DejaVuSans-41\" transform=\"scale(0.015625)\"/>\n       <path d=\"M 191 3500 \nL 800 3500 \nL 1894 563 \nL 2988 3500 \nL 3597 3500 \nL 2284 0 \nL 1503 0 \nL 191 3500 \nz\n\" id=\"DejaVuSans-76\" transform=\"scale(0.015625)\"/>\n       <path d=\"M 2631 2963 \nQ 2534 3019 2420 3045 \nQ 2306 3072 2169 3072 \nQ 1681 3072 1420 2755 \nQ 1159 2438 1159 1844 \nL 1159 0 \nL 581 0 \nL 581 3500 \nL 1159 3500 \nL 1159 2956 \nQ 1341 3275 1631 3429 \nQ 1922 3584 2338 3584 \nQ 2397 3584 2469 3576 \nQ 2541 3569 2628 3553 \nL 2631 2963 \nz\n\" id=\"DejaVuSans-72\" transform=\"scale(0.015625)\"/>\n       <path d=\"M 2194 1759 \nQ 1497 1759 1228 1600 \nQ 959 1441 959 1056 \nQ 959 750 1161 570 \nQ 1363 391 1709 391 \nQ 2188 391 2477 730 \nQ 2766 1069 2766 1631 \nL 2766 1759 \nL 2194 1759 \nz\nM 3341 1997 \nL 3341 0 \nL 2766 0 \nL 2766 531 \nQ 2569 213 2275 61 \nQ 1981 -91 1556 -91 \nQ 1019 -91 701 211 \nQ 384 513 384 1019 \nQ 384 1609 779 1909 \nQ 1175 2209 1959 2209 \nL 2766 2209 \nL 2766 2266 \nQ 2766 2663 2505 2880 \nQ 2244 3097 1772 3097 \nQ 1472 3097 1187 3025 \nQ 903 2953 641 2809 \nL 641 3341 \nQ 956 3463 1253 3523 \nQ 1550 3584 1831 3584 \nQ 2591 3584 2966 3190 \nQ 3341 2797 3341 1997 \nz\n\" id=\"DejaVuSans-61\" transform=\"scale(0.015625)\"/>\n       <path d=\"M 2906 1791 \nQ 2906 2416 2648 2759 \nQ 2391 3103 1925 3103 \nQ 1463 3103 1205 2759 \nQ 947 2416 947 1791 \nQ 947 1169 1205 825 \nQ 1463 481 1925 481 \nQ 2391 481 2648 825 \nQ 2906 1169 2906 1791 \nz\nM 3481 434 \nQ 3481 -459 3084 -895 \nQ 2688 -1331 1869 -1331 \nQ 1566 -1331 1297 -1286 \nQ 1028 -1241 775 -1147 \nL 775 -588 \nQ 1028 -725 1275 -790 \nQ 1522 -856 1778 -856 \nQ 2344 -856 2625 -561 \nQ 2906 -266 2906 331 \nL 2906 616 \nQ 2728 306 2450 153 \nQ 2172 0 1784 0 \nQ 1141 0 747 490 \nQ 353 981 353 1791 \nQ 353 2603 747 3093 \nQ 1141 3584 1784 3584 \nQ 2172 3584 2450 3431 \nQ 2728 3278 2906 2969 \nL 2906 3500 \nL 3481 3500 \nL 3481 434 \nz\n\" id=\"DejaVuSans-67\" transform=\"scale(0.015625)\"/>\n       <path id=\"DejaVuSans-20\" transform=\"scale(0.015625)\"/>\n       <path d=\"M 3122 3366 \nL 3122 2828 \nQ 2878 2963 2633 3030 \nQ 2388 3097 2138 3097 \nQ 1578 3097 1268 2742 \nQ 959 2388 959 1747 \nQ 959 1106 1268 751 \nQ 1578 397 2138 397 \nQ 2388 397 2633 464 \nQ 2878 531 3122 666 \nL 3122 134 \nQ 2881 22 2623 -34 \nQ 2366 -91 2075 -91 \nQ 1284 -91 818 406 \nQ 353 903 353 1747 \nQ 353 2603 823 3093 \nQ 1294 3584 2113 3584 \nQ 2378 3584 2631 3529 \nQ 2884 3475 3122 3366 \nz\n\" id=\"DejaVuSans-63\" transform=\"scale(0.015625)\"/>\n      </defs>\n      <use xlink:href=\"#DejaVuSans-41\"/>\n      <use x=\"62.533203\" xlink:href=\"#DejaVuSans-76\"/>\n      <use x=\"121.712891\" xlink:href=\"#DejaVuSans-65\"/>\n      <use x=\"183.236328\" xlink:href=\"#DejaVuSans-72\"/>\n      <use x=\"224.349609\" xlink:href=\"#DejaVuSans-61\"/>\n      <use x=\"285.628906\" xlink:href=\"#DejaVuSans-67\"/>\n      <use x=\"349.105469\" xlink:href=\"#DejaVuSans-65\"/>\n      <use x=\"410.628906\" xlink:href=\"#DejaVuSans-20\"/>\n      <use x=\"442.416016\" xlink:href=\"#DejaVuSans-73\"/>\n      <use x=\"494.515625\" xlink:href=\"#DejaVuSans-63\"/>\n      <use x=\"549.496094\" xlink:href=\"#DejaVuSans-6f\"/>\n      <use x=\"610.677734\" xlink:href=\"#DejaVuSans-72\"/>\n      <use x=\"649.541016\" xlink:href=\"#DejaVuSans-65\"/>\n     </g>\n    </g>\n   </g>\n   <g id=\"line2d_16\">\n    <path clip-path=\"url(#pbf331785bd)\" d=\"M 64.200994 17.083636 \nL 64.383649 114.579433 \nL 73.272845 114.579433 \nL 73.394615 136.028508 \nL 73.57727 136.028508 \nL 73.699039 114.579433 \nL 74.064349 114.579433 \nL 74.186119 137.247205 \nL 74.368773 137.247205 \nL 74.490543 114.579433 \nL 75.221162 114.579433 \nL 75.342932 134.566071 \nL 75.525587 134.566071 \nL 75.647356 130.4225 \nL 75.830011 130.4225 \nL 75.951781 114.579433 \nL 76.925939 114.579433 \nL 77.169479 182.095272 \nL 77.230364 182.095272 \nL 77.473903 114.579433 \nL 77.778328 114.579433 \nL 78.021868 170.883255 \nL 78.082752 170.883255 \nL 78.204522 151.384096 \nL 78.265407 158.452541 \nL 78.387177 137.978424 \nL 78.508947 137.978424 \nL 78.630717 114.579433 \nL 78.935141 114.579433 \nL 79.117796 153.090272 \nL 79.239566 153.090272 \nL 79.300451 135.29729 \nL 79.361335 138.465903 \nL 79.604875 138.465903 \nL 79.726645 114.579433 \nL 80.091954 114.579433 \nL 80.213724 137.003466 \nL 80.396379 137.003466 \nL 80.518149 114.579433 \nL 80.822573 188.432499 \nL 81.005228 146.753046 \nL 81.066113 146.753046 \nL 81.126998 149.67792 \nL 81.370537 199.888255 \nL 81.614077 128.960063 \nL 81.674962 137.490945 \nL 81.796732 137.490945 \nL 82.162041 206.469221 \nL 82.222926 206.225481 \nL 82.283811 214.756364 \nL 82.588235 135.541029 \nL 82.77089 178.439179 \nL 82.953545 134.566071 \nL 83.01443 134.566071 \nL 83.075315 114.579433 \nL 83.197084 133.834853 \nL 83.379739 133.834853 \nL 83.440624 136.272248 \nL 83.684164 170.883255 \nL 83.866818 128.472584 \nL 83.927703 128.472584 \nL 84.049473 150.652877 \nL 84.110358 150.652877 \nL 84.293013 114.579433 \nL 84.536552 152.359054 \nL 84.597437 152.359054 \nL 84.840977 114.579433 \nL 85.084516 114.579433 \nL 85.388941 194.769725 \nL 85.449826 193.551028 \nL 85.510711 177.464221 \nL 85.571596 200.863213 \nL 85.632481 184.776406 \nL 85.693366 185.751364 \nL 85.87602 156.258886 \nL 85.936905 156.258886 \nL 86.11956 114.579433 \nL 86.363099 114.579433 \nL 86.667524 169.420818 \nL 86.971949 114.579433 \nL 87.154603 148.215483 \nL 87.215488 148.215483 \nL 87.276373 161.621155 \nL 87.337258 140.903298 \nL 87.398143 153.821491 \nL 87.459028 154.796449 \nL 87.641682 194.525986 \nL 88.067877 114.579433 \nL 88.250531 155.771407 \nL 88.311416 155.771407 \nL 88.372301 174.783087 \nL 88.494071 133.591113 \nL 88.554956 147.971743 \nL 88.615841 147.971743 \nL 88.737611 150.165398 \nL 88.798496 172.345692 \nL 88.859381 157.965062 \nL 88.920265 157.965062 \nL 89.042035 157.477583 \nL 89.163805 135.29729 \nL 89.22469 151.140356 \nL 89.285575 130.4225 \nL 89.407345 148.946701 \nL 89.46823 148.946701 \nL 89.650884 114.579433 \nL 89.833539 151.384096 \nL 89.894424 151.384096 \nL 89.955309 166.983423 \nL 90.137964 141.634516 \nL 90.198848 141.634516 \nL 90.320618 126.035189 \nL 90.625043 202.32565 \nL 90.685928 202.32565 \nL 90.746813 206.225481 \nL 90.990352 171.370734 \nL 91.051237 163.571071 \nL 91.112122 183.313969 \nL 91.294777 147.971743 \nL 91.355662 155.283928 \nL 91.416547 153.334012 \nL 91.599201 153.334012 \nL 91.660086 132.372416 \nL 91.720971 137.490945 \nL 91.781856 137.490945 \nL 91.964511 194.038507 \nL 92.025396 171.126995 \nL 92.08628 191.844851 \nL 92.147165 172.589432 \nL 92.20805 180.389095 \nL 92.390705 169.177079 \nL 92.45159 169.177079 \nL 92.57336 147.484264 \nL 92.634245 167.470902 \nL 92.756014 150.165398 \nL 92.816899 150.165398 \nL 93.060439 114.579433 \nL 93.303979 114.579433 \nL 93.425748 134.322332 \nL 93.547518 134.322332 \nL 93.730173 153.334012 \nL 93.851943 153.334012 \nL 94.034597 155.771407 \nL 94.217252 195.500944 \nL 94.278137 195.257204 \nL 94.521677 185.995104 \nL 94.643446 181.607793 \nL 94.826101 151.627835 \nL 94.947871 158.208802 \nL 95.130526 186.970062 \nL 95.43495 165.033507 \nL 95.495835 167.958381 \nL 95.67849 140.903298 \nL 95.739375 138.709642 \nL 96.043799 184.776406 \nL 96.104684 181.120314 \nL 96.226454 153.334012 \nL 96.287339 158.208802 \nL 96.348224 164.302289 \nL 96.409109 160.158718 \nL 96.530878 160.158718 \nL 96.652648 139.197121 \nL 96.835303 163.083592 \nL 96.896188 178.439179 \nL 96.957073 167.470902 \nL 97.017958 162.839852 \nL 97.078843 176.001785 \nL 97.139728 166.739684 \nL 97.200612 165.277247 \nL 97.261497 184.532667 \nL 97.322382 169.420818 \nL 97.444152 147.728004 \nL 97.505037 151.627835 \nL 97.565922 147.728004 \nL 97.748577 171.370734 \nL 97.870346 148.459222 \nL 97.931231 149.43418 \nL 98.053001 156.258886 \nL 98.235656 169.177079 \nL 98.296541 166.983423 \nL 98.479195 153.090272 \nL 98.54008 154.552709 \nL 98.600965 151.871575 \nL 98.722735 165.033507 \nL 98.966275 147.728004 \nL 99.02716 147.728004 \nL 99.088044 152.115314 \nL 99.209814 138.222163 \nL 99.331584 144.80313 \nL 99.392469 142.365735 \nL 99.514239 166.495944 \nL 99.575124 149.190441 \nL 99.636009 162.596113 \nL 99.696893 163.571071 \nL 99.757778 162.596113 \nL 99.818663 165.277247 \nL 99.879548 175.514306 \nL 99.940433 170.395776 \nL 100.062203 172.345692 \nL 100.305743 161.377415 \nL 100.366627 165.277247 \nL 100.488397 148.459222 \nL 100.549282 164.302289 \nL 100.610167 152.846533 \nL 100.731937 137.247205 \nL 100.792822 152.846533 \nL 100.853707 137.003466 \nL 101.036361 161.621155 \nL 101.097246 152.115314 \nL 101.340786 203.788087 \nL 101.523441 149.67792 \nL 101.64521 114.579433 \nL 101.76698 128.472584 \nL 101.827865 128.472584 \nL 102.13229 173.56439 \nL 102.193175 174.295608 \nL 102.254059 167.714642 \nL 102.314944 172.589432 \nL 102.436714 200.131994 \nL 102.497599 199.400776 \nL 102.862909 132.616155 \nL 102.923793 132.616155 \nL 103.045563 114.579433 \nL 103.349988 202.08191 \nL 103.532642 164.546028 \nL 103.593527 155.283928 \nL 103.837067 189.163717 \nL 104.202376 158.696281 \nL 104.445916 114.579433 \nL 104.506801 114.579433 \nL 104.628571 119.210483 \nL 104.811225 119.210483 \nL 104.87211 114.579433 \nL 105.11565 161.621155 \nL 105.176535 174.783087 \nL 105.23742 159.18376 \nL 105.298305 167.470902 \nL 105.541844 191.601112 \nL 105.663614 188.188759 \nL 105.785384 163.81481 \nL 105.846269 169.177079 \nL 105.907154 168.933339 \nL 106.272463 114.579433 \nL 106.333348 122.379097 \nL 106.637773 160.402457 \nL 106.698657 159.671239 \nL 106.759542 169.664558 \nL 106.881312 152.359054 \nL 106.942197 155.527667 \nL 107.063967 128.228844 \nL 107.124852 140.415819 \nL 107.368391 179.170398 \nL 107.551046 153.334012 \nL 107.611931 156.990104 \nL 107.672816 150.896617 \nL 107.855471 184.532667 \nL 107.916356 184.288927 \nL 107.97724 189.163717 \nL 108.038125 187.94502 \nL 108.159895 157.721323 \nL 108.22078 159.18376 \nL 108.34255 148.459222 \nL 108.46432 179.170398 \nL 108.646974 177.9517 \nL 108.768744 156.015146 \nL 108.829629 178.439179 \nL 108.890514 157.233844 \nL 108.951399 161.621155 \nL 109.073169 170.883255 \nL 109.134054 163.81481 \nL 109.316708 174.295608 \nL 109.621133 135.541029 \nL 109.864673 184.776406 \nL 110.047327 204.763045 \nL 110.169097 179.901616 \nL 110.290867 189.651196 \nL 110.351752 187.457541 \nL 110.412637 210.856532 \nL 110.473522 199.157036 \nL 110.534406 190.382415 \nL 110.595291 196.475902 \nL 110.717061 184.776406 \nL 110.777946 200.619473 \nL 111.082371 128.960063 \nL 111.265025 166.008465 \nL 111.32591 179.170398 \nL 111.44768 159.18376 \nL 111.56945 182.339011 \nL 111.873874 131.397458 \nL 111.934759 131.397458 \nL 112.056529 146.021827 \nL 112.117414 146.021827 \nL 112.178299 145.778088 \nL 112.360954 174.295608 \nL 112.421838 180.632835 \nL 112.482723 179.901616 \nL 112.543608 178.682919 \nL 112.604493 185.020146 \nL 112.908918 114.579433 \nL 113.091572 154.06523 \nL 113.213342 154.06523 \nL 113.274227 153.577751 \nL 113.335112 158.452541 \nL 113.517767 193.307288 \nL 113.578652 190.382415 \nL 113.639537 177.9517 \nL 113.700421 181.607793 \nL 113.761306 194.038507 \nL 113.822191 188.919978 \nL 113.883076 170.639516 \nL 113.943961 176.733003 \nL 114.004846 177.707961 \nL 114.370155 114.579433 \nL 114.43104 114.579433 \nL 114.613695 151.627835 \nL 114.735465 151.627835 \nL 114.857235 138.222163 \nL 115.100774 179.901616 \nL 115.222544 173.56439 \nL 115.466084 124.572752 \nL 115.587854 128.960063 \nL 115.709623 128.960063 \nL 115.770508 148.702962 \nL 115.831393 134.322332 \nL 115.892278 134.322332 \nL 116.014048 157.233844 \nL 116.135818 137.490945 \nL 116.196703 137.490945 \nL 116.318472 135.784769 \nL 116.501127 191.357372 \nL 116.927321 133.103634 \nL 117.049091 133.103634 \nL 117.170861 114.579433 \nL 117.231746 114.579433 \nL 117.475286 185.263885 \nL 117.53617 185.263885 \nL 117.77971 133.591113 \nL 117.90148 150.652877 \nL 117.962365 150.652877 \nL 118.02325 147.728004 \nL 118.266789 188.919978 \nL 118.327674 195.500944 \nL 118.692984 114.579433 \nL 118.814753 138.222163 \nL 118.997408 138.222163 \nL 119.119178 114.579433 \nL 119.180063 114.579433 \nL 119.301833 137.978424 \nL 119.484487 137.978424 \nL 119.606257 114.579433 \nL 119.667142 114.579433 \nL 119.788912 132.616155 \nL 119.971567 132.616155 \nL 120.093336 114.579433 \nL 120.215106 114.579433 \nL 120.336876 125.30397 \nL 120.519531 125.30397 \nL 120.641301 114.579433 \nL 121.311035 114.579433 \nL 121.676344 188.188759 \nL 121.737229 183.313969 \nL 121.919884 203.056868 \nL 121.980768 198.913297 \nL 122.041653 203.300608 \nL 122.346078 150.165398 \nL 122.406963 150.165398 \nL 122.467848 126.035189 \nL 122.528733 137.978424 \nL 122.589617 137.978424 \nL 122.650502 126.522668 \nL 122.772272 166.739684 \nL 122.833157 154.796449 \nL 122.954927 154.796449 \nL 123.137582 114.579433 \nL 123.381121 150.896617 \nL 123.442006 150.896617 \nL 123.502891 137.490945 \nL 123.563776 151.871575 \nL 123.624661 128.960063 \nL 123.685546 145.046869 \nL 123.746431 145.046869 \nL 123.929085 169.664558 \nL 123.98997 169.177079 \nL 124.050855 191.357372 \nL 124.11174 190.626154 \nL 124.172625 182.095272 \nL 124.23351 191.357372 \nL 124.35528 165.033507 \nL 124.416165 166.983423 \nL 124.47705 166.983423 \nL 124.537934 145.290609 \nL 124.598819 162.839852 \nL 124.659704 158.452541 \nL 124.720589 139.197121 \nL 124.781474 152.359054 \nL 124.842359 152.359054 \nL 124.964129 127.741365 \nL 125.025014 150.409138 \nL 125.085899 146.753046 \nL 125.268553 146.753046 \nL 125.451208 114.579433 \nL 125.572978 135.784769 \nL 125.694748 135.784769 \nL 125.877402 153.821491 \nL 125.999172 153.821491 \nL 126.120942 124.085273 \nL 126.181827 132.128676 \nL 126.242712 132.128676 \nL 126.425366 160.158718 \nL 126.486251 142.609474 \nL 126.547136 156.258886 \nL 126.608021 155.040188 \nL 126.729791 142.121995 \nL 126.790676 142.121995 \nL 126.973331 114.579433 \nL 127.277755 114.579433 \nL 127.399525 135.05355 \nL 127.58218 135.05355 \nL 127.703949 137.003466 \nL 127.886604 176.489264 \nL 128.008374 176.733003 \nL 128.069259 157.477583 \nL 128.130144 178.682919 \nL 128.312798 135.784769 \nL 128.373683 135.784769 \nL 128.495453 114.579433 \nL 131.965893 114.579433 \nL 132.087663 135.29729 \nL 132.270317 135.29729 \nL 132.392087 114.579433 \nL 368.442861 114.579433 \nL 368.564631 17.083636 \nL 368.564631 17.083636 \n\" style=\"fill:none;stroke:#0000ff;stroke-linecap:square;\"/>\n   </g>\n   <g id=\"line2d_17\">\n    <path clip-path=\"url(#pbf331785bd)\" d=\"M 64.748958 114.579433 \nL 368.564631 114.579433 \nL 368.564631 114.579433 \n\" style=\"fill:none;stroke:#ff0000;stroke-linecap:square;stroke-width:2;\"/>\n   </g>\n   <g id=\"patch_3\">\n    <path d=\"M 48.982813 224.64 \nL 48.982813 7.2 \n\" style=\"fill:none;stroke:#000000;stroke-linecap:square;stroke-linejoin:miter;stroke-width:0.8;\"/>\n   </g>\n   <g id=\"patch_4\">\n    <path d=\"M 383.782813 224.64 \nL 383.782813 7.2 \n\" style=\"fill:none;stroke:#000000;stroke-linecap:square;stroke-linejoin:miter;stroke-width:0.8;\"/>\n   </g>\n   <g id=\"patch_5\">\n    <path d=\"M 48.982813 224.64 \nL 383.782813 224.64 \n\" style=\"fill:none;stroke:#000000;stroke-linecap:square;stroke-linejoin:miter;stroke-width:0.8;\"/>\n   </g>\n   <g id=\"patch_6\">\n    <path d=\"M 48.982813 7.2 \nL 383.782813 7.2 \n\" style=\"fill:none;stroke:#000000;stroke-linecap:square;stroke-linejoin:miter;stroke-width:0.8;\"/>\n   </g>\n  </g>\n </g>\n <defs>\n  <clipPath id=\"pbf331785bd\">\n   <rect height=\"217.44\" width=\"334.8\" x=\"48.982813\" y=\"7.2\"/>\n  </clipPath>\n </defs>\n</svg>\n",
      "image/png": "[encoded data removed]"
     },
     "metadata": {
      "needs_background": "light"
     }
    }
   ],
   "source": [
    "def get_legal_actions(str_state):\n",
    "    #TODO (1) : Get the actions Greuceanu can do\n",
    "    return [a for a in ACTIONS if apply_action(str_state, a)]\n",
    "\n",
    "\n",
    "def epsilon_greedy(Q, state, legal_actions, epsilon):\n",
    "    # TODO (2) : Epsilon greedy\n",
    "    unexplored_actions = [a for a in legal_actions if (state, a) not in Q]\n",
    "    if unexplored_actions:\n",
    "        return choice(unexplored_actions)\n",
    "\n",
    "    if random() <= epsilon:\n",
    "        return choice(legal_actions)\n",
    "    return best_action(Q, state, legal_actions)\n",
    "\n",
    "\n",
    "def best_action(Q, state, legal_actions):\n",
    "    # TODO (3) : Best action\n",
    "    results = []\n",
    "    for a in legal_actions:\n",
    "        t = (a, Q[state, a]) if (state, a) in Q else (a, 0)\n",
    "        results.append(t)\n",
    "\n",
    "    return max(results, key = lambda t: t[1])[0]\n",
    "\n",
    "\n",
    "def q_learning():\n",
    "    Q = {}\n",
    "    train_scores = []\n",
    "    eval_scores = []\n",
    "    initial_state = get_initial_state(MAP_NAME)\n",
    "\n",
    "    epsilon = EPSILON\n",
    "    learning_rate = LEARNING_RATE\n",
    "\n",
    "    for train_ep in range(1, TRAIN_EPISODES+1):\n",
    "        # clear_output(wait=True)\n",
    "        score = 0\n",
    "        state = deepcopy(initial_state)\n",
    "\n",
    "        # epsilon *= 0.9\n",
    "        # learning_rate *= 0.9\n",
    "\n",
    "        if VERBOSE:\n",
    "            display_state(state); sleep(SLEEP_TIME)\n",
    "            clear_output(wait=True)\n",
    "\n",
    "        while not is_final_state(state, score):\n",
    "            actions = get_legal_actions(state)\n",
    "            action = epsilon_greedy(Q, state, actions, epsilon)\n",
    "\n",
    "            new_state, reward, msg = apply_action(state, action)\n",
    "            score += reward\n",
    "            \n",
    "            # # TODO (1) : Q-Learning\n",
    "            if not (state, action) in Q:\n",
    "                Q[(state, action)] = 0\n",
    "\n",
    "            best_val = max(\n",
    "                [val for (s, a), val in Q.items() if s == new_state],\n",
    "                default=0\n",
    "            )\n",
    "            Q[(state, action)] += learning_rate *\\\n",
    "                (reward + DISCOUNT_FACTOR * best_val - Q[(state, action)])\n",
    "\n",
    "            state = new_state\n",
    "\n",
    "            if VERBOSE:\n",
    "                print(msg); display_state(state); sleep(SLEEP_TIME)\n",
    "                clear_output(wait=True)\n",
    "\n",
    "        # print(f\"Episode {train_ep} / {TRAIN_EPISODES}\")\n",
    "        train_scores.append(score)\n",
    "\n",
    "        # evaluate the greedy policy\n",
    "        if train_ep % EVAL_EVERY == 0:\n",
    "            avg_score = .0\n",
    "\n",
    "            # TODO (4) : Evaluate\n",
    "            st = deepcopy(initial_state)\n",
    "\n",
    "            while not is_final_state(st, avg_score):\n",
    "                action = best_action(Q, st, get_legal_actions(st))\n",
    "                st, reward, _ = apply_action(st, action)\n",
    "                avg_score += reward\n",
    "\n",
    "            eval_scores.append(avg_score)\n",
    "\n",
    "    # --------------------------------------------------------------------------\n",
    "    if FINAL_SHOW:\n",
    "        state = deepcopy(initial_state)\n",
    "        while not is_final_state(state, score):\n",
    "            action = best_action(Q, state, get_legal_actions(state))\n",
    "            state, _, msg = apply_action(state, action)\n",
    "            print(msg); display_state(state); sleep(SLEEP_TIME)\n",
    "            clear_output(wait=True)\n",
    "\n",
    "    if PLOT_SCORE:\n",
    "        from matplotlib import pyplot as plt\n",
    "        import numpy as np\n",
    "        plt.xlabel(\"Episode\")\n",
    "        plt.ylabel(\"Average score\")\n",
    "        plt.plot(\n",
    "            np.linspace(1, TRAIN_EPISODES, TRAIN_EPISODES),\n",
    "            np.convolve(train_scores, [0.2,0.2,0.2,0.2,0.2], \"same\"),\n",
    "            linewidth = 1.0, color = \"blue\"\n",
    "        )\n",
    "        plt.plot(\n",
    "            np.linspace(EVAL_EVERY, TRAIN_EPISODES, len(eval_scores)),\n",
    "                        eval_scores, linewidth = 2.0, color = \"red\"\n",
    "        )\n",
    "        plt.show()\n",
    "\n",
    "q_learning()"
   ]
  },
  {
   "source": [
    "## Concluzii\n",
    "In primul rand, `gamma` trebuie sa aiba valori mari. Pare ca algoritmului ii place sa dea ponderi mari recompenselor mari, adica exploatarii. Din cauza asta, am pus `gamma = 1`, iar pentru `eps` am ales o valoare relativ mare, in contrapondere cu `gamma`, mai exact 0.5.\n",
    "\n",
    "De asemenea, pentru a evita overfittingul, informatia gasita si stocata in `Q` la primele episoade este mai relevanta decat cea gasita la urmatoarele, drept care rata de invatare si epsilon trebuie sa scada pe masura ce se efectueaza episoadele de antrenare. Procentajele cu care ele scad (1%, respectiv 1 la mine) au fost alese empiric, fiind destul de mici."
   ],
   "cell_type": "markdown",
   "metadata": {}
  }
 ],
 "metadata": {
  "colab": {
   "authorship_tag": "ABX9TyN/uvc0L9CPWm0L1/L+wYs6",
   "collapsed_sections": [
    "HT5G9X_y1FQ6",
    "6tGs4sOVqfdG",
    "KkW15QQZ1Dco"
   ],
   "include_colab_link": true,
   "name": "Laborator 7.ipynb",
   "provenance": []
  },
  "kernelspec": {
   "display_name": "Python 3",
   "language": "python",
   "name": "python3"
  },
  "language_info": {
   "codemirror_mode": {
    "name": "ipython",
    "version": 3
   },
   "file_extension": ".py",
   "mimetype": "text/x-python",
   "name": "python",
   "nbconvert_exporter": "python",
   "pygments_lexer": "ipython3",
   "version": "3.8.5"
  }
 },
 "nbformat": 4,
 "nbformat_minor": 1
}